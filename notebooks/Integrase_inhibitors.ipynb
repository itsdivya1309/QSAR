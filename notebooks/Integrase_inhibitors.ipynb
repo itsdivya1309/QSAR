{
  "cells": [
    {
      "cell_type": "markdown",
      "metadata": {
        "id": "a-1zri9AlpzD"
      },
      "source": [
        "# Import Libraries and Tools and Create Helper Functions"
      ]
    },
    {
      "cell_type": "code",
      "execution_count": 1,
      "metadata": {
        "id": "BBYFPp8x-qn1"
      },
      "outputs": [],
      "source": [
        "# Requirements: pandas, numpy, scikit-learn, xgboost, joblib, matplotlib\n",
        "import pandas as pd\n",
        "import numpy as np\n",
        "import joblib\n",
        "import matplotlib.pyplot as plt\n",
        "\n",
        "from sklearn.model_selection import KFold, cross_val_score\n",
        "from sklearn.metrics import r2_score, mean_squared_error, mean_absolute_error\n",
        "from sklearn.pipeline import Pipeline\n",
        "from sklearn.compose import ColumnTransformer\n",
        "\n",
        "from sklearn.feature_selection import VarianceThreshold\n",
        "from sklearn.preprocessing import StandardScaler\n",
        "\n",
        "# Models for scaled data\n",
        "from sklearn.linear_model import ElasticNet, LinearRegression\n",
        "from sklearn.svm import SVR\n",
        "from sklearn.neighbors import KNeighborsRegressor\n",
        "from sklearn.neural_network import MLPRegressor\n",
        "\n",
        "# Tree based models\n",
        "from sklearn.ensemble import RandomForestRegressor\n",
        "from xgboost import XGBRegressor\n",
        "\n",
        "import warnings\n",
        "warnings.filterwarnings('ignore')"
      ]
    },
    {
      "cell_type": "code",
      "execution_count": 2,
      "metadata": {},
      "outputs": [
        {
          "data": {
            "text/html": [
              "<div>\n",
              "<style scoped>\n",
              "    .dataframe tbody tr th:only-of-type {\n",
              "        vertical-align: middle;\n",
              "    }\n",
              "\n",
              "    .dataframe tbody tr th {\n",
              "        vertical-align: top;\n",
              "    }\n",
              "\n",
              "    .dataframe thead th {\n",
              "        text-align: right;\n",
              "    }\n",
              "</style>\n",
              "<table border=\"1\" class=\"dataframe\">\n",
              "  <thead>\n",
              "    <tr style=\"text-align: right;\">\n",
              "      <th></th>\n",
              "      <th>molecule_chembl_id</th>\n",
              "      <th>canonical_smiles</th>\n",
              "      <th>standard_type</th>\n",
              "      <th>standard_value</th>\n",
              "      <th>pchembl_value</th>\n",
              "      <th>assay_chembl_id</th>\n",
              "      <th>assay_description</th>\n",
              "      <th>target_chembl_id</th>\n",
              "      <th>target_pref_name</th>\n",
              "      <th>target_organism</th>\n",
              "      <th>standard_units_norm</th>\n",
              "      <th>IC50_nM</th>\n",
              "      <th>pIC50</th>\n",
              "    </tr>\n",
              "  </thead>\n",
              "  <tbody>\n",
              "    <tr>\n",
              "      <th>0</th>\n",
              "      <td>CHEMBL304722</td>\n",
              "      <td>O=C(CC(O)CCc1ccc(O)c(O)c1)O[C@H]1Cc2cc(O)c(O)c...</td>\n",
              "      <td>IC50</td>\n",
              "      <td>1400.0</td>\n",
              "      <td>5.85</td>\n",
              "      <td>CHEMBL701719</td>\n",
              "      <td>Inhibition of HIV-1 integrase, under 1 uM for ...</td>\n",
              "      <td>CHEMBL3471</td>\n",
              "      <td>Human immunodeficiency virus type 1 integrase</td>\n",
              "      <td>Human immunodeficiency virus 1</td>\n",
              "      <td>nM</td>\n",
              "      <td>1400.0</td>\n",
              "      <td>5.853872</td>\n",
              "    </tr>\n",
              "    <tr>\n",
              "      <th>1</th>\n",
              "      <td>CHEMBL304722</td>\n",
              "      <td>O=C(CC(O)CCc1ccc(O)c(O)c1)O[C@H]1Cc2cc(O)c(O)c...</td>\n",
              "      <td>IC50</td>\n",
              "      <td>1000.0</td>\n",
              "      <td>6.00</td>\n",
              "      <td>CHEMBL701720</td>\n",
              "      <td>Tested for inhibition of HIV-1 integrase, unde...</td>\n",
              "      <td>CHEMBL3471</td>\n",
              "      <td>Human immunodeficiency virus type 1 integrase</td>\n",
              "      <td>Human immunodeficiency virus 1</td>\n",
              "      <td>nM</td>\n",
              "      <td>1000.0</td>\n",
              "      <td>6.000000</td>\n",
              "    </tr>\n",
              "    <tr>\n",
              "      <th>2</th>\n",
              "      <td>CHEMBL67076</td>\n",
              "      <td>O=C(CCc1ccc(O)c(O)c1)c1ccc(O)c(O)c1O</td>\n",
              "      <td>IC50</td>\n",
              "      <td>1700.0</td>\n",
              "      <td>5.77</td>\n",
              "      <td>CHEMBL701719</td>\n",
              "      <td>Inhibition of HIV-1 integrase, under 1 uM for ...</td>\n",
              "      <td>CHEMBL3471</td>\n",
              "      <td>Human immunodeficiency virus type 1 integrase</td>\n",
              "      <td>Human immunodeficiency virus 1</td>\n",
              "      <td>nM</td>\n",
              "      <td>1700.0</td>\n",
              "      <td>5.769551</td>\n",
              "    </tr>\n",
              "    <tr>\n",
              "      <th>3</th>\n",
              "      <td>CHEMBL67076</td>\n",
              "      <td>O=C(CCc1ccc(O)c(O)c1)c1ccc(O)c(O)c1O</td>\n",
              "      <td>IC50</td>\n",
              "      <td>1000.0</td>\n",
              "      <td>6.00</td>\n",
              "      <td>CHEMBL701720</td>\n",
              "      <td>Tested for inhibition of HIV-1 integrase, unde...</td>\n",
              "      <td>CHEMBL3471</td>\n",
              "      <td>Human immunodeficiency virus type 1 integrase</td>\n",
              "      <td>Human immunodeficiency virus 1</td>\n",
              "      <td>nM</td>\n",
              "      <td>1000.0</td>\n",
              "      <td>6.000000</td>\n",
              "    </tr>\n",
              "    <tr>\n",
              "      <th>4</th>\n",
              "      <td>CHEMBL177126</td>\n",
              "      <td>O=C(/C=C/c1ccc(O)c(O)c1)O[C@H]1[C@H](O)C[C@](O...</td>\n",
              "      <td>IC50</td>\n",
              "      <td>250.0</td>\n",
              "      <td>6.60</td>\n",
              "      <td>CHEMBL701719</td>\n",
              "      <td>Inhibition of HIV-1 integrase, under 1 uM for ...</td>\n",
              "      <td>CHEMBL3471</td>\n",
              "      <td>Human immunodeficiency virus type 1 integrase</td>\n",
              "      <td>Human immunodeficiency virus 1</td>\n",
              "      <td>nM</td>\n",
              "      <td>250.0</td>\n",
              "      <td>6.602060</td>\n",
              "    </tr>\n",
              "  </tbody>\n",
              "</table>\n",
              "</div>"
            ],
            "text/plain": [
              "  molecule_chembl_id                                   canonical_smiles  \\\n",
              "0       CHEMBL304722  O=C(CC(O)CCc1ccc(O)c(O)c1)O[C@H]1Cc2cc(O)c(O)c...   \n",
              "1       CHEMBL304722  O=C(CC(O)CCc1ccc(O)c(O)c1)O[C@H]1Cc2cc(O)c(O)c...   \n",
              "2        CHEMBL67076               O=C(CCc1ccc(O)c(O)c1)c1ccc(O)c(O)c1O   \n",
              "3        CHEMBL67076               O=C(CCc1ccc(O)c(O)c1)c1ccc(O)c(O)c1O   \n",
              "4       CHEMBL177126  O=C(/C=C/c1ccc(O)c(O)c1)O[C@H]1[C@H](O)C[C@](O...   \n",
              "\n",
              "  standard_type  standard_value  pchembl_value assay_chembl_id  \\\n",
              "0          IC50          1400.0           5.85    CHEMBL701719   \n",
              "1          IC50          1000.0           6.00    CHEMBL701720   \n",
              "2          IC50          1700.0           5.77    CHEMBL701719   \n",
              "3          IC50          1000.0           6.00    CHEMBL701720   \n",
              "4          IC50           250.0           6.60    CHEMBL701719   \n",
              "\n",
              "                                   assay_description target_chembl_id  \\\n",
              "0  Inhibition of HIV-1 integrase, under 1 uM for ...       CHEMBL3471   \n",
              "1  Tested for inhibition of HIV-1 integrase, unde...       CHEMBL3471   \n",
              "2  Inhibition of HIV-1 integrase, under 1 uM for ...       CHEMBL3471   \n",
              "3  Tested for inhibition of HIV-1 integrase, unde...       CHEMBL3471   \n",
              "4  Inhibition of HIV-1 integrase, under 1 uM for ...       CHEMBL3471   \n",
              "\n",
              "                                target_pref_name  \\\n",
              "0  Human immunodeficiency virus type 1 integrase   \n",
              "1  Human immunodeficiency virus type 1 integrase   \n",
              "2  Human immunodeficiency virus type 1 integrase   \n",
              "3  Human immunodeficiency virus type 1 integrase   \n",
              "4  Human immunodeficiency virus type 1 integrase   \n",
              "\n",
              "                  target_organism standard_units_norm  IC50_nM     pIC50  \n",
              "0  Human immunodeficiency virus 1                  nM   1400.0  5.853872  \n",
              "1  Human immunodeficiency virus 1                  nM   1000.0  6.000000  \n",
              "2  Human immunodeficiency virus 1                  nM   1700.0  5.769551  \n",
              "3  Human immunodeficiency virus 1                  nM   1000.0  6.000000  \n",
              "4  Human immunodeficiency virus 1                  nM    250.0  6.602060  "
            ]
          },
          "execution_count": 2,
          "metadata": {},
          "output_type": "execute_result"
        }
      ],
      "source": [
        "integrase = pd.read_csv('../data/ii_df_clean.csv')\n",
        "integrase.head()"
      ]
    },
    {
      "cell_type": "markdown",
      "metadata": {
        "id": "aamOmBs3NfTH"
      },
      "source": [
        "# 5. QSAR Model for integrase inhibitor pIC50 value\n",
        "\n",
        "We have appended the morgan fingerprints and molecular descriptors into a single dataframe"
      ]
    },
    {
      "cell_type": "code",
      "execution_count": 4,
      "metadata": {
        "colab": {
          "base_uri": "https://localhost:8080/"
        },
        "id": "s8MJXKo0AO1U",
        "outputId": "4e43df91-d689-4468-8877-a5639ea86392"
      },
      "outputs": [
        {
          "name": "stdout",
          "output_type": "stream",
          "text": [
            "rows, cols: (6386, 523)\n"
          ]
        }
      ],
      "source": [
        "df = pd.read_csv('../data/ii_qsar_features.csv')\n",
        "print(\"rows, cols:\", df.shape)"
      ]
    },
    {
      "cell_type": "code",
      "execution_count": 5,
      "metadata": {
        "colab": {
          "base_uri": "https://localhost:8080/",
          "height": 255
        },
        "id": "-0EUHYZJNomn",
        "outputId": "ac238b74-2bab-4361-aa6c-2b44cc3b8b1a"
      },
      "outputs": [
        {
          "data": {
            "text/html": [
              "<div>\n",
              "<style scoped>\n",
              "    .dataframe tbody tr th:only-of-type {\n",
              "        vertical-align: middle;\n",
              "    }\n",
              "\n",
              "    .dataframe tbody tr th {\n",
              "        vertical-align: top;\n",
              "    }\n",
              "\n",
              "    .dataframe thead th {\n",
              "        text-align: right;\n",
              "    }\n",
              "</style>\n",
              "<table border=\"1\" class=\"dataframe\">\n",
              "  <thead>\n",
              "    <tr style=\"text-align: right;\">\n",
              "      <th></th>\n",
              "      <th>MolWt</th>\n",
              "      <th>MolLogP</th>\n",
              "      <th>MolMR</th>\n",
              "      <th>TPSA</th>\n",
              "      <th>NumHDonors</th>\n",
              "      <th>NumHAcceptors</th>\n",
              "      <th>NumRotatableBonds</th>\n",
              "      <th>NumAromaticRings</th>\n",
              "      <th>HeavyAtomCount</th>\n",
              "      <th>FractionCSP3</th>\n",
              "      <th>...</th>\n",
              "      <th>Morgan_512_503</th>\n",
              "      <th>Morgan_512_504</th>\n",
              "      <th>Morgan_512_505</th>\n",
              "      <th>Morgan_512_506</th>\n",
              "      <th>Morgan_512_507</th>\n",
              "      <th>Morgan_512_508</th>\n",
              "      <th>Morgan_512_509</th>\n",
              "      <th>Morgan_512_510</th>\n",
              "      <th>Morgan_512_511</th>\n",
              "      <th>pIC50</th>\n",
              "    </tr>\n",
              "  </thead>\n",
              "  <tbody>\n",
              "    <tr>\n",
              "      <th>0</th>\n",
              "      <td>498.484</td>\n",
              "      <td>2.8920</td>\n",
              "      <td>125.2126</td>\n",
              "      <td>177.14</td>\n",
              "      <td>7</td>\n",
              "      <td>10</td>\n",
              "      <td>7</td>\n",
              "      <td>3</td>\n",
              "      <td>36</td>\n",
              "      <td>0.269231</td>\n",
              "      <td>...</td>\n",
              "      <td>0</td>\n",
              "      <td>1</td>\n",
              "      <td>0</td>\n",
              "      <td>0</td>\n",
              "      <td>1</td>\n",
              "      <td>0</td>\n",
              "      <td>0</td>\n",
              "      <td>0</td>\n",
              "      <td>0</td>\n",
              "      <td>5.853872</td>\n",
              "    </tr>\n",
              "    <tr>\n",
              "      <th>1</th>\n",
              "      <td>498.484</td>\n",
              "      <td>2.8920</td>\n",
              "      <td>125.2126</td>\n",
              "      <td>177.14</td>\n",
              "      <td>7</td>\n",
              "      <td>10</td>\n",
              "      <td>7</td>\n",
              "      <td>3</td>\n",
              "      <td>36</td>\n",
              "      <td>0.269231</td>\n",
              "      <td>...</td>\n",
              "      <td>0</td>\n",
              "      <td>1</td>\n",
              "      <td>0</td>\n",
              "      <td>0</td>\n",
              "      <td>1</td>\n",
              "      <td>0</td>\n",
              "      <td>0</td>\n",
              "      <td>0</td>\n",
              "      <td>0</td>\n",
              "      <td>6.000000</td>\n",
              "    </tr>\n",
              "    <tr>\n",
              "      <th>2</th>\n",
              "      <td>290.271</td>\n",
              "      <td>2.0301</td>\n",
              "      <td>73.8595</td>\n",
              "      <td>118.22</td>\n",
              "      <td>5</td>\n",
              "      <td>6</td>\n",
              "      <td>4</td>\n",
              "      <td>2</td>\n",
              "      <td>21</td>\n",
              "      <td>0.133333</td>\n",
              "      <td>...</td>\n",
              "      <td>0</td>\n",
              "      <td>0</td>\n",
              "      <td>0</td>\n",
              "      <td>0</td>\n",
              "      <td>0</td>\n",
              "      <td>0</td>\n",
              "      <td>0</td>\n",
              "      <td>0</td>\n",
              "      <td>0</td>\n",
              "      <td>5.769551</td>\n",
              "    </tr>\n",
              "    <tr>\n",
              "      <th>3</th>\n",
              "      <td>290.271</td>\n",
              "      <td>2.0301</td>\n",
              "      <td>73.8595</td>\n",
              "      <td>118.22</td>\n",
              "      <td>5</td>\n",
              "      <td>6</td>\n",
              "      <td>4</td>\n",
              "      <td>2</td>\n",
              "      <td>21</td>\n",
              "      <td>0.133333</td>\n",
              "      <td>...</td>\n",
              "      <td>0</td>\n",
              "      <td>0</td>\n",
              "      <td>0</td>\n",
              "      <td>0</td>\n",
              "      <td>0</td>\n",
              "      <td>0</td>\n",
              "      <td>0</td>\n",
              "      <td>0</td>\n",
              "      <td>0</td>\n",
              "      <td>6.000000</td>\n",
              "    </tr>\n",
              "    <tr>\n",
              "      <th>4</th>\n",
              "      <td>516.455</td>\n",
              "      <td>1.0296</td>\n",
              "      <td>125.1976</td>\n",
              "      <td>211.28</td>\n",
              "      <td>7</td>\n",
              "      <td>11</td>\n",
              "      <td>7</td>\n",
              "      <td>2</td>\n",
              "      <td>37</td>\n",
              "      <td>0.240000</td>\n",
              "      <td>...</td>\n",
              "      <td>0</td>\n",
              "      <td>0</td>\n",
              "      <td>1</td>\n",
              "      <td>0</td>\n",
              "      <td>1</td>\n",
              "      <td>0</td>\n",
              "      <td>0</td>\n",
              "      <td>0</td>\n",
              "      <td>0</td>\n",
              "      <td>6.602060</td>\n",
              "    </tr>\n",
              "  </tbody>\n",
              "</table>\n",
              "<p>5 rows × 523 columns</p>\n",
              "</div>"
            ],
            "text/plain": [
              "     MolWt  MolLogP     MolMR    TPSA  NumHDonors  NumHAcceptors  \\\n",
              "0  498.484   2.8920  125.2126  177.14           7             10   \n",
              "1  498.484   2.8920  125.2126  177.14           7             10   \n",
              "2  290.271   2.0301   73.8595  118.22           5              6   \n",
              "3  290.271   2.0301   73.8595  118.22           5              6   \n",
              "4  516.455   1.0296  125.1976  211.28           7             11   \n",
              "\n",
              "   NumRotatableBonds  NumAromaticRings  HeavyAtomCount  FractionCSP3  ...  \\\n",
              "0                  7                 3              36      0.269231  ...   \n",
              "1                  7                 3              36      0.269231  ...   \n",
              "2                  4                 2              21      0.133333  ...   \n",
              "3                  4                 2              21      0.133333  ...   \n",
              "4                  7                 2              37      0.240000  ...   \n",
              "\n",
              "   Morgan_512_503  Morgan_512_504  Morgan_512_505  Morgan_512_506  \\\n",
              "0               0               1               0               0   \n",
              "1               0               1               0               0   \n",
              "2               0               0               0               0   \n",
              "3               0               0               0               0   \n",
              "4               0               0               1               0   \n",
              "\n",
              "   Morgan_512_507  Morgan_512_508  Morgan_512_509  Morgan_512_510  \\\n",
              "0               1               0               0               0   \n",
              "1               1               0               0               0   \n",
              "2               0               0               0               0   \n",
              "3               0               0               0               0   \n",
              "4               1               0               0               0   \n",
              "\n",
              "   Morgan_512_511     pIC50  \n",
              "0               0  5.853872  \n",
              "1               0  6.000000  \n",
              "2               0  5.769551  \n",
              "3               0  6.000000  \n",
              "4               0  6.602060  \n",
              "\n",
              "[5 rows x 523 columns]"
            ]
          },
          "execution_count": 5,
          "metadata": {},
          "output_type": "execute_result"
        }
      ],
      "source": [
        "df.head()"
      ]
    },
    {
      "cell_type": "code",
      "execution_count": 6,
      "metadata": {
        "colab": {
          "base_uri": "https://localhost:8080/"
        },
        "id": "qN1mEzcQZMiF",
        "outputId": "66d13398-3b79-43c1-db2b-b3346825dec5"
      },
      "outputs": [
        {
          "name": "stdout",
          "output_type": "stream",
          "text": [
            "Feature count:  522\n"
          ]
        }
      ],
      "source": [
        "# Prepare X and y\n",
        "y = df['pIC50']\n",
        "X = df.drop(columns=['pIC50'])\n",
        "print('Feature count: ', X.shape[1])"
      ]
    },
    {
      "cell_type": "code",
      "execution_count": 7,
      "metadata": {
        "colab": {
          "base_uri": "https://localhost:8080/"
        },
        "id": "4hqAcNrTgoCc",
        "outputId": "e034d852-7e92-42c4-d754-93d2155ec474"
      },
      "outputs": [
        {
          "data": {
            "text/plain": [
              "np.int64(0)"
            ]
          },
          "execution_count": 7,
          "metadata": {},
          "output_type": "execute_result"
        }
      ],
      "source": [
        "y.isna().sum()"
      ]
    },
    {
      "cell_type": "code",
      "execution_count": 8,
      "metadata": {
        "colab": {
          "base_uri": "https://localhost:8080/"
        },
        "id": "CE9BxNvr_296",
        "outputId": "002b4a45-a802-4cb3-f806-d0887fe9eb5b"
      },
      "outputs": [
        {
          "name": "stdout",
          "output_type": "stream",
          "text": [
            "Features after variance filter: 522\n",
            "Features removed: 0\n",
            "\n",
            "Removed features (first 20):\n",
            "[]\n"
          ]
        }
      ],
      "source": [
        "# ------------------------------------------------------------------------------\n",
        "# Quick feature cleanup\n",
        "# ------------------------------------------------------------------------------\n",
        "\n",
        "# a. remove near-constant features\n",
        "\n",
        "# Fit the selector\n",
        "vt = VarianceThreshold(threshold=1e-6)\n",
        "X_v = vt.fit_transform(X)\n",
        "# Features kept\n",
        "kept_features = X.columns[vt.get_support()].tolist()\n",
        "# Features removed\n",
        "removed_features = [col for col in X.columns if col not in kept_features]\n",
        "# Create the reduced DataFrame\n",
        "X = pd.DataFrame(X_v, columns=kept_features)\n",
        "\n",
        "print(f\"Features after variance filter: {len(kept_features)}\")\n",
        "print(f\"Features removed: {len(removed_features)}\")\n",
        "# Optional: display or save the removed features\n",
        "print(\"\\nRemoved features (first 20):\")\n",
        "print(removed_features[:20])"
      ]
    },
    {
      "cell_type": "code",
      "execution_count": 9,
      "metadata": {
        "colab": {
          "base_uri": "https://localhost:8080/"
        },
        "id": "7t0wb30PAze9",
        "outputId": "1b2b7100-7579-4253-85d8-c9acba16632d"
      },
      "outputs": [
        {
          "name": "stdout",
          "output_type": "stream",
          "text": [
            "Dropped highly correlated features: ['MolMR', 'HeavyAtomCount']\n"
          ]
        }
      ],
      "source": [
        "# b. (optional) remove extremely collinear features (simple correlation filter)\n",
        "\n",
        "corr_thresh = 0.98\n",
        "corr_matrix = X.corr().abs()\n",
        "upper = corr_matrix.where(np.triu(np.ones(corr_matrix.shape), k=1).astype(bool))\n",
        "to_drop = [col for col in upper.columns if any(upper[col] > corr_thresh)]\n",
        "if to_drop:\n",
        "    X.drop(columns=to_drop, inplace=True)\n",
        "    print(\"Dropped highly correlated features:\", to_drop)"
      ]
    },
    {
      "cell_type": "code",
      "execution_count": 10,
      "metadata": {
        "colab": {
          "base_uri": "https://localhost:8080/"
        },
        "id": "NnqP_sOcA-Ew",
        "outputId": "e0fc07be-db96-43ed-ee00-f15cbf0f7692"
      },
      "outputs": [
        {
          "data": {
            "text/plain": [
              "(6386, 520)"
            ]
          },
          "execution_count": 10,
          "metadata": {},
          "output_type": "execute_result"
        }
      ],
      "source": [
        "X.shape"
      ]
    },
    {
      "cell_type": "code",
      "execution_count": 11,
      "metadata": {
        "id": "YaeVHRjBD1yn"
      },
      "outputs": [],
      "source": [
        "# ------------------------------------------------------------------------------\n",
        "# Define descriptor columns to scale and fingerprint columns to pass through\n",
        "# ------------------------------------------------------------------------------\n",
        "descriptors = ['MolWt', 'MolLogP', 'TPSA', 'NumHDonors', 'NumHAcceptors',\n",
        "    'NumRotatableBonds', 'NumAromaticRings', 'FractionCSP3']\n",
        "fingerprints = [c for c in X.columns if c not in descriptors]\n",
        "\n",
        "# ColumnTransformer: scale descriptors, pass fingerprints through\n",
        "preprocessor = ColumnTransformer([\n",
        "    (\"desc\", StandardScaler(), descriptors),\n",
        "    (\"fp\", \"passthrough\", fingerprints)\n",
        "])"
      ]
    },
    {
      "cell_type": "code",
      "execution_count": 12,
      "metadata": {
        "id": "uiGrOdZ6HjoK"
      },
      "outputs": [],
      "source": [
        "# ---------------------------\n",
        "# k-fold OOF trainer\n",
        "# ---------------------------\n",
        "def kfold_train_predict(model, X_df, y_arr, n_splits=5, random_state=42):\n",
        "    \"\"\"\n",
        "    model: estimator or pipeline (should accept fit/predict)\n",
        "    X_df: pandas DataFrame (full dataset)\n",
        "    y_arr: numpy array or Series\n",
        "    returns: oof_preds (np.array same length as X_df), mean_r2, mean_rmse\n",
        "    \"\"\"\n",
        "    kf = KFold(n_splits=n_splits, shuffle=True, random_state=random_state)\n",
        "    oof_preds = np.zeros(len(X_df))\n",
        "    fold_scores = []\n",
        "\n",
        "    for fold, (train_idx, val_idx) in enumerate(kf.split(X_df, y_arr), 1):\n",
        "        X_train, X_val = X_df.iloc[train_idx], X_df.iloc[val_idx]\n",
        "        y_train, y_val = y_arr[train_idx], y_arr[val_idx]\n",
        "\n",
        "        # fit on train fold, predict on val fold\n",
        "        model.fit(X_train, y_train)\n",
        "        preds = model.predict(X_val)\n",
        "\n",
        "        oof_preds[val_idx] = preds\n",
        "\n",
        "        fold_r2 = r2_score(y_val, preds)\n",
        "        fold_rmse = np.sqrt(mean_squared_error(y_val, preds))\n",
        "        fold_scores.append((fold_r2, fold_rmse))\n",
        "        print(f\"Fold {fold}: R2 = {fold_r2:.3f}, RMSE = {fold_rmse:.3f}\")\n",
        "\n",
        "    mean_r2 = np.mean([s[0] for s in fold_scores])\n",
        "    mean_rmse = np.mean([s[1] for s in fold_scores])\n",
        "    print(f\"\\nMean CV R2 = {mean_r2:.3f}, Mean RMSE = {mean_rmse:.3f}\")\n",
        "    return oof_preds, mean_r2, mean_rmse"
      ]
    },
    {
      "cell_type": "code",
      "execution_count": 13,
      "metadata": {
        "id": "3tKWRWOdfkV4"
      },
      "outputs": [],
      "source": [
        "# ---------------------------\n",
        "# Define models and pipelines\n",
        "# ---------------------------\n",
        "models = {}\n",
        "\n",
        "# Linear models (need scaling) -> include preprocessor\n",
        "models['Linear'] = Pipeline([(\"preproc\", preprocessor), (\"model\", LinearRegression())])\n",
        "models['ElasticNet'] = Pipeline([(\"preproc\", preprocessor), (\"model\", ElasticNet(random_state=42, max_iter=5000))])\n",
        "\n",
        "# SVR (needs scaling)\n",
        "models['SVM'] = Pipeline([(\"preproc\", preprocessor), (\"model\", SVR())])\n",
        "\n",
        "# KNN\n",
        "models['KNN'] = Pipeline([(\"preproc\", preprocessor), (\"model\", KNeighborsRegressor())])\n",
        "\n",
        "# MLP\n",
        "models['MLP'] = Pipeline([(\"preproc\", preprocessor), (\"model\", MLPRegressor(max_iter=2000, random_state=42))])\n",
        "\n",
        "# Random Forest (trees don't need scaling, but pipeline is fine)\n",
        "models['Random Forest'] = Pipeline([(\"preproc\", preprocessor), (\"model\", RandomForestRegressor(n_estimators=200, random_state=42, n_jobs=-1))])\n",
        "\n",
        "# XGBoost\n",
        "models['XGBoost'] = Pipeline([(\"preproc\", preprocessor), (\"model\", XGBRegressor(n_estimators=200, random_state=42, n_jobs=-1, objective='reg:squarederror'))])"
      ]
    },
    {
      "cell_type": "code",
      "execution_count": 14,
      "metadata": {
        "colab": {
          "base_uri": "https://localhost:8080/"
        },
        "id": "PpbER2jbhWk7",
        "outputId": "8101ab7f-425b-48ca-856a-d64d87e2a28e"
      },
      "outputs": [
        {
          "name": "stdout",
          "output_type": "stream",
          "text": [
            "\n",
            "=== Training model: Linear ===\n",
            "Fold 1: R2 = 0.632, RMSE = 0.811\n",
            "Fold 2: R2 = 0.650, RMSE = 0.818\n",
            "Fold 3: R2 = 0.631, RMSE = 0.838\n",
            "Fold 4: R2 = 0.618, RMSE = 0.836\n",
            "Fold 5: R2 = 0.653, RMSE = 0.797\n",
            "\n",
            "Mean CV R2 = 0.637, Mean RMSE = 0.820\n",
            "\n",
            "=== Training model: ElasticNet ===\n",
            "Fold 1: R2 = -0.001, RMSE = 1.337\n",
            "Fold 2: R2 = -0.001, RMSE = 1.382\n",
            "Fold 3: R2 = -0.001, RMSE = 1.380\n",
            "Fold 4: R2 = -0.000, RMSE = 1.352\n",
            "Fold 5: R2 = -0.000, RMSE = 1.352\n",
            "\n",
            "Mean CV R2 = -0.001, Mean RMSE = 1.361\n",
            "\n",
            "=== Training model: SVM ===\n",
            "Fold 1: R2 = 0.732, RMSE = 0.692\n",
            "Fold 2: R2 = 0.763, RMSE = 0.672\n",
            "Fold 3: R2 = 0.745, RMSE = 0.697\n",
            "Fold 4: R2 = 0.739, RMSE = 0.691\n",
            "Fold 5: R2 = 0.761, RMSE = 0.661\n",
            "\n",
            "Mean CV R2 = 0.748, Mean RMSE = 0.683\n",
            "\n",
            "=== Training model: KNN ===\n",
            "Fold 1: R2 = 0.709, RMSE = 0.721\n",
            "Fold 2: R2 = 0.752, RMSE = 0.688\n",
            "Fold 3: R2 = 0.740, RMSE = 0.703\n",
            "Fold 4: R2 = 0.715, RMSE = 0.721\n",
            "Fold 5: R2 = 0.763, RMSE = 0.658\n",
            "\n",
            "Mean CV R2 = 0.736, Mean RMSE = 0.698\n",
            "\n",
            "=== Training model: MLP ===\n",
            "Fold 1: R2 = 0.643, RMSE = 0.799\n",
            "Fold 2: R2 = 0.695, RMSE = 0.763\n",
            "Fold 3: R2 = 0.700, RMSE = 0.756\n",
            "Fold 4: R2 = 0.651, RMSE = 0.799\n",
            "Fold 5: R2 = 0.707, RMSE = 0.732\n",
            "\n",
            "Mean CV R2 = 0.679, Mean RMSE = 0.770\n",
            "\n",
            "=== Training model: Random Forest ===\n",
            "Fold 1: R2 = 0.711, RMSE = 0.718\n",
            "Fold 2: R2 = 0.753, RMSE = 0.687\n",
            "Fold 3: R2 = 0.751, RMSE = 0.688\n",
            "Fold 4: R2 = 0.718, RMSE = 0.718\n",
            "Fold 5: R2 = 0.754, RMSE = 0.670\n",
            "\n",
            "Mean CV R2 = 0.738, Mean RMSE = 0.696\n",
            "\n",
            "=== Training model: XGBoost ===\n",
            "Fold 1: R2 = 0.693, RMSE = 0.741\n",
            "Fold 2: R2 = 0.737, RMSE = 0.708\n",
            "Fold 3: R2 = 0.743, RMSE = 0.700\n",
            "Fold 4: R2 = 0.710, RMSE = 0.729\n",
            "Fold 5: R2 = 0.744, RMSE = 0.685\n",
            "\n",
            "Mean CV R2 = 0.725, Mean RMSE = 0.712\n",
            "\n",
            "Summary (mean CV results):\n",
            "Linear: R2 = 0.6366, RMSE = 0.8199\n",
            "ElasticNet: R2 = -0.0006, RMSE = 1.3608\n",
            "SVM: R2 = 0.7480, RMSE = 0.6826\n",
            "KNN: R2 = 0.7359, RMSE = 0.6984\n",
            "MLP: R2 = 0.6790, RMSE = 0.7698\n",
            "Random Forest: R2 = 0.7376, RMSE = 0.6962\n",
            "XGBoost: R2 = 0.7252, RMSE = 0.7125\n"
          ]
        }
      ],
      "source": [
        "# ---------------------------\n",
        "# Run k-fold for each model\n",
        "# ---------------------------\n",
        "results = {}\n",
        "oof_dict = {}\n",
        "\n",
        "for name, model in models.items():\n",
        "    print(f\"\\n=== Training model: {name} ===\")\n",
        "    oof_preds, mean_r2, mean_rmse = kfold_train_predict(model, X, y, n_splits=5, random_state=42)\n",
        "    results[name] = {\"r2\": mean_r2, \"rmse\": mean_rmse}\n",
        "    oof_dict[name] = oof_preds\n",
        "\n",
        "# Summary\n",
        "print(\"\\nSummary (mean CV results):\")\n",
        "for name, res in results.items():\n",
        "    print(f\"{name}: R2 = {res['r2']:.4f}, RMSE = {res['rmse']:.4f}\")"
      ]
    },
    {
      "cell_type": "markdown",
      "metadata": {
        "id": "gRwmRoLMuOYq"
      },
      "source": [
        "# 6. Tune the Best Models\n",
        "\n",
        "### Support Vector Machine (SVR),\n",
        "### K-Nearest Neighbours (KNN),\n",
        "### Random Forest (RF)"
      ]
    },
    {
      "cell_type": "code",
      "execution_count": 15,
      "metadata": {
        "id": "KFfceZ0Uu1sg"
      },
      "outputs": [],
      "source": [
        "import optuna\n",
        "import joblib\n",
        "from sklearn.decomposition import PCA"
      ]
    },
    {
      "cell_type": "code",
      "execution_count": 16,
      "metadata": {
        "colab": {
          "base_uri": "https://localhost:8080/"
        },
        "id": "QuLh8d_7Ct9T",
        "outputId": "d729748a-631b-437b-baba-cec05a36ab29"
      },
      "outputs": [
        {
          "name": "stdout",
          "output_type": "stream",
          "text": [
            "Using 8 descriptor columns and 512 fingerprint columns.\n"
          ]
        }
      ],
      "source": [
        "# PCA variant of the model\n",
        "n_fp = len(fingerprints)\n",
        "print(f\"Using {len(descriptors)} descriptor columns and {n_fp} fingerprint columns.\")\n",
        "\n",
        "if n_fp == 0:\n",
        "    raise ValueError(\"No fingerprint columns detected. Make sure your X contains fingerprint bit columns.\")\n",
        "\n",
        "# ---------- CV settings ----------\n",
        "cv_outer = KFold(n_splits=5, shuffle=True, random_state=42)"
      ]
    },
    {
      "cell_type": "code",
      "execution_count": 17,
      "metadata": {
        "id": "LEyiu7FGHImx"
      },
      "outputs": [],
      "source": [
        "# ----------------------- SVM ---------------------------------\n",
        "def run_optuna_svm(n_trials=80):\n",
        "    def objective(trial):\n",
        "        use_pca = trial.suggest_categorical(\"use_pca\", [True, False])\n",
        "        if use_pca:\n",
        "            max_comp = min(n_fp, 300)\n",
        "            n_comp = trial.suggest_int(\"pca_n_components\", 10, max(10, max_comp))\n",
        "            fp_transform = Pipeline([(\"pca\", PCA(n_components=n_comp, svd_solver=\"randomized\", random_state=42))])\n",
        "        else:\n",
        "            fp_transform = \"passthrough\"\n",
        "\n",
        "        preprocessor = ColumnTransformer([\n",
        "            (\"desc\", StandardScaler(), descriptors),\n",
        "            (\"fp\", fp_transform, fingerprints)\n",
        "        ])\n",
        "\n",
        "        # SVR hyperparameters (log-uniform sampling where appropriate)\n",
        "        kernel = trial.suggest_categorical(\"kernel\", [\"rbf\", \"poly\", \"sigmoid\"])\n",
        "        C = trial.suggest_loguniform(\"C\", 1e-3, 1e3)\n",
        "        epsilon = trial.suggest_loguniform(\"epsilon\", 1e-4, 1.0)\n",
        "        gamma_choice = trial.suggest_categorical(\"gamma_choice\", [\"scale\", \"auto\", \"numeric\"])\n",
        "        if gamma_choice == \"numeric\":\n",
        "            gamma = trial.suggest_loguniform(\"gamma\", 1e-5, 1e1)\n",
        "        else:\n",
        "            gamma = gamma_choice\n",
        "        # degree and coef0 for polynomial kernel\n",
        "        if kernel == \"poly\":\n",
        "            degree = trial.suggest_int(\"degree\", 2, 5)\n",
        "            coef0 = trial.suggest_float(\"coef0\", 0.0, 1.0)\n",
        "        else:\n",
        "            degree = 3\n",
        "            coef0 = 0.0\n",
        "\n",
        "        svr = SVR(kernel=kernel, C=C, epsilon=epsilon, gamma=gamma, degree=degree, coef0=coef0, max_iter=100000)\n",
        "        pipe = Pipeline([(\"preproc\", preprocessor), (\"svr\", svr)])\n",
        "        scores = cross_val_score(pipe, X, y, cv=cv_outer, scoring=\"r2\", n_jobs=-1)\n",
        "        return float(np.mean(scores))\n",
        "\n",
        "    study = optuna.create_study(direction=\"maximize\", sampler=optuna.samplers.TPESampler(),\n",
        "                                pruner=optuna.pruners.MedianPruner())\n",
        "    study.optimize(objective, n_trials=n_trials, n_jobs=1, show_progress_bar=True)\n",
        "\n",
        "    # Rebuild best pipeline and fit on full data\n",
        "    best = study.best_params\n",
        "    if best.get(\"use_pca\", False):\n",
        "        fp_transform = Pipeline([(\"pca\", PCA(n_components=best[\"pca_n_components\"], random_state=42))])\n",
        "    else:\n",
        "        fp_transform = \"passthrough\"\n",
        "    preprocessor_best = ColumnTransformer([\n",
        "        (\"desc\", StandardScaler(), descriptors),\n",
        "        (\"fp\", fp_transform, fingerprints)\n",
        "    ])\n",
        "    # reconstruct SVR\n",
        "    best_kernel = best.get(\"kernel\", \"rbf\")\n",
        "    best_gamma = best.get(\"gamma\", best.get(\"gamma_choice\", \"scale\"))\n",
        "    if best_gamma == \"numeric\":\n",
        "        best_gamma = best.get(\"gamma\")\n",
        "    best_degree = best.get(\"degree\", 3)\n",
        "    best_coef0 = best.get(\"coef0\", 0.0)\n",
        "\n",
        "    best_svm = SVR(\n",
        "        kernel=best_kernel,\n",
        "        C=best.get(\"C\"),\n",
        "        epsilon=best.get(\"epsilon\"),\n",
        "        gamma=best_gamma,\n",
        "        degree=best_degree,\n",
        "        coef0=best_coef0,\n",
        "        max_iter=100000\n",
        "    )\n",
        "    best_pipe = Pipeline([(\"preproc\", preprocessor_best), (\"svr\", best_svm)])\n",
        "    best_pipe.fit(X, y)\n",
        "    joblib.dump(best_pipe, \"../models/ii_svm.joblib\")\n",
        "    print(\"SVM best R2:\", study.best_value)\n",
        "    print(\"SVM best params:\", study.best_params)\n",
        "    return study, best_pipe"
      ]
    },
    {
      "cell_type": "code",
      "execution_count": 18,
      "metadata": {
        "id": "G-czkzYGDqpU"
      },
      "outputs": [],
      "source": [
        "# ------------------ KNN -----------------------\n",
        "def run_optuna_knn(n_trials=50):\n",
        "    def objective(trial):\n",
        "        use_pca = trial.suggest_categorical(\"use_pca\", [True, False])\n",
        "        if use_pca:\n",
        "            max_comp = min(n_fp, 300)\n",
        "            n_comp = trial.suggest_int(\"pca_n_components\", 10, max(10, max_comp))\n",
        "            fp_transform = Pipeline([(\"pca\", PCA(n_components=n_comp, svd_solver=\"randomized\", random_state=42))])\n",
        "        else:\n",
        "            fp_transform = \"passthrough\"\n",
        "\n",
        "        preprocessor = ColumnTransformer([\n",
        "            (\"desc\", StandardScaler(), descriptors),\n",
        "            (\"fp\", fp_transform, fingerprints)\n",
        "        ])\n",
        "\n",
        "        n_neighbors = trial.suggest_int(\"n_neighbors\", 1, 30)\n",
        "        weights = trial.suggest_categorical(\"weights\", [\"uniform\", \"distance\"])\n",
        "        p = trial.suggest_int(\"p\", 1, 2)  # 1 = manhattan, 2 = euclidean\n",
        "\n",
        "        knn = KNeighborsRegressor(n_neighbors=n_neighbors, weights=weights, p=p)\n",
        "        pipe = Pipeline([(\"preproc\", preprocessor), (\"knn\", knn)])\n",
        "        scores = cross_val_score(pipe, X, y, cv=cv_outer, scoring=\"r2\", n_jobs=-1)\n",
        "        return float(np.mean(scores))\n",
        "\n",
        "    study = optuna.create_study(direction=\"maximize\", sampler=optuna.samplers.TPESampler(),\n",
        "                                pruner=optuna.pruners.MedianPruner())\n",
        "    study.optimize(objective, n_trials=n_trials, n_jobs=1, show_progress_bar=True)\n",
        "\n",
        "    # Rebuild best pipeline and fit on full data\n",
        "    best = study.best_params\n",
        "    if best.get(\"use_pca\", False):\n",
        "        fp_transform = Pipeline([(\"pca\", PCA(n_components=best[\"pca_n_components\"], random_state=42))])\n",
        "    else:\n",
        "        fp_transform = \"passthrough\"\n",
        "    preprocessor_best = ColumnTransformer([\n",
        "        (\"desc\", StandardScaler(), descriptors),\n",
        "        (\"fp\", fp_transform, fingerprints)\n",
        "    ])\n",
        "    best_knn = KNeighborsRegressor(n_neighbors=best[\"n_neighbors\"], weights=best[\"weights\"], p=best[\"p\"])\n",
        "    best_pipe = Pipeline([(\"preproc\", preprocessor_best), (\"knn\", best_knn)])\n",
        "    best_pipe.fit(X, y)\n",
        "    joblib.dump(best_pipe, \"../models/ii_knn.joblib\")\n",
        "    print(\"KNN best R2:\", study.best_value)\n",
        "    print(\"KNN best params:\", study.best_params)\n",
        "    return study, best_pipe"
      ]
    },
    {
      "cell_type": "code",
      "execution_count": 19,
      "metadata": {
        "id": "7WO-LGoFGkKj"
      },
      "outputs": [],
      "source": [
        "# -------------------- Random Forest --------------------------------\n",
        "def run_optuna_rf(n_trials=50):\n",
        "    def objective(trial):\n",
        "        preprocessor = ColumnTransformer([\n",
        "            (\"desc\", StandardScaler(), descriptors),\n",
        "            (\"fp\", \"passthrough\", fingerprints)\n",
        "        ])\n",
        "\n",
        "        n_estimators = trial.suggest_int(\"n_estimators\", 100, 500)\n",
        "        max_depth = trial.suggest_int(\"max_depth\", 3, 50)\n",
        "        min_samples_split = trial.suggest_int(\"min_samples_split\", 2, 20)\n",
        "        min_samples_leaf = trial.suggest_int(\"min_samples_leaf\", 1, 20)\n",
        "        max_features = trial.suggest_categorical(\"max_features\", [\"sqrt\", \"log2\", 0.3, 0.5, 0.8])\n",
        "\n",
        "        rf = RandomForestRegressor(n_estimators=n_estimators, max_depth=max_depth,\n",
        "                                   min_samples_split=min_samples_split, min_samples_leaf=min_samples_leaf,\n",
        "                                   max_features=max_features, n_jobs=-1, random_state=42)\n",
        "        pipe = Pipeline([(\"preproc\", preprocessor), (\"rf\", rf)])\n",
        "        scores = cross_val_score(pipe, X, y, cv=cv_outer, scoring=\"r2\", n_jobs=-1)\n",
        "        return float(np.mean(scores))\n",
        "\n",
        "    study = optuna.create_study(direction=\"maximize\", sampler=optuna.samplers.TPESampler(),\n",
        "                                pruner=optuna.pruners.MedianPruner())\n",
        "    study.optimize(objective, n_trials=n_trials, n_jobs=1, show_progress_bar=True)\n",
        "\n",
        "    best = study.best_params\n",
        "    preprocessor_best = ColumnTransformer([\n",
        "        (\"desc\", StandardScaler(), descriptors),\n",
        "        (\"fp\", \"passthrough\", fingerprints)\n",
        "    ])\n",
        "    best_rf = RandomForestRegressor(n_estimators=best[\"n_estimators\"], max_depth=best[\"max_depth\"],\n",
        "                                    min_samples_split=best[\"min_samples_split\"],\n",
        "                                    min_samples_leaf=best[\"min_samples_leaf\"],\n",
        "                                    max_features=best[\"max_features\"], n_jobs=-1, random_state=42)\n",
        "    best_pipe = Pipeline([(\"preproc\", preprocessor_best), (\"rf\", best_rf)])\n",
        "    best_pipe.fit(X, y)\n",
        "    joblib.dump(best_pipe, \"../models/ii_rf.joblib\")\n",
        "    print(\"RF best R2:\", study.best_value)\n",
        "    print(\"RF best params:\", study.best_params)\n",
        "    return study, best_pipe"
      ]
    },
    {
      "cell_type": "code",
      "execution_count": 20,
      "metadata": {
        "colab": {
          "base_uri": "https://localhost:8080/",
          "height": 989,
          "referenced_widgets": [
            "78354a3fc2b94dfda26004da26cd9300",
            "2b3f624cfc9a4cfc9adeda69b9f6634b",
            "9c504ce49b844debbeaa454501cc4ee4",
            "42bd5bfb357644b3b0ba411bd6e063ae",
            "91abfa0f56b846c1a32d1a4bbeb31121",
            "76b88c73c1ad428db1f86203e34b70bf",
            "c7ddc79473d340bbba373722f23b3a92",
            "fca544b64b264527990db6535f2d789e",
            "c327e0298f274872b06c635f072ef45d",
            "1820408b92394767bb930dc47abd00da",
            "ded2d3b0783f45bdb3bc43fec70724ac"
          ]
        },
        "collapsed": true,
        "id": "yrwCr1n5G9wA",
        "outputId": "e2a22d93-77e4-4678-c68d-af4476ed57a1"
      },
      "outputs": [
        {
          "name": "stderr",
          "output_type": "stream",
          "text": [
            "[I 2025-10-07 09:33:14,474] A new study created in memory with name: no-name-4be66ad6-de0b-4fc1-939b-018d2ecae2e8\n",
            "Best trial: 0. Best value: 0.493822:   2%|▏         | 1/50 [00:27<22:18, 27.31s/it]"
          ]
        },
        {
          "name": "stdout",
          "output_type": "stream",
          "text": [
            "[I 2025-10-07 09:33:41,783] Trial 0 finished with value: 0.49382176062160116 and parameters: {'use_pca': False, 'kernel': 'sigmoid', 'C': 0.28486218977786587, 'epsilon': 0.045020786810284145, 'gamma_choice': 'auto'}. Best is trial 0 with value: 0.49382176062160116.\n"
          ]
        },
        {
          "name": "stderr",
          "output_type": "stream",
          "text": [
            "Best trial: 0. Best value: 0.493822:   4%|▍         | 2/50 [00:34<12:32, 15.68s/it]"
          ]
        },
        {
          "name": "stdout",
          "output_type": "stream",
          "text": [
            "[I 2025-10-07 09:33:49,311] Trial 1 finished with value: -0.09013309286166415 and parameters: {'use_pca': True, 'pca_n_components': 57, 'kernel': 'sigmoid', 'C': 0.10713066514866337, 'epsilon': 0.2007601635921036, 'gamma_choice': 'numeric', 'gamma': 1.0690461365612158e-05}. Best is trial 0 with value: 0.49382176062160116.\n"
          ]
        },
        {
          "name": "stderr",
          "output_type": "stream",
          "text": [
            "Best trial: 2. Best value: 0.742249:   6%|▌         | 3/50 [01:07<18:18, 23.37s/it]"
          ]
        },
        {
          "name": "stdout",
          "output_type": "stream",
          "text": [
            "[I 2025-10-07 09:34:21,826] Trial 2 finished with value: 0.7422494446083656 and parameters: {'use_pca': False, 'kernel': 'poly', 'C': 7.307734766708703, 'epsilon': 0.00014012184811066261, 'gamma_choice': 'numeric', 'gamma': 0.0060199338871944254, 'degree': 3, 'coef0': 0.40782778574134493}. Best is trial 2 with value: 0.7422494446083656.\n"
          ]
        },
        {
          "name": "stderr",
          "output_type": "stream",
          "text": [
            "Best trial: 2. Best value: 0.742249:   8%|▊         | 4/50 [01:24<16:07, 21.03s/it]"
          ]
        },
        {
          "name": "stdout",
          "output_type": "stream",
          "text": [
            "[I 2025-10-07 09:34:39,284] Trial 3 finished with value: -0.05914526631916508 and parameters: {'use_pca': True, 'pca_n_components': 210, 'kernel': 'sigmoid', 'C': 0.0021107991365853754, 'epsilon': 0.053891673054272504, 'gamma_choice': 'auto'}. Best is trial 2 with value: 0.7422494446083656.\n"
          ]
        },
        {
          "name": "stderr",
          "output_type": "stream",
          "text": [
            "Best trial: 2. Best value: 0.742249:  10%|█         | 5/50 [01:41<14:34, 19.44s/it]"
          ]
        },
        {
          "name": "stdout",
          "output_type": "stream",
          "text": [
            "[I 2025-10-07 09:34:55,890] Trial 4 finished with value: 0.6797676604126618 and parameters: {'use_pca': True, 'pca_n_components': 124, 'kernel': 'rbf', 'C': 0.7865352624569372, 'epsilon': 0.0001087447477402026, 'gamma_choice': 'numeric', 'gamma': 0.011789977679857507}. Best is trial 2 with value: 0.7422494446083656.\n"
          ]
        },
        {
          "name": "stderr",
          "output_type": "stream",
          "text": [
            "Best trial: 2. Best value: 0.742249:  12%|█▏        | 6/50 [01:59<14:01, 19.12s/it]"
          ]
        },
        {
          "name": "stdout",
          "output_type": "stream",
          "text": [
            "[I 2025-10-07 09:35:14,397] Trial 5 finished with value: 0.6207745233552616 and parameters: {'use_pca': True, 'pca_n_components': 211, 'kernel': 'poly', 'C': 0.07472821282057776, 'epsilon': 0.0028172267652687333, 'gamma_choice': 'scale', 'degree': 5, 'coef0': 0.27853242269971157}. Best is trial 2 with value: 0.7422494446083656.\n"
          ]
        },
        {
          "name": "stderr",
          "output_type": "stream",
          "text": [
            "Best trial: 6. Best value: 0.746953:  14%|█▍        | 7/50 [02:40<18:38, 26.02s/it]"
          ]
        },
        {
          "name": "stdout",
          "output_type": "stream",
          "text": [
            "[I 2025-10-07 09:35:54,632] Trial 6 finished with value: 0.7469527676836697 and parameters: {'use_pca': False, 'kernel': 'rbf', 'C': 4.9541472024773485, 'epsilon': 0.0006504373594656819, 'gamma_choice': 'numeric', 'gamma': 0.014252148546912242}. Best is trial 6 with value: 0.7469527676836697.\n"
          ]
        },
        {
          "name": "stderr",
          "output_type": "stream",
          "text": [
            "Best trial: 6. Best value: 0.746953:  16%|█▌        | 8/50 [05:52<55:19, 79.04s/it]"
          ]
        },
        {
          "name": "stdout",
          "output_type": "stream",
          "text": [
            "[I 2025-10-07 09:39:07,203] Trial 7 finished with value: 0.46227702629380163 and parameters: {'use_pca': False, 'kernel': 'rbf', 'C': 0.11686650100244611, 'epsilon': 0.1016190359128714, 'gamma_choice': 'auto'}. Best is trial 6 with value: 0.7469527676836697.\n"
          ]
        },
        {
          "name": "stderr",
          "output_type": "stream",
          "text": [
            "Best trial: 6. Best value: 0.746953:  18%|█▊        | 9/50 [06:03<39:20, 57.57s/it]"
          ]
        },
        {
          "name": "stdout",
          "output_type": "stream",
          "text": [
            "[I 2025-10-07 09:39:17,543] Trial 8 finished with value: -1651.3676270884032 and parameters: {'use_pca': True, 'pca_n_components': 138, 'kernel': 'sigmoid', 'C': 1.444343477751153, 'epsilon': 0.00033433742123634586, 'gamma_choice': 'scale'}. Best is trial 6 with value: 0.7469527676836697.\n"
          ]
        },
        {
          "name": "stderr",
          "output_type": "stream",
          "text": [
            "Best trial: 6. Best value: 0.746953:  20%|██        | 10/50 [06:09<27:56, 41.91s/it]"
          ]
        },
        {
          "name": "stdout",
          "output_type": "stream",
          "text": [
            "[I 2025-10-07 09:39:24,404] Trial 9 finished with value: 0.20925176673209772 and parameters: {'use_pca': True, 'pca_n_components': 189, 'kernel': 'sigmoid', 'C': 0.004083397034448919, 'epsilon': 0.789966418482619, 'gamma_choice': 'scale'}. Best is trial 6 with value: 0.7469527676836697.\n"
          ]
        },
        {
          "name": "stderr",
          "output_type": "stream",
          "text": [
            "Best trial: 6. Best value: 0.746953:  22%|██▏       | 11/50 [06:32<23:29, 36.14s/it]"
          ]
        },
        {
          "name": "stdout",
          "output_type": "stream",
          "text": [
            "[I 2025-10-07 09:39:47,444] Trial 10 finished with value: 0.27164812139083677 and parameters: {'use_pca': False, 'kernel': 'rbf', 'C': 908.1125840234736, 'epsilon': 0.0021985272716996316, 'gamma_choice': 'numeric', 'gamma': 7.551874508965239}. Best is trial 6 with value: 0.7469527676836697.\n"
          ]
        },
        {
          "name": "stderr",
          "output_type": "stream",
          "text": [
            "Best trial: 6. Best value: 0.746953:  24%|██▍       | 12/50 [07:02<21:34, 34.07s/it]"
          ]
        },
        {
          "name": "stdout",
          "output_type": "stream",
          "text": [
            "[I 2025-10-07 09:40:16,805] Trial 11 finished with value: 0.7228849157527124 and parameters: {'use_pca': False, 'kernel': 'poly', 'C': 26.43199088240462, 'epsilon': 0.0005925733389821275, 'gamma_choice': 'numeric', 'gamma': 0.009038899184979436, 'degree': 2, 'coef0': 0.8287627110687377}. Best is trial 6 with value: 0.7469527676836697.\n"
          ]
        },
        {
          "name": "stderr",
          "output_type": "stream",
          "text": [
            "Best trial: 6. Best value: 0.746953:  26%|██▌       | 13/50 [07:26<19:13, 31.17s/it]"
          ]
        },
        {
          "name": "stdout",
          "output_type": "stream",
          "text": [
            "[I 2025-10-07 09:40:41,278] Trial 12 finished with value: 0.7438868806297217 and parameters: {'use_pca': False, 'kernel': 'poly', 'C': 16.689811030759028, 'epsilon': 0.00012230119399942848, 'gamma_choice': 'numeric', 'gamma': 0.008973539550924602, 'degree': 3, 'coef0': 0.09486838398706005}. Best is trial 6 with value: 0.7469527676836697.\n"
          ]
        },
        {
          "name": "stderr",
          "output_type": "stream",
          "text": [
            "Best trial: 6. Best value: 0.746953:  28%|██▊       | 14/50 [08:04<19:49, 33.04s/it]"
          ]
        },
        {
          "name": "stdout",
          "output_type": "stream",
          "text": [
            "[I 2025-10-07 09:41:18,637] Trial 13 finished with value: -2.12656306688306 and parameters: {'use_pca': False, 'kernel': 'poly', 'C': 84.61842593563819, 'epsilon': 0.002453088162900407, 'gamma_choice': 'numeric', 'gamma': 0.06824090338459224, 'degree': 4, 'coef0': 0.020475514079013657}. Best is trial 6 with value: 0.7469527676836697.\n"
          ]
        },
        {
          "name": "stderr",
          "output_type": "stream",
          "text": [
            "Best trial: 6. Best value: 0.746953:  30%|███       | 15/50 [08:29<17:50, 30.57s/it]"
          ]
        },
        {
          "name": "stdout",
          "output_type": "stream",
          "text": [
            "[I 2025-10-07 09:41:43,501] Trial 14 finished with value: 0.6376072867896921 and parameters: {'use_pca': False, 'kernel': 'rbf', 'C': 182.9040492883249, 'epsilon': 0.0006913987142878796, 'gamma_choice': 'numeric', 'gamma': 0.00017986114219928042}. Best is trial 6 with value: 0.7469527676836697.\n"
          ]
        },
        {
          "name": "stderr",
          "output_type": "stream",
          "text": [
            "Best trial: 6. Best value: 0.746953:  32%|███▏      | 16/50 [08:57<16:59, 29.99s/it]"
          ]
        },
        {
          "name": "stdout",
          "output_type": "stream",
          "text": [
            "[I 2025-10-07 09:42:12,140] Trial 15 finished with value: 0.6716165475466511 and parameters: {'use_pca': False, 'kernel': 'poly', 'C': 4.326271066276375, 'epsilon': 0.010690758344782041, 'gamma_choice': 'numeric', 'gamma': 0.2973554238164173, 'degree': 2, 'coef0': 0.03235707925908447}. Best is trial 6 with value: 0.7469527676836697.\n"
          ]
        },
        {
          "name": "stderr",
          "output_type": "stream",
          "text": [
            "Best trial: 6. Best value: 0.746953:  34%|███▍      | 17/50 [09:20<15:18, 27.83s/it]"
          ]
        },
        {
          "name": "stdout",
          "output_type": "stream",
          "text": [
            "[I 2025-10-07 09:42:34,958] Trial 16 finished with value: 0.6424090356809132 and parameters: {'use_pca': False, 'kernel': 'rbf', 'C': 18.3308049050975, 'epsilon': 0.010762825626315082, 'gamma_choice': 'numeric', 'gamma': 0.0005505740464759103}. Best is trial 6 with value: 0.7469527676836697.\n"
          ]
        },
        {
          "name": "stderr",
          "output_type": "stream",
          "text": [
            "Best trial: 6. Best value: 0.746953:  36%|███▌      | 18/50 [09:53<15:43, 29.49s/it]"
          ]
        },
        {
          "name": "stdout",
          "output_type": "stream",
          "text": [
            "[I 2025-10-07 09:43:08,318] Trial 17 finished with value: 0.6031993045041806 and parameters: {'use_pca': False, 'kernel': 'poly', 'C': 0.02017683324113047, 'epsilon': 0.0002962096652362387, 'gamma_choice': 'numeric', 'gamma': 0.4483532119259336, 'degree': 4, 'coef0': 0.7773204898331425}. Best is trial 6 with value: 0.7469527676836697.\n"
          ]
        },
        {
          "name": "stderr",
          "output_type": "stream",
          "text": [
            "Best trial: 6. Best value: 0.746953:  38%|███▊      | 19/50 [10:16<14:10, 27.44s/it]"
          ]
        },
        {
          "name": "stdout",
          "output_type": "stream",
          "text": [
            "[I 2025-10-07 09:43:30,981] Trial 18 finished with value: 0.6405675579892124 and parameters: {'use_pca': False, 'kernel': 'rbf', 'C': 2.124757499422458, 'epsilon': 0.0009907985911237055, 'gamma_choice': 'auto'}. Best is trial 6 with value: 0.7469527676836697.\n"
          ]
        },
        {
          "name": "stderr",
          "output_type": "stream",
          "text": [
            "Best trial: 6. Best value: 0.746953:  40%|████      | 20/50 [10:51<14:48, 29.63s/it]"
          ]
        },
        {
          "name": "stdout",
          "output_type": "stream",
          "text": [
            "[I 2025-10-07 09:44:05,691] Trial 19 finished with value: 0.6997336109496998 and parameters: {'use_pca': False, 'kernel': 'rbf', 'C': 168.79463195028376, 'epsilon': 0.00021715813834806942, 'gamma_choice': 'scale'}. Best is trial 6 with value: 0.7469527676836697.\n"
          ]
        },
        {
          "name": "stderr",
          "output_type": "stream",
          "text": [
            "Best trial: 6. Best value: 0.746953:  42%|████▏     | 21/50 [11:25<14:58, 30.98s/it]"
          ]
        },
        {
          "name": "stdout",
          "output_type": "stream",
          "text": [
            "[I 2025-10-07 09:44:39,827] Trial 20 finished with value: 0.6615842403474081 and parameters: {'use_pca': False, 'kernel': 'poly', 'C': 27.268513841763916, 'epsilon': 0.006216884708703227, 'gamma_choice': 'numeric', 'gamma': 0.0007745302753293189, 'degree': 3, 'coef0': 0.6045843934624218}. Best is trial 6 with value: 0.7469527676836697.\n"
          ]
        },
        {
          "name": "stderr",
          "output_type": "stream",
          "text": [
            "Best trial: 6. Best value: 0.746953:  44%|████▍     | 22/50 [12:02<15:17, 32.77s/it]"
          ]
        },
        {
          "name": "stdout",
          "output_type": "stream",
          "text": [
            "[I 2025-10-07 09:45:16,759] Trial 21 finished with value: 0.7446222331886881 and parameters: {'use_pca': False, 'kernel': 'poly', 'C': 8.473613643910948, 'epsilon': 0.00015001318435132772, 'gamma_choice': 'numeric', 'gamma': 0.00630004887893221, 'degree': 3, 'coef0': 0.369964727735586}. Best is trial 6 with value: 0.7469527676836697.\n"
          ]
        },
        {
          "name": "stderr",
          "output_type": "stream",
          "text": [
            "Best trial: 6. Best value: 0.746953:  46%|████▌     | 23/50 [1:50:16<13:26:18, 1791.80s/it]"
          ]
        },
        {
          "name": "stdout",
          "output_type": "stream",
          "text": [
            "[I 2025-10-07 11:23:31,386] Trial 22 finished with value: 0.6947558174958411 and parameters: {'use_pca': False, 'kernel': 'poly', 'C': 6.70242098996058, 'epsilon': 0.00010667535263028312, 'gamma_choice': 'numeric', 'gamma': 0.03744909233288536, 'degree': 3, 'coef0': 0.24388421794080653}. Best is trial 6 with value: 0.7469527676836697.\n"
          ]
        },
        {
          "name": "stderr",
          "output_type": "stream",
          "text": [
            "Best trial: 6. Best value: 0.746953:  48%|████▊     | 24/50 [3:01:45<18:21:02, 2540.85s/it]"
          ]
        },
        {
          "name": "stdout",
          "output_type": "stream",
          "text": [
            "[I 2025-10-07 12:34:59,527] Trial 23 finished with value: 0.4060876098850212 and parameters: {'use_pca': False, 'kernel': 'poly', 'C': 0.5522415763898777, 'epsilon': 0.00041576313715833356, 'gamma_choice': 'numeric', 'gamma': 0.002124401821308686, 'degree': 3, 'coef0': 0.21993719628675668}. Best is trial 6 with value: 0.7469527676836697.\n"
          ]
        },
        {
          "name": "stderr",
          "output_type": "stream",
          "text": [
            "Best trial: 6. Best value: 0.746953:  50%|█████     | 25/50 [3:03:01<12:30:39, 1801.57s/it]"
          ]
        },
        {
          "name": "stdout",
          "output_type": "stream",
          "text": [
            "[I 2025-10-07 12:36:16,411] Trial 24 finished with value: -2313.217835433061 and parameters: {'use_pca': False, 'kernel': 'poly', 'C': 59.803268756748, 'epsilon': 0.0011131417163638834, 'gamma_choice': 'numeric', 'gamma': 0.10524513125133106, 'degree': 4, 'coef0': 0.560626576858636}. Best is trial 6 with value: 0.7469527676836697.\n"
          ]
        },
        {
          "name": "stderr",
          "output_type": "stream",
          "text": [
            "Best trial: 6. Best value: 0.746953:  52%|█████▏    | 26/50 [3:03:44<8:29:34, 1273.92s/it] "
          ]
        },
        {
          "name": "stdout",
          "output_type": "stream",
          "text": [
            "[I 2025-10-07 12:36:59,265] Trial 25 finished with value: 0.6316188079781335 and parameters: {'use_pca': False, 'kernel': 'poly', 'C': 997.7559734386393, 'epsilon': 0.0002549605389343964, 'gamma_choice': 'numeric', 'gamma': 7.099484909328733e-05, 'degree': 2, 'coef0': 0.41501275474893723}. Best is trial 6 with value: 0.7469527676836697.\n"
          ]
        },
        {
          "name": "stderr",
          "output_type": "stream",
          "text": [
            "Best trial: 6. Best value: 0.746953:  54%|█████▍    | 27/50 [3:04:26<5:46:36, 904.18s/it] "
          ]
        },
        {
          "name": "stdout",
          "output_type": "stream",
          "text": [
            "[I 2025-10-07 12:37:40,863] Trial 26 finished with value: 0.6687383166400303 and parameters: {'use_pca': False, 'kernel': 'rbf', 'C': 2.977923570020278, 'epsilon': 0.0011696672520945506, 'gamma_choice': 'numeric', 'gamma': 0.002675239422600834}. Best is trial 6 with value: 0.7469527676836697.\n"
          ]
        },
        {
          "name": "stderr",
          "output_type": "stream",
          "text": [
            "Best trial: 6. Best value: 0.746953:  56%|█████▌    | 28/50 [3:05:11<3:57:02, 646.48s/it]"
          ]
        },
        {
          "name": "stdout",
          "output_type": "stream",
          "text": [
            "[I 2025-10-07 12:38:26,081] Trial 27 finished with value: 0.6894404479917722 and parameters: {'use_pca': False, 'kernel': 'poly', 'C': 9.98961723925264, 'epsilon': 0.0001866907457249561, 'gamma_choice': 'numeric', 'gamma': 0.02148218074596243, 'degree': 5, 'coef0': 0.1968798364158245}. Best is trial 6 with value: 0.7469527676836697.\n"
          ]
        },
        {
          "name": "stderr",
          "output_type": "stream",
          "text": [
            "Best trial: 6. Best value: 0.746953:  58%|█████▊    | 29/50 [3:05:42<2:41:38, 461.82s/it]"
          ]
        },
        {
          "name": "stdout",
          "output_type": "stream",
          "text": [
            "[I 2025-10-07 12:38:57,073] Trial 28 finished with value: 0.6942152754750402 and parameters: {'use_pca': False, 'kernel': 'poly', 'C': 60.12386040437709, 'epsilon': 0.00044124703003925735, 'gamma_choice': 'scale', 'degree': 3, 'coef0': 0.11066433853803909}. Best is trial 6 with value: 0.7469527676836697.\n"
          ]
        },
        {
          "name": "stderr",
          "output_type": "stream",
          "text": [
            "Best trial: 6. Best value: 0.746953:  60%|██████    | 30/50 [3:06:12<1:50:45, 332.27s/it]"
          ]
        },
        {
          "name": "stdout",
          "output_type": "stream",
          "text": [
            "[I 2025-10-07 12:39:27,078] Trial 29 finished with value: 0.5543948119693213 and parameters: {'use_pca': False, 'kernel': 'rbf', 'C': 0.3186617694121348, 'epsilon': 0.005314196311495404, 'gamma_choice': 'auto'}. Best is trial 6 with value: 0.7469527676836697.\n"
          ]
        },
        {
          "name": "stderr",
          "output_type": "stream",
          "text": [
            "Best trial: 6. Best value: 0.746953:  62%|██████▏   | 31/50 [3:06:46<1:16:53, 242.79s/it]"
          ]
        },
        {
          "name": "stdout",
          "output_type": "stream",
          "text": [
            "[I 2025-10-07 12:40:01,085] Trial 30 finished with value: -4847.839577919121 and parameters: {'use_pca': False, 'kernel': 'sigmoid', 'C': 318.0172802162471, 'epsilon': 0.00010363553533842419, 'gamma_choice': 'auto'}. Best is trial 6 with value: 0.7469527676836697.\n"
          ]
        },
        {
          "name": "stderr",
          "output_type": "stream",
          "text": [
            "Best trial: 6. Best value: 0.746953:  64%|██████▍   | 32/50 [3:07:17<53:44, 179.14s/it]  "
          ]
        },
        {
          "name": "stdout",
          "output_type": "stream",
          "text": [
            "[I 2025-10-07 12:40:31,717] Trial 31 finished with value: 0.7268901865283782 and parameters: {'use_pca': False, 'kernel': 'poly', 'C': 12.232727445989378, 'epsilon': 0.00018490296226978268, 'gamma_choice': 'numeric', 'gamma': 0.003498195526698459, 'degree': 3, 'coef0': 0.39668429847406933}. Best is trial 6 with value: 0.7469527676836697.\n"
          ]
        },
        {
          "name": "stderr",
          "output_type": "stream",
          "text": [
            "Best trial: 6. Best value: 0.746953:  66%|██████▌   | 33/50 [3:07:45<37:56, 133.92s/it]"
          ]
        },
        {
          "name": "stdout",
          "output_type": "stream",
          "text": [
            "[I 2025-10-07 12:41:00,109] Trial 32 finished with value: 0.7459210071183294 and parameters: {'use_pca': False, 'kernel': 'poly', 'C': 5.924172225317784, 'epsilon': 0.00015844225109461327, 'gamma_choice': 'numeric', 'gamma': 0.007651903127585358, 'degree': 3, 'coef0': 0.3994956257553618}. Best is trial 6 with value: 0.7469527676836697.\n"
          ]
        },
        {
          "name": "stderr",
          "output_type": "stream",
          "text": [
            "Best trial: 6. Best value: 0.746953:  68%|██████▊   | 34/50 [3:08:19<27:42, 103.89s/it]"
          ]
        },
        {
          "name": "stdout",
          "output_type": "stream",
          "text": [
            "[I 2025-10-07 12:41:33,923] Trial 33 finished with value: 0.6956343429158517 and parameters: {'use_pca': False, 'kernel': 'poly', 'C': 4.195116623322836, 'epsilon': 0.0007127770291715195, 'gamma_choice': 'numeric', 'gamma': 0.019379568581212356, 'degree': 4, 'coef0': 0.652487675436423}. Best is trial 6 with value: 0.7469527676836697.\n"
          ]
        },
        {
          "name": "stderr",
          "output_type": "stream",
          "text": [
            "Best trial: 6. Best value: 0.746953:  70%|███████   | 35/50 [3:08:39<19:39, 78.62s/it] "
          ]
        },
        {
          "name": "stdout",
          "output_type": "stream",
          "text": [
            "[I 2025-10-07 12:41:53,572] Trial 34 finished with value: 0.5509187980022578 and parameters: {'use_pca': True, 'pca_n_components': 299, 'kernel': 'poly', 'C': 1.553242236923031, 'epsilon': 0.022307725374209993, 'gamma_choice': 'numeric', 'gamma': 0.0009840923497803395, 'degree': 2, 'coef0': 0.3594720316066907}. Best is trial 6 with value: 0.7469527676836697.\n"
          ]
        },
        {
          "name": "stderr",
          "output_type": "stream",
          "text": [
            "Best trial: 6. Best value: 0.746953:  72%|███████▏  | 36/50 [3:09:07<14:50, 63.63s/it]"
          ]
        },
        {
          "name": "stdout",
          "output_type": "stream",
          "text": [
            "[I 2025-10-07 12:42:22,224] Trial 35 finished with value: -5265820.513636751 and parameters: {'use_pca': False, 'kernel': 'sigmoid', 'C': 24.7421933399277, 'epsilon': 0.00016513621612692346, 'gamma_choice': 'numeric', 'gamma': 0.10245834598690734}. Best is trial 6 with value: 0.7469527676836697.\n"
          ]
        },
        {
          "name": "stderr",
          "output_type": "stream",
          "text": [
            "Best trial: 6. Best value: 0.746953:  74%|███████▍  | 37/50 [3:09:13<10:01, 46.23s/it]"
          ]
        },
        {
          "name": "stdout",
          "output_type": "stream",
          "text": [
            "[I 2025-10-07 12:42:27,873] Trial 36 finished with value: 0.5080108132345293 and parameters: {'use_pca': True, 'pca_n_components': 13, 'kernel': 'poly', 'C': 0.7816536005434915, 'epsilon': 0.0016152559647951883, 'gamma_choice': 'numeric', 'gamma': 0.006684779041624965, 'degree': 3, 'coef0': 0.9708641166382118}. Best is trial 6 with value: 0.7469527676836697.\n"
          ]
        },
        {
          "name": "stderr",
          "output_type": "stream",
          "text": [
            "Best trial: 6. Best value: 0.746953:  76%|███████▌  | 38/50 [3:10:01<09:20, 46.69s/it]"
          ]
        },
        {
          "name": "stdout",
          "output_type": "stream",
          "text": [
            "[I 2025-10-07 12:43:15,630] Trial 37 finished with value: 0.2480869084600698 and parameters: {'use_pca': False, 'kernel': 'poly', 'C': 10.454800516274608, 'epsilon': 0.0004085326731619523, 'gamma_choice': 'numeric', 'gamma': 0.27893443249280786, 'degree': 3, 'coef0': 0.5305062167312641}. Best is trial 6 with value: 0.7469527676836697.\n"
          ]
        },
        {
          "name": "stderr",
          "output_type": "stream",
          "text": [
            "Best trial: 6. Best value: 0.746953:  78%|███████▊  | 39/50 [3:10:29<07:34, 41.28s/it]"
          ]
        },
        {
          "name": "stdout",
          "output_type": "stream",
          "text": [
            "[I 2025-10-07 12:43:44,298] Trial 38 finished with value: 0.5262925645995322 and parameters: {'use_pca': False, 'kernel': 'rbf', 'C': 0.20879725365805252, 'epsilon': 0.00010266321077185371, 'gamma_choice': 'auto'}. Best is trial 6 with value: 0.7469527676836697.\n"
          ]
        },
        {
          "name": "stderr",
          "output_type": "stream",
          "text": [
            "Best trial: 6. Best value: 0.746953:  80%|████████  | 40/50 [3:10:49<05:48, 34.83s/it]"
          ]
        },
        {
          "name": "stdout",
          "output_type": "stream",
          "text": [
            "[I 2025-10-07 12:44:04,074] Trial 39 finished with value: -17938.702991730293 and parameters: {'use_pca': True, 'pca_n_components': 300, 'kernel': 'sigmoid', 'C': 5.577308752142624, 'epsilon': 0.0002595630411093102, 'gamma_choice': 'scale'}. Best is trial 6 with value: 0.7469527676836697.\n"
          ]
        },
        {
          "name": "stderr",
          "output_type": "stream",
          "text": [
            "Best trial: 6. Best value: 0.746953:  82%|████████▏ | 41/50 [3:10:58<04:04, 27.12s/it]"
          ]
        },
        {
          "name": "stdout",
          "output_type": "stream",
          "text": [
            "[I 2025-10-07 12:44:13,200] Trial 40 finished with value: 0.6966659763963874 and parameters: {'use_pca': False, 'kernel': 'poly', 'C': 50.52914146558253, 'epsilon': 0.735290626435479, 'gamma_choice': 'numeric', 'gamma': 0.03432500678222642, 'degree': 4, 'coef0': 0.14047857104419323}. Best is trial 6 with value: 0.7469527676836697.\n"
          ]
        },
        {
          "name": "stderr",
          "output_type": "stream",
          "text": [
            "Best trial: 6. Best value: 0.746953:  84%|████████▍ | 42/50 [3:11:24<03:34, 26.85s/it]"
          ]
        },
        {
          "name": "stdout",
          "output_type": "stream",
          "text": [
            "[I 2025-10-07 12:44:39,424] Trial 41 finished with value: 0.7005095271521039 and parameters: {'use_pca': False, 'kernel': 'poly', 'C': 2.758905317174222, 'epsilon': 0.00015687990958853523, 'gamma_choice': 'numeric', 'gamma': 0.005171626866126463, 'degree': 3, 'coef0': 0.32117715684723624}. Best is trial 6 with value: 0.7469527676836697.\n"
          ]
        },
        {
          "name": "stderr",
          "output_type": "stream",
          "text": [
            "Best trial: 6. Best value: 0.746953:  86%|████████▌ | 43/50 [3:11:50<03:04, 26.34s/it]"
          ]
        },
        {
          "name": "stdout",
          "output_type": "stream",
          "text": [
            "[I 2025-10-07 12:45:04,577] Trial 42 finished with value: 0.5761038699496724 and parameters: {'use_pca': False, 'kernel': 'poly', 'C': 0.9661416111591902, 'epsilon': 0.0001476445497757162, 'gamma_choice': 'numeric', 'gamma': 0.0018862586902640827, 'degree': 3, 'coef0': 0.45809168175526893}. Best is trial 6 with value: 0.7469527676836697.\n"
          ]
        },
        {
          "name": "stderr",
          "output_type": "stream",
          "text": [
            "Best trial: 6. Best value: 0.746953:  88%|████████▊ | 44/50 [3:12:03<02:14, 22.45s/it]"
          ]
        },
        {
          "name": "stdout",
          "output_type": "stream",
          "text": [
            "[I 2025-10-07 12:45:17,957] Trial 43 finished with value: 0.7306313780494598 and parameters: {'use_pca': True, 'pca_n_components': 86, 'kernel': 'poly', 'C': 15.649238755534942, 'epsilon': 0.00045353136710233596, 'gamma_choice': 'numeric', 'gamma': 0.009906736943008735, 'degree': 3, 'coef0': 0.4814211874874596}. Best is trial 6 with value: 0.7469527676836697.\n"
          ]
        },
        {
          "name": "stderr",
          "output_type": "stream",
          "text": [
            "Best trial: 6. Best value: 0.746953:  90%|█████████ | 45/50 [3:12:28<01:56, 23.24s/it]"
          ]
        },
        {
          "name": "stdout",
          "output_type": "stream",
          "text": [
            "[I 2025-10-07 12:45:43,046] Trial 44 finished with value: 0.5442721910923254 and parameters: {'use_pca': False, 'kernel': 'poly', 'C': 6.1089819717146705, 'epsilon': 0.0002974608275239559, 'gamma_choice': 'numeric', 'gamma': 0.00025077111622090763, 'degree': 2, 'coef0': 0.3252443754786307}. Best is trial 6 with value: 0.7469527676836697.\n"
          ]
        },
        {
          "name": "stderr",
          "output_type": "stream",
          "text": [
            "Best trial: 6. Best value: 0.746953:  92%|█████████▏| 46/50 [3:13:00<01:43, 25.94s/it]"
          ]
        },
        {
          "name": "stdout",
          "output_type": "stream",
          "text": [
            "[I 2025-10-07 12:46:15,270] Trial 45 finished with value: 0.7025753804402638 and parameters: {'use_pca': False, 'kernel': 'rbf', 'C': 29.00973170951448, 'epsilon': 0.0007238523432232988, 'gamma_choice': 'numeric', 'gamma': 0.01697518657810917}. Best is trial 6 with value: 0.7469527676836697.\n"
          ]
        },
        {
          "name": "stderr",
          "output_type": "stream",
          "text": [
            "Best trial: 6. Best value: 0.746953:  94%|█████████▍| 47/50 [3:13:26<01:17, 25.94s/it]"
          ]
        },
        {
          "name": "stdout",
          "output_type": "stream",
          "text": [
            "[I 2025-10-07 12:46:41,203] Trial 46 finished with value: -1302.9676044568314 and parameters: {'use_pca': False, 'kernel': 'sigmoid', 'C': 1.645883026017646, 'epsilon': 0.16729541276495447, 'gamma_choice': 'scale'}. Best is trial 6 with value: 0.7469527676836697.\n"
          ]
        },
        {
          "name": "stderr",
          "output_type": "stream",
          "text": [
            "Best trial: 6. Best value: 0.746953:  96%|█████████▌| 48/50 [3:13:51<00:51, 25.67s/it]"
          ]
        },
        {
          "name": "stdout",
          "output_type": "stream",
          "text": [
            "[I 2025-10-07 12:47:06,260] Trial 47 finished with value: -0.10124178786702749 and parameters: {'use_pca': False, 'kernel': 'poly', 'C': 0.0013072188154196274, 'epsilon': 0.00015319974748938053, 'gamma_choice': 'numeric', 'gamma': 1.572535914418811e-05, 'degree': 3, 'coef0': 0.1276495506427531}. Best is trial 6 with value: 0.7469527676836697.\n"
          ]
        },
        {
          "name": "stderr",
          "output_type": "stream",
          "text": [
            "Best trial: 6. Best value: 0.746953:  98%|█████████▊| 49/50 [3:14:11<00:23, 23.98s/it]"
          ]
        },
        {
          "name": "stdout",
          "output_type": "stream",
          "text": [
            "[I 2025-10-07 12:47:26,298] Trial 48 finished with value: 0.7296441638857482 and parameters: {'use_pca': True, 'pca_n_components': 252, 'kernel': 'rbf', 'C': 8.238447167620915, 'epsilon': 0.00026546079529375373, 'gamma_choice': 'numeric', 'gamma': 0.0048164592244755}. Best is trial 6 with value: 0.7469527676836697.\n"
          ]
        },
        {
          "name": "stderr",
          "output_type": "stream",
          "text": [
            "Best trial: 6. Best value: 0.746953: 100%|██████████| 50/50 [3:14:42<00:00, 233.66s/it]\n"
          ]
        },
        {
          "name": "stdout",
          "output_type": "stream",
          "text": [
            "[I 2025-10-07 12:47:57,408] Trial 49 finished with value: 0.7395079647832297 and parameters: {'use_pca': False, 'kernel': 'poly', 'C': 146.66374254220705, 'epsilon': 0.004043180249250977, 'gamma_choice': 'auto', 'degree': 3, 'coef0': 0.4395039717926551}. Best is trial 6 with value: 0.7469527676836697.\n",
            "SVM best R2: 0.7469527676836697\n",
            "SVM best params: {'use_pca': False, 'kernel': 'rbf', 'C': 4.9541472024773485, 'epsilon': 0.0006504373594656819, 'gamma_choice': 'numeric', 'gamma': 0.014252148546912242}\n"
          ]
        }
      ],
      "source": [
        "# ----------------------------\n",
        "# Example: run all studies sequentially (adjust n_trials)\n",
        "# ----------------------------\n",
        "svm_study, svm_pipe = run_optuna_svm(n_trials=50)"
      ]
    },
    {
      "cell_type": "code",
      "execution_count": 21,
      "metadata": {
        "colab": {
          "base_uri": "https://localhost:8080/",
          "height": 989,
          "referenced_widgets": [
            "089a7be90d1f4ea1920434761dedd152",
            "e9f80320bd1149d4ba6b47e0fb0fd41d",
            "fbe44cb905914661a555c684ccfefea5",
            "b0a6d95f45fd46879feedd3892a16a86",
            "15190e3828364ebc842664d37cecd5f9",
            "97a3dd3dbd5c4609b2ca337b9e817aff",
            "0f1f5653b4364bf2b1b81645d12fa5d8",
            "4a071cf4958d4edeaaa94d08d283b227",
            "49e98a2937214611a055b81836ae7242",
            "54785fe374e44af8bc11bb12fb98a0e0",
            "90260baaa8b244f5a5d25635beccb694"
          ]
        },
        "collapsed": true,
        "id": "EkQF7ZHxaMpR",
        "outputId": "9f260e0c-dde7-4b03-9298-5a2f172e0e42"
      },
      "outputs": [
        {
          "name": "stderr",
          "output_type": "stream",
          "text": [
            "[I 2025-10-07 12:48:17,487] A new study created in memory with name: no-name-67de0f85-d0f7-4ba6-9ddc-d107611b51c1\n"
          ]
        },
        {
          "name": "stderr",
          "output_type": "stream",
          "text": [
            "Best trial: 0. Best value: 0.681186:   2%|▏         | 1/50 [00:08<07:08,  8.74s/it]"
          ]
        },
        {
          "name": "stdout",
          "output_type": "stream",
          "text": [
            "[I 2025-10-07 12:48:26,229] Trial 0 finished with value: 0.6811862836458603 and parameters: {'use_pca': False, 'n_neighbors': 28, 'weights': 'distance', 'p': 1}. Best is trial 0 with value: 0.6811862836458603.\n"
          ]
        },
        {
          "name": "stderr",
          "output_type": "stream",
          "text": [
            "Best trial: 1. Best value: 0.714801:   4%|▍         | 2/50 [00:10<03:43,  4.65s/it]"
          ]
        },
        {
          "name": "stdout",
          "output_type": "stream",
          "text": [
            "[I 2025-10-07 12:48:28,018] Trial 1 finished with value: 0.7148013855644735 and parameters: {'use_pca': True, 'pca_n_components': 27, 'n_neighbors': 15, 'weights': 'uniform', 'p': 1}. Best is trial 1 with value: 0.7148013855644735.\n"
          ]
        },
        {
          "name": "stderr",
          "output_type": "stream",
          "text": [
            "Best trial: 1. Best value: 0.714801:   6%|▌         | 3/50 [00:11<02:18,  2.94s/it]"
          ]
        },
        {
          "name": "stdout",
          "output_type": "stream",
          "text": [
            "[I 2025-10-07 12:48:28,920] Trial 2 finished with value: 0.7059714709453813 and parameters: {'use_pca': True, 'pca_n_components': 25, 'n_neighbors': 22, 'weights': 'distance', 'p': 2}. Best is trial 1 with value: 0.7148013855644735.\n"
          ]
        },
        {
          "name": "stderr",
          "output_type": "stream",
          "text": [
            "Best trial: 1. Best value: 0.714801:   8%|▊         | 4/50 [00:12<01:40,  2.18s/it]"
          ]
        },
        {
          "name": "stdout",
          "output_type": "stream",
          "text": [
            "[I 2025-10-07 12:48:29,925] Trial 3 finished with value: 0.6916035033469166 and parameters: {'use_pca': True, 'pca_n_components': 57, 'n_neighbors': 25, 'weights': 'uniform', 'p': 2}. Best is trial 1 with value: 0.7148013855644735.\n"
          ]
        },
        {
          "name": "stderr",
          "output_type": "stream",
          "text": [
            "Best trial: 4. Best value: 0.733294:  10%|█         | 5/50 [00:14<01:30,  2.00s/it]"
          ]
        },
        {
          "name": "stdout",
          "output_type": "stream",
          "text": [
            "[I 2025-10-07 12:48:31,620] Trial 4 finished with value: 0.7332939617481529 and parameters: {'use_pca': True, 'pca_n_components': 42, 'n_neighbors': 3, 'weights': 'uniform', 'p': 1}. Best is trial 4 with value: 0.7332939617481529.\n"
          ]
        },
        {
          "name": "stderr",
          "output_type": "stream",
          "text": [
            "Best trial: 4. Best value: 0.733294:  12%|█▏        | 6/50 [00:14<01:10,  1.61s/it]"
          ]
        },
        {
          "name": "stdout",
          "output_type": "stream",
          "text": [
            "[I 2025-10-07 12:48:32,474] Trial 5 finished with value: 0.7312232116765285 and parameters: {'use_pca': True, 'pca_n_components': 62, 'n_neighbors': 17, 'weights': 'distance', 'p': 2}. Best is trial 4 with value: 0.7332939617481529.\n"
          ]
        },
        {
          "name": "stderr",
          "output_type": "stream",
          "text": [
            "Best trial: 4. Best value: 0.733294:  14%|█▍        | 7/50 [00:23<02:46,  3.87s/it]"
          ]
        },
        {
          "name": "stdout",
          "output_type": "stream",
          "text": [
            "[I 2025-10-07 12:48:40,984] Trial 6 finished with value: 0.6832676017583182 and parameters: {'use_pca': False, 'n_neighbors': 25, 'weights': 'distance', 'p': 1}. Best is trial 4 with value: 0.7332939617481529.\n"
          ]
        },
        {
          "name": "stderr",
          "output_type": "stream",
          "text": [
            "Best trial: 4. Best value: 0.733294:  16%|█▌        | 8/50 [00:24<02:03,  2.94s/it]"
          ]
        },
        {
          "name": "stdout",
          "output_type": "stream",
          "text": [
            "[I 2025-10-07 12:48:41,932] Trial 7 finished with value: 0.7082662204481756 and parameters: {'use_pca': False, 'n_neighbors': 16, 'weights': 'uniform', 'p': 2}. Best is trial 4 with value: 0.7332939617481529.\n"
          ]
        },
        {
          "name": "stderr",
          "output_type": "stream",
          "text": [
            "Best trial: 8. Best value: 0.735638:  18%|█▊        | 9/50 [00:32<03:10,  4.65s/it]"
          ]
        },
        {
          "name": "stdout",
          "output_type": "stream",
          "text": [
            "[I 2025-10-07 12:48:50,355] Trial 8 finished with value: 0.7356380240665863 and parameters: {'use_pca': False, 'n_neighbors': 6, 'weights': 'uniform', 'p': 1}. Best is trial 8 with value: 0.7356380240665863.\n"
          ]
        },
        {
          "name": "stderr",
          "output_type": "stream",
          "text": [
            "Best trial: 8. Best value: 0.735638:  20%|██        | 10/50 [00:40<03:49,  5.73s/it]"
          ]
        },
        {
          "name": "stdout",
          "output_type": "stream",
          "text": [
            "[I 2025-10-07 12:48:58,488] Trial 9 finished with value: 0.6467645106797324 and parameters: {'use_pca': False, 'n_neighbors': 1, 'weights': 'uniform', 'p': 1}. Best is trial 8 with value: 0.7356380240665863.\n"
          ]
        },
        {
          "name": "stderr",
          "output_type": "stream",
          "text": [
            "Best trial: 8. Best value: 0.735638:  22%|██▏       | 11/50 [00:49<04:15,  6.54s/it]"
          ]
        },
        {
          "name": "stdout",
          "output_type": "stream",
          "text": [
            "[I 2025-10-07 12:49:06,887] Trial 10 finished with value: 0.7299821749035617 and parameters: {'use_pca': False, 'n_neighbors': 8, 'weights': 'uniform', 'p': 1}. Best is trial 8 with value: 0.7356380240665863.\n"
          ]
        },
        {
          "name": "stderr",
          "output_type": "stream",
          "text": [
            "Best trial: 8. Best value: 0.735638:  24%|██▍       | 12/50 [00:55<04:03,  6.40s/it]"
          ]
        },
        {
          "name": "stdout",
          "output_type": "stream",
          "text": [
            "[I 2025-10-07 12:49:12,956] Trial 11 finished with value: 0.7060642340716852 and parameters: {'use_pca': True, 'pca_n_components': 248, 'n_neighbors': 2, 'weights': 'uniform', 'p': 1}. Best is trial 8 with value: 0.7356380240665863.\n"
          ]
        },
        {
          "name": "stderr",
          "output_type": "stream",
          "text": [
            "Best trial: 8. Best value: 0.735638:  26%|██▌       | 13/50 [00:59<03:26,  5.58s/it]"
          ]
        },
        {
          "name": "stdout",
          "output_type": "stream",
          "text": [
            "[I 2025-10-07 12:49:16,664] Trial 12 finished with value: 0.7317901602612744 and parameters: {'use_pca': True, 'pca_n_components': 150, 'n_neighbors': 8, 'weights': 'uniform', 'p': 1}. Best is trial 8 with value: 0.7356380240665863.\n"
          ]
        },
        {
          "name": "stderr",
          "output_type": "stream",
          "text": [
            "Best trial: 8. Best value: 0.735638:  28%|██▊       | 14/50 [01:07<03:52,  6.46s/it]"
          ]
        },
        {
          "name": "stdout",
          "output_type": "stream",
          "text": [
            "[I 2025-10-07 12:49:25,132] Trial 13 finished with value: 0.7329972127848094 and parameters: {'use_pca': False, 'n_neighbors': 7, 'weights': 'uniform', 'p': 1}. Best is trial 8 with value: 0.7356380240665863.\n"
          ]
        },
        {
          "name": "stderr",
          "output_type": "stream",
          "text": [
            "Best trial: 8. Best value: 0.735638:  30%|███       | 15/50 [01:16<04:06,  7.05s/it]"
          ]
        },
        {
          "name": "stdout",
          "output_type": "stream",
          "text": [
            "[I 2025-10-07 12:49:33,552] Trial 14 finished with value: 0.7228567872828293 and parameters: {'use_pca': False, 'n_neighbors': 11, 'weights': 'uniform', 'p': 1}. Best is trial 8 with value: 0.7356380240665863.\n"
          ]
        },
        {
          "name": "stderr",
          "output_type": "stream",
          "text": [
            "Best trial: 15. Best value: 0.740968:  32%|███▏      | 16/50 [01:19<03:27,  6.09s/it]"
          ]
        },
        {
          "name": "stdout",
          "output_type": "stream",
          "text": [
            "[I 2025-10-07 12:49:37,428] Trial 15 finished with value: 0.7409678142366317 and parameters: {'use_pca': True, 'pca_n_components': 139, 'n_neighbors': 4, 'weights': 'uniform', 'p': 1}. Best is trial 15 with value: 0.7409678142366317.\n"
          ]
        },
        {
          "name": "stderr",
          "output_type": "stream",
          "text": [
            "Best trial: 15. Best value: 0.740968:  34%|███▍      | 17/50 [01:28<03:46,  6.87s/it]"
          ]
        },
        {
          "name": "stdout",
          "output_type": "stream",
          "text": [
            "[I 2025-10-07 12:49:46,119] Trial 16 finished with value: 0.720105510878192 and parameters: {'use_pca': False, 'n_neighbors': 12, 'weights': 'uniform', 'p': 1}. Best is trial 15 with value: 0.7409678142366317.\n"
          ]
        },
        {
          "name": "stderr",
          "output_type": "stream",
          "text": [
            "Best trial: 17. Best value: 0.742593:  36%|███▌      | 18/50 [01:30<02:52,  5.39s/it]"
          ]
        },
        {
          "name": "stdout",
          "output_type": "stream",
          "text": [
            "[I 2025-10-07 12:49:48,042] Trial 17 finished with value: 0.742592503298043 and parameters: {'use_pca': True, 'pca_n_components': 186, 'n_neighbors': 5, 'weights': 'uniform', 'p': 2}. Best is trial 17 with value: 0.742592503298043.\n"
          ]
        },
        {
          "name": "stderr",
          "output_type": "stream",
          "text": [
            "Best trial: 17. Best value: 0.742593:  38%|███▊      | 19/50 [01:32<02:13,  4.29s/it]"
          ]
        },
        {
          "name": "stdout",
          "output_type": "stream",
          "text": [
            "[I 2025-10-07 12:49:49,786] Trial 18 finished with value: 0.7189746852493936 and parameters: {'use_pca': True, 'pca_n_components': 172, 'n_neighbors': 5, 'weights': 'distance', 'p': 2}. Best is trial 17 with value: 0.742592503298043.\n"
          ]
        },
        {
          "name": "stderr",
          "output_type": "stream",
          "text": [
            "Best trial: 17. Best value: 0.742593:  40%|████      | 20/50 [01:34<01:46,  3.54s/it]"
          ]
        },
        {
          "name": "stdout",
          "output_type": "stream",
          "text": [
            "[I 2025-10-07 12:49:51,553] Trial 19 finished with value: 0.725751658650424 and parameters: {'use_pca': True, 'pca_n_components': 162, 'n_neighbors': 12, 'weights': 'uniform', 'p': 2}. Best is trial 17 with value: 0.742592503298043.\n"
          ]
        },
        {
          "name": "stderr",
          "output_type": "stream",
          "text": [
            "Best trial: 17. Best value: 0.742593:  42%|████▏     | 21/50 [01:36<01:32,  3.18s/it]"
          ]
        },
        {
          "name": "stdout",
          "output_type": "stream",
          "text": [
            "[I 2025-10-07 12:49:53,913] Trial 20 finished with value: 0.7048324358686171 and parameters: {'use_pca': True, 'pca_n_components': 225, 'n_neighbors': 20, 'weights': 'uniform', 'p': 2}. Best is trial 17 with value: 0.742592503298043.\n"
          ]
        },
        {
          "name": "stderr",
          "output_type": "stream",
          "text": [
            "Best trial: 21. Best value: 0.743032:  44%|████▍     | 22/50 [01:37<01:13,  2.61s/it]"
          ]
        },
        {
          "name": "stdout",
          "output_type": "stream",
          "text": [
            "[I 2025-10-07 12:49:55,197] Trial 21 finished with value: 0.7430324978746815 and parameters: {'use_pca': True, 'pca_n_components': 107, 'n_neighbors': 5, 'weights': 'uniform', 'p': 2}. Best is trial 21 with value: 0.7430324978746815.\n"
          ]
        },
        {
          "name": "stderr",
          "output_type": "stream",
          "text": [
            "Best trial: 21. Best value: 0.743032:  46%|████▌     | 23/50 [01:39<01:00,  2.22s/it]"
          ]
        },
        {
          "name": "stdout",
          "output_type": "stream",
          "text": [
            "[I 2025-10-07 12:49:56,513] Trial 22 finished with value: 0.7425767066857081 and parameters: {'use_pca': True, 'pca_n_components': 116, 'n_neighbors': 5, 'weights': 'uniform', 'p': 2}. Best is trial 21 with value: 0.7430324978746815.\n"
          ]
        },
        {
          "name": "stderr",
          "output_type": "stream",
          "text": [
            "Best trial: 21. Best value: 0.743032:  48%|████▊     | 24/50 [01:40<00:49,  1.90s/it]"
          ]
        },
        {
          "name": "stdout",
          "output_type": "stream",
          "text": [
            "[I 2025-10-07 12:49:57,644] Trial 23 finished with value: 0.7326296868261024 and parameters: {'use_pca': True, 'pca_n_components': 89, 'n_neighbors': 9, 'weights': 'uniform', 'p': 2}. Best is trial 21 with value: 0.7430324978746815.\n"
          ]
        },
        {
          "name": "stderr",
          "output_type": "stream",
          "text": [
            "Best trial: 21. Best value: 0.743032:  50%|█████     | 25/50 [01:41<00:42,  1.72s/it]"
          ]
        },
        {
          "name": "stdout",
          "output_type": "stream",
          "text": [
            "[I 2025-10-07 12:49:58,952] Trial 24 finished with value: 0.6491493677621606 and parameters: {'use_pca': True, 'pca_n_components': 106, 'n_neighbors': 1, 'weights': 'uniform', 'p': 2}. Best is trial 21 with value: 0.7430324978746815.\n"
          ]
        },
        {
          "name": "stderr",
          "output_type": "stream",
          "text": [
            "Best trial: 21. Best value: 0.743032:  52%|█████▏    | 26/50 [01:43<00:44,  1.85s/it]"
          ]
        },
        {
          "name": "stdout",
          "output_type": "stream",
          "text": [
            "[I 2025-10-07 12:50:01,105] Trial 25 finished with value: 0.7330088353126957 and parameters: {'use_pca': True, 'pca_n_components': 204, 'n_neighbors': 10, 'weights': 'uniform', 'p': 2}. Best is trial 21 with value: 0.7430324978746815.\n"
          ]
        },
        {
          "name": "stderr",
          "output_type": "stream",
          "text": [
            "Best trial: 21. Best value: 0.743032:  54%|█████▍    | 27/50 [01:44<00:38,  1.69s/it]"
          ]
        },
        {
          "name": "stdout",
          "output_type": "stream",
          "text": [
            "[I 2025-10-07 12:50:02,410] Trial 26 finished with value: 0.7275013513931475 and parameters: {'use_pca': True, 'pca_n_components': 111, 'n_neighbors': 14, 'weights': 'distance', 'p': 2}. Best is trial 21 with value: 0.7430324978746815.\n"
          ]
        },
        {
          "name": "stderr",
          "output_type": "stream",
          "text": [
            "Best trial: 21. Best value: 0.743032:  56%|█████▌    | 28/50 [01:48<00:47,  2.17s/it]"
          ]
        },
        {
          "name": "stdout",
          "output_type": "stream",
          "text": [
            "[I 2025-10-07 12:50:05,709] Trial 27 finished with value: 0.7376345986514664 and parameters: {'use_pca': True, 'pca_n_components': 288, 'n_neighbors': 5, 'weights': 'uniform', 'p': 2}. Best is trial 21 with value: 0.7430324978746815.\n"
          ]
        },
        {
          "name": "stderr",
          "output_type": "stream",
          "text": [
            "Best trial: 21. Best value: 0.743032:  58%|█████▊    | 29/50 [01:50<00:44,  2.10s/it]"
          ]
        },
        {
          "name": "stdout",
          "output_type": "stream",
          "text": [
            "[I 2025-10-07 12:50:07,658] Trial 28 finished with value: 0.7402513041437812 and parameters: {'use_pca': True, 'pca_n_components': 193, 'n_neighbors': 4, 'weights': 'uniform', 'p': 2}. Best is trial 21 with value: 0.7430324978746815.\n"
          ]
        },
        {
          "name": "stderr",
          "output_type": "stream",
          "text": [
            "Best trial: 21. Best value: 0.743032:  60%|██████    | 30/50 [01:51<00:37,  1.85s/it]"
          ]
        },
        {
          "name": "stdout",
          "output_type": "stream",
          "text": [
            "[I 2025-10-07 12:50:08,924] Trial 29 finished with value: 0.72613798211471 and parameters: {'use_pca': True, 'pca_n_components': 125, 'n_neighbors': 7, 'weights': 'distance', 'p': 2}. Best is trial 21 with value: 0.7430324978746815.\n"
          ]
        },
        {
          "name": "stderr",
          "output_type": "stream",
          "text": [
            "Best trial: 21. Best value: 0.743032:  62%|██████▏   | 31/50 [01:52<00:31,  1.67s/it]"
          ]
        },
        {
          "name": "stdout",
          "output_type": "stream",
          "text": [
            "[I 2025-10-07 12:50:10,176] Trial 30 finished with value: 0.7251158530887498 and parameters: {'use_pca': True, 'pca_n_components': 86, 'n_neighbors': 13, 'weights': 'uniform', 'p': 2}. Best is trial 21 with value: 0.7430324978746815.\n"
          ]
        },
        {
          "name": "stderr",
          "output_type": "stream",
          "text": [
            "Best trial: 21. Best value: 0.743032:  64%|██████▍   | 32/50 [01:54<00:29,  1.63s/it]"
          ]
        },
        {
          "name": "stdout",
          "output_type": "stream",
          "text": [
            "[I 2025-10-07 12:50:11,694] Trial 31 finished with value: 0.687031441365136 and parameters: {'use_pca': True, 'pca_n_components': 133, 'n_neighbors': 30, 'weights': 'uniform', 'p': 2}. Best is trial 21 with value: 0.7430324978746815.\n"
          ]
        },
        {
          "name": "stderr",
          "output_type": "stream",
          "text": [
            "Best trial: 21. Best value: 0.743032:  66%|██████▌   | 33/50 [01:55<00:28,  1.66s/it]"
          ]
        },
        {
          "name": "stdout",
          "output_type": "stream",
          "text": [
            "[I 2025-10-07 12:50:13,415] Trial 32 finished with value: 0.7336902159310775 and parameters: {'use_pca': True, 'pca_n_components': 143, 'n_neighbors': 3, 'weights': 'uniform', 'p': 2}. Best is trial 21 with value: 0.7430324978746815.\n"
          ]
        },
        {
          "name": "stderr",
          "output_type": "stream",
          "text": [
            "Best trial: 33. Best value: 0.74309:  68%|██████▊   | 34/50 [01:57<00:27,  1.69s/it] "
          ]
        },
        {
          "name": "stdout",
          "output_type": "stream",
          "text": [
            "[I 2025-10-07 12:50:15,203] Trial 33 finished with value: 0.7430896340738857 and parameters: {'use_pca': True, 'pca_n_components': 179, 'n_neighbors': 5, 'weights': 'uniform', 'p': 2}. Best is trial 33 with value: 0.7430896340738857.\n"
          ]
        },
        {
          "name": "stderr",
          "output_type": "stream",
          "text": [
            "Best trial: 33. Best value: 0.74309:  70%|███████   | 35/50 [01:59<00:26,  1.75s/it]"
          ]
        },
        {
          "name": "stdout",
          "output_type": "stream",
          "text": [
            "[I 2025-10-07 12:50:17,071] Trial 34 finished with value: 0.7401584735808773 and parameters: {'use_pca': True, 'pca_n_components': 178, 'n_neighbors': 6, 'weights': 'uniform', 'p': 2}. Best is trial 33 with value: 0.7430896340738857.\n"
          ]
        },
        {
          "name": "stderr",
          "output_type": "stream",
          "text": [
            "Best trial: 33. Best value: 0.74309:  72%|███████▏  | 36/50 [02:01<00:26,  1.89s/it]"
          ]
        },
        {
          "name": "stdout",
          "output_type": "stream",
          "text": [
            "[I 2025-10-07 12:50:19,286] Trial 35 finished with value: 0.7316759330342404 and parameters: {'use_pca': True, 'pca_n_components': 216, 'n_neighbors': 10, 'weights': 'uniform', 'p': 2}. Best is trial 33 with value: 0.7430896340738857.\n"
          ]
        },
        {
          "name": "stderr",
          "output_type": "stream",
          "text": [
            "Best trial: 33. Best value: 0.74309:  74%|███████▍  | 37/50 [02:02<00:21,  1.63s/it]"
          ]
        },
        {
          "name": "stdout",
          "output_type": "stream",
          "text": [
            "[I 2025-10-07 12:50:20,328] Trial 36 finished with value: 0.7145447992912921 and parameters: {'use_pca': True, 'pca_n_components': 90, 'n_neighbors': 3, 'weights': 'distance', 'p': 2}. Best is trial 33 with value: 0.7430896340738857.\n"
          ]
        },
        {
          "name": "stderr",
          "output_type": "stream",
          "text": [
            "Best trial: 33. Best value: 0.74309:  76%|███████▌  | 38/50 [02:05<00:22,  1.85s/it]"
          ]
        },
        {
          "name": "stdout",
          "output_type": "stream",
          "text": [
            "[I 2025-10-07 12:50:22,674] Trial 37 finished with value: 0.7061074574777548 and parameters: {'use_pca': True, 'pca_n_components': 235, 'n_neighbors': 19, 'weights': 'uniform', 'p': 2}. Best is trial 33 with value: 0.7430896340738857.\n"
          ]
        },
        {
          "name": "stderr",
          "output_type": "stream",
          "text": [
            "Best trial: 33. Best value: 0.74309:  78%|███████▊  | 39/50 [02:07<00:20,  1.85s/it]"
          ]
        },
        {
          "name": "stdout",
          "output_type": "stream",
          "text": [
            "[I 2025-10-07 12:50:24,524] Trial 38 finished with value: 0.7335556668139105 and parameters: {'use_pca': True, 'pca_n_components': 183, 'n_neighbors': 9, 'weights': 'uniform', 'p': 2}. Best is trial 33 with value: 0.7430896340738857.\n"
          ]
        },
        {
          "name": "stderr",
          "output_type": "stream",
          "text": [
            "Best trial: 33. Best value: 0.74309:  80%|████████  | 40/50 [02:08<00:16,  1.67s/it]"
          ]
        },
        {
          "name": "stdout",
          "output_type": "stream",
          "text": [
            "[I 2025-10-07 12:50:25,776] Trial 39 finished with value: 0.7212057992296097 and parameters: {'use_pca': True, 'pca_n_components': 114, 'n_neighbors': 25, 'weights': 'distance', 'p': 2}. Best is trial 33 with value: 0.7430896340738857.\n"
          ]
        },
        {
          "name": "stderr",
          "output_type": "stream",
          "text": [
            "Best trial: 33. Best value: 0.74309:  82%|████████▏ | 41/50 [02:10<00:17,  1.96s/it]"
          ]
        },
        {
          "name": "stdout",
          "output_type": "stream",
          "text": [
            "[I 2025-10-07 12:50:28,430] Trial 40 finished with value: 0.7380212502056258 and parameters: {'use_pca': True, 'pca_n_components': 259, 'n_neighbors': 6, 'weights': 'uniform', 'p': 2}. Best is trial 33 with value: 0.7430896340738857.\n"
          ]
        },
        {
          "name": "stderr",
          "output_type": "stream",
          "text": [
            "Best trial: 33. Best value: 0.74309:  84%|████████▍ | 42/50 [02:12<00:14,  1.87s/it]"
          ]
        },
        {
          "name": "stdout",
          "output_type": "stream",
          "text": [
            "[I 2025-10-07 12:50:30,088] Trial 41 finished with value: 0.7404102960073098 and parameters: {'use_pca': True, 'pca_n_components': 153, 'n_neighbors': 4, 'weights': 'uniform', 'p': 2}. Best is trial 33 with value: 0.7430896340738857.\n"
          ]
        },
        {
          "name": "stderr",
          "output_type": "stream",
          "text": [
            "Best trial: 33. Best value: 0.74309:  86%|████████▌ | 43/50 [02:13<00:12,  1.72s/it]"
          ]
        },
        {
          "name": "stdout",
          "output_type": "stream",
          "text": [
            "[I 2025-10-07 12:50:31,456] Trial 42 finished with value: 0.7192761854976688 and parameters: {'use_pca': True, 'pca_n_components': 131, 'n_neighbors': 2, 'weights': 'uniform', 'p': 2}. Best is trial 33 with value: 0.7430896340738857.\n"
          ]
        },
        {
          "name": "stderr",
          "output_type": "stream",
          "text": [
            "Best trial: 33. Best value: 0.74309:  88%|████████▊ | 44/50 [02:18<00:15,  2.53s/it]"
          ]
        },
        {
          "name": "stdout",
          "output_type": "stream",
          "text": [
            "[I 2025-10-07 12:50:35,866] Trial 43 finished with value: 0.734521749159039 and parameters: {'use_pca': True, 'pca_n_components': 165, 'n_neighbors': 3, 'weights': 'uniform', 'p': 1}. Best is trial 33 with value: 0.7430896340738857.\n"
          ]
        },
        {
          "name": "stderr",
          "output_type": "stream",
          "text": [
            "Best trial: 33. Best value: 0.74309:  90%|█████████ | 45/50 [02:20<00:11,  2.35s/it]"
          ]
        },
        {
          "name": "stdout",
          "output_type": "stream",
          "text": [
            "[I 2025-10-07 12:50:37,816] Trial 44 finished with value: 0.7398714671967224 and parameters: {'use_pca': True, 'pca_n_components': 198, 'n_neighbors': 5, 'weights': 'uniform', 'p': 2}. Best is trial 33 with value: 0.7430896340738857.\n"
          ]
        },
        {
          "name": "stderr",
          "output_type": "stream",
          "text": [
            "Best trial: 33. Best value: 0.74309:  92%|█████████▏| 46/50 [02:24<00:11,  2.79s/it]"
          ]
        },
        {
          "name": "stdout",
          "output_type": "stream",
          "text": [
            "[I 2025-10-07 12:50:41,613] Trial 45 finished with value: 0.6460467023329799 and parameters: {'use_pca': True, 'pca_n_components': 146, 'n_neighbors': 1, 'weights': 'uniform', 'p': 1}. Best is trial 33 with value: 0.7430896340738857.\n"
          ]
        },
        {
          "name": "stderr",
          "output_type": "stream",
          "text": [
            "Best trial: 33. Best value: 0.74309:  94%|█████████▍| 47/50 [02:25<00:06,  2.24s/it]"
          ]
        },
        {
          "name": "stdout",
          "output_type": "stream",
          "text": [
            "[I 2025-10-07 12:50:42,571] Trial 46 finished with value: 0.7396304960994539 and parameters: {'use_pca': True, 'pca_n_components': 59, 'n_neighbors': 7, 'weights': 'uniform', 'p': 2}. Best is trial 33 with value: 0.7430896340738857.\n"
          ]
        },
        {
          "name": "stderr",
          "output_type": "stream",
          "text": [
            "Best trial: 33. Best value: 0.74309:  96%|█████████▌| 48/50 [02:33<00:08,  4.14s/it]"
          ]
        },
        {
          "name": "stdout",
          "output_type": "stream",
          "text": [
            "[I 2025-10-07 12:50:51,131] Trial 47 finished with value: 0.7299821749035617 and parameters: {'use_pca': False, 'n_neighbors': 8, 'weights': 'uniform', 'p': 1}. Best is trial 33 with value: 0.7430896340738857.\n"
          ]
        },
        {
          "name": "stderr",
          "output_type": "stream",
          "text": [
            "Best trial: 33. Best value: 0.74309:  98%|█████████▊| 49/50 [02:34<00:03,  3.18s/it]"
          ]
        },
        {
          "name": "stdout",
          "output_type": "stream",
          "text": [
            "[I 2025-10-07 12:50:52,089] Trial 48 finished with value: 0.7417036044383717 and parameters: {'use_pca': True, 'pca_n_components': 77, 'n_neighbors': 4, 'weights': 'uniform', 'p': 2}. Best is trial 33 with value: 0.7430896340738857.\n"
          ]
        },
        {
          "name": "stderr",
          "output_type": "stream",
          "text": [
            "Best trial: 33. Best value: 0.74309: 100%|██████████| 50/50 [02:35<00:00,  3.11s/it]\n"
          ]
        },
        {
          "name": "stdout",
          "output_type": "stream",
          "text": [
            "[I 2025-10-07 12:50:52,978] Trial 49 finished with value: 0.733084273111819 and parameters: {'use_pca': True, 'pca_n_components': 23, 'n_neighbors': 6, 'weights': 'uniform', 'p': 2}. Best is trial 33 with value: 0.7430896340738857.\n",
            "KNN best R2: 0.7430896340738857\n",
            "KNN best params: {'use_pca': True, 'pca_n_components': 179, 'n_neighbors': 5, 'weights': 'uniform', 'p': 2}\n"
          ]
        }
      ],
      "source": [
        "knn_study, knn_pipe = run_optuna_knn(n_trials=50)"
      ]
    },
    {
      "cell_type": "code",
      "execution_count": 22,
      "metadata": {
        "colab": {
          "base_uri": "https://localhost:8080/",
          "height": 989,
          "referenced_widgets": [
            "42ae734efb77407da19d7d7475fe977c",
            "0531e7e9a6694f51a67e0cee4345448b",
            "09d351963aed4f7981679de549ef19fc",
            "0f2029bde9e14787a5531f5d911ac08a",
            "1d1b3efd2290416a8b6b02f25777547c",
            "61e1bc4aaf5f4143ad5e6fd83a737510",
            "437fb668d2c84db1a29d5d4dcbabf399",
            "7379bb8079af4a94b5cb8449d4582b8f",
            "4a2f2fa788a04c5faf54baf654e9e046",
            "3c7900da449e4df2abba96608e8aa3d9",
            "6ced3d9b37204bdabb3190552b4c3f16"
          ]
        },
        "collapsed": true,
        "id": "m7MdF6qUaHu9",
        "outputId": "555f3621-e8ba-4829-aadb-5e46f961a331"
      },
      "outputs": [
        {
          "name": "stderr",
          "output_type": "stream",
          "text": [
            "[I 2025-10-07 12:50:53,252] A new study created in memory with name: no-name-9db19126-d4e1-4cfe-81bd-4516ad8ba78e\n",
            "Best trial: 0. Best value: 0.738181:   2%|▏         | 1/50 [00:49<40:22, 49.44s/it]"
          ]
        },
        {
          "name": "stdout",
          "output_type": "stream",
          "text": [
            "[I 2025-10-07 12:51:42,684] Trial 0 finished with value: 0.7381812605308179 and parameters: {'n_estimators': 330, 'max_depth': 35, 'min_samples_split': 12, 'min_samples_leaf': 7, 'max_features': 0.5}. Best is trial 0 with value: 0.7381812605308179.\n"
          ]
        },
        {
          "name": "stderr",
          "output_type": "stream",
          "text": [
            "Best trial: 0. Best value: 0.738181:   4%|▍         | 2/50 [01:25<33:09, 41.44s/it]"
          ]
        },
        {
          "name": "stdout",
          "output_type": "stream",
          "text": [
            "[I 2025-10-07 12:52:18,535] Trial 1 finished with value: 0.698292213644846 and parameters: {'n_estimators': 207, 'max_depth': 13, 'min_samples_split': 3, 'min_samples_leaf': 12, 'max_features': 0.8}. Best is trial 0 with value: 0.7381812605308179.\n"
          ]
        },
        {
          "name": "stderr",
          "output_type": "stream",
          "text": [
            "Best trial: 0. Best value: 0.738181:   6%|▌         | 3/50 [01:31<20:00, 25.55s/it]"
          ]
        },
        {
          "name": "stdout",
          "output_type": "stream",
          "text": [
            "[I 2025-10-07 12:52:25,169] Trial 2 finished with value: 0.6244280895391272 and parameters: {'n_estimators': 428, 'max_depth': 20, 'min_samples_split': 15, 'min_samples_leaf': 17, 'max_features': 'sqrt'}. Best is trial 0 with value: 0.7381812605308179.\n"
          ]
        },
        {
          "name": "stderr",
          "output_type": "stream",
          "text": [
            "Best trial: 3. Best value: 0.750852:   8%|▊         | 4/50 [02:35<31:00, 40.45s/it]"
          ]
        },
        {
          "name": "stdout",
          "output_type": "stream",
          "text": [
            "[I 2025-10-07 12:53:28,461] Trial 3 finished with value: 0.7508519859760598 and parameters: {'n_estimators': 310, 'max_depth': 46, 'min_samples_split': 3, 'min_samples_leaf': 2, 'max_features': 0.5}. Best is trial 3 with value: 0.7508519859760598.\n"
          ]
        },
        {
          "name": "stderr",
          "output_type": "stream",
          "text": [
            "Best trial: 3. Best value: 0.750852:  10%|█         | 5/50 [02:36<19:50, 26.46s/it]"
          ]
        },
        {
          "name": "stdout",
          "output_type": "stream",
          "text": [
            "[I 2025-10-07 12:53:30,114] Trial 4 finished with value: 0.6431468952904847 and parameters: {'n_estimators': 102, 'max_depth': 47, 'min_samples_split': 11, 'min_samples_leaf': 7, 'max_features': 'log2'}. Best is trial 3 with value: 0.7508519859760598.\n"
          ]
        },
        {
          "name": "stderr",
          "output_type": "stream",
          "text": [
            "Best trial: 3. Best value: 0.750852:  12%|█▏        | 6/50 [03:08<20:38, 28.15s/it]"
          ]
        },
        {
          "name": "stdout",
          "output_type": "stream",
          "text": [
            "[I 2025-10-07 12:54:01,545] Trial 5 finished with value: 0.7406215720914674 and parameters: {'n_estimators': 340, 'max_depth': 19, 'min_samples_split': 14, 'min_samples_leaf': 5, 'max_features': 0.3}. Best is trial 3 with value: 0.7508519859760598.\n"
          ]
        },
        {
          "name": "stderr",
          "output_type": "stream",
          "text": [
            "Best trial: 3. Best value: 0.750852:  14%|█▍        | 7/50 [03:12<14:36, 20.38s/it]"
          ]
        },
        {
          "name": "stdout",
          "output_type": "stream",
          "text": [
            "[I 2025-10-07 12:54:05,916] Trial 6 finished with value: 0.6299166269598244 and parameters: {'n_estimators': 376, 'max_depth': 27, 'min_samples_split': 4, 'min_samples_leaf': 8, 'max_features': 'log2'}. Best is trial 3 with value: 0.7508519859760598.\n"
          ]
        },
        {
          "name": "stderr",
          "output_type": "stream",
          "text": [
            "Best trial: 3. Best value: 0.750852:  16%|█▌        | 8/50 [03:35<14:47, 21.13s/it]"
          ]
        },
        {
          "name": "stdout",
          "output_type": "stream",
          "text": [
            "[I 2025-10-07 12:54:28,657] Trial 7 finished with value: 0.6856950932707904 and parameters: {'n_estimators': 121, 'max_depth': 34, 'min_samples_split': 4, 'min_samples_leaf': 18, 'max_features': 0.8}. Best is trial 3 with value: 0.7508519859760598.\n"
          ]
        },
        {
          "name": "stderr",
          "output_type": "stream",
          "text": [
            "Best trial: 3. Best value: 0.750852:  18%|█▊        | 9/50 [04:02<15:40, 22.94s/it]"
          ]
        },
        {
          "name": "stdout",
          "output_type": "stream",
          "text": [
            "[I 2025-10-07 12:54:55,582] Trial 8 finished with value: 0.7319590874685316 and parameters: {'n_estimators': 293, 'max_depth': 37, 'min_samples_split': 13, 'min_samples_leaf': 8, 'max_features': 0.3}. Best is trial 3 with value: 0.7508519859760598.\n"
          ]
        },
        {
          "name": "stderr",
          "output_type": "stream",
          "text": [
            "Best trial: 3. Best value: 0.750852:  20%|██        | 10/50 [04:39<18:15, 27.39s/it]"
          ]
        },
        {
          "name": "stdout",
          "output_type": "stream",
          "text": [
            "[I 2025-10-07 12:55:32,923] Trial 9 finished with value: 0.6974567370333055 and parameters: {'n_estimators': 367, 'max_depth': 10, 'min_samples_split': 10, 'min_samples_leaf': 7, 'max_features': 0.5}. Best is trial 3 with value: 0.7508519859760598.\n"
          ]
        },
        {
          "name": "stderr",
          "output_type": "stream",
          "text": [
            "Best trial: 3. Best value: 0.750852:  22%|██▏       | 11/50 [05:20<20:30, 31.56s/it]"
          ]
        },
        {
          "name": "stdout",
          "output_type": "stream",
          "text": [
            "[I 2025-10-07 12:56:13,947] Trial 10 finished with value: 0.7504279637836524 and parameters: {'n_estimators': 234, 'max_depth': 50, 'min_samples_split': 19, 'min_samples_leaf': 2, 'max_features': 0.5}. Best is trial 3 with value: 0.7508519859760598.\n"
          ]
        },
        {
          "name": "stderr",
          "output_type": "stream",
          "text": [
            "Best trial: 11. Best value: 0.751731:  24%|██▍       | 12/50 [06:06<22:44, 35.91s/it]"
          ]
        },
        {
          "name": "stdout",
          "output_type": "stream",
          "text": [
            "[I 2025-10-07 12:56:59,802] Trial 11 finished with value: 0.7517306633720165 and parameters: {'n_estimators': 241, 'max_depth': 48, 'min_samples_split': 19, 'min_samples_leaf': 1, 'max_features': 0.5}. Best is trial 11 with value: 0.7517306633720165.\n"
          ]
        },
        {
          "name": "stderr",
          "output_type": "stream",
          "text": [
            "Best trial: 11. Best value: 0.751731:  26%|██▌       | 13/50 [06:53<24:11, 39.23s/it]"
          ]
        },
        {
          "name": "stdout",
          "output_type": "stream",
          "text": [
            "[I 2025-10-07 12:57:46,657] Trial 12 finished with value: 0.7516851692828022 and parameters: {'n_estimators': 247, 'max_depth': 42, 'min_samples_split': 20, 'min_samples_leaf': 1, 'max_features': 0.5}. Best is trial 11 with value: 0.7517306633720165.\n"
          ]
        },
        {
          "name": "stderr",
          "output_type": "stream",
          "text": [
            "Best trial: 13. Best value: 0.751986:  28%|██▊       | 14/50 [07:32<23:35, 39.31s/it]"
          ]
        },
        {
          "name": "stdout",
          "output_type": "stream",
          "text": [
            "[I 2025-10-07 12:58:26,159] Trial 13 finished with value: 0.7519860289942809 and parameters: {'n_estimators': 203, 'max_depth': 41, 'min_samples_split': 20, 'min_samples_leaf': 1, 'max_features': 0.5}. Best is trial 13 with value: 0.7519860289942809.\n"
          ]
        },
        {
          "name": "stderr",
          "output_type": "stream",
          "text": [
            "Best trial: 13. Best value: 0.751986:  30%|███       | 15/50 [07:36<16:35, 28.44s/it]"
          ]
        },
        {
          "name": "stdout",
          "output_type": "stream",
          "text": [
            "[I 2025-10-07 12:58:29,410] Trial 14 finished with value: 0.6540761877782447 and parameters: {'n_estimators': 172, 'max_depth': 41, 'min_samples_split': 17, 'min_samples_leaf': 12, 'max_features': 'sqrt'}. Best is trial 13 with value: 0.7519860289942809.\n"
          ]
        },
        {
          "name": "stderr",
          "output_type": "stream",
          "text": [
            "Best trial: 13. Best value: 0.751986:  32%|███▏      | 16/50 [08:08<16:44, 29.55s/it]"
          ]
        },
        {
          "name": "stdout",
          "output_type": "stream",
          "text": [
            "[I 2025-10-07 12:59:01,521] Trial 15 finished with value: 0.744691020873269 and parameters: {'n_estimators': 183, 'max_depth': 29, 'min_samples_split': 17, 'min_samples_leaf': 4, 'max_features': 0.5}. Best is trial 13 with value: 0.7519860289942809.\n"
          ]
        },
        {
          "name": "stderr",
          "output_type": "stream",
          "text": [
            "Best trial: 13. Best value: 0.751986:  34%|███▍      | 17/50 [08:44<17:18, 31.46s/it]"
          ]
        },
        {
          "name": "stdout",
          "output_type": "stream",
          "text": [
            "[I 2025-10-07 12:59:37,437] Trial 16 finished with value: 0.7000992467807661 and parameters: {'n_estimators': 271, 'max_depth': 42, 'min_samples_split': 7, 'min_samples_leaf': 15, 'max_features': 0.5}. Best is trial 13 with value: 0.7519860289942809.\n"
          ]
        },
        {
          "name": "stderr",
          "output_type": "stream",
          "text": [
            "Best trial: 13. Best value: 0.751986:  36%|███▌      | 18/50 [09:11<16:10, 30.33s/it]"
          ]
        },
        {
          "name": "stdout",
          "output_type": "stream",
          "text": [
            "[I 2025-10-07 13:00:05,125] Trial 17 finished with value: 0.743101739356069 and parameters: {'n_estimators': 153, 'max_depth': 49, 'min_samples_split': 18, 'min_samples_leaf': 4, 'max_features': 0.5}. Best is trial 13 with value: 0.7519860289942809.\n"
          ]
        },
        {
          "name": "stderr",
          "output_type": "stream",
          "text": [
            "Best trial: 13. Best value: 0.751986:  38%|███▊      | 19/50 [09:23<12:46, 24.74s/it]"
          ]
        },
        {
          "name": "stdout",
          "output_type": "stream",
          "text": [
            "[I 2025-10-07 13:00:16,854] Trial 18 finished with value: 0.744310019677745 and parameters: {'n_estimators': 455, 'max_depth': 31, 'min_samples_split': 16, 'min_samples_leaf': 1, 'max_features': 'sqrt'}. Best is trial 13 with value: 0.7519860289942809.\n"
          ]
        },
        {
          "name": "stderr",
          "output_type": "stream",
          "text": [
            "Best trial: 13. Best value: 0.751986:  40%|████      | 20/50 [09:45<11:54, 23.83s/it]"
          ]
        },
        {
          "name": "stdout",
          "output_type": "stream",
          "text": [
            "[I 2025-10-07 13:00:38,558] Trial 19 finished with value: 0.7411152296585721 and parameters: {'n_estimators': 220, 'max_depth': 23, 'min_samples_split': 20, 'min_samples_leaf': 4, 'max_features': 0.3}. Best is trial 13 with value: 0.7519860289942809.\n"
          ]
        },
        {
          "name": "stderr",
          "output_type": "stream",
          "text": [
            "Best trial: 13. Best value: 0.751986:  42%|████▏     | 21/50 [10:08<11:21, 23.50s/it]"
          ]
        },
        {
          "name": "stdout",
          "output_type": "stream",
          "text": [
            "[I 2025-10-07 13:01:01,276] Trial 20 finished with value: 0.5629512708813542 and parameters: {'n_estimators': 257, 'max_depth': 5, 'min_samples_split': 8, 'min_samples_leaf': 11, 'max_features': 0.8}. Best is trial 13 with value: 0.7519860289942809.\n"
          ]
        },
        {
          "name": "stderr",
          "output_type": "stream",
          "text": [
            "Best trial: 13. Best value: 0.751986:  44%|████▍     | 22/50 [10:54<14:12, 30.46s/it]"
          ]
        },
        {
          "name": "stdout",
          "output_type": "stream",
          "text": [
            "[I 2025-10-07 13:01:47,974] Trial 21 finished with value: 0.7517245873609301 and parameters: {'n_estimators': 248, 'max_depth': 42, 'min_samples_split': 20, 'min_samples_leaf': 1, 'max_features': 0.5}. Best is trial 13 with value: 0.7519860289942809.\n"
          ]
        },
        {
          "name": "stderr",
          "output_type": "stream",
          "text": [
            "Best trial: 13. Best value: 0.751986:  46%|████▌     | 23/50 [11:33<14:53, 33.08s/it]"
          ]
        },
        {
          "name": "stdout",
          "output_type": "stream",
          "text": [
            "[I 2025-10-07 13:02:27,175] Trial 22 finished with value: 0.7455469016836954 and parameters: {'n_estimators': 195, 'max_depth': 38, 'min_samples_split': 20, 'min_samples_leaf': 3, 'max_features': 0.5}. Best is trial 13 with value: 0.7519860289942809.\n"
          ]
        },
        {
          "name": "stderr",
          "output_type": "stream",
          "text": [
            "Best trial: 23. Best value: 0.752726:  48%|████▊     | 24/50 [12:06<14:14, 32.85s/it]"
          ]
        },
        {
          "name": "stdout",
          "output_type": "stream",
          "text": [
            "[I 2025-10-07 13:02:59,484] Trial 23 finished with value: 0.7527259026087686 and parameters: {'n_estimators': 142, 'max_depth': 44, 'min_samples_split': 18, 'min_samples_leaf': 1, 'max_features': 0.5}. Best is trial 23 with value: 0.7527259026087686.\n"
          ]
        },
        {
          "name": "stderr",
          "output_type": "stream",
          "text": [
            "Best trial: 23. Best value: 0.752726:  50%|█████     | 25/50 [12:08<09:54, 23.77s/it]"
          ]
        },
        {
          "name": "stdout",
          "output_type": "stream",
          "text": [
            "[I 2025-10-07 13:03:02,059] Trial 24 finished with value: 0.6627308053161739 and parameters: {'n_estimators': 145, 'max_depth': 45, 'min_samples_split': 18, 'min_samples_leaf': 5, 'max_features': 'log2'}. Best is trial 23 with value: 0.7527259026087686.\n"
          ]
        },
        {
          "name": "stderr",
          "output_type": "stream",
          "text": [
            "Best trial: 23. Best value: 0.752726:  52%|█████▏    | 26/50 [12:40<10:24, 26.02s/it]"
          ]
        },
        {
          "name": "stdout",
          "output_type": "stream",
          "text": [
            "[I 2025-10-07 13:03:33,330] Trial 25 finished with value: 0.7477859249759049 and parameters: {'n_estimators': 152, 'max_depth': 50, 'min_samples_split': 16, 'min_samples_leaf': 3, 'max_features': 0.5}. Best is trial 23 with value: 0.7527259026087686.\n"
          ]
        },
        {
          "name": "stderr",
          "output_type": "stream",
          "text": [
            "Best trial: 23. Best value: 0.752726:  54%|█████▍    | 27/50 [13:04<09:45, 25.44s/it]"
          ]
        },
        {
          "name": "stdout",
          "output_type": "stream",
          "text": [
            "[I 2025-10-07 13:03:57,408] Trial 26 finished with value: 0.7367920079831513 and parameters: {'n_estimators': 134, 'max_depth': 32, 'min_samples_split': 18, 'min_samples_leaf': 6, 'max_features': 0.5}. Best is trial 23 with value: 0.7527259026087686.\n"
          ]
        },
        {
          "name": "stderr",
          "output_type": "stream",
          "text": [
            "Best trial: 23. Best value: 0.752726:  56%|█████▌    | 28/50 [13:34<09:51, 26.90s/it]"
          ]
        },
        {
          "name": "stdout",
          "output_type": "stream",
          "text": [
            "[I 2025-10-07 13:04:27,710] Trial 27 finished with value: 0.7228500506355152 and parameters: {'n_estimators': 183, 'max_depth': 39, 'min_samples_split': 15, 'min_samples_leaf': 10, 'max_features': 0.5}. Best is trial 23 with value: 0.7527259026087686.\n"
          ]
        },
        {
          "name": "stderr",
          "output_type": "stream",
          "text": [
            "Best trial: 23. Best value: 0.752726:  58%|█████▊    | 29/50 [14:22<11:37, 33.23s/it]"
          ]
        },
        {
          "name": "stdout",
          "output_type": "stream",
          "text": [
            "[I 2025-10-07 13:05:15,726] Trial 28 finished with value: 0.74982317004862 and parameters: {'n_estimators': 219, 'max_depth': 44, 'min_samples_split': 18, 'min_samples_leaf': 2, 'max_features': 0.5}. Best is trial 23 with value: 0.7527259026087686.\n"
          ]
        },
        {
          "name": "stderr",
          "output_type": "stream",
          "text": [
            "Best trial: 23. Best value: 0.752726:  60%|██████    | 30/50 [14:36<09:09, 27.48s/it]"
          ]
        },
        {
          "name": "stdout",
          "output_type": "stream",
          "text": [
            "[I 2025-10-07 13:05:29,769] Trial 29 finished with value: 0.6804225519676038 and parameters: {'n_estimators': 102, 'max_depth': 34, 'min_samples_split': 13, 'min_samples_leaf': 20, 'max_features': 0.5}. Best is trial 23 with value: 0.7527259026087686.\n"
          ]
        },
        {
          "name": "stderr",
          "output_type": "stream",
          "text": [
            "Best trial: 23. Best value: 0.752726:  62%|██████▏   | 31/50 [14:41<06:31, 20.58s/it]"
          ]
        },
        {
          "name": "stdout",
          "output_type": "stream",
          "text": [
            "[I 2025-10-07 13:05:34,279] Trial 30 finished with value: 0.6923288858281044 and parameters: {'n_estimators': 279, 'max_depth': 36, 'min_samples_split': 16, 'min_samples_leaf': 3, 'max_features': 'log2'}. Best is trial 23 with value: 0.7527259026087686.\n"
          ]
        },
        {
          "name": "stderr",
          "output_type": "stream",
          "text": [
            "Best trial: 23. Best value: 0.752726:  64%|██████▍   | 32/50 [15:35<09:11, 30.63s/it]"
          ]
        },
        {
          "name": "stdout",
          "output_type": "stream",
          "text": [
            "[I 2025-10-07 13:06:28,355] Trial 31 finished with value: 0.7516055565154253 and parameters: {'n_estimators': 245, 'max_depth': 40, 'min_samples_split': 19, 'min_samples_leaf': 1, 'max_features': 0.5}. Best is trial 23 with value: 0.7527259026087686.\n"
          ]
        },
        {
          "name": "stderr",
          "output_type": "stream",
          "text": [
            "Best trial: 23. Best value: 0.752726:  66%|██████▌   | 33/50 [16:19<09:52, 34.86s/it]"
          ]
        },
        {
          "name": "stdout",
          "output_type": "stream",
          "text": [
            "[I 2025-10-07 13:07:13,083] Trial 32 finished with value: 0.7518934433692794 and parameters: {'n_estimators': 205, 'max_depth': 44, 'min_samples_split': 20, 'min_samples_leaf': 1, 'max_features': 0.5}. Best is trial 23 with value: 0.7527259026087686.\n"
          ]
        },
        {
          "name": "stderr",
          "output_type": "stream",
          "text": [
            "Best trial: 23. Best value: 0.752726:  68%|██████▊   | 34/50 [17:23<11:34, 43.40s/it]"
          ]
        },
        {
          "name": "stdout",
          "output_type": "stream",
          "text": [
            "[I 2025-10-07 13:08:16,395] Trial 33 finished with value: 0.7415240569519563 and parameters: {'n_estimators': 211, 'max_depth': 47, 'min_samples_split': 19, 'min_samples_leaf': 3, 'max_features': 0.8}. Best is trial 23 with value: 0.7527259026087686.\n"
          ]
        },
        {
          "name": "stderr",
          "output_type": "stream",
          "text": [
            "Best trial: 23. Best value: 0.752726:  70%|███████   | 35/50 [17:27<07:56, 31.76s/it]"
          ]
        },
        {
          "name": "stdout",
          "output_type": "stream",
          "text": [
            "[I 2025-10-07 13:08:21,004] Trial 34 finished with value: 0.7108568410805839 and parameters: {'n_estimators': 163, 'max_depth': 45, 'min_samples_split': 17, 'min_samples_leaf': 5, 'max_features': 'sqrt'}. Best is trial 23 with value: 0.7527259026087686.\n"
          ]
        },
        {
          "name": "stderr",
          "output_type": "stream",
          "text": [
            "Best trial: 23. Best value: 0.752726:  72%|███████▏  | 36/50 [18:07<07:58, 34.21s/it]"
          ]
        },
        {
          "name": "stdout",
          "output_type": "stream",
          "text": [
            "[I 2025-10-07 13:09:00,940] Trial 35 finished with value: 0.7502459748054133 and parameters: {'n_estimators': 199, 'max_depth': 48, 'min_samples_split': 19, 'min_samples_leaf': 2, 'max_features': 0.5}. Best is trial 23 with value: 0.7527259026087686.\n"
          ]
        },
        {
          "name": "stderr",
          "output_type": "stream",
          "text": [
            "Best trial: 23. Best value: 0.752726:  74%|███████▍  | 37/50 [18:38<07:13, 33.32s/it]"
          ]
        },
        {
          "name": "stdout",
          "output_type": "stream",
          "text": [
            "[I 2025-10-07 13:09:32,168] Trial 36 finished with value: 0.6996561248431834 and parameters: {'n_estimators': 218, 'max_depth': 44, 'min_samples_split': 15, 'min_samples_leaf': 15, 'max_features': 0.5}. Best is trial 23 with value: 0.7527259026087686.\n"
          ]
        },
        {
          "name": "stderr",
          "output_type": "stream",
          "text": [
            "Best trial: 37. Best value: 0.754028:  76%|███████▌  | 38/50 [19:18<07:03, 35.33s/it]"
          ]
        },
        {
          "name": "stdout",
          "output_type": "stream",
          "text": [
            "[I 2025-10-07 13:10:12,184] Trial 37 finished with value: 0.7540281206990932 and parameters: {'n_estimators': 303, 'max_depth': 47, 'min_samples_split': 20, 'min_samples_leaf': 1, 'max_features': 0.3}. Best is trial 37 with value: 0.7540281206990932.\n"
          ]
        },
        {
          "name": "stderr",
          "output_type": "stream",
          "text": [
            "Best trial: 37. Best value: 0.754028:  78%|███████▊  | 39/50 [19:50<06:15, 34.14s/it]"
          ]
        },
        {
          "name": "stdout",
          "output_type": "stream",
          "text": [
            "[I 2025-10-07 13:10:43,553] Trial 38 finished with value: 0.7237752541680014 and parameters: {'n_estimators': 313, 'max_depth': 22, 'min_samples_split': 20, 'min_samples_leaf': 9, 'max_features': 0.3}. Best is trial 37 with value: 0.7540281206990932.\n"
          ]
        },
        {
          "name": "stderr",
          "output_type": "stream",
          "text": [
            "Best trial: 37. Best value: 0.754028:  80%|████████  | 40/50 [20:31<06:02, 36.25s/it]"
          ]
        },
        {
          "name": "stdout",
          "output_type": "stream",
          "text": [
            "[I 2025-10-07 13:11:24,723] Trial 39 finished with value: 0.7430051535856944 and parameters: {'n_estimators': 340, 'max_depth': 37, 'min_samples_split': 10, 'min_samples_leaf': 6, 'max_features': 0.3}. Best is trial 37 with value: 0.7540281206990932.\n"
          ]
        },
        {
          "name": "stderr",
          "output_type": "stream",
          "text": [
            "Best trial: 37. Best value: 0.754028:  82%|████████▏ | 41/50 [21:14<05:43, 38.17s/it]"
          ]
        },
        {
          "name": "stdout",
          "output_type": "stream",
          "text": [
            "[I 2025-10-07 13:12:07,371] Trial 40 finished with value: 0.743566923952489 and parameters: {'n_estimators': 384, 'max_depth': 16, 'min_samples_split': 14, 'min_samples_leaf': 2, 'max_features': 0.3}. Best is trial 37 with value: 0.7540281206990932.\n"
          ]
        },
        {
          "name": "stderr",
          "output_type": "stream",
          "text": [
            "Best trial: 41. Best value: 0.754265:  84%|████████▍ | 42/50 [21:55<05:13, 39.18s/it]"
          ]
        },
        {
          "name": "stdout",
          "output_type": "stream",
          "text": [
            "[I 2025-10-07 13:12:48,902] Trial 41 finished with value: 0.7542650333282206 and parameters: {'n_estimators': 294, 'max_depth': 47, 'min_samples_split': 19, 'min_samples_leaf': 1, 'max_features': 0.3}. Best is trial 41 with value: 0.7542650333282206.\n"
          ]
        },
        {
          "name": "stderr",
          "output_type": "stream",
          "text": [
            "Best trial: 41. Best value: 0.754265:  86%|████████▌ | 43/50 [22:42<04:49, 41.34s/it]"
          ]
        },
        {
          "name": "stdout",
          "output_type": "stream",
          "text": [
            "[I 2025-10-07 13:13:35,254] Trial 42 finished with value: 0.7518144683828221 and parameters: {'n_estimators': 315, 'max_depth': 45, 'min_samples_split': 18, 'min_samples_leaf': 2, 'max_features': 0.3}. Best is trial 41 with value: 0.7542650333282206.\n"
          ]
        },
        {
          "name": "stderr",
          "output_type": "stream",
          "text": [
            "Best trial: 41. Best value: 0.754265:  88%|████████▊ | 44/50 [23:42<04:41, 46.98s/it]"
          ]
        },
        {
          "name": "stdout",
          "output_type": "stream",
          "text": [
            "[I 2025-10-07 13:14:35,424] Trial 43 finished with value: 0.7433945869011742 and parameters: {'n_estimators': 499, 'max_depth': 47, 'min_samples_split': 20, 'min_samples_leaf': 4, 'max_features': 0.3}. Best is trial 41 with value: 0.7542650333282206.\n"
          ]
        },
        {
          "name": "stderr",
          "output_type": "stream",
          "text": [
            "Best trial: 44. Best value: 0.755229:  90%|█████████ | 45/50 [24:27<03:52, 46.58s/it]"
          ]
        },
        {
          "name": "stdout",
          "output_type": "stream",
          "text": [
            "[I 2025-10-07 13:15:21,069] Trial 44 finished with value: 0.7552294858921716 and parameters: {'n_estimators': 354, 'max_depth': 43, 'min_samples_split': 17, 'min_samples_leaf': 1, 'max_features': 0.3}. Best is trial 44 with value: 0.7552294858921716.\n"
          ]
        },
        {
          "name": "stderr",
          "output_type": "stream",
          "text": [
            "Best trial: 44. Best value: 0.755229:  92%|█████████▏| 46/50 [25:06<02:56, 44.07s/it]"
          ]
        },
        {
          "name": "stdout",
          "output_type": "stream",
          "text": [
            "[I 2025-10-07 13:15:59,292] Trial 45 finished with value: 0.749114160842057 and parameters: {'n_estimators': 354, 'max_depth': 40, 'min_samples_split': 17, 'min_samples_leaf': 3, 'max_features': 0.3}. Best is trial 44 with value: 0.7552294858921716.\n"
          ]
        },
        {
          "name": "stderr",
          "output_type": "stream",
          "text": [
            "Best trial: 44. Best value: 0.755229:  94%|█████████▍| 47/50 [25:20<01:45, 35.12s/it]"
          ]
        },
        {
          "name": "stdout",
          "output_type": "stream",
          "text": [
            "[I 2025-10-07 13:16:13,526] Trial 46 finished with value: 0.7505116042102433 and parameters: {'n_estimators': 121, 'max_depth': 50, 'min_samples_split': 19, 'min_samples_leaf': 2, 'max_features': 0.3}. Best is trial 44 with value: 0.7552294858921716.\n"
          ]
        },
        {
          "name": "stderr",
          "output_type": "stream",
          "text": [
            "Best trial: 44. Best value: 0.755229:  96%|█████████▌| 48/50 [26:03<01:15, 37.52s/it]"
          ]
        },
        {
          "name": "stdout",
          "output_type": "stream",
          "text": [
            "[I 2025-10-07 13:16:56,657] Trial 47 finished with value: 0.742154853097788 and parameters: {'n_estimators': 403, 'max_depth': 43, 'min_samples_split': 17, 'min_samples_leaf': 5, 'max_features': 0.3}. Best is trial 44 with value: 0.7552294858921716.\n"
          ]
        },
        {
          "name": "stderr",
          "output_type": "stream",
          "text": [
            "Best trial: 44. Best value: 0.755229:  98%|█████████▊| 49/50 [26:44<00:38, 38.57s/it]"
          ]
        },
        {
          "name": "stdout",
          "output_type": "stream",
          "text": [
            "[I 2025-10-07 13:17:37,678] Trial 48 finished with value: 0.7552209736272391 and parameters: {'n_estimators': 301, 'max_depth': 47, 'min_samples_split': 16, 'min_samples_leaf': 1, 'max_features': 0.3}. Best is trial 44 with value: 0.7552294858921716.\n"
          ]
        },
        {
          "name": "stderr",
          "output_type": "stream",
          "text": [
            "Best trial: 44. Best value: 0.755229: 100%|██████████| 50/50 [27:15<00:00, 32.70s/it]\n"
          ]
        },
        {
          "name": "stdout",
          "output_type": "stream",
          "text": [
            "[I 2025-10-07 13:18:08,329] Trial 49 finished with value: 0.7402174898307601 and parameters: {'n_estimators': 287, 'max_depth': 47, 'min_samples_split': 15, 'min_samples_leaf': 6, 'max_features': 0.3}. Best is trial 44 with value: 0.7552294858921716.\n",
            "RF best R2: 0.7552294858921716\n",
            "RF best params: {'n_estimators': 354, 'max_depth': 43, 'min_samples_split': 17, 'min_samples_leaf': 1, 'max_features': 0.3}\n"
          ]
        }
      ],
      "source": [
        "rf_study, rf_pipe = run_optuna_rf(n_trials=50)"
      ]
    },
    {
      "cell_type": "markdown",
      "metadata": {
        "id": "eSvt_kJQh06m"
      },
      "source": [
        "# 7. Try a meta learner or ensemble of the best models"
      ]
    },
    {
      "cell_type": "code",
      "execution_count": 23,
      "metadata": {
        "colab": {
          "base_uri": "https://localhost:8080/"
        },
        "id": "acgIGIk4S8de",
        "outputId": "e6c74c98-cb35-4002-b529-d82d46df0950"
      },
      "outputs": [
        {
          "name": "stdout",
          "output_type": "stream",
          "text": [
            "Generating OOF preds (this may take time)..."
          ]
        },
        {
          "name": "stdout",
          "output_type": "stream",
          "text": [
            "\n",
            "Simple average ensemble -> R2: 0.7724, RMSE: 0.6491\n"
          ]
        }
      ],
      "source": [
        "from sklearn.linear_model import Ridge\n",
        "from sklearn.model_selection import cross_val_predict\n",
        "\n",
        "# reproducible folds\n",
        "kf = KFold(n_splits=5, shuffle=True, random_state=42)\n",
        "\n",
        "# 1) Get OOF predictions for each base model (these preds are made by models\n",
        "#    that were trained without the corresponding sample — no leakage)\n",
        "print(\"Generating OOF preds (this may take time)...\")\n",
        "oof_knn = cross_val_predict(knn_pipe, X, y, cv=kf, n_jobs=-1, method='predict')\n",
        "oof_svm = cross_val_predict(svm_pipe, X, y, cv=kf, n_jobs=-1, method='predict')\n",
        "oof_rf  = cross_val_predict(rf_pipe,  X, y, cv=kf, n_jobs=-1, method='predict')\n",
        "\n",
        "# Stack OOF predictions (n_samples x n_models)\n",
        "stack_oof = np.vstack([oof_knn, oof_svm, oof_rf]).T\n",
        "\n",
        "# 2) Simple average ensemble\n",
        "ens_mean = stack_oof.mean(axis=1)\n",
        "r2_mean = r2_score(y, ens_mean)\n",
        "rmse_mean = np.sqrt(mean_squared_error(y, ens_mean))\n",
        "print(f\"Simple average ensemble -> R2: {r2_mean:.4f}, RMSE: {rmse_mean:.4f}\")"
      ]
    },
    {
      "cell_type": "code",
      "execution_count": 24,
      "metadata": {
        "colab": {
          "base_uri": "https://localhost:8080/"
        },
        "id": "4HRuI2AGicEn",
        "outputId": "4c02fe81-789a-4208-88f3-8d98926ed304"
      },
      "outputs": [
        {
          "name": "stdout",
          "output_type": "stream",
          "text": [
            "Stacking (Ridge) ensemble -> R2: 0.7728, RMSE: 0.6487\n",
            "Meta-learner coefficients (weights): [0.3226784  0.29527209 0.40098253]\n",
            "Meta-learner intercept: -0.11706293555618341\n"
          ]
        }
      ],
      "source": [
        "# 3) Stacking: train a Ridge meta-learner on the OOF stack\n",
        "meta = Ridge(alpha=1.0)\n",
        "meta.fit(stack_oof, y)                 # training on OOF preds is OK (no leakage)\n",
        "ens_stack = meta.predict(stack_oof)    # predictions on the same OOF matrix\n",
        "r2_stack = r2_score(y, ens_stack)\n",
        "rmse_stack = np.sqrt(mean_squared_error(y, ens_stack))\n",
        "print(f\"Stacking (Ridge) ensemble -> R2: {r2_stack:.4f}, RMSE: {rmse_stack:.4f}\")\n",
        "\n",
        "# Show meta-learner weights\n",
        "print(\"Meta-learner coefficients (weights):\", meta.coef_)\n",
        "print(\"Meta-learner intercept:\", meta.intercept_)"
      ]
    },
    {
      "cell_type": "code",
      "execution_count": 25,
      "metadata": {
        "colab": {
          "base_uri": "https://localhost:8080/"
        },
        "id": "3fBgSTfdi5Hu",
        "outputId": "6701f8eb-722c-48eb-9814-835ffd58fc9e"
      },
      "outputs": [
        {
          "name": "stdout",
          "output_type": "stream",
          "text": [
            "Saved final base pipelines and meta-learner.\n"
          ]
        }
      ],
      "source": [
        "joblib.dump(meta, \"../models/ii_meta.joblib\")\n",
        "print(\"Saved final base pipelines and meta-learner.\")"
      ]
    },
    {
      "cell_type": "code",
      "execution_count": null,
      "metadata": {
        "id": "gzzc9gTRjaNK"
      },
      "outputs": [],
      "source": []
    }
  ],
  "metadata": {
    "colab": {
      "provenance": []
    },
    "kernelspec": {
      "display_name": "myenv",
      "language": "python",
      "name": "python3"
    },
    "language_info": {
      "codemirror_mode": {
        "name": "ipython",
        "version": 3
      },
      "file_extension": ".py",
      "mimetype": "text/x-python",
      "name": "python",
      "nbconvert_exporter": "python",
      "pygments_lexer": "ipython3",
      "version": "3.11.13"
    },
    "widgets": {
      "application/vnd.jupyter.widget-state+json": {
        "01d614cc83134dc4b72f1c3afb23b2e7": {
          "model_module": "@jupyter-widgets/controls",
          "model_module_version": "1.5.0",
          "model_name": "DescriptionStyleModel",
          "state": {
            "_model_module": "@jupyter-widgets/controls",
            "_model_module_version": "1.5.0",
            "_model_name": "DescriptionStyleModel",
            "_view_count": null,
            "_view_module": "@jupyter-widgets/base",
            "_view_module_version": "1.2.0",
            "_view_name": "StyleView",
            "description_width": ""
          }
        },
        "0531e7e9a6694f51a67e0cee4345448b": {
          "model_module": "@jupyter-widgets/controls",
          "model_module_version": "1.5.0",
          "model_name": "HTMLModel",
          "state": {
            "_dom_classes": [],
            "_model_module": "@jupyter-widgets/controls",
            "_model_module_version": "1.5.0",
            "_model_name": "HTMLModel",
            "_view_count": null,
            "_view_module": "@jupyter-widgets/controls",
            "_view_module_version": "1.5.0",
            "_view_name": "HTMLView",
            "description": "",
            "description_tooltip": null,
            "layout": "IPY_MODEL_61e1bc4aaf5f4143ad5e6fd83a737510",
            "placeholder": "​",
            "style": "IPY_MODEL_437fb668d2c84db1a29d5d4dcbabf399",
            "value": "Best trial: 23. Best value: 0.755753: 100%"
          }
        },
        "089a7be90d1f4ea1920434761dedd152": {
          "model_module": "@jupyter-widgets/controls",
          "model_module_version": "1.5.0",
          "model_name": "HBoxModel",
          "state": {
            "_dom_classes": [],
            "_model_module": "@jupyter-widgets/controls",
            "_model_module_version": "1.5.0",
            "_model_name": "HBoxModel",
            "_view_count": null,
            "_view_module": "@jupyter-widgets/controls",
            "_view_module_version": "1.5.0",
            "_view_name": "HBoxView",
            "box_style": "",
            "children": [
              "IPY_MODEL_e9f80320bd1149d4ba6b47e0fb0fd41d",
              "IPY_MODEL_fbe44cb905914661a555c684ccfefea5",
              "IPY_MODEL_b0a6d95f45fd46879feedd3892a16a86"
            ],
            "layout": "IPY_MODEL_15190e3828364ebc842664d37cecd5f9"
          }
        },
        "09d351963aed4f7981679de549ef19fc": {
          "model_module": "@jupyter-widgets/controls",
          "model_module_version": "1.5.0",
          "model_name": "FloatProgressModel",
          "state": {
            "_dom_classes": [],
            "_model_module": "@jupyter-widgets/controls",
            "_model_module_version": "1.5.0",
            "_model_name": "FloatProgressModel",
            "_view_count": null,
            "_view_module": "@jupyter-widgets/controls",
            "_view_module_version": "1.5.0",
            "_view_name": "ProgressView",
            "bar_style": "success",
            "description": "",
            "description_tooltip": null,
            "layout": "IPY_MODEL_7379bb8079af4a94b5cb8449d4582b8f",
            "max": 50,
            "min": 0,
            "orientation": "horizontal",
            "style": "IPY_MODEL_4a2f2fa788a04c5faf54baf654e9e046",
            "value": 50
          }
        },
        "0f1f5653b4364bf2b1b81645d12fa5d8": {
          "model_module": "@jupyter-widgets/controls",
          "model_module_version": "1.5.0",
          "model_name": "DescriptionStyleModel",
          "state": {
            "_model_module": "@jupyter-widgets/controls",
            "_model_module_version": "1.5.0",
            "_model_name": "DescriptionStyleModel",
            "_view_count": null,
            "_view_module": "@jupyter-widgets/base",
            "_view_module_version": "1.2.0",
            "_view_name": "StyleView",
            "description_width": ""
          }
        },
        "0f2029bde9e14787a5531f5d911ac08a": {
          "model_module": "@jupyter-widgets/controls",
          "model_module_version": "1.5.0",
          "model_name": "HTMLModel",
          "state": {
            "_dom_classes": [],
            "_model_module": "@jupyter-widgets/controls",
            "_model_module_version": "1.5.0",
            "_model_name": "HTMLModel",
            "_view_count": null,
            "_view_module": "@jupyter-widgets/controls",
            "_view_module_version": "1.5.0",
            "_view_name": "HTMLView",
            "description": "",
            "description_tooltip": null,
            "layout": "IPY_MODEL_3c7900da449e4df2abba96608e8aa3d9",
            "placeholder": "​",
            "style": "IPY_MODEL_6ced3d9b37204bdabb3190552b4c3f16",
            "value": " 50/50 [44:20&lt;00:00, 49.87s/it]"
          }
        },
        "15190e3828364ebc842664d37cecd5f9": {
          "model_module": "@jupyter-widgets/base",
          "model_module_version": "1.2.0",
          "model_name": "LayoutModel",
          "state": {
            "_model_module": "@jupyter-widgets/base",
            "_model_module_version": "1.2.0",
            "_model_name": "LayoutModel",
            "_view_count": null,
            "_view_module": "@jupyter-widgets/base",
            "_view_module_version": "1.2.0",
            "_view_name": "LayoutView",
            "align_content": null,
            "align_items": null,
            "align_self": null,
            "border": null,
            "bottom": null,
            "display": null,
            "flex": null,
            "flex_flow": null,
            "grid_area": null,
            "grid_auto_columns": null,
            "grid_auto_flow": null,
            "grid_auto_rows": null,
            "grid_column": null,
            "grid_gap": null,
            "grid_row": null,
            "grid_template_areas": null,
            "grid_template_columns": null,
            "grid_template_rows": null,
            "height": null,
            "justify_content": null,
            "justify_items": null,
            "left": null,
            "margin": null,
            "max_height": null,
            "max_width": null,
            "min_height": null,
            "min_width": null,
            "object_fit": null,
            "object_position": null,
            "order": null,
            "overflow": null,
            "overflow_x": null,
            "overflow_y": null,
            "padding": null,
            "right": null,
            "top": null,
            "visibility": null,
            "width": null
          }
        },
        "181cd6737a554e9bae6ac410c9b39de9": {
          "model_module": "@jupyter-widgets/controls",
          "model_module_version": "1.5.0",
          "model_name": "FloatProgressModel",
          "state": {
            "_dom_classes": [],
            "_model_module": "@jupyter-widgets/controls",
            "_model_module_version": "1.5.0",
            "_model_name": "FloatProgressModel",
            "_view_count": null,
            "_view_module": "@jupyter-widgets/controls",
            "_view_module_version": "1.5.0",
            "_view_name": "ProgressView",
            "bar_style": "success",
            "description": "",
            "description_tooltip": null,
            "layout": "IPY_MODEL_fd3fab84cd974266bc67d74611ed9cd2",
            "max": 6392,
            "min": 0,
            "orientation": "horizontal",
            "style": "IPY_MODEL_9bc029509e1146e7bdd1aaec41efa09d",
            "value": 6392
          }
        },
        "1820408b92394767bb930dc47abd00da": {
          "model_module": "@jupyter-widgets/base",
          "model_module_version": "1.2.0",
          "model_name": "LayoutModel",
          "state": {
            "_model_module": "@jupyter-widgets/base",
            "_model_module_version": "1.2.0",
            "_model_name": "LayoutModel",
            "_view_count": null,
            "_view_module": "@jupyter-widgets/base",
            "_view_module_version": "1.2.0",
            "_view_name": "LayoutView",
            "align_content": null,
            "align_items": null,
            "align_self": null,
            "border": null,
            "bottom": null,
            "display": null,
            "flex": null,
            "flex_flow": null,
            "grid_area": null,
            "grid_auto_columns": null,
            "grid_auto_flow": null,
            "grid_auto_rows": null,
            "grid_column": null,
            "grid_gap": null,
            "grid_row": null,
            "grid_template_areas": null,
            "grid_template_columns": null,
            "grid_template_rows": null,
            "height": null,
            "justify_content": null,
            "justify_items": null,
            "left": null,
            "margin": null,
            "max_height": null,
            "max_width": null,
            "min_height": null,
            "min_width": null,
            "object_fit": null,
            "object_position": null,
            "order": null,
            "overflow": null,
            "overflow_x": null,
            "overflow_y": null,
            "padding": null,
            "right": null,
            "top": null,
            "visibility": null,
            "width": null
          }
        },
        "1834e9612c63476f8ac49d443d7e63c8": {
          "model_module": "@jupyter-widgets/base",
          "model_module_version": "1.2.0",
          "model_name": "LayoutModel",
          "state": {
            "_model_module": "@jupyter-widgets/base",
            "_model_module_version": "1.2.0",
            "_model_name": "LayoutModel",
            "_view_count": null,
            "_view_module": "@jupyter-widgets/base",
            "_view_module_version": "1.2.0",
            "_view_name": "LayoutView",
            "align_content": null,
            "align_items": null,
            "align_self": null,
            "border": null,
            "bottom": null,
            "display": null,
            "flex": null,
            "flex_flow": null,
            "grid_area": null,
            "grid_auto_columns": null,
            "grid_auto_flow": null,
            "grid_auto_rows": null,
            "grid_column": null,
            "grid_gap": null,
            "grid_row": null,
            "grid_template_areas": null,
            "grid_template_columns": null,
            "grid_template_rows": null,
            "height": null,
            "justify_content": null,
            "justify_items": null,
            "left": null,
            "margin": null,
            "max_height": null,
            "max_width": null,
            "min_height": null,
            "min_width": null,
            "object_fit": null,
            "object_position": null,
            "order": null,
            "overflow": null,
            "overflow_x": null,
            "overflow_y": null,
            "padding": null,
            "right": null,
            "top": null,
            "visibility": null,
            "width": null
          }
        },
        "1d1b3efd2290416a8b6b02f25777547c": {
          "model_module": "@jupyter-widgets/base",
          "model_module_version": "1.2.0",
          "model_name": "LayoutModel",
          "state": {
            "_model_module": "@jupyter-widgets/base",
            "_model_module_version": "1.2.0",
            "_model_name": "LayoutModel",
            "_view_count": null,
            "_view_module": "@jupyter-widgets/base",
            "_view_module_version": "1.2.0",
            "_view_name": "LayoutView",
            "align_content": null,
            "align_items": null,
            "align_self": null,
            "border": null,
            "bottom": null,
            "display": null,
            "flex": null,
            "flex_flow": null,
            "grid_area": null,
            "grid_auto_columns": null,
            "grid_auto_flow": null,
            "grid_auto_rows": null,
            "grid_column": null,
            "grid_gap": null,
            "grid_row": null,
            "grid_template_areas": null,
            "grid_template_columns": null,
            "grid_template_rows": null,
            "height": null,
            "justify_content": null,
            "justify_items": null,
            "left": null,
            "margin": null,
            "max_height": null,
            "max_width": null,
            "min_height": null,
            "min_width": null,
            "object_fit": null,
            "object_position": null,
            "order": null,
            "overflow": null,
            "overflow_x": null,
            "overflow_y": null,
            "padding": null,
            "right": null,
            "top": null,
            "visibility": null,
            "width": null
          }
        },
        "2b3f624cfc9a4cfc9adeda69b9f6634b": {
          "model_module": "@jupyter-widgets/controls",
          "model_module_version": "1.5.0",
          "model_name": "HTMLModel",
          "state": {
            "_dom_classes": [],
            "_model_module": "@jupyter-widgets/controls",
            "_model_module_version": "1.5.0",
            "_model_name": "HTMLModel",
            "_view_count": null,
            "_view_module": "@jupyter-widgets/controls",
            "_view_module_version": "1.5.0",
            "_view_name": "HTMLView",
            "description": "",
            "description_tooltip": null,
            "layout": "IPY_MODEL_76b88c73c1ad428db1f86203e34b70bf",
            "placeholder": "​",
            "style": "IPY_MODEL_c7ddc79473d340bbba373722f23b3a92",
            "value": "Best trial: 43. Best value: 0.750807: 100%"
          }
        },
        "33dd3efb58ff4570aaa6cdeaf5fd4a20": {
          "model_module": "@jupyter-widgets/controls",
          "model_module_version": "1.5.0",
          "model_name": "HBoxModel",
          "state": {
            "_dom_classes": [],
            "_model_module": "@jupyter-widgets/controls",
            "_model_module_version": "1.5.0",
            "_model_name": "HBoxModel",
            "_view_count": null,
            "_view_module": "@jupyter-widgets/controls",
            "_view_module_version": "1.5.0",
            "_view_name": "HBoxView",
            "box_style": "",
            "children": [
              "IPY_MODEL_ddaa2cc9d7d24156b6ace626799a34db",
              "IPY_MODEL_6ede5dd9811b4134bbb36ecf6756f19c",
              "IPY_MODEL_5d764eee2cd343488cb43200b1a72761"
            ],
            "layout": "IPY_MODEL_609cf3fffcdd493cb2435abdf536565b"
          }
        },
        "3c7900da449e4df2abba96608e8aa3d9": {
          "model_module": "@jupyter-widgets/base",
          "model_module_version": "1.2.0",
          "model_name": "LayoutModel",
          "state": {
            "_model_module": "@jupyter-widgets/base",
            "_model_module_version": "1.2.0",
            "_model_name": "LayoutModel",
            "_view_count": null,
            "_view_module": "@jupyter-widgets/base",
            "_view_module_version": "1.2.0",
            "_view_name": "LayoutView",
            "align_content": null,
            "align_items": null,
            "align_self": null,
            "border": null,
            "bottom": null,
            "display": null,
            "flex": null,
            "flex_flow": null,
            "grid_area": null,
            "grid_auto_columns": null,
            "grid_auto_flow": null,
            "grid_auto_rows": null,
            "grid_column": null,
            "grid_gap": null,
            "grid_row": null,
            "grid_template_areas": null,
            "grid_template_columns": null,
            "grid_template_rows": null,
            "height": null,
            "justify_content": null,
            "justify_items": null,
            "left": null,
            "margin": null,
            "max_height": null,
            "max_width": null,
            "min_height": null,
            "min_width": null,
            "object_fit": null,
            "object_position": null,
            "order": null,
            "overflow": null,
            "overflow_x": null,
            "overflow_y": null,
            "padding": null,
            "right": null,
            "top": null,
            "visibility": null,
            "width": null
          }
        },
        "3c8bb669e04f45ccbf2368e55e14647b": {
          "model_module": "@jupyter-widgets/controls",
          "model_module_version": "1.5.0",
          "model_name": "HTMLModel",
          "state": {
            "_dom_classes": [],
            "_model_module": "@jupyter-widgets/controls",
            "_model_module_version": "1.5.0",
            "_model_name": "HTMLModel",
            "_view_count": null,
            "_view_module": "@jupyter-widgets/controls",
            "_view_module_version": "1.5.0",
            "_view_name": "HTMLView",
            "description": "",
            "description_tooltip": null,
            "layout": "IPY_MODEL_1834e9612c63476f8ac49d443d7e63c8",
            "placeholder": "​",
            "style": "IPY_MODEL_6f66dfd88da74631be3eed6c5f4f13cb",
            "value": " 6392/6392 [00:02&lt;00:00, 3772.23it/s]"
          }
        },
        "3eda1068ef684ae780d839fe1da5bc1d": {
          "model_module": "@jupyter-widgets/base",
          "model_module_version": "1.2.0",
          "model_name": "LayoutModel",
          "state": {
            "_model_module": "@jupyter-widgets/base",
            "_model_module_version": "1.2.0",
            "_model_name": "LayoutModel",
            "_view_count": null,
            "_view_module": "@jupyter-widgets/base",
            "_view_module_version": "1.2.0",
            "_view_name": "LayoutView",
            "align_content": null,
            "align_items": null,
            "align_self": null,
            "border": null,
            "bottom": null,
            "display": null,
            "flex": null,
            "flex_flow": null,
            "grid_area": null,
            "grid_auto_columns": null,
            "grid_auto_flow": null,
            "grid_auto_rows": null,
            "grid_column": null,
            "grid_gap": null,
            "grid_row": null,
            "grid_template_areas": null,
            "grid_template_columns": null,
            "grid_template_rows": null,
            "height": null,
            "justify_content": null,
            "justify_items": null,
            "left": null,
            "margin": null,
            "max_height": null,
            "max_width": null,
            "min_height": null,
            "min_width": null,
            "object_fit": null,
            "object_position": null,
            "order": null,
            "overflow": null,
            "overflow_x": null,
            "overflow_y": null,
            "padding": null,
            "right": null,
            "top": null,
            "visibility": null,
            "width": null
          }
        },
        "42ae734efb77407da19d7d7475fe977c": {
          "model_module": "@jupyter-widgets/controls",
          "model_module_version": "1.5.0",
          "model_name": "HBoxModel",
          "state": {
            "_dom_classes": [],
            "_model_module": "@jupyter-widgets/controls",
            "_model_module_version": "1.5.0",
            "_model_name": "HBoxModel",
            "_view_count": null,
            "_view_module": "@jupyter-widgets/controls",
            "_view_module_version": "1.5.0",
            "_view_name": "HBoxView",
            "box_style": "",
            "children": [
              "IPY_MODEL_0531e7e9a6694f51a67e0cee4345448b",
              "IPY_MODEL_09d351963aed4f7981679de549ef19fc",
              "IPY_MODEL_0f2029bde9e14787a5531f5d911ac08a"
            ],
            "layout": "IPY_MODEL_1d1b3efd2290416a8b6b02f25777547c"
          }
        },
        "42bd5bfb357644b3b0ba411bd6e063ae": {
          "model_module": "@jupyter-widgets/controls",
          "model_module_version": "1.5.0",
          "model_name": "HTMLModel",
          "state": {
            "_dom_classes": [],
            "_model_module": "@jupyter-widgets/controls",
            "_model_module_version": "1.5.0",
            "_model_name": "HTMLModel",
            "_view_count": null,
            "_view_module": "@jupyter-widgets/controls",
            "_view_module_version": "1.5.0",
            "_view_name": "HTMLView",
            "description": "",
            "description_tooltip": null,
            "layout": "IPY_MODEL_1820408b92394767bb930dc47abd00da",
            "placeholder": "​",
            "style": "IPY_MODEL_ded2d3b0783f45bdb3bc43fec70724ac",
            "value": " 50/50 [21:21&lt;00:00, 17.06s/it]"
          }
        },
        "437fb668d2c84db1a29d5d4dcbabf399": {
          "model_module": "@jupyter-widgets/controls",
          "model_module_version": "1.5.0",
          "model_name": "DescriptionStyleModel",
          "state": {
            "_model_module": "@jupyter-widgets/controls",
            "_model_module_version": "1.5.0",
            "_model_name": "DescriptionStyleModel",
            "_view_count": null,
            "_view_module": "@jupyter-widgets/base",
            "_view_module_version": "1.2.0",
            "_view_name": "StyleView",
            "description_width": ""
          }
        },
        "49e98a2937214611a055b81836ae7242": {
          "model_module": "@jupyter-widgets/controls",
          "model_module_version": "1.5.0",
          "model_name": "ProgressStyleModel",
          "state": {
            "_model_module": "@jupyter-widgets/controls",
            "_model_module_version": "1.5.0",
            "_model_name": "ProgressStyleModel",
            "_view_count": null,
            "_view_module": "@jupyter-widgets/base",
            "_view_module_version": "1.2.0",
            "_view_name": "StyleView",
            "bar_color": null,
            "description_width": ""
          }
        },
        "4a071cf4958d4edeaaa94d08d283b227": {
          "model_module": "@jupyter-widgets/base",
          "model_module_version": "1.2.0",
          "model_name": "LayoutModel",
          "state": {
            "_model_module": "@jupyter-widgets/base",
            "_model_module_version": "1.2.0",
            "_model_name": "LayoutModel",
            "_view_count": null,
            "_view_module": "@jupyter-widgets/base",
            "_view_module_version": "1.2.0",
            "_view_name": "LayoutView",
            "align_content": null,
            "align_items": null,
            "align_self": null,
            "border": null,
            "bottom": null,
            "display": null,
            "flex": null,
            "flex_flow": null,
            "grid_area": null,
            "grid_auto_columns": null,
            "grid_auto_flow": null,
            "grid_auto_rows": null,
            "grid_column": null,
            "grid_gap": null,
            "grid_row": null,
            "grid_template_areas": null,
            "grid_template_columns": null,
            "grid_template_rows": null,
            "height": null,
            "justify_content": null,
            "justify_items": null,
            "left": null,
            "margin": null,
            "max_height": null,
            "max_width": null,
            "min_height": null,
            "min_width": null,
            "object_fit": null,
            "object_position": null,
            "order": null,
            "overflow": null,
            "overflow_x": null,
            "overflow_y": null,
            "padding": null,
            "right": null,
            "top": null,
            "visibility": null,
            "width": null
          }
        },
        "4a2f2fa788a04c5faf54baf654e9e046": {
          "model_module": "@jupyter-widgets/controls",
          "model_module_version": "1.5.0",
          "model_name": "ProgressStyleModel",
          "state": {
            "_model_module": "@jupyter-widgets/controls",
            "_model_module_version": "1.5.0",
            "_model_name": "ProgressStyleModel",
            "_view_count": null,
            "_view_module": "@jupyter-widgets/base",
            "_view_module_version": "1.2.0",
            "_view_name": "StyleView",
            "bar_color": null,
            "description_width": ""
          }
        },
        "5330c3c29928455e9a877471209fc9af": {
          "model_module": "@jupyter-widgets/controls",
          "model_module_version": "1.5.0",
          "model_name": "ProgressStyleModel",
          "state": {
            "_model_module": "@jupyter-widgets/controls",
            "_model_module_version": "1.5.0",
            "_model_name": "ProgressStyleModel",
            "_view_count": null,
            "_view_module": "@jupyter-widgets/base",
            "_view_module_version": "1.2.0",
            "_view_name": "StyleView",
            "bar_color": null,
            "description_width": ""
          }
        },
        "54785fe374e44af8bc11bb12fb98a0e0": {
          "model_module": "@jupyter-widgets/base",
          "model_module_version": "1.2.0",
          "model_name": "LayoutModel",
          "state": {
            "_model_module": "@jupyter-widgets/base",
            "_model_module_version": "1.2.0",
            "_model_name": "LayoutModel",
            "_view_count": null,
            "_view_module": "@jupyter-widgets/base",
            "_view_module_version": "1.2.0",
            "_view_name": "LayoutView",
            "align_content": null,
            "align_items": null,
            "align_self": null,
            "border": null,
            "bottom": null,
            "display": null,
            "flex": null,
            "flex_flow": null,
            "grid_area": null,
            "grid_auto_columns": null,
            "grid_auto_flow": null,
            "grid_auto_rows": null,
            "grid_column": null,
            "grid_gap": null,
            "grid_row": null,
            "grid_template_areas": null,
            "grid_template_columns": null,
            "grid_template_rows": null,
            "height": null,
            "justify_content": null,
            "justify_items": null,
            "left": null,
            "margin": null,
            "max_height": null,
            "max_width": null,
            "min_height": null,
            "min_width": null,
            "object_fit": null,
            "object_position": null,
            "order": null,
            "overflow": null,
            "overflow_x": null,
            "overflow_y": null,
            "padding": null,
            "right": null,
            "top": null,
            "visibility": null,
            "width": null
          }
        },
        "5d764eee2cd343488cb43200b1a72761": {
          "model_module": "@jupyter-widgets/controls",
          "model_module_version": "1.5.0",
          "model_name": "HTMLModel",
          "state": {
            "_dom_classes": [],
            "_model_module": "@jupyter-widgets/controls",
            "_model_module_version": "1.5.0",
            "_model_name": "HTMLModel",
            "_view_count": null,
            "_view_module": "@jupyter-widgets/controls",
            "_view_module_version": "1.5.0",
            "_view_name": "HTMLView",
            "description": "",
            "description_tooltip": null,
            "layout": "IPY_MODEL_ce25e58d0d1e44e3897baa46d2466820",
            "placeholder": "​",
            "style": "IPY_MODEL_e9365e9dd3ea4092991a98e4f987d2d5",
            "value": " 6386/6386 [00:00&lt;00:00, 8322.87it/s]"
          }
        },
        "609cf3fffcdd493cb2435abdf536565b": {
          "model_module": "@jupyter-widgets/base",
          "model_module_version": "1.2.0",
          "model_name": "LayoutModel",
          "state": {
            "_model_module": "@jupyter-widgets/base",
            "_model_module_version": "1.2.0",
            "_model_name": "LayoutModel",
            "_view_count": null,
            "_view_module": "@jupyter-widgets/base",
            "_view_module_version": "1.2.0",
            "_view_name": "LayoutView",
            "align_content": null,
            "align_items": null,
            "align_self": null,
            "border": null,
            "bottom": null,
            "display": null,
            "flex": null,
            "flex_flow": null,
            "grid_area": null,
            "grid_auto_columns": null,
            "grid_auto_flow": null,
            "grid_auto_rows": null,
            "grid_column": null,
            "grid_gap": null,
            "grid_row": null,
            "grid_template_areas": null,
            "grid_template_columns": null,
            "grid_template_rows": null,
            "height": null,
            "justify_content": null,
            "justify_items": null,
            "left": null,
            "margin": null,
            "max_height": null,
            "max_width": null,
            "min_height": null,
            "min_width": null,
            "object_fit": null,
            "object_position": null,
            "order": null,
            "overflow": null,
            "overflow_x": null,
            "overflow_y": null,
            "padding": null,
            "right": null,
            "top": null,
            "visibility": null,
            "width": null
          }
        },
        "61e1bc4aaf5f4143ad5e6fd83a737510": {
          "model_module": "@jupyter-widgets/base",
          "model_module_version": "1.2.0",
          "model_name": "LayoutModel",
          "state": {
            "_model_module": "@jupyter-widgets/base",
            "_model_module_version": "1.2.0",
            "_model_name": "LayoutModel",
            "_view_count": null,
            "_view_module": "@jupyter-widgets/base",
            "_view_module_version": "1.2.0",
            "_view_name": "LayoutView",
            "align_content": null,
            "align_items": null,
            "align_self": null,
            "border": null,
            "bottom": null,
            "display": null,
            "flex": null,
            "flex_flow": null,
            "grid_area": null,
            "grid_auto_columns": null,
            "grid_auto_flow": null,
            "grid_auto_rows": null,
            "grid_column": null,
            "grid_gap": null,
            "grid_row": null,
            "grid_template_areas": null,
            "grid_template_columns": null,
            "grid_template_rows": null,
            "height": null,
            "justify_content": null,
            "justify_items": null,
            "left": null,
            "margin": null,
            "max_height": null,
            "max_width": null,
            "min_height": null,
            "min_width": null,
            "object_fit": null,
            "object_position": null,
            "order": null,
            "overflow": null,
            "overflow_x": null,
            "overflow_y": null,
            "padding": null,
            "right": null,
            "top": null,
            "visibility": null,
            "width": null
          }
        },
        "6c8ebe9e51f94949b097f8a02bf991e9": {
          "model_module": "@jupyter-widgets/base",
          "model_module_version": "1.2.0",
          "model_name": "LayoutModel",
          "state": {
            "_model_module": "@jupyter-widgets/base",
            "_model_module_version": "1.2.0",
            "_model_name": "LayoutModel",
            "_view_count": null,
            "_view_module": "@jupyter-widgets/base",
            "_view_module_version": "1.2.0",
            "_view_name": "LayoutView",
            "align_content": null,
            "align_items": null,
            "align_self": null,
            "border": null,
            "bottom": null,
            "display": null,
            "flex": null,
            "flex_flow": null,
            "grid_area": null,
            "grid_auto_columns": null,
            "grid_auto_flow": null,
            "grid_auto_rows": null,
            "grid_column": null,
            "grid_gap": null,
            "grid_row": null,
            "grid_template_areas": null,
            "grid_template_columns": null,
            "grid_template_rows": null,
            "height": null,
            "justify_content": null,
            "justify_items": null,
            "left": null,
            "margin": null,
            "max_height": null,
            "max_width": null,
            "min_height": null,
            "min_width": null,
            "object_fit": null,
            "object_position": null,
            "order": null,
            "overflow": null,
            "overflow_x": null,
            "overflow_y": null,
            "padding": null,
            "right": null,
            "top": null,
            "visibility": null,
            "width": null
          }
        },
        "6ced3d9b37204bdabb3190552b4c3f16": {
          "model_module": "@jupyter-widgets/controls",
          "model_module_version": "1.5.0",
          "model_name": "DescriptionStyleModel",
          "state": {
            "_model_module": "@jupyter-widgets/controls",
            "_model_module_version": "1.5.0",
            "_model_name": "DescriptionStyleModel",
            "_view_count": null,
            "_view_module": "@jupyter-widgets/base",
            "_view_module_version": "1.2.0",
            "_view_name": "StyleView",
            "description_width": ""
          }
        },
        "6ede5dd9811b4134bbb36ecf6756f19c": {
          "model_module": "@jupyter-widgets/controls",
          "model_module_version": "1.5.0",
          "model_name": "FloatProgressModel",
          "state": {
            "_dom_classes": [],
            "_model_module": "@jupyter-widgets/controls",
            "_model_module_version": "1.5.0",
            "_model_name": "FloatProgressModel",
            "_view_count": null,
            "_view_module": "@jupyter-widgets/controls",
            "_view_module_version": "1.5.0",
            "_view_name": "ProgressView",
            "bar_style": "success",
            "description": "",
            "description_tooltip": null,
            "layout": "IPY_MODEL_747262cbd643436c89c8acf3019d581c",
            "max": 6386,
            "min": 0,
            "orientation": "horizontal",
            "style": "IPY_MODEL_5330c3c29928455e9a877471209fc9af",
            "value": 6386
          }
        },
        "6f66dfd88da74631be3eed6c5f4f13cb": {
          "model_module": "@jupyter-widgets/controls",
          "model_module_version": "1.5.0",
          "model_name": "DescriptionStyleModel",
          "state": {
            "_model_module": "@jupyter-widgets/controls",
            "_model_module_version": "1.5.0",
            "_model_name": "DescriptionStyleModel",
            "_view_count": null,
            "_view_module": "@jupyter-widgets/base",
            "_view_module_version": "1.2.0",
            "_view_name": "StyleView",
            "description_width": ""
          }
        },
        "72cdb6a81b414d4492ec7572ba815213": {
          "model_module": "@jupyter-widgets/controls",
          "model_module_version": "1.5.0",
          "model_name": "HBoxModel",
          "state": {
            "_dom_classes": [],
            "_model_module": "@jupyter-widgets/controls",
            "_model_module_version": "1.5.0",
            "_model_name": "HBoxModel",
            "_view_count": null,
            "_view_module": "@jupyter-widgets/controls",
            "_view_module_version": "1.5.0",
            "_view_name": "HBoxView",
            "box_style": "",
            "children": [
              "IPY_MODEL_a8c883a4a7754e04bff00b0dab2cbdcb",
              "IPY_MODEL_181cd6737a554e9bae6ac410c9b39de9",
              "IPY_MODEL_3c8bb669e04f45ccbf2368e55e14647b"
            ],
            "layout": "IPY_MODEL_6c8ebe9e51f94949b097f8a02bf991e9"
          }
        },
        "7379bb8079af4a94b5cb8449d4582b8f": {
          "model_module": "@jupyter-widgets/base",
          "model_module_version": "1.2.0",
          "model_name": "LayoutModel",
          "state": {
            "_model_module": "@jupyter-widgets/base",
            "_model_module_version": "1.2.0",
            "_model_name": "LayoutModel",
            "_view_count": null,
            "_view_module": "@jupyter-widgets/base",
            "_view_module_version": "1.2.0",
            "_view_name": "LayoutView",
            "align_content": null,
            "align_items": null,
            "align_self": null,
            "border": null,
            "bottom": null,
            "display": null,
            "flex": null,
            "flex_flow": null,
            "grid_area": null,
            "grid_auto_columns": null,
            "grid_auto_flow": null,
            "grid_auto_rows": null,
            "grid_column": null,
            "grid_gap": null,
            "grid_row": null,
            "grid_template_areas": null,
            "grid_template_columns": null,
            "grid_template_rows": null,
            "height": null,
            "justify_content": null,
            "justify_items": null,
            "left": null,
            "margin": null,
            "max_height": null,
            "max_width": null,
            "min_height": null,
            "min_width": null,
            "object_fit": null,
            "object_position": null,
            "order": null,
            "overflow": null,
            "overflow_x": null,
            "overflow_y": null,
            "padding": null,
            "right": null,
            "top": null,
            "visibility": null,
            "width": null
          }
        },
        "747262cbd643436c89c8acf3019d581c": {
          "model_module": "@jupyter-widgets/base",
          "model_module_version": "1.2.0",
          "model_name": "LayoutModel",
          "state": {
            "_model_module": "@jupyter-widgets/base",
            "_model_module_version": "1.2.0",
            "_model_name": "LayoutModel",
            "_view_count": null,
            "_view_module": "@jupyter-widgets/base",
            "_view_module_version": "1.2.0",
            "_view_name": "LayoutView",
            "align_content": null,
            "align_items": null,
            "align_self": null,
            "border": null,
            "bottom": null,
            "display": null,
            "flex": null,
            "flex_flow": null,
            "grid_area": null,
            "grid_auto_columns": null,
            "grid_auto_flow": null,
            "grid_auto_rows": null,
            "grid_column": null,
            "grid_gap": null,
            "grid_row": null,
            "grid_template_areas": null,
            "grid_template_columns": null,
            "grid_template_rows": null,
            "height": null,
            "justify_content": null,
            "justify_items": null,
            "left": null,
            "margin": null,
            "max_height": null,
            "max_width": null,
            "min_height": null,
            "min_width": null,
            "object_fit": null,
            "object_position": null,
            "order": null,
            "overflow": null,
            "overflow_x": null,
            "overflow_y": null,
            "padding": null,
            "right": null,
            "top": null,
            "visibility": null,
            "width": null
          }
        },
        "76b88c73c1ad428db1f86203e34b70bf": {
          "model_module": "@jupyter-widgets/base",
          "model_module_version": "1.2.0",
          "model_name": "LayoutModel",
          "state": {
            "_model_module": "@jupyter-widgets/base",
            "_model_module_version": "1.2.0",
            "_model_name": "LayoutModel",
            "_view_count": null,
            "_view_module": "@jupyter-widgets/base",
            "_view_module_version": "1.2.0",
            "_view_name": "LayoutView",
            "align_content": null,
            "align_items": null,
            "align_self": null,
            "border": null,
            "bottom": null,
            "display": null,
            "flex": null,
            "flex_flow": null,
            "grid_area": null,
            "grid_auto_columns": null,
            "grid_auto_flow": null,
            "grid_auto_rows": null,
            "grid_column": null,
            "grid_gap": null,
            "grid_row": null,
            "grid_template_areas": null,
            "grid_template_columns": null,
            "grid_template_rows": null,
            "height": null,
            "justify_content": null,
            "justify_items": null,
            "left": null,
            "margin": null,
            "max_height": null,
            "max_width": null,
            "min_height": null,
            "min_width": null,
            "object_fit": null,
            "object_position": null,
            "order": null,
            "overflow": null,
            "overflow_x": null,
            "overflow_y": null,
            "padding": null,
            "right": null,
            "top": null,
            "visibility": null,
            "width": null
          }
        },
        "78354a3fc2b94dfda26004da26cd9300": {
          "model_module": "@jupyter-widgets/controls",
          "model_module_version": "1.5.0",
          "model_name": "HBoxModel",
          "state": {
            "_dom_classes": [],
            "_model_module": "@jupyter-widgets/controls",
            "_model_module_version": "1.5.0",
            "_model_name": "HBoxModel",
            "_view_count": null,
            "_view_module": "@jupyter-widgets/controls",
            "_view_module_version": "1.5.0",
            "_view_name": "HBoxView",
            "box_style": "",
            "children": [
              "IPY_MODEL_2b3f624cfc9a4cfc9adeda69b9f6634b",
              "IPY_MODEL_9c504ce49b844debbeaa454501cc4ee4",
              "IPY_MODEL_42bd5bfb357644b3b0ba411bd6e063ae"
            ],
            "layout": "IPY_MODEL_91abfa0f56b846c1a32d1a4bbeb31121"
          }
        },
        "787f29dc0c0a4cce80da326436d4f1ff": {
          "model_module": "@jupyter-widgets/controls",
          "model_module_version": "1.5.0",
          "model_name": "FloatProgressModel",
          "state": {
            "_dom_classes": [],
            "_model_module": "@jupyter-widgets/controls",
            "_model_module_version": "1.5.0",
            "_model_name": "FloatProgressModel",
            "_view_count": null,
            "_view_module": "@jupyter-widgets/controls",
            "_view_module_version": "1.5.0",
            "_view_name": "ProgressView",
            "bar_style": "success",
            "description": "",
            "description_tooltip": null,
            "layout": "IPY_MODEL_3eda1068ef684ae780d839fe1da5bc1d",
            "max": 6386,
            "min": 0,
            "orientation": "horizontal",
            "style": "IPY_MODEL_e180f9db2c6f458c87ada9781c0c0216",
            "value": 6386
          }
        },
        "8b3b90234fe2491e9539eb4317173046": {
          "model_module": "@jupyter-widgets/controls",
          "model_module_version": "1.5.0",
          "model_name": "DescriptionStyleModel",
          "state": {
            "_model_module": "@jupyter-widgets/controls",
            "_model_module_version": "1.5.0",
            "_model_name": "DescriptionStyleModel",
            "_view_count": null,
            "_view_module": "@jupyter-widgets/base",
            "_view_module_version": "1.2.0",
            "_view_name": "StyleView",
            "description_width": ""
          }
        },
        "8f8a33d1c0aa4f438dd6b2cfe0a9a1f8": {
          "model_module": "@jupyter-widgets/base",
          "model_module_version": "1.2.0",
          "model_name": "LayoutModel",
          "state": {
            "_model_module": "@jupyter-widgets/base",
            "_model_module_version": "1.2.0",
            "_model_name": "LayoutModel",
            "_view_count": null,
            "_view_module": "@jupyter-widgets/base",
            "_view_module_version": "1.2.0",
            "_view_name": "LayoutView",
            "align_content": null,
            "align_items": null,
            "align_self": null,
            "border": null,
            "bottom": null,
            "display": null,
            "flex": null,
            "flex_flow": null,
            "grid_area": null,
            "grid_auto_columns": null,
            "grid_auto_flow": null,
            "grid_auto_rows": null,
            "grid_column": null,
            "grid_gap": null,
            "grid_row": null,
            "grid_template_areas": null,
            "grid_template_columns": null,
            "grid_template_rows": null,
            "height": null,
            "justify_content": null,
            "justify_items": null,
            "left": null,
            "margin": null,
            "max_height": null,
            "max_width": null,
            "min_height": null,
            "min_width": null,
            "object_fit": null,
            "object_position": null,
            "order": null,
            "overflow": null,
            "overflow_x": null,
            "overflow_y": null,
            "padding": null,
            "right": null,
            "top": null,
            "visibility": null,
            "width": null
          }
        },
        "90260baaa8b244f5a5d25635beccb694": {
          "model_module": "@jupyter-widgets/controls",
          "model_module_version": "1.5.0",
          "model_name": "DescriptionStyleModel",
          "state": {
            "_model_module": "@jupyter-widgets/controls",
            "_model_module_version": "1.5.0",
            "_model_name": "DescriptionStyleModel",
            "_view_count": null,
            "_view_module": "@jupyter-widgets/base",
            "_view_module_version": "1.2.0",
            "_view_name": "StyleView",
            "description_width": ""
          }
        },
        "91abfa0f56b846c1a32d1a4bbeb31121": {
          "model_module": "@jupyter-widgets/base",
          "model_module_version": "1.2.0",
          "model_name": "LayoutModel",
          "state": {
            "_model_module": "@jupyter-widgets/base",
            "_model_module_version": "1.2.0",
            "_model_name": "LayoutModel",
            "_view_count": null,
            "_view_module": "@jupyter-widgets/base",
            "_view_module_version": "1.2.0",
            "_view_name": "LayoutView",
            "align_content": null,
            "align_items": null,
            "align_self": null,
            "border": null,
            "bottom": null,
            "display": null,
            "flex": null,
            "flex_flow": null,
            "grid_area": null,
            "grid_auto_columns": null,
            "grid_auto_flow": null,
            "grid_auto_rows": null,
            "grid_column": null,
            "grid_gap": null,
            "grid_row": null,
            "grid_template_areas": null,
            "grid_template_columns": null,
            "grid_template_rows": null,
            "height": null,
            "justify_content": null,
            "justify_items": null,
            "left": null,
            "margin": null,
            "max_height": null,
            "max_width": null,
            "min_height": null,
            "min_width": null,
            "object_fit": null,
            "object_position": null,
            "order": null,
            "overflow": null,
            "overflow_x": null,
            "overflow_y": null,
            "padding": null,
            "right": null,
            "top": null,
            "visibility": null,
            "width": null
          }
        },
        "97a3dd3dbd5c4609b2ca337b9e817aff": {
          "model_module": "@jupyter-widgets/base",
          "model_module_version": "1.2.0",
          "model_name": "LayoutModel",
          "state": {
            "_model_module": "@jupyter-widgets/base",
            "_model_module_version": "1.2.0",
            "_model_name": "LayoutModel",
            "_view_count": null,
            "_view_module": "@jupyter-widgets/base",
            "_view_module_version": "1.2.0",
            "_view_name": "LayoutView",
            "align_content": null,
            "align_items": null,
            "align_self": null,
            "border": null,
            "bottom": null,
            "display": null,
            "flex": null,
            "flex_flow": null,
            "grid_area": null,
            "grid_auto_columns": null,
            "grid_auto_flow": null,
            "grid_auto_rows": null,
            "grid_column": null,
            "grid_gap": null,
            "grid_row": null,
            "grid_template_areas": null,
            "grid_template_columns": null,
            "grid_template_rows": null,
            "height": null,
            "justify_content": null,
            "justify_items": null,
            "left": null,
            "margin": null,
            "max_height": null,
            "max_width": null,
            "min_height": null,
            "min_width": null,
            "object_fit": null,
            "object_position": null,
            "order": null,
            "overflow": null,
            "overflow_x": null,
            "overflow_y": null,
            "padding": null,
            "right": null,
            "top": null,
            "visibility": null,
            "width": null
          }
        },
        "97dac7da877b4773937142f6fe927458": {
          "model_module": "@jupyter-widgets/base",
          "model_module_version": "1.2.0",
          "model_name": "LayoutModel",
          "state": {
            "_model_module": "@jupyter-widgets/base",
            "_model_module_version": "1.2.0",
            "_model_name": "LayoutModel",
            "_view_count": null,
            "_view_module": "@jupyter-widgets/base",
            "_view_module_version": "1.2.0",
            "_view_name": "LayoutView",
            "align_content": null,
            "align_items": null,
            "align_self": null,
            "border": null,
            "bottom": null,
            "display": null,
            "flex": null,
            "flex_flow": null,
            "grid_area": null,
            "grid_auto_columns": null,
            "grid_auto_flow": null,
            "grid_auto_rows": null,
            "grid_column": null,
            "grid_gap": null,
            "grid_row": null,
            "grid_template_areas": null,
            "grid_template_columns": null,
            "grid_template_rows": null,
            "height": null,
            "justify_content": null,
            "justify_items": null,
            "left": null,
            "margin": null,
            "max_height": null,
            "max_width": null,
            "min_height": null,
            "min_width": null,
            "object_fit": null,
            "object_position": null,
            "order": null,
            "overflow": null,
            "overflow_x": null,
            "overflow_y": null,
            "padding": null,
            "right": null,
            "top": null,
            "visibility": null,
            "width": null
          }
        },
        "9bc029509e1146e7bdd1aaec41efa09d": {
          "model_module": "@jupyter-widgets/controls",
          "model_module_version": "1.5.0",
          "model_name": "ProgressStyleModel",
          "state": {
            "_model_module": "@jupyter-widgets/controls",
            "_model_module_version": "1.5.0",
            "_model_name": "ProgressStyleModel",
            "_view_count": null,
            "_view_module": "@jupyter-widgets/base",
            "_view_module_version": "1.2.0",
            "_view_name": "StyleView",
            "bar_color": null,
            "description_width": ""
          }
        },
        "9c504ce49b844debbeaa454501cc4ee4": {
          "model_module": "@jupyter-widgets/controls",
          "model_module_version": "1.5.0",
          "model_name": "FloatProgressModel",
          "state": {
            "_dom_classes": [],
            "_model_module": "@jupyter-widgets/controls",
            "_model_module_version": "1.5.0",
            "_model_name": "FloatProgressModel",
            "_view_count": null,
            "_view_module": "@jupyter-widgets/controls",
            "_view_module_version": "1.5.0",
            "_view_name": "ProgressView",
            "bar_style": "success",
            "description": "",
            "description_tooltip": null,
            "layout": "IPY_MODEL_fca544b64b264527990db6535f2d789e",
            "max": 50,
            "min": 0,
            "orientation": "horizontal",
            "style": "IPY_MODEL_c327e0298f274872b06c635f072ef45d",
            "value": 50
          }
        },
        "a2c3d3d551c34c63b8109c7f1b14f200": {
          "model_module": "@jupyter-widgets/controls",
          "model_module_version": "1.5.0",
          "model_name": "DescriptionStyleModel",
          "state": {
            "_model_module": "@jupyter-widgets/controls",
            "_model_module_version": "1.5.0",
            "_model_name": "DescriptionStyleModel",
            "_view_count": null,
            "_view_module": "@jupyter-widgets/base",
            "_view_module_version": "1.2.0",
            "_view_name": "StyleView",
            "description_width": ""
          }
        },
        "a8c883a4a7754e04bff00b0dab2cbdcb": {
          "model_module": "@jupyter-widgets/controls",
          "model_module_version": "1.5.0",
          "model_name": "HTMLModel",
          "state": {
            "_dom_classes": [],
            "_model_module": "@jupyter-widgets/controls",
            "_model_module_version": "1.5.0",
            "_model_name": "HTMLModel",
            "_view_count": null,
            "_view_module": "@jupyter-widgets/controls",
            "_view_module_version": "1.5.0",
            "_view_name": "HTMLView",
            "description": "",
            "description_tooltip": null,
            "layout": "IPY_MODEL_abff0a18f7134c95ba820ab5c435c288",
            "placeholder": "​",
            "style": "IPY_MODEL_a2c3d3d551c34c63b8109c7f1b14f200",
            "value": "Parsing SMILES: 100%"
          }
        },
        "abff0a18f7134c95ba820ab5c435c288": {
          "model_module": "@jupyter-widgets/base",
          "model_module_version": "1.2.0",
          "model_name": "LayoutModel",
          "state": {
            "_model_module": "@jupyter-widgets/base",
            "_model_module_version": "1.2.0",
            "_model_name": "LayoutModel",
            "_view_count": null,
            "_view_module": "@jupyter-widgets/base",
            "_view_module_version": "1.2.0",
            "_view_name": "LayoutView",
            "align_content": null,
            "align_items": null,
            "align_self": null,
            "border": null,
            "bottom": null,
            "display": null,
            "flex": null,
            "flex_flow": null,
            "grid_area": null,
            "grid_auto_columns": null,
            "grid_auto_flow": null,
            "grid_auto_rows": null,
            "grid_column": null,
            "grid_gap": null,
            "grid_row": null,
            "grid_template_areas": null,
            "grid_template_columns": null,
            "grid_template_rows": null,
            "height": null,
            "justify_content": null,
            "justify_items": null,
            "left": null,
            "margin": null,
            "max_height": null,
            "max_width": null,
            "min_height": null,
            "min_width": null,
            "object_fit": null,
            "object_position": null,
            "order": null,
            "overflow": null,
            "overflow_x": null,
            "overflow_y": null,
            "padding": null,
            "right": null,
            "top": null,
            "visibility": null,
            "width": null
          }
        },
        "b080864d78ef4999a1f4341978ef52af": {
          "model_module": "@jupyter-widgets/base",
          "model_module_version": "1.2.0",
          "model_name": "LayoutModel",
          "state": {
            "_model_module": "@jupyter-widgets/base",
            "_model_module_version": "1.2.0",
            "_model_name": "LayoutModel",
            "_view_count": null,
            "_view_module": "@jupyter-widgets/base",
            "_view_module_version": "1.2.0",
            "_view_name": "LayoutView",
            "align_content": null,
            "align_items": null,
            "align_self": null,
            "border": null,
            "bottom": null,
            "display": null,
            "flex": null,
            "flex_flow": null,
            "grid_area": null,
            "grid_auto_columns": null,
            "grid_auto_flow": null,
            "grid_auto_rows": null,
            "grid_column": null,
            "grid_gap": null,
            "grid_row": null,
            "grid_template_areas": null,
            "grid_template_columns": null,
            "grid_template_rows": null,
            "height": null,
            "justify_content": null,
            "justify_items": null,
            "left": null,
            "margin": null,
            "max_height": null,
            "max_width": null,
            "min_height": null,
            "min_width": null,
            "object_fit": null,
            "object_position": null,
            "order": null,
            "overflow": null,
            "overflow_x": null,
            "overflow_y": null,
            "padding": null,
            "right": null,
            "top": null,
            "visibility": null,
            "width": null
          }
        },
        "b0a6d95f45fd46879feedd3892a16a86": {
          "model_module": "@jupyter-widgets/controls",
          "model_module_version": "1.5.0",
          "model_name": "HTMLModel",
          "state": {
            "_dom_classes": [],
            "_model_module": "@jupyter-widgets/controls",
            "_model_module_version": "1.5.0",
            "_model_name": "HTMLModel",
            "_view_count": null,
            "_view_module": "@jupyter-widgets/controls",
            "_view_module_version": "1.5.0",
            "_view_name": "HTMLView",
            "description": "",
            "description_tooltip": null,
            "layout": "IPY_MODEL_54785fe374e44af8bc11bb12fb98a0e0",
            "placeholder": "​",
            "style": "IPY_MODEL_90260baaa8b244f5a5d25635beccb694",
            "value": " 50/50 [03:06&lt;00:00,  2.20s/it]"
          }
        },
        "c327e0298f274872b06c635f072ef45d": {
          "model_module": "@jupyter-widgets/controls",
          "model_module_version": "1.5.0",
          "model_name": "ProgressStyleModel",
          "state": {
            "_model_module": "@jupyter-widgets/controls",
            "_model_module_version": "1.5.0",
            "_model_name": "ProgressStyleModel",
            "_view_count": null,
            "_view_module": "@jupyter-widgets/base",
            "_view_module_version": "1.2.0",
            "_view_name": "StyleView",
            "bar_color": null,
            "description_width": ""
          }
        },
        "c33df0c30490424e8a950136b1a6edfb": {
          "model_module": "@jupyter-widgets/base",
          "model_module_version": "1.2.0",
          "model_name": "LayoutModel",
          "state": {
            "_model_module": "@jupyter-widgets/base",
            "_model_module_version": "1.2.0",
            "_model_name": "LayoutModel",
            "_view_count": null,
            "_view_module": "@jupyter-widgets/base",
            "_view_module_version": "1.2.0",
            "_view_name": "LayoutView",
            "align_content": null,
            "align_items": null,
            "align_self": null,
            "border": null,
            "bottom": null,
            "display": null,
            "flex": null,
            "flex_flow": null,
            "grid_area": null,
            "grid_auto_columns": null,
            "grid_auto_flow": null,
            "grid_auto_rows": null,
            "grid_column": null,
            "grid_gap": null,
            "grid_row": null,
            "grid_template_areas": null,
            "grid_template_columns": null,
            "grid_template_rows": null,
            "height": null,
            "justify_content": null,
            "justify_items": null,
            "left": null,
            "margin": null,
            "max_height": null,
            "max_width": null,
            "min_height": null,
            "min_width": null,
            "object_fit": null,
            "object_position": null,
            "order": null,
            "overflow": null,
            "overflow_x": null,
            "overflow_y": null,
            "padding": null,
            "right": null,
            "top": null,
            "visibility": null,
            "width": null
          }
        },
        "c7ddc79473d340bbba373722f23b3a92": {
          "model_module": "@jupyter-widgets/controls",
          "model_module_version": "1.5.0",
          "model_name": "DescriptionStyleModel",
          "state": {
            "_model_module": "@jupyter-widgets/controls",
            "_model_module_version": "1.5.0",
            "_model_name": "DescriptionStyleModel",
            "_view_count": null,
            "_view_module": "@jupyter-widgets/base",
            "_view_module_version": "1.2.0",
            "_view_name": "StyleView",
            "description_width": ""
          }
        },
        "ce25e58d0d1e44e3897baa46d2466820": {
          "model_module": "@jupyter-widgets/base",
          "model_module_version": "1.2.0",
          "model_name": "LayoutModel",
          "state": {
            "_model_module": "@jupyter-widgets/base",
            "_model_module_version": "1.2.0",
            "_model_name": "LayoutModel",
            "_view_count": null,
            "_view_module": "@jupyter-widgets/base",
            "_view_module_version": "1.2.0",
            "_view_name": "LayoutView",
            "align_content": null,
            "align_items": null,
            "align_self": null,
            "border": null,
            "bottom": null,
            "display": null,
            "flex": null,
            "flex_flow": null,
            "grid_area": null,
            "grid_auto_columns": null,
            "grid_auto_flow": null,
            "grid_auto_rows": null,
            "grid_column": null,
            "grid_gap": null,
            "grid_row": null,
            "grid_template_areas": null,
            "grid_template_columns": null,
            "grid_template_rows": null,
            "height": null,
            "justify_content": null,
            "justify_items": null,
            "left": null,
            "margin": null,
            "max_height": null,
            "max_width": null,
            "min_height": null,
            "min_width": null,
            "object_fit": null,
            "object_position": null,
            "order": null,
            "overflow": null,
            "overflow_x": null,
            "overflow_y": null,
            "padding": null,
            "right": null,
            "top": null,
            "visibility": null,
            "width": null
          }
        },
        "d34fd0c05e684ac492caa4e5330df8d9": {
          "model_module": "@jupyter-widgets/controls",
          "model_module_version": "1.5.0",
          "model_name": "HBoxModel",
          "state": {
            "_dom_classes": [],
            "_model_module": "@jupyter-widgets/controls",
            "_model_module_version": "1.5.0",
            "_model_name": "HBoxModel",
            "_view_count": null,
            "_view_module": "@jupyter-widgets/controls",
            "_view_module_version": "1.5.0",
            "_view_name": "HBoxView",
            "box_style": "",
            "children": [
              "IPY_MODEL_db26792634374d998c4b262d8656ee81",
              "IPY_MODEL_787f29dc0c0a4cce80da326436d4f1ff",
              "IPY_MODEL_ec712aaa7f4e41e9834661bf72a16288"
            ],
            "layout": "IPY_MODEL_b080864d78ef4999a1f4341978ef52af"
          }
        },
        "db26792634374d998c4b262d8656ee81": {
          "model_module": "@jupyter-widgets/controls",
          "model_module_version": "1.5.0",
          "model_name": "HTMLModel",
          "state": {
            "_dom_classes": [],
            "_model_module": "@jupyter-widgets/controls",
            "_model_module_version": "1.5.0",
            "_model_name": "HTMLModel",
            "_view_count": null,
            "_view_module": "@jupyter-widgets/controls",
            "_view_module_version": "1.5.0",
            "_view_name": "HTMLView",
            "description": "",
            "description_tooltip": null,
            "layout": "IPY_MODEL_97dac7da877b4773937142f6fe927458",
            "placeholder": "​",
            "style": "IPY_MODEL_8b3b90234fe2491e9539eb4317173046",
            "value": "Computing descriptors: 100%"
          }
        },
        "ddaa2cc9d7d24156b6ace626799a34db": {
          "model_module": "@jupyter-widgets/controls",
          "model_module_version": "1.5.0",
          "model_name": "HTMLModel",
          "state": {
            "_dom_classes": [],
            "_model_module": "@jupyter-widgets/controls",
            "_model_module_version": "1.5.0",
            "_model_name": "HTMLModel",
            "_view_count": null,
            "_view_module": "@jupyter-widgets/controls",
            "_view_module_version": "1.5.0",
            "_view_name": "HTMLView",
            "description": "",
            "description_tooltip": null,
            "layout": "IPY_MODEL_8f8a33d1c0aa4f438dd6b2cfe0a9a1f8",
            "placeholder": "​",
            "style": "IPY_MODEL_01d614cc83134dc4b72f1c3afb23b2e7",
            "value": "Computing fingerprints: 100%"
          }
        },
        "ded2d3b0783f45bdb3bc43fec70724ac": {
          "model_module": "@jupyter-widgets/controls",
          "model_module_version": "1.5.0",
          "model_name": "DescriptionStyleModel",
          "state": {
            "_model_module": "@jupyter-widgets/controls",
            "_model_module_version": "1.5.0",
            "_model_name": "DescriptionStyleModel",
            "_view_count": null,
            "_view_module": "@jupyter-widgets/base",
            "_view_module_version": "1.2.0",
            "_view_name": "StyleView",
            "description_width": ""
          }
        },
        "e180f9db2c6f458c87ada9781c0c0216": {
          "model_module": "@jupyter-widgets/controls",
          "model_module_version": "1.5.0",
          "model_name": "ProgressStyleModel",
          "state": {
            "_model_module": "@jupyter-widgets/controls",
            "_model_module_version": "1.5.0",
            "_model_name": "ProgressStyleModel",
            "_view_count": null,
            "_view_module": "@jupyter-widgets/base",
            "_view_module_version": "1.2.0",
            "_view_name": "StyleView",
            "bar_color": null,
            "description_width": ""
          }
        },
        "e9365e9dd3ea4092991a98e4f987d2d5": {
          "model_module": "@jupyter-widgets/controls",
          "model_module_version": "1.5.0",
          "model_name": "DescriptionStyleModel",
          "state": {
            "_model_module": "@jupyter-widgets/controls",
            "_model_module_version": "1.5.0",
            "_model_name": "DescriptionStyleModel",
            "_view_count": null,
            "_view_module": "@jupyter-widgets/base",
            "_view_module_version": "1.2.0",
            "_view_name": "StyleView",
            "description_width": ""
          }
        },
        "e9f80320bd1149d4ba6b47e0fb0fd41d": {
          "model_module": "@jupyter-widgets/controls",
          "model_module_version": "1.5.0",
          "model_name": "HTMLModel",
          "state": {
            "_dom_classes": [],
            "_model_module": "@jupyter-widgets/controls",
            "_model_module_version": "1.5.0",
            "_model_name": "HTMLModel",
            "_view_count": null,
            "_view_module": "@jupyter-widgets/controls",
            "_view_module_version": "1.5.0",
            "_view_name": "HTMLView",
            "description": "",
            "description_tooltip": null,
            "layout": "IPY_MODEL_97a3dd3dbd5c4609b2ca337b9e817aff",
            "placeholder": "​",
            "style": "IPY_MODEL_0f1f5653b4364bf2b1b81645d12fa5d8",
            "value": "Best trial: 45. Best value: 0.743129: 100%"
          }
        },
        "ec712aaa7f4e41e9834661bf72a16288": {
          "model_module": "@jupyter-widgets/controls",
          "model_module_version": "1.5.0",
          "model_name": "HTMLModel",
          "state": {
            "_dom_classes": [],
            "_model_module": "@jupyter-widgets/controls",
            "_model_module_version": "1.5.0",
            "_model_name": "HTMLModel",
            "_view_count": null,
            "_view_module": "@jupyter-widgets/controls",
            "_view_module_version": "1.5.0",
            "_view_name": "HTMLView",
            "description": "",
            "description_tooltip": null,
            "layout": "IPY_MODEL_c33df0c30490424e8a950136b1a6edfb",
            "placeholder": "​",
            "style": "IPY_MODEL_f8ed3396e0d2452db4d23295f42a94af",
            "value": " 6386/6386 [00:03&lt;00:00, 1458.54it/s]"
          }
        },
        "f8ed3396e0d2452db4d23295f42a94af": {
          "model_module": "@jupyter-widgets/controls",
          "model_module_version": "1.5.0",
          "model_name": "DescriptionStyleModel",
          "state": {
            "_model_module": "@jupyter-widgets/controls",
            "_model_module_version": "1.5.0",
            "_model_name": "DescriptionStyleModel",
            "_view_count": null,
            "_view_module": "@jupyter-widgets/base",
            "_view_module_version": "1.2.0",
            "_view_name": "StyleView",
            "description_width": ""
          }
        },
        "fbe44cb905914661a555c684ccfefea5": {
          "model_module": "@jupyter-widgets/controls",
          "model_module_version": "1.5.0",
          "model_name": "FloatProgressModel",
          "state": {
            "_dom_classes": [],
            "_model_module": "@jupyter-widgets/controls",
            "_model_module_version": "1.5.0",
            "_model_name": "FloatProgressModel",
            "_view_count": null,
            "_view_module": "@jupyter-widgets/controls",
            "_view_module_version": "1.5.0",
            "_view_name": "ProgressView",
            "bar_style": "success",
            "description": "",
            "description_tooltip": null,
            "layout": "IPY_MODEL_4a071cf4958d4edeaaa94d08d283b227",
            "max": 50,
            "min": 0,
            "orientation": "horizontal",
            "style": "IPY_MODEL_49e98a2937214611a055b81836ae7242",
            "value": 50
          }
        },
        "fca544b64b264527990db6535f2d789e": {
          "model_module": "@jupyter-widgets/base",
          "model_module_version": "1.2.0",
          "model_name": "LayoutModel",
          "state": {
            "_model_module": "@jupyter-widgets/base",
            "_model_module_version": "1.2.0",
            "_model_name": "LayoutModel",
            "_view_count": null,
            "_view_module": "@jupyter-widgets/base",
            "_view_module_version": "1.2.0",
            "_view_name": "LayoutView",
            "align_content": null,
            "align_items": null,
            "align_self": null,
            "border": null,
            "bottom": null,
            "display": null,
            "flex": null,
            "flex_flow": null,
            "grid_area": null,
            "grid_auto_columns": null,
            "grid_auto_flow": null,
            "grid_auto_rows": null,
            "grid_column": null,
            "grid_gap": null,
            "grid_row": null,
            "grid_template_areas": null,
            "grid_template_columns": null,
            "grid_template_rows": null,
            "height": null,
            "justify_content": null,
            "justify_items": null,
            "left": null,
            "margin": null,
            "max_height": null,
            "max_width": null,
            "min_height": null,
            "min_width": null,
            "object_fit": null,
            "object_position": null,
            "order": null,
            "overflow": null,
            "overflow_x": null,
            "overflow_y": null,
            "padding": null,
            "right": null,
            "top": null,
            "visibility": null,
            "width": null
          }
        },
        "fd3fab84cd974266bc67d74611ed9cd2": {
          "model_module": "@jupyter-widgets/base",
          "model_module_version": "1.2.0",
          "model_name": "LayoutModel",
          "state": {
            "_model_module": "@jupyter-widgets/base",
            "_model_module_version": "1.2.0",
            "_model_name": "LayoutModel",
            "_view_count": null,
            "_view_module": "@jupyter-widgets/base",
            "_view_module_version": "1.2.0",
            "_view_name": "LayoutView",
            "align_content": null,
            "align_items": null,
            "align_self": null,
            "border": null,
            "bottom": null,
            "display": null,
            "flex": null,
            "flex_flow": null,
            "grid_area": null,
            "grid_auto_columns": null,
            "grid_auto_flow": null,
            "grid_auto_rows": null,
            "grid_column": null,
            "grid_gap": null,
            "grid_row": null,
            "grid_template_areas": null,
            "grid_template_columns": null,
            "grid_template_rows": null,
            "height": null,
            "justify_content": null,
            "justify_items": null,
            "left": null,
            "margin": null,
            "max_height": null,
            "max_width": null,
            "min_height": null,
            "min_width": null,
            "object_fit": null,
            "object_position": null,
            "order": null,
            "overflow": null,
            "overflow_x": null,
            "overflow_y": null,
            "padding": null,
            "right": null,
            "top": null,
            "visibility": null,
            "width": null
          }
        }
      }
    }
  },
  "nbformat": 4,
  "nbformat_minor": 0
}
