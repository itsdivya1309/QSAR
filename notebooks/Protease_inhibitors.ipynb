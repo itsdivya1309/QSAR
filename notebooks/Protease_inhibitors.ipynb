{
  "cells": [
    {
      "cell_type": "markdown",
      "metadata": {
        "id": "a-1zri9AlpzD"
      },
      "source": [
        "# 1. Import Libraries and Data\n",
        "\n",
        "The molecular descriptors and fingerprints data was previously created in the `PI_data_loading.ipynb` notebook and has been stored in the data folder as csv file."
      ]
    },
    {
      "cell_type": "code",
      "execution_count": 1,
      "metadata": {
        "id": "a5mooK3JNBib"
      },
      "outputs": [],
      "source": [
        "import pandas as pd\n",
        "import numpy as np\n",
        "import joblib\n",
        "import matplotlib.pyplot as plt\n",
        "\n",
        "from sklearn.model_selection import KFold, cross_val_score\n",
        "from sklearn.metrics import r2_score, mean_squared_error, mean_absolute_error\n",
        "from sklearn.pipeline import Pipeline\n",
        "from sklearn.compose import ColumnTransformer\n",
        "\n",
        "from sklearn.feature_selection import VarianceThreshold\n",
        "from sklearn.preprocessing import StandardScaler\n",
        "\n",
        "# Models for scaled data\n",
        "from sklearn.linear_model import ElasticNet, LinearRegression\n",
        "from sklearn.svm import SVR\n",
        "from sklearn.neighbors import KNeighborsRegressor\n",
        "from sklearn.neural_network import MLPRegressor\n",
        "\n",
        "# Tree based models\n",
        "from sklearn.ensemble import RandomForestRegressor\n",
        "from xgboost import XGBRegressor\n",
        "\n",
        "import warnings\n",
        "warnings.filterwarnings('ignore')"
      ]
    },
    {
      "cell_type": "code",
      "execution_count": 2,
      "metadata": {},
      "outputs": [
        {
          "name": "stdout",
          "output_type": "stream",
          "text": [
            "(834, 13)\n"
          ]
        },
        {
          "data": {
            "text/html": [
              "<div>\n",
              "<style scoped>\n",
              "    .dataframe tbody tr th:only-of-type {\n",
              "        vertical-align: middle;\n",
              "    }\n",
              "\n",
              "    .dataframe tbody tr th {\n",
              "        vertical-align: top;\n",
              "    }\n",
              "\n",
              "    .dataframe thead th {\n",
              "        text-align: right;\n",
              "    }\n",
              "</style>\n",
              "<table border=\"1\" class=\"dataframe\">\n",
              "  <thead>\n",
              "    <tr style=\"text-align: right;\">\n",
              "      <th></th>\n",
              "      <th>molecule_chembl_id</th>\n",
              "      <th>canonical_smiles</th>\n",
              "      <th>standard_type</th>\n",
              "      <th>standard_value</th>\n",
              "      <th>pchembl_value</th>\n",
              "      <th>assay_chembl_id</th>\n",
              "      <th>assay_description</th>\n",
              "      <th>target_chembl_id</th>\n",
              "      <th>target_pref_name</th>\n",
              "      <th>target_organism</th>\n",
              "      <th>standard_units_norm</th>\n",
              "      <th>IC50_nM</th>\n",
              "      <th>pIC50</th>\n",
              "    </tr>\n",
              "  </thead>\n",
              "  <tbody>\n",
              "    <tr>\n",
              "      <th>0</th>\n",
              "      <td>CHEMBL1627209</td>\n",
              "      <td>O=C(N[C@@H]1c2ccccc2C[C@@H]1O)[C@@H](Cc1ccccc1...</td>\n",
              "      <td>IC50</td>\n",
              "      <td>21.1</td>\n",
              "      <td>7.68</td>\n",
              "      <td>CHEMBL899796</td>\n",
              "      <td>Inhibition of HIV1 recombinant protease</td>\n",
              "      <td>CHEMBL2366517</td>\n",
              "      <td>Protease</td>\n",
              "      <td>Human immunodeficiency virus 1</td>\n",
              "      <td>nM</td>\n",
              "      <td>21.1</td>\n",
              "      <td>7.675718</td>\n",
              "    </tr>\n",
              "    <tr>\n",
              "      <th>1</th>\n",
              "      <td>CHEMBL1627287</td>\n",
              "      <td>N=[S+]([O-])([C@H](Cc1ccccc1)C(=O)N[C@H]1c2ccc...</td>\n",
              "      <td>IC50</td>\n",
              "      <td>153.9</td>\n",
              "      <td>6.81</td>\n",
              "      <td>CHEMBL899796</td>\n",
              "      <td>Inhibition of HIV1 recombinant protease</td>\n",
              "      <td>CHEMBL2366517</td>\n",
              "      <td>Protease</td>\n",
              "      <td>Human immunodeficiency virus 1</td>\n",
              "      <td>nM</td>\n",
              "      <td>153.9</td>\n",
              "      <td>6.812761</td>\n",
              "    </tr>\n",
              "    <tr>\n",
              "      <th>2</th>\n",
              "      <td>CHEMBL1627235</td>\n",
              "      <td>N=[S+]([O-])([C@H](Cc1ccccc1)C(=O)N[C@H]1c2ccc...</td>\n",
              "      <td>IC50</td>\n",
              "      <td>37.3</td>\n",
              "      <td>7.43</td>\n",
              "      <td>CHEMBL899796</td>\n",
              "      <td>Inhibition of HIV1 recombinant protease</td>\n",
              "      <td>CHEMBL2366517</td>\n",
              "      <td>Protease</td>\n",
              "      <td>Human immunodeficiency virus 1</td>\n",
              "      <td>nM</td>\n",
              "      <td>37.3</td>\n",
              "      <td>7.428291</td>\n",
              "    </tr>\n",
              "    <tr>\n",
              "      <th>3</th>\n",
              "      <td>CHEMBL1627210</td>\n",
              "      <td>N=[S+]([O-])(C[C@H](Cc1ccccc1)C(=O)N[C@@H]1c2c...</td>\n",
              "      <td>IC50</td>\n",
              "      <td>2.5</td>\n",
              "      <td>8.60</td>\n",
              "      <td>CHEMBL899796</td>\n",
              "      <td>Inhibition of HIV1 recombinant protease</td>\n",
              "      <td>CHEMBL2366517</td>\n",
              "      <td>Protease</td>\n",
              "      <td>Human immunodeficiency virus 1</td>\n",
              "      <td>nM</td>\n",
              "      <td>2.5</td>\n",
              "      <td>8.602060</td>\n",
              "    </tr>\n",
              "    <tr>\n",
              "      <th>4</th>\n",
              "      <td>CHEMBL396814</td>\n",
              "      <td>O=C(N[C@H]1c2ccccc2C[C@H]1O)[C@@H](Cc1ccccc1)C...</td>\n",
              "      <td>IC50</td>\n",
              "      <td>10000.0</td>\n",
              "      <td>NaN</td>\n",
              "      <td>CHEMBL899796</td>\n",
              "      <td>Inhibition of HIV1 recombinant protease</td>\n",
              "      <td>CHEMBL2366517</td>\n",
              "      <td>Protease</td>\n",
              "      <td>Human immunodeficiency virus 1</td>\n",
              "      <td>nM</td>\n",
              "      <td>10000.0</td>\n",
              "      <td>5.000000</td>\n",
              "    </tr>\n",
              "  </tbody>\n",
              "</table>\n",
              "</div>"
            ],
            "text/plain": [
              "  molecule_chembl_id                                   canonical_smiles  \\\n",
              "0      CHEMBL1627209  O=C(N[C@@H]1c2ccccc2C[C@@H]1O)[C@@H](Cc1ccccc1...   \n",
              "1      CHEMBL1627287  N=[S+]([O-])([C@H](Cc1ccccc1)C(=O)N[C@H]1c2ccc...   \n",
              "2      CHEMBL1627235  N=[S+]([O-])([C@H](Cc1ccccc1)C(=O)N[C@H]1c2ccc...   \n",
              "3      CHEMBL1627210  N=[S+]([O-])(C[C@H](Cc1ccccc1)C(=O)N[C@@H]1c2c...   \n",
              "4       CHEMBL396814  O=C(N[C@H]1c2ccccc2C[C@H]1O)[C@@H](Cc1ccccc1)C...   \n",
              "\n",
              "  standard_type  standard_value  pchembl_value assay_chembl_id  \\\n",
              "0          IC50            21.1           7.68    CHEMBL899796   \n",
              "1          IC50           153.9           6.81    CHEMBL899796   \n",
              "2          IC50            37.3           7.43    CHEMBL899796   \n",
              "3          IC50             2.5           8.60    CHEMBL899796   \n",
              "4          IC50         10000.0            NaN    CHEMBL899796   \n",
              "\n",
              "                         assay_description target_chembl_id target_pref_name  \\\n",
              "0  Inhibition of HIV1 recombinant protease    CHEMBL2366517         Protease   \n",
              "1  Inhibition of HIV1 recombinant protease    CHEMBL2366517         Protease   \n",
              "2  Inhibition of HIV1 recombinant protease    CHEMBL2366517         Protease   \n",
              "3  Inhibition of HIV1 recombinant protease    CHEMBL2366517         Protease   \n",
              "4  Inhibition of HIV1 recombinant protease    CHEMBL2366517         Protease   \n",
              "\n",
              "                  target_organism standard_units_norm  IC50_nM     pIC50  \n",
              "0  Human immunodeficiency virus 1                  nM     21.1  7.675718  \n",
              "1  Human immunodeficiency virus 1                  nM    153.9  6.812761  \n",
              "2  Human immunodeficiency virus 1                  nM     37.3  7.428291  \n",
              "3  Human immunodeficiency virus 1                  nM      2.5  8.602060  \n",
              "4  Human immunodeficiency virus 1                  nM  10000.0  5.000000  "
            ]
          },
          "execution_count": 2,
          "metadata": {},
          "output_type": "execute_result"
        }
      ],
      "source": [
        "pi = pd.read_csv('../data/pi_df_clean.csv')\n",
        "print(pi.shape)\n",
        "pi.head()"
      ]
    },
    {
      "cell_type": "markdown",
      "metadata": {},
      "source": [
        "# Preprocessing"
      ]
    },
    {
      "cell_type": "code",
      "execution_count": 3,
      "metadata": {
        "colab": {
          "base_uri": "https://localhost:8080/"
        },
        "id": "s8MJXKo0AO1U",
        "outputId": "fca77537-0034-4598-964e-e93a54459486"
      },
      "outputs": [
        {
          "name": "stdout",
          "output_type": "stream",
          "text": [
            "rows, cols: (834, 523)\n"
          ]
        }
      ],
      "source": [
        "df = pd.read_csv('../data/pi_qsar_features.csv')\n",
        "print(\"rows, cols:\", df.shape)"
      ]
    },
    {
      "cell_type": "code",
      "execution_count": 4,
      "metadata": {
        "colab": {
          "base_uri": "https://localhost:8080/",
          "height": 255
        },
        "id": "-0EUHYZJNomn",
        "outputId": "c0a0eefe-7e53-43c2-e174-448135b3e6b5"
      },
      "outputs": [
        {
          "data": {
            "text/html": [
              "<div>\n",
              "<style scoped>\n",
              "    .dataframe tbody tr th:only-of-type {\n",
              "        vertical-align: middle;\n",
              "    }\n",
              "\n",
              "    .dataframe tbody tr th {\n",
              "        vertical-align: top;\n",
              "    }\n",
              "\n",
              "    .dataframe thead th {\n",
              "        text-align: right;\n",
              "    }\n",
              "</style>\n",
              "<table border=\"1\" class=\"dataframe\">\n",
              "  <thead>\n",
              "    <tr style=\"text-align: right;\">\n",
              "      <th></th>\n",
              "      <th>MolWt</th>\n",
              "      <th>MolLogP</th>\n",
              "      <th>MolMR</th>\n",
              "      <th>TPSA</th>\n",
              "      <th>NumHDonors</th>\n",
              "      <th>NumHAcceptors</th>\n",
              "      <th>NumRotatableBonds</th>\n",
              "      <th>NumAromaticRings</th>\n",
              "      <th>HeavyAtomCount</th>\n",
              "      <th>FractionCSP3</th>\n",
              "      <th>...</th>\n",
              "      <th>Morgan_512_503</th>\n",
              "      <th>Morgan_512_504</th>\n",
              "      <th>Morgan_512_505</th>\n",
              "      <th>Morgan_512_506</th>\n",
              "      <th>Morgan_512_507</th>\n",
              "      <th>Morgan_512_508</th>\n",
              "      <th>Morgan_512_509</th>\n",
              "      <th>Morgan_512_510</th>\n",
              "      <th>Morgan_512_511</th>\n",
              "      <th>pIC50</th>\n",
              "    </tr>\n",
              "  </thead>\n",
              "  <tbody>\n",
              "    <tr>\n",
              "      <th>0</th>\n",
              "      <td>636.814</td>\n",
              "      <td>4.00190</td>\n",
              "      <td>179.2214</td>\n",
              "      <td>121.72</td>\n",
              "      <td>4</td>\n",
              "      <td>5</td>\n",
              "      <td>12</td>\n",
              "      <td>4</td>\n",
              "      <td>46</td>\n",
              "      <td>0.315789</td>\n",
              "      <td>...</td>\n",
              "      <td>0</td>\n",
              "      <td>0</td>\n",
              "      <td>0</td>\n",
              "      <td>0</td>\n",
              "      <td>1</td>\n",
              "      <td>0</td>\n",
              "      <td>0</td>\n",
              "      <td>0</td>\n",
              "      <td>0</td>\n",
              "      <td>7.675718</td>\n",
              "    </tr>\n",
              "    <tr>\n",
              "      <th>1</th>\n",
              "      <td>623.775</td>\n",
              "      <td>3.80477</td>\n",
              "      <td>172.8031</td>\n",
              "      <td>145.57</td>\n",
              "      <td>5</td>\n",
              "      <td>6</td>\n",
              "      <td>10</td>\n",
              "      <td>4</td>\n",
              "      <td>45</td>\n",
              "      <td>0.277778</td>\n",
              "      <td>...</td>\n",
              "      <td>0</td>\n",
              "      <td>0</td>\n",
              "      <td>0</td>\n",
              "      <td>0</td>\n",
              "      <td>1</td>\n",
              "      <td>0</td>\n",
              "      <td>0</td>\n",
              "      <td>0</td>\n",
              "      <td>0</td>\n",
              "      <td>6.812761</td>\n",
              "    </tr>\n",
              "    <tr>\n",
              "      <th>2</th>\n",
              "      <td>623.775</td>\n",
              "      <td>3.80477</td>\n",
              "      <td>172.8031</td>\n",
              "      <td>145.57</td>\n",
              "      <td>5</td>\n",
              "      <td>6</td>\n",
              "      <td>10</td>\n",
              "      <td>4</td>\n",
              "      <td>45</td>\n",
              "      <td>0.277778</td>\n",
              "      <td>...</td>\n",
              "      <td>0</td>\n",
              "      <td>0</td>\n",
              "      <td>0</td>\n",
              "      <td>0</td>\n",
              "      <td>1</td>\n",
              "      <td>0</td>\n",
              "      <td>0</td>\n",
              "      <td>0</td>\n",
              "      <td>0</td>\n",
              "      <td>7.428291</td>\n",
              "    </tr>\n",
              "    <tr>\n",
              "      <th>3</th>\n",
              "      <td>651.829</td>\n",
              "      <td>4.29997</td>\n",
              "      <td>181.9411</td>\n",
              "      <td>145.57</td>\n",
              "      <td>5</td>\n",
              "      <td>6</td>\n",
              "      <td>12</td>\n",
              "      <td>4</td>\n",
              "      <td>47</td>\n",
              "      <td>0.315789</td>\n",
              "      <td>...</td>\n",
              "      <td>0</td>\n",
              "      <td>0</td>\n",
              "      <td>0</td>\n",
              "      <td>0</td>\n",
              "      <td>1</td>\n",
              "      <td>0</td>\n",
              "      <td>0</td>\n",
              "      <td>0</td>\n",
              "      <td>0</td>\n",
              "      <td>8.602060</td>\n",
              "    </tr>\n",
              "    <tr>\n",
              "      <th>4</th>\n",
              "      <td>636.814</td>\n",
              "      <td>4.00190</td>\n",
              "      <td>179.2214</td>\n",
              "      <td>121.72</td>\n",
              "      <td>4</td>\n",
              "      <td>5</td>\n",
              "      <td>12</td>\n",
              "      <td>4</td>\n",
              "      <td>46</td>\n",
              "      <td>0.315789</td>\n",
              "      <td>...</td>\n",
              "      <td>0</td>\n",
              "      <td>0</td>\n",
              "      <td>0</td>\n",
              "      <td>0</td>\n",
              "      <td>1</td>\n",
              "      <td>0</td>\n",
              "      <td>0</td>\n",
              "      <td>0</td>\n",
              "      <td>0</td>\n",
              "      <td>5.000000</td>\n",
              "    </tr>\n",
              "  </tbody>\n",
              "</table>\n",
              "<p>5 rows × 523 columns</p>\n",
              "</div>"
            ],
            "text/plain": [
              "     MolWt  MolLogP     MolMR    TPSA  NumHDonors  NumHAcceptors  \\\n",
              "0  636.814  4.00190  179.2214  121.72           4              5   \n",
              "1  623.775  3.80477  172.8031  145.57           5              6   \n",
              "2  623.775  3.80477  172.8031  145.57           5              6   \n",
              "3  651.829  4.29997  181.9411  145.57           5              6   \n",
              "4  636.814  4.00190  179.2214  121.72           4              5   \n",
              "\n",
              "   NumRotatableBonds  NumAromaticRings  HeavyAtomCount  FractionCSP3  ...  \\\n",
              "0                 12                 4              46      0.315789  ...   \n",
              "1                 10                 4              45      0.277778  ...   \n",
              "2                 10                 4              45      0.277778  ...   \n",
              "3                 12                 4              47      0.315789  ...   \n",
              "4                 12                 4              46      0.315789  ...   \n",
              "\n",
              "   Morgan_512_503  Morgan_512_504  Morgan_512_505  Morgan_512_506  \\\n",
              "0               0               0               0               0   \n",
              "1               0               0               0               0   \n",
              "2               0               0               0               0   \n",
              "3               0               0               0               0   \n",
              "4               0               0               0               0   \n",
              "\n",
              "   Morgan_512_507  Morgan_512_508  Morgan_512_509  Morgan_512_510  \\\n",
              "0               1               0               0               0   \n",
              "1               1               0               0               0   \n",
              "2               1               0               0               0   \n",
              "3               1               0               0               0   \n",
              "4               1               0               0               0   \n",
              "\n",
              "   Morgan_512_511     pIC50  \n",
              "0               0  7.675718  \n",
              "1               0  6.812761  \n",
              "2               0  7.428291  \n",
              "3               0  8.602060  \n",
              "4               0  5.000000  \n",
              "\n",
              "[5 rows x 523 columns]"
            ]
          },
          "execution_count": 4,
          "metadata": {},
          "output_type": "execute_result"
        }
      ],
      "source": [
        "df.head()"
      ]
    },
    {
      "cell_type": "code",
      "execution_count": 5,
      "metadata": {
        "colab": {
          "base_uri": "https://localhost:8080/"
        },
        "id": "qN1mEzcQZMiF",
        "outputId": "ae08c88a-6b43-483d-9317-b9158b82baa0"
      },
      "outputs": [
        {
          "name": "stdout",
          "output_type": "stream",
          "text": [
            "Feature count:  522\n"
          ]
        }
      ],
      "source": [
        "# Prepare X and y\n",
        "y = df['pIC50']\n",
        "X = df.drop(columns=['pIC50'])\n",
        "print('Feature count: ', X.shape[1])"
      ]
    },
    {
      "cell_type": "code",
      "execution_count": 6,
      "metadata": {
        "colab": {
          "base_uri": "https://localhost:8080/"
        },
        "id": "CE9BxNvr_296",
        "outputId": "6adfc6a8-e339-4b92-d220-cc303c80f9f5"
      },
      "outputs": [
        {
          "name": "stdout",
          "output_type": "stream",
          "text": [
            "Features after variance filter: 521\n",
            "Features removed: 1\n",
            "\n",
            "Removed features (first 20):\n",
            "['Morgan_512_499']\n"
          ]
        }
      ],
      "source": [
        "# ------------------------------------------------------------------------------\n",
        "# Quick feature cleanup\n",
        "# ------------------------------------------------------------------------------\n",
        "\n",
        "# a. remove near-constant features\n",
        "\n",
        "# Fit the selector\n",
        "vt = VarianceThreshold(threshold=1e-6)\n",
        "X_v = vt.fit_transform(X)\n",
        "# Features kept\n",
        "kept_features = X.columns[vt.get_support()].tolist()\n",
        "# Features removed\n",
        "removed_features = [col for col in X.columns if col not in kept_features]\n",
        "# Create the reduced DataFrame\n",
        "X = pd.DataFrame(X_v, columns=kept_features)\n",
        "\n",
        "print(f\"Features after variance filter: {len(kept_features)}\")\n",
        "print(f\"Features removed: {len(removed_features)}\")\n",
        "# Optional: display or save the removed features\n",
        "print(\"\\nRemoved features (first 20):\")\n",
        "print(removed_features[:20])"
      ]
    },
    {
      "cell_type": "code",
      "execution_count": 7,
      "metadata": {
        "colab": {
          "base_uri": "https://localhost:8080/"
        },
        "id": "7t0wb30PAze9",
        "outputId": "fbce460b-e6e0-4b73-a02c-a57af00e6c8c"
      },
      "outputs": [
        {
          "name": "stdout",
          "output_type": "stream",
          "text": [
            "Dropped highly correlated features: ['MolMR', 'HeavyAtomCount']\n"
          ]
        }
      ],
      "source": [
        "# b. (optional) remove extremely collinear features (simple correlation filter)\n",
        "\n",
        "corr_thresh = 0.98\n",
        "corr_matrix = X.corr().abs()\n",
        "upper = corr_matrix.where(np.triu(np.ones(corr_matrix.shape), k=1).astype(bool))\n",
        "to_drop = [col for col in upper.columns if any(upper[col] > corr_thresh)]\n",
        "if to_drop:\n",
        "    X.drop(columns=to_drop, inplace=True)\n",
        "    print(\"Dropped highly correlated features:\", to_drop)"
      ]
    },
    {
      "cell_type": "code",
      "execution_count": 8,
      "metadata": {
        "colab": {
          "base_uri": "https://localhost:8080/"
        },
        "id": "NnqP_sOcA-Ew",
        "outputId": "5802db70-e83c-40fe-877b-1ed8a9bfeb1c"
      },
      "outputs": [
        {
          "data": {
            "text/plain": [
              "(834, 519)"
            ]
          },
          "execution_count": 8,
          "metadata": {},
          "output_type": "execute_result"
        }
      ],
      "source": [
        "X.shape"
      ]
    },
    {
      "cell_type": "code",
      "execution_count": 9,
      "metadata": {
        "id": "YaeVHRjBD1yn"
      },
      "outputs": [],
      "source": [
        "# ------------------------------------------------------------------------------\n",
        "# Define descriptor columns to scale and fingerprint columns to pass through\n",
        "# ------------------------------------------------------------------------------\n",
        "descriptors = ['MolWt', 'MolLogP', 'TPSA', 'NumHDonors', 'NumHAcceptors',\n",
        "    'NumRotatableBonds', 'NumAromaticRings', 'FractionCSP3']\n",
        "fingerprints = [c for c in X.columns if c not in descriptors]\n",
        "\n",
        "# ColumnTransformer: scale descriptors, pass fingerprints through\n",
        "preprocessor = ColumnTransformer([\n",
        "    (\"desc\", StandardScaler(), descriptors),\n",
        "    (\"fp\", \"passthrough\", fingerprints)\n",
        "])"
      ]
    },
    {
      "cell_type": "code",
      "execution_count": 10,
      "metadata": {},
      "outputs": [
        {
          "data": {
            "text/html": [
              "<div>\n",
              "<style scoped>\n",
              "    .dataframe tbody tr th:only-of-type {\n",
              "        vertical-align: middle;\n",
              "    }\n",
              "\n",
              "    .dataframe tbody tr th {\n",
              "        vertical-align: top;\n",
              "    }\n",
              "\n",
              "    .dataframe thead th {\n",
              "        text-align: right;\n",
              "    }\n",
              "</style>\n",
              "<table border=\"1\" class=\"dataframe\">\n",
              "  <thead>\n",
              "    <tr style=\"text-align: right;\">\n",
              "      <th></th>\n",
              "      <th>MolWt</th>\n",
              "      <th>MolLogP</th>\n",
              "      <th>TPSA</th>\n",
              "      <th>NumHDonors</th>\n",
              "      <th>NumHAcceptors</th>\n",
              "      <th>NumRotatableBonds</th>\n",
              "      <th>NumAromaticRings</th>\n",
              "      <th>FractionCSP3</th>\n",
              "      <th>Morgan_512_0</th>\n",
              "      <th>Morgan_512_1</th>\n",
              "      <th>...</th>\n",
              "      <th>Morgan_512_502</th>\n",
              "      <th>Morgan_512_503</th>\n",
              "      <th>Morgan_512_504</th>\n",
              "      <th>Morgan_512_505</th>\n",
              "      <th>Morgan_512_506</th>\n",
              "      <th>Morgan_512_507</th>\n",
              "      <th>Morgan_512_508</th>\n",
              "      <th>Morgan_512_509</th>\n",
              "      <th>Morgan_512_510</th>\n",
              "      <th>Morgan_512_511</th>\n",
              "    </tr>\n",
              "  </thead>\n",
              "  <tbody>\n",
              "    <tr>\n",
              "      <th>0</th>\n",
              "      <td>636.814</td>\n",
              "      <td>4.00190</td>\n",
              "      <td>121.72</td>\n",
              "      <td>4.0</td>\n",
              "      <td>5.0</td>\n",
              "      <td>12.0</td>\n",
              "      <td>4.0</td>\n",
              "      <td>0.315789</td>\n",
              "      <td>0.0</td>\n",
              "      <td>1.0</td>\n",
              "      <td>...</td>\n",
              "      <td>0.0</td>\n",
              "      <td>0.0</td>\n",
              "      <td>0.0</td>\n",
              "      <td>0.0</td>\n",
              "      <td>0.0</td>\n",
              "      <td>1.0</td>\n",
              "      <td>0.0</td>\n",
              "      <td>0.0</td>\n",
              "      <td>0.0</td>\n",
              "      <td>0.0</td>\n",
              "    </tr>\n",
              "    <tr>\n",
              "      <th>1</th>\n",
              "      <td>623.775</td>\n",
              "      <td>3.80477</td>\n",
              "      <td>145.57</td>\n",
              "      <td>5.0</td>\n",
              "      <td>6.0</td>\n",
              "      <td>10.0</td>\n",
              "      <td>4.0</td>\n",
              "      <td>0.277778</td>\n",
              "      <td>0.0</td>\n",
              "      <td>1.0</td>\n",
              "      <td>...</td>\n",
              "      <td>0.0</td>\n",
              "      <td>0.0</td>\n",
              "      <td>0.0</td>\n",
              "      <td>0.0</td>\n",
              "      <td>0.0</td>\n",
              "      <td>1.0</td>\n",
              "      <td>0.0</td>\n",
              "      <td>0.0</td>\n",
              "      <td>0.0</td>\n",
              "      <td>0.0</td>\n",
              "    </tr>\n",
              "    <tr>\n",
              "      <th>2</th>\n",
              "      <td>623.775</td>\n",
              "      <td>3.80477</td>\n",
              "      <td>145.57</td>\n",
              "      <td>5.0</td>\n",
              "      <td>6.0</td>\n",
              "      <td>10.0</td>\n",
              "      <td>4.0</td>\n",
              "      <td>0.277778</td>\n",
              "      <td>0.0</td>\n",
              "      <td>1.0</td>\n",
              "      <td>...</td>\n",
              "      <td>0.0</td>\n",
              "      <td>0.0</td>\n",
              "      <td>0.0</td>\n",
              "      <td>0.0</td>\n",
              "      <td>0.0</td>\n",
              "      <td>1.0</td>\n",
              "      <td>0.0</td>\n",
              "      <td>0.0</td>\n",
              "      <td>0.0</td>\n",
              "      <td>0.0</td>\n",
              "    </tr>\n",
              "    <tr>\n",
              "      <th>3</th>\n",
              "      <td>651.829</td>\n",
              "      <td>4.29997</td>\n",
              "      <td>145.57</td>\n",
              "      <td>5.0</td>\n",
              "      <td>6.0</td>\n",
              "      <td>12.0</td>\n",
              "      <td>4.0</td>\n",
              "      <td>0.315789</td>\n",
              "      <td>0.0</td>\n",
              "      <td>1.0</td>\n",
              "      <td>...</td>\n",
              "      <td>0.0</td>\n",
              "      <td>0.0</td>\n",
              "      <td>0.0</td>\n",
              "      <td>0.0</td>\n",
              "      <td>0.0</td>\n",
              "      <td>1.0</td>\n",
              "      <td>0.0</td>\n",
              "      <td>0.0</td>\n",
              "      <td>0.0</td>\n",
              "      <td>0.0</td>\n",
              "    </tr>\n",
              "    <tr>\n",
              "      <th>4</th>\n",
              "      <td>636.814</td>\n",
              "      <td>4.00190</td>\n",
              "      <td>121.72</td>\n",
              "      <td>4.0</td>\n",
              "      <td>5.0</td>\n",
              "      <td>12.0</td>\n",
              "      <td>4.0</td>\n",
              "      <td>0.315789</td>\n",
              "      <td>0.0</td>\n",
              "      <td>1.0</td>\n",
              "      <td>...</td>\n",
              "      <td>0.0</td>\n",
              "      <td>0.0</td>\n",
              "      <td>0.0</td>\n",
              "      <td>0.0</td>\n",
              "      <td>0.0</td>\n",
              "      <td>1.0</td>\n",
              "      <td>0.0</td>\n",
              "      <td>0.0</td>\n",
              "      <td>0.0</td>\n",
              "      <td>0.0</td>\n",
              "    </tr>\n",
              "  </tbody>\n",
              "</table>\n",
              "<p>5 rows × 519 columns</p>\n",
              "</div>"
            ],
            "text/plain": [
              "     MolWt  MolLogP    TPSA  NumHDonors  NumHAcceptors  NumRotatableBonds  \\\n",
              "0  636.814  4.00190  121.72         4.0            5.0               12.0   \n",
              "1  623.775  3.80477  145.57         5.0            6.0               10.0   \n",
              "2  623.775  3.80477  145.57         5.0            6.0               10.0   \n",
              "3  651.829  4.29997  145.57         5.0            6.0               12.0   \n",
              "4  636.814  4.00190  121.72         4.0            5.0               12.0   \n",
              "\n",
              "   NumAromaticRings  FractionCSP3  Morgan_512_0  Morgan_512_1  ...  \\\n",
              "0               4.0      0.315789           0.0           1.0  ...   \n",
              "1               4.0      0.277778           0.0           1.0  ...   \n",
              "2               4.0      0.277778           0.0           1.0  ...   \n",
              "3               4.0      0.315789           0.0           1.0  ...   \n",
              "4               4.0      0.315789           0.0           1.0  ...   \n",
              "\n",
              "   Morgan_512_502  Morgan_512_503  Morgan_512_504  Morgan_512_505  \\\n",
              "0             0.0             0.0             0.0             0.0   \n",
              "1             0.0             0.0             0.0             0.0   \n",
              "2             0.0             0.0             0.0             0.0   \n",
              "3             0.0             0.0             0.0             0.0   \n",
              "4             0.0             0.0             0.0             0.0   \n",
              "\n",
              "   Morgan_512_506  Morgan_512_507  Morgan_512_508  Morgan_512_509  \\\n",
              "0             0.0             1.0             0.0             0.0   \n",
              "1             0.0             1.0             0.0             0.0   \n",
              "2             0.0             1.0             0.0             0.0   \n",
              "3             0.0             1.0             0.0             0.0   \n",
              "4             0.0             1.0             0.0             0.0   \n",
              "\n",
              "   Morgan_512_510  Morgan_512_511  \n",
              "0             0.0             0.0  \n",
              "1             0.0             0.0  \n",
              "2             0.0             0.0  \n",
              "3             0.0             0.0  \n",
              "4             0.0             0.0  \n",
              "\n",
              "[5 rows x 519 columns]"
            ]
          },
          "execution_count": 10,
          "metadata": {},
          "output_type": "execute_result"
        }
      ],
      "source": [
        "X.head()"
      ]
    },
    {
      "cell_type": "code",
      "execution_count": 11,
      "metadata": {},
      "outputs": [],
      "source": [
        "import os\n",
        "\n",
        "SAVE_DIR = \"../artifacts\"\n",
        "os.makedirs(SAVE_DIR, exist_ok=True)\n",
        "\n",
        "# 1. Save final feature column list (after filters)\n",
        "final_features = X.columns.tolist()\n",
        "pd.Series(final_features).to_csv(os.path.join(SAVE_DIR, \"protease_features.csv\"), index=False)"
      ]
    },
    {
      "cell_type": "code",
      "execution_count": 12,
      "metadata": {},
      "outputs": [
        {
          "data": {
            "text/plain": [
              "519"
            ]
          },
          "execution_count": 12,
          "metadata": {},
          "output_type": "execute_result"
        }
      ],
      "source": [
        "len(final_features)"
      ]
    },
    {
      "cell_type": "code",
      "execution_count": 13,
      "metadata": {
        "id": "uiGrOdZ6HjoK"
      },
      "outputs": [],
      "source": [
        "# ---------------------------\n",
        "# k-fold OOF trainer\n",
        "# ---------------------------\n",
        "def kfold_train_predict(model, X_df, y_arr, n_splits=5, random_state=42):\n",
        "    \"\"\"\n",
        "    model: estimator or pipeline (should accept fit/predict)\n",
        "    X_df: pandas DataFrame (full dataset)\n",
        "    y_arr: numpy array or Series\n",
        "    returns: oof_preds (np.array same length as X_df), mean_r2, mean_rmse\n",
        "    \"\"\"\n",
        "    kf = KFold(n_splits=n_splits, shuffle=True, random_state=random_state)\n",
        "    oof_preds = np.zeros(len(X_df))\n",
        "    fold_scores = []\n",
        "\n",
        "    for fold, (train_idx, val_idx) in enumerate(kf.split(X_df, y_arr), 1):\n",
        "        X_train, X_val = X_df.iloc[train_idx], X_df.iloc[val_idx]\n",
        "        y_train, y_val = y_arr[train_idx], y_arr[val_idx]\n",
        "\n",
        "        # fit on train fold, predict on val fold\n",
        "        model.fit(X_train, y_train)\n",
        "        preds = model.predict(X_val)\n",
        "\n",
        "        oof_preds[val_idx] = preds\n",
        "\n",
        "        fold_r2 = r2_score(y_val, preds)\n",
        "        fold_rmse = np.sqrt(mean_squared_error(y_val, preds))\n",
        "        fold_scores.append((fold_r2, fold_rmse))\n",
        "        print(f\"Fold {fold}: R2 = {fold_r2:.3f}, RMSE = {fold_rmse:.3f}\")\n",
        "\n",
        "    mean_r2 = np.mean([s[0] for s in fold_scores])\n",
        "    mean_rmse = np.mean([s[1] for s in fold_scores])\n",
        "    print(f\"\\nMean CV R2 = {mean_r2:.3f}, Mean RMSE = {mean_rmse:.3f}\")\n",
        "    return oof_preds, mean_r2, mean_rmse"
      ]
    },
    {
      "cell_type": "code",
      "execution_count": 14,
      "metadata": {
        "id": "3tKWRWOdfkV4"
      },
      "outputs": [],
      "source": [
        "# ---------------------------\n",
        "# Define models and pipelines\n",
        "# ---------------------------\n",
        "models = {}\n",
        "\n",
        "# Linear models (need scaling) -> include preprocessor\n",
        "models['Linear'] = Pipeline([(\"preproc\", preprocessor), (\"model\", LinearRegression())])\n",
        "models['ElasticNet'] = Pipeline([(\"preproc\", preprocessor), (\"model\", ElasticNet(random_state=42, max_iter=5000))])\n",
        "\n",
        "# SVR (needs scaling)\n",
        "models['SVM'] = Pipeline([(\"preproc\", preprocessor), (\"model\", SVR())])\n",
        "\n",
        "# KNN\n",
        "models['KNN'] = Pipeline([(\"preproc\", preprocessor), (\"model\", KNeighborsRegressor())])\n",
        "\n",
        "# MLP\n",
        "models['MLP'] = Pipeline([(\"preproc\", preprocessor), (\"model\", MLPRegressor(max_iter=2000, random_state=42))])\n",
        "\n",
        "# Random Forest (trees don't need scaling, but pipeline is fine)\n",
        "models['Random Forest'] = Pipeline([(\"preproc\", preprocessor), (\"model\", RandomForestRegressor(n_estimators=200, random_state=42, n_jobs=-1))])\n",
        "\n",
        "# XGBoost\n",
        "models['XGBoost'] = Pipeline([(\"preproc\", preprocessor), (\"model\", XGBRegressor(n_estimators=200, random_state=42, n_jobs=-1, objective='reg:squarederror'))])"
      ]
    },
    {
      "cell_type": "code",
      "execution_count": 15,
      "metadata": {
        "colab": {
          "base_uri": "https://localhost:8080/"
        },
        "id": "PpbER2jbhWk7",
        "outputId": "4bfd5c0e-bb42-4f5a-b0df-d8f6d67446bb"
      },
      "outputs": [
        {
          "name": "stdout",
          "output_type": "stream",
          "text": [
            "\n",
            "=== Training model: Linear ===\n",
            "Fold 1: R2 = -1.433, RMSE = 2.736\n",
            "Fold 2: R2 = -0.521, RMSE = 2.214\n",
            "Fold 3: R2 = -1.164, RMSE = 2.549\n",
            "Fold 4: R2 = -0.456, RMSE = 2.226\n",
            "Fold 5: R2 = -0.955, RMSE = 2.571\n",
            "\n",
            "Mean CV R2 = -0.906, Mean RMSE = 2.459\n",
            "\n",
            "=== Training model: ElasticNet ===\n",
            "Fold 1: R2 = 0.121, RMSE = 1.644\n",
            "Fold 2: R2 = 0.085, RMSE = 1.717\n",
            "Fold 3: R2 = 0.099, RMSE = 1.644\n",
            "Fold 4: R2 = 0.118, RMSE = 1.732\n",
            "Fold 5: R2 = 0.116, RMSE = 1.728\n",
            "\n",
            "Mean CV R2 = 0.108, Mean RMSE = 1.693\n",
            "\n",
            "=== Training model: SVM ===\n",
            "Fold 1: R2 = 0.785, RMSE = 0.814\n",
            "Fold 2: R2 = 0.777, RMSE = 0.849\n",
            "Fold 3: R2 = 0.773, RMSE = 0.826\n",
            "Fold 4: R2 = 0.768, RMSE = 0.889\n",
            "Fold 5: R2 = 0.744, RMSE = 0.930\n",
            "\n",
            "Mean CV R2 = 0.769, Mean RMSE = 0.862\n",
            "\n",
            "=== Training model: KNN ===\n",
            "Fold 1: R2 = 0.783, RMSE = 0.817\n",
            "Fold 2: R2 = 0.720, RMSE = 0.950\n",
            "Fold 3: R2 = 0.772, RMSE = 0.828\n",
            "Fold 4: R2 = 0.781, RMSE = 0.863\n",
            "Fold 5: R2 = 0.746, RMSE = 0.926\n",
            "\n",
            "Mean CV R2 = 0.760, Mean RMSE = 0.877\n",
            "\n",
            "=== Training model: MLP ===\n",
            "Fold 1: R2 = 0.760, RMSE = 0.860\n",
            "Fold 2: R2 = 0.681, RMSE = 1.014\n",
            "Fold 3: R2 = 0.697, RMSE = 0.954\n",
            "Fold 4: R2 = 0.780, RMSE = 0.865\n",
            "Fold 5: R2 = 0.710, RMSE = 0.990\n",
            "\n",
            "Mean CV R2 = 0.725, Mean RMSE = 0.937\n",
            "\n",
            "=== Training model: Random Forest ===\n",
            "Fold 1: R2 = 0.769, RMSE = 0.843\n",
            "Fold 2: R2 = 0.723, RMSE = 0.945\n",
            "Fold 3: R2 = 0.766, RMSE = 0.839\n",
            "Fold 4: R2 = 0.766, RMSE = 0.893\n",
            "Fold 5: R2 = 0.695, RMSE = 1.015\n",
            "\n",
            "Mean CV R2 = 0.744, Mean RMSE = 0.907\n",
            "\n",
            "=== Training model: XGBoost ===\n",
            "Fold 1: R2 = 0.714, RMSE = 0.938\n",
            "Fold 2: R2 = 0.674, RMSE = 1.026\n",
            "Fold 3: R2 = 0.735, RMSE = 0.892\n",
            "Fold 4: R2 = 0.747, RMSE = 0.929\n",
            "Fold 5: R2 = 0.671, RMSE = 1.055\n",
            "\n",
            "Mean CV R2 = 0.708, Mean RMSE = 0.968\n",
            "\n",
            "Summary (mean CV results):\n",
            "Linear: R2 = -0.9059, RMSE = 2.4591\n",
            "ElasticNet: R2 = 0.1081, RMSE = 1.6932\n",
            "SVM: R2 = 0.7692, RMSE = 0.8615\n",
            "KNN: R2 = 0.7604, RMSE = 0.8768\n",
            "MLP: R2 = 0.7255, RMSE = 0.9367\n",
            "Random Forest: R2 = 0.7437, RMSE = 0.9070\n",
            "XGBoost: R2 = 0.7078, RMSE = 0.9681\n"
          ]
        }
      ],
      "source": [
        "# ---------------------------\n",
        "# Run k-fold for each model\n",
        "# ---------------------------\n",
        "results = {}\n",
        "oof_dict = {}\n",
        "\n",
        "for name, model in models.items():\n",
        "    print(f\"\\n=== Training model: {name} ===\")\n",
        "    oof_preds, mean_r2, mean_rmse = kfold_train_predict(model, X, y, n_splits=5, random_state=42)\n",
        "    results[name] = {\"r2\": mean_r2, \"rmse\": mean_rmse}\n",
        "    oof_dict[name] = oof_preds\n",
        "\n",
        "# Summary\n",
        "print(\"\\nSummary (mean CV results):\")\n",
        "for name, res in results.items():\n",
        "    print(f\"{name}: R2 = {res['r2']:.4f}, RMSE = {res['rmse']:.4f}\")"
      ]
    },
    {
      "cell_type": "markdown",
      "metadata": {
        "id": "gRwmRoLMuOYq"
      },
      "source": [
        "# 6. Tune the Best Models\n",
        "\n",
        "### Support Vector Machine (SVR),\n",
        "### K-Nearest Neighbours (KNN),\n",
        "### Random Forest (RF)"
      ]
    },
    {
      "cell_type": "code",
      "execution_count": 16,
      "metadata": {
        "id": "KFfceZ0Uu1sg"
      },
      "outputs": [],
      "source": [
        "import optuna\n",
        "import joblib\n",
        "from sklearn.decomposition import PCA"
      ]
    },
    {
      "cell_type": "code",
      "execution_count": 17,
      "metadata": {
        "colab": {
          "base_uri": "https://localhost:8080/"
        },
        "id": "QuLh8d_7Ct9T",
        "outputId": "b102d633-d9a9-4384-8b32-3f9aeeee8b2d"
      },
      "outputs": [
        {
          "name": "stdout",
          "output_type": "stream",
          "text": [
            "Using 8 descriptor columns and 511 fingerprint columns.\n"
          ]
        }
      ],
      "source": [
        "# PCA variant of the model\n",
        "n_fp = len(fingerprints)\n",
        "print(f\"Using {len(descriptors)} descriptor columns and {n_fp} fingerprint columns.\")\n",
        "\n",
        "if n_fp == 0:\n",
        "    raise ValueError(\"No fingerprint columns detected. Make sure your X contains fingerprint bit columns.\")\n",
        "\n",
        "# ---------- CV settings ----------\n",
        "cv_outer = KFold(n_splits=5, shuffle=True, random_state=42)"
      ]
    },
    {
      "cell_type": "code",
      "execution_count": 18,
      "metadata": {
        "id": "LEyiu7FGHImx"
      },
      "outputs": [],
      "source": [
        "# ----------------------- SVM ---------------------------------\n",
        "def run_optuna_svm(n_trials=80):\n",
        "    def objective(trial):\n",
        "        use_pca = trial.suggest_categorical(\"use_pca\", [True, False])\n",
        "        if use_pca:\n",
        "            max_comp = min(n_fp, 300)\n",
        "            n_comp = trial.suggest_int(\"pca_n_components\", 10, max(10, max_comp))\n",
        "            fp_transform = Pipeline([(\"pca\", PCA(n_components=n_comp, svd_solver=\"randomized\", random_state=42))])\n",
        "        else:\n",
        "            fp_transform = \"passthrough\"\n",
        "\n",
        "        preprocessor = ColumnTransformer([\n",
        "            (\"desc\", StandardScaler(), descriptors),\n",
        "            (\"fp\", fp_transform, fingerprints)\n",
        "        ])\n",
        "\n",
        "        # SVR hyperparameters (log-uniform sampling where appropriate)\n",
        "        kernel = trial.suggest_categorical(\"kernel\", [\"rbf\", \"poly\", \"sigmoid\"])\n",
        "        C = trial.suggest_loguniform(\"C\", 1e-3, 1e3)\n",
        "        epsilon = trial.suggest_loguniform(\"epsilon\", 1e-4, 1.0)\n",
        "        gamma_choice = trial.suggest_categorical(\"gamma_choice\", [\"scale\", \"auto\", \"numeric\"])\n",
        "        if gamma_choice == \"numeric\":\n",
        "            gamma = trial.suggest_loguniform(\"gamma\", 1e-5, 1e1)\n",
        "        else:\n",
        "            gamma = gamma_choice\n",
        "        # degree and coef0 for polynomial kernel\n",
        "        if kernel == \"poly\":\n",
        "            degree = trial.suggest_int(\"degree\", 2, 5)\n",
        "            coef0 = trial.suggest_float(\"coef0\", 0.0, 1.0)\n",
        "        else:\n",
        "            degree = 3\n",
        "            coef0 = 0.0\n",
        "\n",
        "        svr = SVR(kernel=kernel, C=C, epsilon=epsilon, gamma=gamma, degree=degree, coef0=coef0, max_iter=100000)\n",
        "        pipe = Pipeline([(\"preproc\", preprocessor), (\"svr\", svr)])\n",
        "        scores = cross_val_score(pipe, X, y, cv=cv_outer, scoring=\"r2\", n_jobs=-1)\n",
        "        return float(np.mean(scores))\n",
        "\n",
        "    study = optuna.create_study(direction=\"maximize\", sampler=optuna.samplers.TPESampler(),\n",
        "                                pruner=optuna.pruners.MedianPruner())\n",
        "    study.optimize(objective, n_trials=n_trials, n_jobs=1, show_progress_bar=True)\n",
        "\n",
        "    # Rebuild best pipeline and fit on full data\n",
        "    best = study.best_params\n",
        "    if best.get(\"use_pca\", False):\n",
        "        fp_transform = Pipeline([(\"pca\", PCA(n_components=best[\"pca_n_components\"], random_state=42))])\n",
        "    else:\n",
        "        fp_transform = \"passthrough\"\n",
        "    preprocessor_best = ColumnTransformer([\n",
        "        (\"desc\", StandardScaler(), descriptors),\n",
        "        (\"fp\", fp_transform, fingerprints)\n",
        "    ])\n",
        "    # reconstruct SVR\n",
        "    best_kernel = best.get(\"kernel\", \"rbf\")\n",
        "    best_gamma = best.get(\"gamma\", best.get(\"gamma_choice\", \"scale\"))\n",
        "    if best_gamma == \"numeric\":\n",
        "        best_gamma = best.get(\"gamma\")\n",
        "    best_degree = best.get(\"degree\", 3)\n",
        "    best_coef0 = best.get(\"coef0\", 0.0)\n",
        "\n",
        "    best_svm = SVR(\n",
        "        kernel=best_kernel,\n",
        "        C=best.get(\"C\"),\n",
        "        epsilon=best.get(\"epsilon\"),\n",
        "        gamma=best_gamma,\n",
        "        degree=best_degree,\n",
        "        coef0=best_coef0,\n",
        "        max_iter=100000\n",
        "    )\n",
        "    best_pipe = Pipeline([(\"preproc\", preprocessor_best), (\"svr\", best_svm)])\n",
        "    best_pipe.fit(X, y)\n",
        "    joblib.dump(best_pipe, \"../models/pi_svm.joblib\")\n",
        "    print(\"SVM best R2:\", study.best_value)\n",
        "    print(\"SVM best params:\", study.best_params)\n",
        "    return study, best_pipe"
      ]
    },
    {
      "cell_type": "code",
      "execution_count": 19,
      "metadata": {
        "id": "G-czkzYGDqpU"
      },
      "outputs": [],
      "source": [
        "# ------------------ KNN -----------------------\n",
        "def run_optuna_knn(n_trials=50):\n",
        "    def objective(trial):\n",
        "        use_pca = trial.suggest_categorical(\"use_pca\", [True, False])\n",
        "        if use_pca:\n",
        "            max_comp = min(n_fp, 300)\n",
        "            n_comp = trial.suggest_int(\"pca_n_components\", 10, max(10, max_comp))\n",
        "            fp_transform = Pipeline([(\"pca\", PCA(n_components=n_comp, svd_solver=\"randomized\", random_state=42))])\n",
        "        else:\n",
        "            fp_transform = \"passthrough\"\n",
        "\n",
        "        preprocessor = ColumnTransformer([\n",
        "            (\"desc\", StandardScaler(), descriptors),\n",
        "            (\"fp\", fp_transform, fingerprints)\n",
        "        ])\n",
        "\n",
        "        n_neighbors = trial.suggest_int(\"n_neighbors\", 1, 30)\n",
        "        weights = trial.suggest_categorical(\"weights\", [\"uniform\", \"distance\"])\n",
        "        p = trial.suggest_int(\"p\", 1, 2)  # 1 = manhattan, 2 = euclidean\n",
        "\n",
        "        knn = KNeighborsRegressor(n_neighbors=n_neighbors, weights=weights, p=p)\n",
        "        pipe = Pipeline([(\"preproc\", preprocessor), (\"knn\", knn)])\n",
        "        scores = cross_val_score(pipe, X, y, cv=cv_outer, scoring=\"r2\", n_jobs=-1)\n",
        "        return float(np.mean(scores))\n",
        "\n",
        "    study = optuna.create_study(direction=\"maximize\", sampler=optuna.samplers.TPESampler(),\n",
        "                                pruner=optuna.pruners.MedianPruner())\n",
        "    study.optimize(objective, n_trials=n_trials, n_jobs=1, show_progress_bar=True)\n",
        "\n",
        "    # Rebuild best pipeline and fit on full data\n",
        "    best = study.best_params\n",
        "    if best.get(\"use_pca\", False):\n",
        "        fp_transform = Pipeline([(\"pca\", PCA(n_components=best[\"pca_n_components\"], random_state=42))])\n",
        "    else:\n",
        "        fp_transform = \"passthrough\"\n",
        "    preprocessor_best = ColumnTransformer([\n",
        "        (\"desc\", StandardScaler(), descriptors),\n",
        "        (\"fp\", fp_transform, fingerprints)\n",
        "    ])\n",
        "    best_knn = KNeighborsRegressor(n_neighbors=best[\"n_neighbors\"], weights=best[\"weights\"], p=best[\"p\"])\n",
        "    best_pipe = Pipeline([(\"preproc\", preprocessor_best), (\"knn\", best_knn)])\n",
        "    best_pipe.fit(X, y)\n",
        "    joblib.dump(best_pipe, \"../models/pi_knn.joblib\")\n",
        "    print(\"KNN best R2:\", study.best_value)\n",
        "    print(\"KNN best params:\", study.best_params)\n",
        "    return study, best_pipe"
      ]
    },
    {
      "cell_type": "code",
      "execution_count": 20,
      "metadata": {
        "id": "7WO-LGoFGkKj"
      },
      "outputs": [],
      "source": [
        "# -------------------- Random Forest --------------------------------\n",
        "def run_optuna_rf(n_trials=50):\n",
        "    def objective(trial):\n",
        "        preprocessor = ColumnTransformer([\n",
        "            (\"desc\", StandardScaler(), descriptors),\n",
        "            (\"fp\", \"passthrough\", fingerprints)\n",
        "        ])\n",
        "\n",
        "        n_estimators = trial.suggest_int(\"n_estimators\", 100, 500)\n",
        "        max_depth = trial.suggest_int(\"max_depth\", 3, 50)\n",
        "        min_samples_split = trial.suggest_int(\"min_samples_split\", 2, 20)\n",
        "        min_samples_leaf = trial.suggest_int(\"min_samples_leaf\", 1, 20)\n",
        "        max_features = trial.suggest_categorical(\"max_features\", [\"sqrt\", \"log2\", 0.3, 0.5, 0.8])\n",
        "\n",
        "        rf = RandomForestRegressor(n_estimators=n_estimators, max_depth=max_depth,\n",
        "                                   min_samples_split=min_samples_split, min_samples_leaf=min_samples_leaf,\n",
        "                                   max_features=max_features, n_jobs=-1, random_state=42)\n",
        "        pipe = Pipeline([(\"preproc\", preprocessor), (\"rf\", rf)])\n",
        "        scores = cross_val_score(pipe, X, y, cv=cv_outer, scoring=\"r2\", n_jobs=-1)\n",
        "        return float(np.mean(scores))\n",
        "\n",
        "    study = optuna.create_study(direction=\"maximize\", sampler=optuna.samplers.TPESampler(),\n",
        "                                pruner=optuna.pruners.MedianPruner())\n",
        "    study.optimize(objective, n_trials=n_trials, n_jobs=1, show_progress_bar=True)\n",
        "\n",
        "    best = study.best_params\n",
        "    preprocessor_best = ColumnTransformer([\n",
        "        (\"desc\", StandardScaler(), descriptors),\n",
        "        (\"fp\", \"passthrough\", fingerprints)\n",
        "    ])\n",
        "    best_rf = RandomForestRegressor(n_estimators=best[\"n_estimators\"], max_depth=best[\"max_depth\"],\n",
        "                                    min_samples_split=best[\"min_samples_split\"],\n",
        "                                    min_samples_leaf=best[\"min_samples_leaf\"],\n",
        "                                    max_features=best[\"max_features\"], n_jobs=-1, random_state=42)\n",
        "    best_pipe = Pipeline([(\"preproc\", preprocessor_best), (\"rf\", best_rf)])\n",
        "    best_pipe.fit(X, y)\n",
        "    joblib.dump(best_pipe, \"../models/pi_rf.joblib\")\n",
        "    print(\"RF best R2:\", study.best_value)\n",
        "    print(\"RF best params:\", study.best_params)\n",
        "    return study, best_pipe"
      ]
    },
    {
      "cell_type": "code",
      "execution_count": 21,
      "metadata": {
        "colab": {
          "base_uri": "https://localhost:8080/",
          "height": 989,
          "referenced_widgets": [
            "bbfbdd1418ea41c2b219dec137e502f8",
            "ecf5f9f4b40f4660a7a7c81d04bec48d",
            "6a9872b87791416bb7f79b23a6df2629",
            "a26d6dd55cd44207a9153f73a8a8bcbd",
            "9eb5c1a9188f49059e3dfdc109f3afa6",
            "3e376fd27c3a4fdf9a835cc0e74abddc",
            "96b27ef50d2c4d4798f949835742b8b4",
            "d2bf8089d9bd45f4b134f9d0486dae29",
            "7bcc4a0263fe4c09bceb6d083421147d",
            "1c7f7d3d17e045388292f5d00f7ad008",
            "d230fb27b517445d8aa5b263330fc6b0"
          ]
        },
        "collapsed": true,
        "id": "yrwCr1n5G9wA",
        "outputId": "9b584737-99bd-4950-95a0-afdc607e1481"
      },
      "outputs": [
        {
          "name": "stderr",
          "output_type": "stream",
          "text": [
            "[I 2025-10-07 23:01:18,821] A new study created in memory with name: no-name-54c724f9-bd88-40eb-ad75-4c1b49e77415\n",
            "Best trial: 0. Best value: 0.333167:   2%|▏         | 1/50 [00:11<09:23, 11.50s/it]"
          ]
        },
        {
          "name": "stdout",
          "output_type": "stream",
          "text": [
            "[I 2025-10-07 23:01:30,315] Trial 0 finished with value: 0.33316702744851867 and parameters: {'use_pca': True, 'pca_n_components': 203, 'kernel': 'poly', 'C': 0.144984185718093, 'epsilon': 0.0005468826676351325, 'gamma_choice': 'auto', 'degree': 3, 'coef0': 0.33945995115873917}. Best is trial 0 with value: 0.33316702744851867.\n"
          ]
        },
        {
          "name": "stderr",
          "output_type": "stream",
          "text": [
            "Best trial: 0. Best value: 0.333167:   4%|▍         | 2/50 [00:20<07:48,  9.75s/it]"
          ]
        },
        {
          "name": "stdout",
          "output_type": "stream",
          "text": [
            "[I 2025-10-07 23:01:38,841] Trial 1 finished with value: 0.07098982482087728 and parameters: {'use_pca': True, 'pca_n_components': 131, 'kernel': 'rbf', 'C': 0.04051205306627068, 'epsilon': 0.009937489409736737, 'gamma_choice': 'numeric', 'gamma': 0.000588086340924328}. Best is trial 0 with value: 0.33316702744851867.\n"
          ]
        },
        {
          "name": "stderr",
          "output_type": "stream",
          "text": [
            "Best trial: 0. Best value: 0.333167:   6%|▌         | 3/50 [00:20<04:26,  5.67s/it]"
          ]
        },
        {
          "name": "stdout",
          "output_type": "stream",
          "text": [
            "[I 2025-10-07 23:01:39,648] Trial 2 finished with value: 0.019193277052792147 and parameters: {'use_pca': True, 'pca_n_components': 142, 'kernel': 'rbf', 'C': 0.026173252201609147, 'epsilon': 0.06965734708026083, 'gamma_choice': 'numeric', 'gamma': 0.0003539407748846822}. Best is trial 0 with value: 0.33316702744851867.\n"
          ]
        },
        {
          "name": "stderr",
          "output_type": "stream",
          "text": [
            "Best trial: 0. Best value: 0.333167:   8%|▊         | 4/50 [00:21<02:48,  3.66s/it]"
          ]
        },
        {
          "name": "stdout",
          "output_type": "stream",
          "text": [
            "[I 2025-10-07 23:01:40,229] Trial 3 finished with value: -1.008950886614687 and parameters: {'use_pca': True, 'pca_n_components': 53, 'kernel': 'sigmoid', 'C': 1.83377304114063, 'epsilon': 0.0021513354301928014, 'gamma_choice': 'scale'}. Best is trial 0 with value: 0.33316702744851867.\n"
          ]
        },
        {
          "name": "stderr",
          "output_type": "stream",
          "text": [
            "Best trial: 4. Best value: 0.672905:  10%|█         | 5/50 [00:24<02:33,  3.41s/it]"
          ]
        },
        {
          "name": "stdout",
          "output_type": "stream",
          "text": [
            "[I 2025-10-07 23:01:43,206] Trial 4 finished with value: 0.6729047237519261 and parameters: {'use_pca': True, 'pca_n_components': 32, 'kernel': 'poly', 'C': 0.01090078964967063, 'epsilon': 0.0012977844943093202, 'gamma_choice': 'numeric', 'gamma': 2.9076262272038047, 'degree': 2, 'coef0': 0.3599735512613764}. Best is trial 4 with value: 0.6729047237519261.\n"
          ]
        },
        {
          "name": "stderr",
          "output_type": "stream",
          "text": [
            "Best trial: 5. Best value: 0.717002:  12%|█▏        | 6/50 [00:25<01:49,  2.50s/it]"
          ]
        },
        {
          "name": "stdout",
          "output_type": "stream",
          "text": [
            "[I 2025-10-07 23:01:43,931] Trial 5 finished with value: 0.7170022018720559 and parameters: {'use_pca': False, 'kernel': 'poly', 'C': 13.163702697079021, 'epsilon': 0.031130756008527515, 'gamma_choice': 'auto', 'degree': 5, 'coef0': 0.35445552171870265}. Best is trial 5 with value: 0.7170022018720559.\n"
          ]
        },
        {
          "name": "stderr",
          "output_type": "stream",
          "text": [
            "Best trial: 5. Best value: 0.717002:  14%|█▍        | 7/50 [00:25<01:22,  1.91s/it]"
          ]
        },
        {
          "name": "stdout",
          "output_type": "stream",
          "text": [
            "[I 2025-10-07 23:01:44,630] Trial 6 finished with value: -0.017434606429448163 and parameters: {'use_pca': False, 'kernel': 'sigmoid', 'C': 0.01708175886340897, 'epsilon': 0.31422253243875825, 'gamma_choice': 'numeric', 'gamma': 4.22397608667676}. Best is trial 5 with value: 0.7170022018720559.\n"
          ]
        },
        {
          "name": "stderr",
          "output_type": "stream",
          "text": [
            "Best trial: 7. Best value: 0.758075:  16%|█▌        | 8/50 [00:27<01:14,  1.76s/it]"
          ]
        },
        {
          "name": "stdout",
          "output_type": "stream",
          "text": [
            "[I 2025-10-07 23:01:46,079] Trial 7 finished with value: 0.7580747929708265 and parameters: {'use_pca': True, 'pca_n_components': 246, 'kernel': 'poly', 'C': 567.8183437573593, 'epsilon': 0.00029323574308138167, 'gamma_choice': 'numeric', 'gamma': 0.0003035451937079993, 'degree': 5, 'coef0': 0.8172077228733875}. Best is trial 7 with value: 0.7580747929708265.\n"
          ]
        },
        {
          "name": "stderr",
          "output_type": "stream",
          "text": [
            "Best trial: 7. Best value: 0.758075:  18%|█▊        | 9/50 [00:29<01:13,  1.78s/it]"
          ]
        },
        {
          "name": "stdout",
          "output_type": "stream",
          "text": [
            "[I 2025-10-07 23:01:47,898] Trial 8 finished with value: 0.6367424462857741 and parameters: {'use_pca': False, 'kernel': 'sigmoid', 'C': 340.47319254410735, 'epsilon': 0.041327568040439355, 'gamma_choice': 'auto'}. Best is trial 7 with value: 0.7580747929708265.\n"
          ]
        },
        {
          "name": "stderr",
          "output_type": "stream",
          "text": [
            "Best trial: 7. Best value: 0.758075:  20%|██        | 10/50 [00:30<01:01,  1.54s/it]"
          ]
        },
        {
          "name": "stdout",
          "output_type": "stream",
          "text": [
            "[I 2025-10-07 23:01:48,901] Trial 9 finished with value: 0.22081711989375927 and parameters: {'use_pca': True, 'pca_n_components': 258, 'kernel': 'sigmoid', 'C': 0.008231146234089437, 'epsilon': 0.0010614046667260253, 'gamma_choice': 'scale'}. Best is trial 7 with value: 0.7580747929708265.\n"
          ]
        },
        {
          "name": "stderr",
          "output_type": "stream",
          "text": [
            "Best trial: 7. Best value: 0.758075:  22%|██▏       | 11/50 [00:30<00:51,  1.33s/it]"
          ]
        },
        {
          "name": "stdout",
          "output_type": "stream",
          "text": [
            "[I 2025-10-07 23:01:49,746] Trial 10 finished with value: 0.7548896302608108 and parameters: {'use_pca': False, 'kernel': 'poly', 'C': 815.403889559941, 'epsilon': 0.00010579099247821183, 'gamma_choice': 'numeric', 'gamma': 1.012554409534924e-05, 'degree': 5, 'coef0': 0.9695144579386619}. Best is trial 7 with value: 0.7580747929708265.\n"
          ]
        },
        {
          "name": "stderr",
          "output_type": "stream",
          "text": [
            "Best trial: 7. Best value: 0.758075:  24%|██▍       | 12/50 [00:31<00:45,  1.18s/it]"
          ]
        },
        {
          "name": "stdout",
          "output_type": "stream",
          "text": [
            "[I 2025-10-07 23:01:50,602] Trial 11 finished with value: 0.7542392767132715 and parameters: {'use_pca': False, 'kernel': 'poly', 'C': 927.7809313800011, 'epsilon': 0.00012633974939104713, 'gamma_choice': 'numeric', 'gamma': 1.0608077724461657e-05, 'degree': 5, 'coef0': 0.9978934076551094}. Best is trial 7 with value: 0.7580747929708265.\n"
          ]
        },
        {
          "name": "stderr",
          "output_type": "stream",
          "text": [
            "Best trial: 7. Best value: 0.758075:  26%|██▌       | 13/50 [00:32<00:39,  1.06s/it]"
          ]
        },
        {
          "name": "stdout",
          "output_type": "stream",
          "text": [
            "[I 2025-10-07 23:01:51,391] Trial 12 finished with value: 0.6368042410239286 and parameters: {'use_pca': False, 'kernel': 'poly', 'C': 55.60822118290568, 'epsilon': 0.00011091044142910736, 'gamma_choice': 'numeric', 'gamma': 1.2419315716259243e-05, 'degree': 5, 'coef0': 0.9426367879587397}. Best is trial 7 with value: 0.7580747929708265.\n"
          ]
        },
        {
          "name": "stderr",
          "output_type": "stream",
          "text": [
            "Best trial: 13. Best value: 0.760595:  28%|██▊       | 14/50 [00:33<00:35,  1.00it/s]"
          ]
        },
        {
          "name": "stdout",
          "output_type": "stream",
          "text": [
            "[I 2025-10-07 23:01:52,239] Trial 13 finished with value: 0.7605951869133601 and parameters: {'use_pca': False, 'kernel': 'poly', 'C': 48.78343124016288, 'epsilon': 0.0004134366960635198, 'gamma_choice': 'numeric', 'gamma': 0.0004731337241592208, 'degree': 4, 'coef0': 0.7248775327461312}. Best is trial 13 with value: 0.7605951869133601.\n"
          ]
        },
        {
          "name": "stderr",
          "output_type": "stream",
          "text": [
            "Best trial: 14. Best value: 0.762537:  30%|███       | 15/50 [00:34<00:39,  1.12s/it]"
          ]
        },
        {
          "name": "stdout",
          "output_type": "stream",
          "text": [
            "[I 2025-10-07 23:01:53,621] Trial 14 finished with value: 0.7625372719450851 and parameters: {'use_pca': True, 'pca_n_components': 285, 'kernel': 'poly', 'C': 43.86879630156964, 'epsilon': 0.0054787889974277845, 'gamma_choice': 'numeric', 'gamma': 0.004131403956885738, 'degree': 4, 'coef0': 0.6811656666794897}. Best is trial 14 with value: 0.7625372719450851.\n"
          ]
        },
        {
          "name": "stderr",
          "output_type": "stream",
          "text": [
            "Best trial: 14. Best value: 0.762537:  32%|███▏      | 16/50 [00:36<00:40,  1.18s/it]"
          ]
        },
        {
          "name": "stdout",
          "output_type": "stream",
          "text": [
            "[I 2025-10-07 23:01:54,947] Trial 15 finished with value: 0.744464969470626 and parameters: {'use_pca': False, 'kernel': 'poly', 'C': 8.939804011580922, 'epsilon': 0.0055565919475393105, 'gamma_choice': 'scale', 'degree': 4, 'coef0': 0.6556742642836981}. Best is trial 14 with value: 0.7625372719450851.\n"
          ]
        },
        {
          "name": "stderr",
          "output_type": "stream",
          "text": [
            "Best trial: 14. Best value: 0.762537:  34%|███▍      | 17/50 [00:37<00:37,  1.14s/it]"
          ]
        },
        {
          "name": "stdout",
          "output_type": "stream",
          "text": [
            "[I 2025-10-07 23:01:56,000] Trial 16 finished with value: 0.740851717919089 and parameters: {'use_pca': False, 'kernel': 'rbf', 'C': 51.79219234290182, 'epsilon': 0.005955878116000091, 'gamma_choice': 'numeric', 'gamma': 0.029318840040567166}. Best is trial 14 with value: 0.7625372719450851.\n"
          ]
        },
        {
          "name": "stderr",
          "output_type": "stream",
          "text": [
            "Best trial: 17. Best value: 0.774754:  36%|███▌      | 18/50 [00:38<00:37,  1.16s/it]"
          ]
        },
        {
          "name": "stdout",
          "output_type": "stream",
          "text": [
            "[I 2025-10-07 23:01:57,196] Trial 17 finished with value: 0.7747542271449313 and parameters: {'use_pca': True, 'pca_n_components': 281, 'kernel': 'poly', 'C': 0.7557449968385085, 'epsilon': 0.002828582842916999, 'gamma_choice': 'numeric', 'gamma': 0.0176216414493264, 'degree': 4, 'coef0': 0.6440746615307898}. Best is trial 17 with value: 0.7747542271449313.\n"
          ]
        },
        {
          "name": "stderr",
          "output_type": "stream",
          "text": [
            "Best trial: 17. Best value: 0.774754:  38%|███▊      | 19/50 [00:39<00:35,  1.15s/it]"
          ]
        },
        {
          "name": "stdout",
          "output_type": "stream",
          "text": [
            "[I 2025-10-07 23:01:58,341] Trial 18 finished with value: 0.0365633857328725 and parameters: {'use_pca': True, 'pca_n_components': 293, 'kernel': 'poly', 'C': 0.44608990818694744, 'epsilon': 0.0029458198879505977, 'gamma_choice': 'auto', 'degree': 3, 'coef0': 0.03469029537604146}. Best is trial 17 with value: 0.7747542271449313.\n"
          ]
        },
        {
          "name": "stderr",
          "output_type": "stream",
          "text": [
            "Best trial: 19. Best value: 0.775242:  40%|████      | 20/50 [00:40<00:35,  1.19s/it]"
          ]
        },
        {
          "name": "stdout",
          "output_type": "stream",
          "text": [
            "[I 2025-10-07 23:01:59,627] Trial 19 finished with value: 0.7752418238476378 and parameters: {'use_pca': True, 'pca_n_components': 290, 'kernel': 'rbf', 'C': 1.5573418212482555, 'epsilon': 0.018384290563234776, 'gamma_choice': 'scale'}. Best is trial 19 with value: 0.7752418238476378.\n"
          ]
        },
        {
          "name": "stderr",
          "output_type": "stream",
          "text": [
            "Best trial: 19. Best value: 0.775242:  42%|████▏     | 21/50 [00:41<00:32,  1.13s/it]"
          ]
        },
        {
          "name": "stdout",
          "output_type": "stream",
          "text": [
            "[I 2025-10-07 23:02:00,610] Trial 20 finished with value: 0.01627276247773979 and parameters: {'use_pca': True, 'pca_n_components': 212, 'kernel': 'rbf', 'C': 0.0018601553828214551, 'epsilon': 0.21422725652796787, 'gamma_choice': 'scale'}. Best is trial 19 with value: 0.7752418238476378.\n"
          ]
        },
        {
          "name": "stderr",
          "output_type": "stream",
          "text": [
            "Best trial: 19. Best value: 0.775242:  44%|████▍     | 22/50 [00:43<00:34,  1.22s/it]"
          ]
        },
        {
          "name": "stdout",
          "output_type": "stream",
          "text": [
            "[I 2025-10-07 23:02:02,047] Trial 21 finished with value: 0.7743758223209805 and parameters: {'use_pca': True, 'pca_n_components': 297, 'kernel': 'rbf', 'C': 3.8382746029439314, 'epsilon': 0.018277638007212778, 'gamma_choice': 'scale'}. Best is trial 19 with value: 0.7752418238476378.\n"
          ]
        },
        {
          "name": "stderr",
          "output_type": "stream",
          "text": [
            "Best trial: 19. Best value: 0.775242:  46%|████▌     | 23/50 [00:44<00:34,  1.26s/it]"
          ]
        },
        {
          "name": "stdout",
          "output_type": "stream",
          "text": [
            "[I 2025-10-07 23:02:03,389] Trial 22 finished with value: 0.7744691661588019 and parameters: {'use_pca': True, 'pca_n_components': 299, 'kernel': 'rbf', 'C': 1.4497424983495988, 'epsilon': 0.02176846898293579, 'gamma_choice': 'scale'}. Best is trial 19 with value: 0.7752418238476378.\n"
          ]
        },
        {
          "name": "stderr",
          "output_type": "stream",
          "text": [
            "Best trial: 19. Best value: 0.775242:  48%|████▊     | 24/50 [00:45<00:31,  1.20s/it]"
          ]
        },
        {
          "name": "stdout",
          "output_type": "stream",
          "text": [
            "[I 2025-10-07 23:02:04,443] Trial 23 finished with value: 0.7337257987717404 and parameters: {'use_pca': True, 'pca_n_components': 237, 'kernel': 'rbf', 'C': 0.3862869477450005, 'epsilon': 0.10309237976430233, 'gamma_choice': 'scale'}. Best is trial 19 with value: 0.7752418238476378.\n"
          ]
        },
        {
          "name": "stderr",
          "output_type": "stream",
          "text": [
            "Best trial: 19. Best value: 0.775242:  50%|█████     | 25/50 [00:46<00:26,  1.07s/it]"
          ]
        },
        {
          "name": "stdout",
          "output_type": "stream",
          "text": [
            "[I 2025-10-07 23:02:05,215] Trial 24 finished with value: 0.7091243744199243 and parameters: {'use_pca': True, 'pca_n_components': 188, 'kernel': 'rbf', 'C': 0.9072266449043132, 'epsilon': 0.8804456643438189, 'gamma_choice': 'scale'}. Best is trial 19 with value: 0.7752418238476378.\n"
          ]
        },
        {
          "name": "stderr",
          "output_type": "stream",
          "text": [
            "Best trial: 19. Best value: 0.775242:  52%|█████▏    | 26/50 [00:47<00:26,  1.11s/it]"
          ]
        },
        {
          "name": "stdout",
          "output_type": "stream",
          "text": [
            "[I 2025-10-07 23:02:06,417] Trial 25 finished with value: 0.5468813626383546 and parameters: {'use_pca': True, 'pca_n_components': 263, 'kernel': 'rbf', 'C': 0.09941674169143751, 'epsilon': 0.012649249528576214, 'gamma_choice': 'scale'}. Best is trial 19 with value: 0.7752418238476378.\n"
          ]
        },
        {
          "name": "stderr",
          "output_type": "stream",
          "text": [
            "Best trial: 19. Best value: 0.775242:  54%|█████▍    | 27/50 [00:48<00:26,  1.17s/it]"
          ]
        },
        {
          "name": "stdout",
          "output_type": "stream",
          "text": [
            "[I 2025-10-07 23:02:07,739] Trial 26 finished with value: 0.7744504956108855 and parameters: {'use_pca': True, 'pca_n_components': 299, 'kernel': 'rbf', 'C': 3.9139868305617886, 'epsilon': 0.02435262035293425, 'gamma_choice': 'scale'}. Best is trial 19 with value: 0.7752418238476378.\n"
          ]
        },
        {
          "name": "stderr",
          "output_type": "stream",
          "text": [
            "Best trial: 19. Best value: 0.775242:  56%|█████▌    | 28/50 [00:49<00:22,  1.03s/it]"
          ]
        },
        {
          "name": "stdout",
          "output_type": "stream",
          "text": [
            "[I 2025-10-07 23:02:08,436] Trial 27 finished with value: 0.6830672454085203 and parameters: {'use_pca': True, 'pca_n_components': 108, 'kernel': 'rbf', 'C': 0.199634065161188, 'epsilon': 0.06486088596368497, 'gamma_choice': 'scale'}. Best is trial 19 with value: 0.7752418238476378.\n"
          ]
        },
        {
          "name": "stderr",
          "output_type": "stream",
          "text": [
            "Best trial: 19. Best value: 0.775242:  58%|█████▊    | 29/50 [00:50<00:21,  1.04s/it]"
          ]
        },
        {
          "name": "stdout",
          "output_type": "stream",
          "text": [
            "[I 2025-10-07 23:02:09,499] Trial 28 finished with value: 0.7728967356373437 and parameters: {'use_pca': True, 'pca_n_components': 227, 'kernel': 'rbf', 'C': 1.251357513917136, 'epsilon': 0.0028999632998182225, 'gamma_choice': 'scale'}. Best is trial 19 with value: 0.7752418238476378.\n"
          ]
        },
        {
          "name": "stderr",
          "output_type": "stream",
          "text": [
            "Best trial: 19. Best value: 0.775242:  60%|██████    | 30/50 [00:51<00:19,  1.01it/s]"
          ]
        },
        {
          "name": "stdout",
          "output_type": "stream",
          "text": [
            "[I 2025-10-07 23:02:10,378] Trial 29 finished with value: 0.47819685248684357 and parameters: {'use_pca': True, 'pca_n_components': 177, 'kernel': 'rbf', 'C': 0.10771039549298791, 'epsilon': 0.01036705375277184, 'gamma_choice': 'auto'}. Best is trial 19 with value: 0.7752418238476378.\n"
          ]
        },
        {
          "name": "stderr",
          "output_type": "stream",
          "text": [
            "Best trial: 19. Best value: 0.775242:  62%|██████▏   | 31/50 [00:52<00:19,  1.03s/it]"
          ]
        },
        {
          "name": "stdout",
          "output_type": "stream",
          "text": [
            "[I 2025-10-07 23:02:11,511] Trial 30 finished with value: -14.571669500151984 and parameters: {'use_pca': True, 'pca_n_components': 260, 'kernel': 'sigmoid', 'C': 10.292658125374043, 'epsilon': 0.0012629410507429073, 'gamma_choice': 'scale'}. Best is trial 19 with value: 0.7752418238476378.\n"
          ]
        },
        {
          "name": "stderr",
          "output_type": "stream",
          "text": [
            "Best trial: 31. Best value: 0.775542:  64%|██████▍   | 32/50 [00:53<00:19,  1.10s/it]"
          ]
        },
        {
          "name": "stdout",
          "output_type": "stream",
          "text": [
            "[I 2025-10-07 23:02:12,778] Trial 31 finished with value: 0.7755418909965857 and parameters: {'use_pca': True, 'pca_n_components': 299, 'kernel': 'rbf', 'C': 3.298628958528029, 'epsilon': 0.023675742757736085, 'gamma_choice': 'scale'}. Best is trial 31 with value: 0.7755418909965857.\n"
          ]
        },
        {
          "name": "stderr",
          "output_type": "stream",
          "text": [
            "Best trial: 32. Best value: 0.776292:  66%|██████▌   | 33/50 [00:55<00:19,  1.16s/it]"
          ]
        },
        {
          "name": "stdout",
          "output_type": "stream",
          "text": [
            "[I 2025-10-07 23:02:14,061] Trial 32 finished with value: 0.7762921639146796 and parameters: {'use_pca': True, 'pca_n_components': 276, 'kernel': 'rbf', 'C': 2.968304768439402, 'epsilon': 0.016989681066338858, 'gamma_choice': 'scale'}. Best is trial 32 with value: 0.7762921639146796.\n"
          ]
        },
        {
          "name": "stderr",
          "output_type": "stream",
          "text": [
            "Best trial: 32. Best value: 0.776292:  68%|██████▊   | 34/50 [00:56<00:19,  1.19s/it]"
          ]
        },
        {
          "name": "stdout",
          "output_type": "stream",
          "text": [
            "[I 2025-10-07 23:02:15,335] Trial 33 finished with value: 0.7747373356475236 and parameters: {'use_pca': True, 'pca_n_components': 269, 'kernel': 'rbf', 'C': 3.324750783808802, 'epsilon': 0.008180859507501708, 'gamma_choice': 'scale'}. Best is trial 32 with value: 0.7762921639146796.\n"
          ]
        },
        {
          "name": "stderr",
          "output_type": "stream",
          "text": [
            "Best trial: 32. Best value: 0.776292:  70%|███████   | 35/50 [00:57<00:18,  1.23s/it]"
          ]
        },
        {
          "name": "stdout",
          "output_type": "stream",
          "text": [
            "[I 2025-10-07 23:02:16,638] Trial 34 finished with value: 0.7570101480279553 and parameters: {'use_pca': True, 'pca_n_components': 273, 'kernel': 'rbf', 'C': 0.6181778362201018, 'epsilon': 0.04134471459212577, 'gamma_choice': 'scale'}. Best is trial 32 with value: 0.7762921639146796.\n"
          ]
        },
        {
          "name": "stderr",
          "output_type": "stream",
          "text": [
            "Best trial: 32. Best value: 0.776292:  72%|███████▏  | 36/50 [00:58<00:16,  1.17s/it]"
          ]
        },
        {
          "name": "stdout",
          "output_type": "stream",
          "text": [
            "[I 2025-10-07 23:02:17,670] Trial 35 finished with value: 0.762307809819921 and parameters: {'use_pca': True, 'pca_n_components': 228, 'kernel': 'rbf', 'C': 19.45502401762342, 'epsilon': 0.09911649556795267, 'gamma_choice': 'scale'}. Best is trial 32 with value: 0.7762921639146796.\n"
          ]
        },
        {
          "name": "stderr",
          "output_type": "stream",
          "text": [
            "Best trial: 32. Best value: 0.776292:  74%|███████▍  | 37/50 [01:00<00:15,  1.17s/it]"
          ]
        },
        {
          "name": "stdout",
          "output_type": "stream",
          "text": [
            "[I 2025-10-07 23:02:18,835] Trial 36 finished with value: 0.5518792669955366 and parameters: {'use_pca': True, 'pca_n_components': 278, 'kernel': 'rbf', 'C': 0.23923017459224352, 'epsilon': 0.014943739833419121, 'gamma_choice': 'auto'}. Best is trial 32 with value: 0.7762921639146796.\n"
          ]
        },
        {
          "name": "stderr",
          "output_type": "stream",
          "text": [
            "Best trial: 37. Best value: 0.776525:  76%|███████▌  | 38/50 [01:01<00:13,  1.15s/it]"
          ]
        },
        {
          "name": "stdout",
          "output_type": "stream",
          "text": [
            "[I 2025-10-07 23:02:19,943] Trial 37 finished with value: 0.7765254438224104 and parameters: {'use_pca': True, 'pca_n_components': 250, 'kernel': 'rbf', 'C': 2.1888423528442957, 'epsilon': 0.0033195680527641947, 'gamma_choice': 'scale'}. Best is trial 37 with value: 0.7765254438224104.\n"
          ]
        },
        {
          "name": "stderr",
          "output_type": "stream",
          "text": [
            "Best trial: 37. Best value: 0.776525:  78%|███████▊  | 39/50 [01:02<00:12,  1.17s/it]"
          ]
        },
        {
          "name": "stdout",
          "output_type": "stream",
          "text": [
            "[I 2025-10-07 23:02:21,162] Trial 38 finished with value: 0.7541108660617171 and parameters: {'use_pca': True, 'pca_n_components': 247, 'kernel': 'rbf', 'C': 153.14720796314518, 'epsilon': 0.04928208443849989, 'gamma_choice': 'scale'}. Best is trial 37 with value: 0.7765254438224104.\n"
          ]
        },
        {
          "name": "stderr",
          "output_type": "stream",
          "text": [
            "Best trial: 39. Best value: 0.782866:  80%|████████  | 40/50 [01:03<00:11,  1.11s/it]"
          ]
        },
        {
          "name": "stdout",
          "output_type": "stream",
          "text": [
            "[I 2025-10-07 23:02:22,118] Trial 39 finished with value: 0.782865839428826 and parameters: {'use_pca': True, 'pca_n_components': 212, 'kernel': 'rbf', 'C': 2.224704276478787, 'epsilon': 0.19669744579688375, 'gamma_choice': 'scale'}. Best is trial 39 with value: 0.782865839428826.\n"
          ]
        },
        {
          "name": "stderr",
          "output_type": "stream",
          "text": [
            "Best trial: 39. Best value: 0.782866:  82%|████████▏ | 41/50 [01:04<00:09,  1.10s/it]"
          ]
        },
        {
          "name": "stdout",
          "output_type": "stream",
          "text": [
            "[I 2025-10-07 23:02:23,222] Trial 40 finished with value: 0.781412454737469 and parameters: {'use_pca': True, 'pca_n_components': 204, 'kernel': 'rbf', 'C': 6.014938042067777, 'epsilon': 0.2191099514946115, 'gamma_choice': 'scale'}. Best is trial 39 with value: 0.782865839428826.\n"
          ]
        },
        {
          "name": "stderr",
          "output_type": "stream",
          "text": [
            "Best trial: 41. Best value: 0.783533:  84%|████████▍ | 42/50 [01:05<00:08,  1.04s/it]"
          ]
        },
        {
          "name": "stdout",
          "output_type": "stream",
          "text": [
            "[I 2025-10-07 23:02:24,109] Trial 41 finished with value: 0.7835327289742409 and parameters: {'use_pca': True, 'pca_n_components': 208, 'kernel': 'rbf', 'C': 6.004472924269693, 'epsilon': 0.3815127542035473, 'gamma_choice': 'scale'}. Best is trial 41 with value: 0.7835327289742409.\n"
          ]
        },
        {
          "name": "stderr",
          "output_type": "stream",
          "text": [
            "Best trial: 41. Best value: 0.783533:  86%|████████▌ | 43/50 [01:06<00:06,  1.02it/s]"
          ]
        },
        {
          "name": "stdout",
          "output_type": "stream",
          "text": [
            "[I 2025-10-07 23:02:24,969] Trial 42 finished with value: 0.776888800313368 and parameters: {'use_pca': True, 'pca_n_components': 203, 'kernel': 'rbf', 'C': 6.407665371125777, 'epsilon': 0.5643859564693117, 'gamma_choice': 'scale'}. Best is trial 41 with value: 0.7835327289742409.\n"
          ]
        },
        {
          "name": "stderr",
          "output_type": "stream",
          "text": [
            "Best trial: 41. Best value: 0.783533:  88%|████████▊ | 44/50 [01:06<00:05,  1.06it/s]"
          ]
        },
        {
          "name": "stdout",
          "output_type": "stream",
          "text": [
            "[I 2025-10-07 23:02:25,808] Trial 43 finished with value: 0.7236788955372399 and parameters: {'use_pca': True, 'pca_n_components': 203, 'kernel': 'rbf', 'C': 19.5744329248043, 'epsilon': 0.9444193984651594, 'gamma_choice': 'scale'}. Best is trial 41 with value: 0.7835327289742409.\n"
          ]
        },
        {
          "name": "stderr",
          "output_type": "stream",
          "text": [
            "Best trial: 41. Best value: 0.783533:  90%|█████████ | 45/50 [01:07<00:04,  1.08it/s]"
          ]
        },
        {
          "name": "stdout",
          "output_type": "stream",
          "text": [
            "[I 2025-10-07 23:02:26,706] Trial 44 finished with value: -12.213403991379923 and parameters: {'use_pca': True, 'pca_n_components': 159, 'kernel': 'sigmoid', 'C': 9.30035583905653, 'epsilon': 0.4743029903956596, 'gamma_choice': 'scale'}. Best is trial 41 with value: 0.7835327289742409.\n"
          ]
        },
        {
          "name": "stderr",
          "output_type": "stream",
          "text": [
            "Best trial: 41. Best value: 0.783533:  92%|█████████▏| 46/50 [01:08<00:03,  1.18it/s]"
          ]
        },
        {
          "name": "stdout",
          "output_type": "stream",
          "text": [
            "[I 2025-10-07 23:02:27,377] Trial 45 finished with value: 0.7803913681535279 and parameters: {'use_pca': True, 'pca_n_components': 188, 'kernel': 'rbf', 'C': 5.9308637086606915, 'epsilon': 0.20329542133752704, 'gamma_choice': 'scale'}. Best is trial 41 with value: 0.7835327289742409.\n"
          ]
        },
        {
          "name": "stderr",
          "output_type": "stream",
          "text": [
            "Best trial: 41. Best value: 0.783533:  94%|█████████▍| 47/50 [01:09<00:02,  1.31it/s]"
          ]
        },
        {
          "name": "stdout",
          "output_type": "stream",
          "text": [
            "[I 2025-10-07 23:02:27,948] Trial 46 finished with value: 0.7780797191343589 and parameters: {'use_pca': True, 'pca_n_components': 172, 'kernel': 'rbf', 'C': 5.800204281504729, 'epsilon': 0.16793229435045245, 'gamma_choice': 'scale'}. Best is trial 41 with value: 0.7835327289742409.\n"
          ]
        },
        {
          "name": "stderr",
          "output_type": "stream",
          "text": [
            "Best trial: 41. Best value: 0.783533:  96%|█████████▌| 48/50 [01:09<00:01,  1.50it/s]"
          ]
        },
        {
          "name": "stdout",
          "output_type": "stream",
          "text": [
            "[I 2025-10-07 23:02:28,385] Trial 47 finished with value: 0.6428220916118009 and parameters: {'use_pca': True, 'pca_n_components': 122, 'kernel': 'sigmoid', 'C': 19.66218158042845, 'epsilon': 0.20800865815049707, 'gamma_choice': 'auto'}. Best is trial 41 with value: 0.7835327289742409.\n"
          ]
        },
        {
          "name": "stderr",
          "output_type": "stream",
          "text": [
            "Best trial: 41. Best value: 0.783533:  98%|█████████▊| 49/50 [01:10<00:00,  1.63it/s]"
          ]
        },
        {
          "name": "stdout",
          "output_type": "stream",
          "text": [
            "[I 2025-10-07 23:02:28,873] Trial 48 finished with value: 0.7738341491527824 and parameters: {'use_pca': True, 'pca_n_components': 160, 'kernel': 'rbf', 'C': 5.8122729809054015, 'epsilon': 0.11846051281345038, 'gamma_choice': 'scale'}. Best is trial 41 with value: 0.7835327289742409.\n"
          ]
        },
        {
          "name": "stderr",
          "output_type": "stream",
          "text": [
            "Best trial: 41. Best value: 0.783533: 100%|██████████| 50/50 [01:10<00:00,  1.41s/it]\n"
          ]
        },
        {
          "name": "stdout",
          "output_type": "stream",
          "text": [
            "[I 2025-10-07 23:02:29,346] Trial 49 finished with value: 0.7611497716610789 and parameters: {'use_pca': False, 'kernel': 'rbf', 'C': 95.23408607528143, 'epsilon': 0.22523215814978376, 'gamma_choice': 'scale'}. Best is trial 41 with value: 0.7835327289742409.\n",
            "SVM best R2: 0.7835327289742409\n",
            "SVM best params: {'use_pca': True, 'pca_n_components': 208, 'kernel': 'rbf', 'C': 6.004472924269693, 'epsilon': 0.3815127542035473, 'gamma_choice': 'scale'}\n"
          ]
        }
      ],
      "source": [
        "# ----------------------------\n",
        "# Example: run all studies sequentially (adjust n_trials)\n",
        "# ----------------------------\n",
        "svm_study, svm_pipe = run_optuna_svm(n_trials=50)"
      ]
    },
    {
      "cell_type": "code",
      "execution_count": 22,
      "metadata": {
        "colab": {
          "base_uri": "https://localhost:8080/",
          "height": 989,
          "referenced_widgets": [
            "038f43cd57254006a1460e5396b5187b",
            "f1b81772f4e44b19a3cd1dcde01d5489",
            "dd7aa77859b941a395dc98629d20586d",
            "a89c5f9f6b824c6baea58d318863e103",
            "9adf70d611f44c27af92abd7cfade123",
            "2576e047a9ad444495fd5f6bf0d9f0cd",
            "3102563b50cd4f63b35948a4c1c0370b",
            "1a15bd8050714d4a93cd0e8e4f88eadf",
            "edae49688d72407a9ff74e0b5e2c17c7",
            "8b9600f135094ec982b920386a2e5ca0",
            "ec39eca0ea484699b3c92cad8e52775a"
          ]
        },
        "collapsed": true,
        "id": "EkQF7ZHxaMpR",
        "outputId": "b9df424a-1e61-4f32-99f0-ba7e85fd4ad1"
      },
      "outputs": [
        {
          "name": "stderr",
          "output_type": "stream",
          "text": [
            "[I 2025-10-07 23:02:29,696] A new study created in memory with name: no-name-9b948db5-60b9-4067-9b45-8c160f07746b\n",
            "Best trial: 0. Best value: 0.638474:   2%|▏         | 1/50 [00:00<00:31,  1.58it/s]"
          ]
        },
        {
          "name": "stdout",
          "output_type": "stream",
          "text": [
            "[I 2025-10-07 23:02:30,325] Trial 0 finished with value: 0.6384743341301162 and parameters: {'use_pca': True, 'pca_n_components': 274, 'n_neighbors': 21, 'weights': 'uniform', 'p': 1}. Best is trial 0 with value: 0.6384743341301162.\n"
          ]
        },
        {
          "name": "stderr",
          "output_type": "stream",
          "text": [
            "Best trial: 1. Best value: 0.718032:   4%|▍         | 2/50 [00:01<00:34,  1.38it/s]"
          ]
        },
        {
          "name": "stdout",
          "output_type": "stream",
          "text": [
            "[I 2025-10-07 23:02:31,113] Trial 1 finished with value: 0.7180319955484974 and parameters: {'use_pca': False, 'n_neighbors': 16, 'weights': 'distance', 'p': 1}. Best is trial 1 with value: 0.7180319955484974.\n"
          ]
        },
        {
          "name": "stderr",
          "output_type": "stream",
          "text": [
            "Best trial: 1. Best value: 0.718032:   6%|▌         | 3/50 [00:01<00:27,  1.71it/s]"
          ]
        },
        {
          "name": "stdout",
          "output_type": "stream",
          "text": [
            "[I 2025-10-07 23:02:31,534] Trial 2 finished with value: 0.6978048028974643 and parameters: {'use_pca': False, 'n_neighbors': 28, 'weights': 'distance', 'p': 1}. Best is trial 1 with value: 0.7180319955484974.\n"
          ]
        },
        {
          "name": "stderr",
          "output_type": "stream",
          "text": [
            "Best trial: 1. Best value: 0.718032:   8%|▊         | 4/50 [00:02<00:26,  1.76it/s]"
          ]
        },
        {
          "name": "stdout",
          "output_type": "stream",
          "text": [
            "[I 2025-10-07 23:02:32,076] Trial 3 finished with value: 0.6978048028974643 and parameters: {'use_pca': False, 'n_neighbors': 28, 'weights': 'distance', 'p': 1}. Best is trial 1 with value: 0.7180319955484974.\n"
          ]
        },
        {
          "name": "stderr",
          "output_type": "stream",
          "text": [
            "Best trial: 1. Best value: 0.718032:  10%|█         | 5/50 [00:03<00:29,  1.54it/s]"
          ]
        },
        {
          "name": "stdout",
          "output_type": "stream",
          "text": [
            "[I 2025-10-07 23:02:32,868] Trial 4 finished with value: 0.6164052752730969 and parameters: {'use_pca': True, 'pca_n_components': 254, 'n_neighbors': 29, 'weights': 'distance', 'p': 1}. Best is trial 1 with value: 0.7180319955484974.\n"
          ]
        },
        {
          "name": "stderr",
          "output_type": "stream",
          "text": [
            "Best trial: 5. Best value: 0.737878:  12%|█▏        | 6/50 [00:03<00:27,  1.62it/s]"
          ]
        },
        {
          "name": "stdout",
          "output_type": "stream",
          "text": [
            "[I 2025-10-07 23:02:33,423] Trial 5 finished with value: 0.7378779945307459 and parameters: {'use_pca': True, 'pca_n_components': 195, 'n_neighbors': 11, 'weights': 'uniform', 'p': 1}. Best is trial 5 with value: 0.7378779945307459.\n"
          ]
        },
        {
          "name": "stderr",
          "output_type": "stream",
          "text": [
            "Best trial: 5. Best value: 0.737878:  14%|█▍        | 7/50 [00:03<00:20,  2.08it/s]"
          ]
        },
        {
          "name": "stdout",
          "output_type": "stream",
          "text": [
            "[I 2025-10-07 23:02:33,616] Trial 6 finished with value: 0.6982768239547892 and parameters: {'use_pca': False, 'n_neighbors': 21, 'weights': 'uniform', 'p': 2}. Best is trial 5 with value: 0.7378779945307459.\n"
          ]
        },
        {
          "name": "stderr",
          "output_type": "stream",
          "text": [
            "Best trial: 5. Best value: 0.737878:  16%|█▌        | 8/50 [00:04<00:18,  2.27it/s]"
          ]
        },
        {
          "name": "stdout",
          "output_type": "stream",
          "text": [
            "[I 2025-10-07 23:02:33,976] Trial 7 finished with value: 0.7083836900224166 and parameters: {'use_pca': True, 'pca_n_components': 11, 'n_neighbors': 11, 'weights': 'distance', 'p': 2}. Best is trial 5 with value: 0.7378779945307459.\n"
          ]
        },
        {
          "name": "stderr",
          "output_type": "stream",
          "text": [
            "Best trial: 5. Best value: 0.737878:  18%|█▊        | 9/50 [00:04<00:16,  2.47it/s]"
          ]
        },
        {
          "name": "stdout",
          "output_type": "stream",
          "text": [
            "[I 2025-10-07 23:02:34,300] Trial 8 finished with value: 0.7284530423860461 and parameters: {'use_pca': False, 'n_neighbors': 11, 'weights': 'distance', 'p': 1}. Best is trial 5 with value: 0.7378779945307459.\n"
          ]
        },
        {
          "name": "stderr",
          "output_type": "stream",
          "text": [
            "Best trial: 9. Best value: 0.757454:  20%|██        | 10/50 [00:04<00:15,  2.56it/s]"
          ]
        },
        {
          "name": "stdout",
          "output_type": "stream",
          "text": [
            "[I 2025-10-07 23:02:34,658] Trial 9 finished with value: 0.7574536053552073 and parameters: {'use_pca': False, 'n_neighbors': 7, 'weights': 'uniform', 'p': 1}. Best is trial 9 with value: 0.7574536053552073.\n"
          ]
        },
        {
          "name": "stderr",
          "output_type": "stream",
          "text": [
            "Best trial: 9. Best value: 0.757454:  22%|██▏       | 11/50 [00:05<00:13,  2.85it/s]"
          ]
        },
        {
          "name": "stdout",
          "output_type": "stream",
          "text": [
            "[I 2025-10-07 23:02:34,925] Trial 10 finished with value: 0.5801756294432494 and parameters: {'use_pca': False, 'n_neighbors': 1, 'weights': 'uniform', 'p': 2}. Best is trial 9 with value: 0.7574536053552073.\n"
          ]
        },
        {
          "name": "stderr",
          "output_type": "stream",
          "text": [
            "Best trial: 11. Best value: 0.762927:  24%|██▍       | 12/50 [00:05<00:14,  2.71it/s]"
          ]
        },
        {
          "name": "stdout",
          "output_type": "stream",
          "text": [
            "[I 2025-10-07 23:02:35,335] Trial 11 finished with value: 0.7629274653765751 and parameters: {'use_pca': True, 'pca_n_components': 133, 'n_neighbors': 4, 'weights': 'uniform', 'p': 1}. Best is trial 11 with value: 0.7629274653765751.\n"
          ]
        },
        {
          "name": "stderr",
          "output_type": "stream",
          "text": [
            "Best trial: 11. Best value: 0.762927:  26%|██▌       | 13/50 [00:05<00:12,  2.87it/s]"
          ]
        },
        {
          "name": "stdout",
          "output_type": "stream",
          "text": [
            "[I 2025-10-07 23:02:35,630] Trial 12 finished with value: 0.7443776922376971 and parameters: {'use_pca': True, 'pca_n_components': 89, 'n_neighbors': 2, 'weights': 'uniform', 'p': 1}. Best is trial 11 with value: 0.7629274653765751.\n"
          ]
        },
        {
          "name": "stderr",
          "output_type": "stream",
          "text": [
            "Best trial: 13. Best value: 0.763979:  28%|██▊       | 14/50 [00:06<00:12,  2.78it/s]"
          ]
        },
        {
          "name": "stdout",
          "output_type": "stream",
          "text": [
            "[I 2025-10-07 23:02:36,026] Trial 13 finished with value: 0.7639785430603963 and parameters: {'use_pca': True, 'pca_n_components': 130, 'n_neighbors': 6, 'weights': 'uniform', 'p': 1}. Best is trial 13 with value: 0.7639785430603963.\n"
          ]
        },
        {
          "name": "stderr",
          "output_type": "stream",
          "text": [
            "Best trial: 13. Best value: 0.763979:  30%|███       | 15/50 [00:06<00:12,  2.86it/s]"
          ]
        },
        {
          "name": "stdout",
          "output_type": "stream",
          "text": [
            "[I 2025-10-07 23:02:36,346] Trial 14 finished with value: 0.7569686921187058 and parameters: {'use_pca': True, 'pca_n_components': 132, 'n_neighbors': 6, 'weights': 'uniform', 'p': 2}. Best is trial 13 with value: 0.7639785430603963.\n"
          ]
        },
        {
          "name": "stderr",
          "output_type": "stream",
          "text": [
            "Best trial: 13. Best value: 0.763979:  32%|███▏      | 16/50 [00:07<00:12,  2.75it/s]"
          ]
        },
        {
          "name": "stdout",
          "output_type": "stream",
          "text": [
            "[I 2025-10-07 23:02:36,714] Trial 15 finished with value: 0.7579311509787434 and parameters: {'use_pca': True, 'pca_n_components': 120, 'n_neighbors': 5, 'weights': 'uniform', 'p': 1}. Best is trial 13 with value: 0.7639785430603963.\n"
          ]
        },
        {
          "name": "stderr",
          "output_type": "stream",
          "text": [
            "Best trial: 13. Best value: 0.763979:  34%|███▍      | 17/50 [00:07<00:12,  2.55it/s]"
          ]
        },
        {
          "name": "stdout",
          "output_type": "stream",
          "text": [
            "[I 2025-10-07 23:02:37,206] Trial 16 finished with value: 0.7051180305920146 and parameters: {'use_pca': True, 'pca_n_components': 188, 'n_neighbors': 15, 'weights': 'uniform', 'p': 1}. Best is trial 13 with value: 0.7639785430603963.\n"
          ]
        },
        {
          "name": "stderr",
          "output_type": "stream",
          "text": [
            "Best trial: 13. Best value: 0.763979:  36%|███▌      | 18/50 [00:07<00:11,  2.74it/s]"
          ]
        },
        {
          "name": "stdout",
          "output_type": "stream",
          "text": [
            "[I 2025-10-07 23:02:37,499] Trial 17 finished with value: 0.7605820475511759 and parameters: {'use_pca': True, 'pca_n_components': 60, 'n_neighbors': 4, 'weights': 'uniform', 'p': 2}. Best is trial 13 with value: 0.7639785430603963.\n"
          ]
        },
        {
          "name": "stderr",
          "output_type": "stream",
          "text": [
            "Best trial: 13. Best value: 0.763979:  38%|███▊      | 19/50 [00:08<00:11,  2.62it/s]"
          ]
        },
        {
          "name": "stdout",
          "output_type": "stream",
          "text": [
            "[I 2025-10-07 23:02:37,922] Trial 18 finished with value: 0.7540597816718846 and parameters: {'use_pca': True, 'pca_n_components': 178, 'n_neighbors': 8, 'weights': 'uniform', 'p': 1}. Best is trial 13 with value: 0.7639785430603963.\n"
          ]
        },
        {
          "name": "stderr",
          "output_type": "stream",
          "text": [
            "Best trial: 13. Best value: 0.763979:  40%|████      | 20/50 [00:08<00:10,  2.75it/s]"
          ]
        },
        {
          "name": "stdout",
          "output_type": "stream",
          "text": [
            "[I 2025-10-07 23:02:38,245] Trial 19 finished with value: 0.7348472047357608 and parameters: {'use_pca': True, 'pca_n_components': 83, 'n_neighbors': 15, 'weights': 'uniform', 'p': 1}. Best is trial 13 with value: 0.7639785430603963.\n"
          ]
        },
        {
          "name": "stderr",
          "output_type": "stream",
          "text": [
            "Best trial: 13. Best value: 0.763979:  42%|████▏     | 21/50 [00:09<00:11,  2.52it/s]"
          ]
        },
        {
          "name": "stdout",
          "output_type": "stream",
          "text": [
            "[I 2025-10-07 23:02:38,723] Trial 20 finished with value: 0.7522948254323114 and parameters: {'use_pca': True, 'pca_n_components': 226, 'n_neighbors': 9, 'weights': 'uniform', 'p': 2}. Best is trial 13 with value: 0.7639785430603963.\n"
          ]
        },
        {
          "name": "stderr",
          "output_type": "stream",
          "text": [
            "Best trial: 13. Best value: 0.763979:  44%|████▍     | 22/50 [00:09<00:10,  2.63it/s]"
          ]
        },
        {
          "name": "stdout",
          "output_type": "stream",
          "text": [
            "[I 2025-10-07 23:02:39,059] Trial 21 finished with value: 0.7417225979487994 and parameters: {'use_pca': True, 'pca_n_components': 32, 'n_neighbors': 4, 'weights': 'uniform', 'p': 2}. Best is trial 13 with value: 0.7639785430603963.\n"
          ]
        },
        {
          "name": "stderr",
          "output_type": "stream",
          "text": [
            "Best trial: 13. Best value: 0.763979:  46%|████▌     | 23/50 [00:09<00:09,  2.79it/s]"
          ]
        },
        {
          "name": "stdout",
          "output_type": "stream",
          "text": [
            "[I 2025-10-07 23:02:39,372] Trial 22 finished with value: 0.7517842214959306 and parameters: {'use_pca': True, 'pca_n_components': 64, 'n_neighbors': 3, 'weights': 'uniform', 'p': 2}. Best is trial 13 with value: 0.7639785430603963.\n"
          ]
        },
        {
          "name": "stderr",
          "output_type": "stream",
          "text": [
            "Best trial: 13. Best value: 0.763979:  48%|████▊     | 24/50 [00:10<00:09,  2.83it/s]"
          ]
        },
        {
          "name": "stdout",
          "output_type": "stream",
          "text": [
            "[I 2025-10-07 23:02:39,713] Trial 23 finished with value: 0.586494144631075 and parameters: {'use_pca': True, 'pca_n_components': 131, 'n_neighbors': 1, 'weights': 'uniform', 'p': 2}. Best is trial 13 with value: 0.7639785430603963.\n"
          ]
        },
        {
          "name": "stderr",
          "output_type": "stream",
          "text": [
            "Best trial: 13. Best value: 0.763979:  50%|█████     | 25/50 [00:10<00:08,  2.88it/s]"
          ]
        },
        {
          "name": "stdout",
          "output_type": "stream",
          "text": [
            "[I 2025-10-07 23:02:40,046] Trial 24 finished with value: 0.7571679147685837 and parameters: {'use_pca': True, 'pca_n_components': 103, 'n_neighbors': 5, 'weights': 'uniform', 'p': 2}. Best is trial 13 with value: 0.7639785430603963.\n"
          ]
        },
        {
          "name": "stderr",
          "output_type": "stream",
          "text": [
            "Best trial: 13. Best value: 0.763979:  52%|█████▏    | 26/50 [00:10<00:08,  2.68it/s]"
          ]
        },
        {
          "name": "stdout",
          "output_type": "stream",
          "text": [
            "[I 2025-10-07 23:02:40,468] Trial 25 finished with value: 0.756854726764818 and parameters: {'use_pca': True, 'pca_n_components': 157, 'n_neighbors': 9, 'weights': 'uniform', 'p': 1}. Best is trial 13 with value: 0.7639785430603963.\n"
          ]
        },
        {
          "name": "stderr",
          "output_type": "stream",
          "text": [
            "Best trial: 13. Best value: 0.763979:  54%|█████▍    | 27/50 [00:11<00:08,  2.76it/s]"
          ]
        },
        {
          "name": "stdout",
          "output_type": "stream",
          "text": [
            "[I 2025-10-07 23:02:40,804] Trial 26 finished with value: 0.7318331700913827 and parameters: {'use_pca': True, 'pca_n_components': 50, 'n_neighbors': 13, 'weights': 'uniform', 'p': 2}. Best is trial 13 with value: 0.7639785430603963.\n"
          ]
        },
        {
          "name": "stderr",
          "output_type": "stream",
          "text": [
            "Best trial: 13. Best value: 0.763979:  56%|█████▌    | 28/50 [00:11<00:09,  2.22it/s]"
          ]
        },
        {
          "name": "stdout",
          "output_type": "stream",
          "text": [
            "[I 2025-10-07 23:02:41,474] Trial 27 finished with value: 0.748716023988705 and parameters: {'use_pca': True, 'pca_n_components': 159, 'n_neighbors': 3, 'weights': 'uniform', 'p': 1}. Best is trial 13 with value: 0.7639785430603963.\n"
          ]
        },
        {
          "name": "stderr",
          "output_type": "stream",
          "text": [
            "Best trial: 13. Best value: 0.763979:  58%|█████▊    | 29/50 [00:12<00:08,  2.47it/s]"
          ]
        },
        {
          "name": "stdout",
          "output_type": "stream",
          "text": [
            "[I 2025-10-07 23:02:41,770] Trial 28 finished with value: 0.757333166418945 and parameters: {'use_pca': True, 'pca_n_components': 74, 'n_neighbors': 7, 'weights': 'uniform', 'p': 2}. Best is trial 13 with value: 0.7639785430603963.\n"
          ]
        },
        {
          "name": "stderr",
          "output_type": "stream",
          "text": [
            "Best trial: 13. Best value: 0.763979:  60%|██████    | 30/50 [00:12<00:07,  2.55it/s]"
          ]
        },
        {
          "name": "stdout",
          "output_type": "stream",
          "text": [
            "[I 2025-10-07 23:02:42,133] Trial 29 finished with value: 0.7003893490290134 and parameters: {'use_pca': True, 'pca_n_components': 109, 'n_neighbors': 19, 'weights': 'uniform', 'p': 1}. Best is trial 13 with value: 0.7639785430603963.\n"
          ]
        },
        {
          "name": "stderr",
          "output_type": "stream",
          "text": [
            "Best trial: 13. Best value: 0.763979:  62%|██████▏   | 31/50 [00:12<00:06,  2.76it/s]"
          ]
        },
        {
          "name": "stdout",
          "output_type": "stream",
          "text": [
            "[I 2025-10-07 23:02:42,423] Trial 30 finished with value: 0.745667177300349 and parameters: {'use_pca': True, 'pca_n_components': 43, 'n_neighbors': 4, 'weights': 'uniform', 'p': 1}. Best is trial 13 with value: 0.7639785430603963.\n"
          ]
        },
        {
          "name": "stderr",
          "output_type": "stream",
          "text": [
            "Best trial: 13. Best value: 0.763979:  64%|██████▍   | 32/50 [00:13<00:07,  2.47it/s]"
          ]
        },
        {
          "name": "stdout",
          "output_type": "stream",
          "text": [
            "[I 2025-10-07 23:02:42,924] Trial 31 finished with value: 0.7585645495053235 and parameters: {'use_pca': True, 'pca_n_components': 126, 'n_neighbors': 5, 'weights': 'uniform', 'p': 1}. Best is trial 13 with value: 0.7639785430603963.\n"
          ]
        },
        {
          "name": "stderr",
          "output_type": "stream",
          "text": [
            "Best trial: 32. Best value: 0.767903:  66%|██████▌   | 33/50 [00:13<00:07,  2.13it/s]"
          ]
        },
        {
          "name": "stdout",
          "output_type": "stream",
          "text": [
            "[I 2025-10-07 23:02:43,549] Trial 32 finished with value: 0.767903022513214 and parameters: {'use_pca': True, 'pca_n_components': 145, 'n_neighbors': 6, 'weights': 'uniform', 'p': 1}. Best is trial 32 with value: 0.767903022513214.\n"
          ]
        },
        {
          "name": "stderr",
          "output_type": "stream",
          "text": [
            "Best trial: 32. Best value: 0.767903:  68%|██████▊   | 34/50 [00:14<00:08,  1.96it/s]"
          ]
        },
        {
          "name": "stdout",
          "output_type": "stream",
          "text": [
            "[I 2025-10-07 23:02:44,156] Trial 33 finished with value: 0.7548502519907337 and parameters: {'use_pca': True, 'pca_n_components': 156, 'n_neighbors': 9, 'weights': 'uniform', 'p': 1}. Best is trial 32 with value: 0.767903022513214.\n"
          ]
        },
        {
          "name": "stderr",
          "output_type": "stream",
          "text": [
            "Best trial: 32. Best value: 0.767903:  70%|███████   | 35/50 [00:15<00:07,  1.92it/s]"
          ]
        },
        {
          "name": "stdout",
          "output_type": "stream",
          "text": [
            "[I 2025-10-07 23:02:44,698] Trial 34 finished with value: 0.5527981722602782 and parameters: {'use_pca': True, 'pca_n_components': 220, 'n_neighbors': 1, 'weights': 'distance', 'p': 1}. Best is trial 32 with value: 0.767903022513214.\n"
          ]
        },
        {
          "name": "stderr",
          "output_type": "stream",
          "text": [
            "Best trial: 32. Best value: 0.767903:  72%|███████▏  | 36/50 [00:15<00:06,  2.07it/s]"
          ]
        },
        {
          "name": "stdout",
          "output_type": "stream",
          "text": [
            "[I 2025-10-07 23:02:45,093] Trial 35 finished with value: 0.6711977246427525 and parameters: {'use_pca': True, 'pca_n_components': 137, 'n_neighbors': 25, 'weights': 'distance', 'p': 1}. Best is trial 32 with value: 0.767903022513214.\n"
          ]
        },
        {
          "name": "stderr",
          "output_type": "stream",
          "text": [
            "Best trial: 32. Best value: 0.767903:  74%|███████▍  | 37/50 [00:15<00:05,  2.24it/s]"
          ]
        },
        {
          "name": "stdout",
          "output_type": "stream",
          "text": [
            "[I 2025-10-07 23:02:45,451] Trial 36 finished with value: 0.7427459656779221 and parameters: {'use_pca': False, 'n_neighbors': 13, 'weights': 'uniform', 'p': 1}. Best is trial 32 with value: 0.767903022513214.\n"
          ]
        },
        {
          "name": "stderr",
          "output_type": "stream",
          "text": [
            "Best trial: 32. Best value: 0.767903:  76%|███████▌  | 38/50 [00:16<00:05,  2.35it/s]"
          ]
        },
        {
          "name": "stdout",
          "output_type": "stream",
          "text": [
            "[I 2025-10-07 23:02:45,831] Trial 37 finished with value: 0.7643660017354206 and parameters: {'use_pca': True, 'pca_n_components': 98, 'n_neighbors': 7, 'weights': 'uniform', 'p': 1}. Best is trial 32 with value: 0.767903022513214.\n"
          ]
        },
        {
          "name": "stderr",
          "output_type": "stream",
          "text": [
            "Best trial: 32. Best value: 0.767903:  78%|███████▊  | 39/50 [00:16<00:05,  2.00it/s]"
          ]
        },
        {
          "name": "stdout",
          "output_type": "stream",
          "text": [
            "[I 2025-10-07 23:02:46,503] Trial 38 finished with value: 0.6598816071510171 and parameters: {'use_pca': True, 'pca_n_components': 299, 'n_neighbors': 18, 'weights': 'distance', 'p': 1}. Best is trial 32 with value: 0.767903022513214.\n"
          ]
        },
        {
          "name": "stderr",
          "output_type": "stream",
          "text": [
            "Best trial: 32. Best value: 0.767903:  80%|████████  | 40/50 [00:17<00:04,  2.16it/s]"
          ]
        },
        {
          "name": "stdout",
          "output_type": "stream",
          "text": [
            "[I 2025-10-07 23:02:46,882] Trial 39 finished with value: 0.7574536053552073 and parameters: {'use_pca': False, 'n_neighbors': 7, 'weights': 'uniform', 'p': 1}. Best is trial 32 with value: 0.767903022513214.\n"
          ]
        },
        {
          "name": "stderr",
          "output_type": "stream",
          "text": [
            "Best trial: 32. Best value: 0.767903:  82%|████████▏ | 41/50 [00:17<00:04,  2.23it/s]"
          ]
        },
        {
          "name": "stdout",
          "output_type": "stream",
          "text": [
            "[I 2025-10-07 23:02:47,297] Trial 40 finished with value: 0.7357852991273848 and parameters: {'use_pca': True, 'pca_n_components': 95, 'n_neighbors': 9, 'weights': 'distance', 'p': 1}. Best is trial 32 with value: 0.767903022513214.\n"
          ]
        },
        {
          "name": "stderr",
          "output_type": "stream",
          "text": [
            "Best trial: 32. Best value: 0.767903:  84%|████████▍ | 42/50 [00:17<00:03,  2.38it/s]"
          ]
        },
        {
          "name": "stdout",
          "output_type": "stream",
          "text": [
            "[I 2025-10-07 23:02:47,648] Trial 41 finished with value: 0.756962425484226 and parameters: {'use_pca': True, 'pca_n_components': 110, 'n_neighbors': 3, 'weights': 'uniform', 'p': 1}. Best is trial 32 with value: 0.767903022513214.\n"
          ]
        },
        {
          "name": "stderr",
          "output_type": "stream",
          "text": [
            "Best trial: 32. Best value: 0.767903:  86%|████████▌ | 43/50 [00:18<00:03,  2.22it/s]"
          ]
        },
        {
          "name": "stdout",
          "output_type": "stream",
          "text": [
            "[I 2025-10-07 23:02:48,166] Trial 42 finished with value: 0.7633583088549061 and parameters: {'use_pca': True, 'pca_n_components': 144, 'n_neighbors': 6, 'weights': 'uniform', 'p': 1}. Best is trial 32 with value: 0.767903022513214.\n"
          ]
        },
        {
          "name": "stderr",
          "output_type": "stream",
          "text": [
            "Best trial: 32. Best value: 0.767903:  88%|████████▊ | 44/50 [00:18<00:02,  2.15it/s]"
          ]
        },
        {
          "name": "stdout",
          "output_type": "stream",
          "text": [
            "[I 2025-10-07 23:02:48,665] Trial 43 finished with value: 0.7355624892539663 and parameters: {'use_pca': True, 'pca_n_components': 173, 'n_neighbors': 12, 'weights': 'uniform', 'p': 1}. Best is trial 32 with value: 0.767903022513214.\n"
          ]
        },
        {
          "name": "stderr",
          "output_type": "stream",
          "text": [
            "Best trial: 32. Best value: 0.767903:  90%|█████████ | 45/50 [00:19<00:02,  2.33it/s]"
          ]
        },
        {
          "name": "stdout",
          "output_type": "stream",
          "text": [
            "[I 2025-10-07 23:02:49,012] Trial 44 finished with value: 0.7578624946800685 and parameters: {'use_pca': False, 'n_neighbors': 6, 'weights': 'uniform', 'p': 1}. Best is trial 32 with value: 0.767903022513214.\n"
          ]
        },
        {
          "name": "stderr",
          "output_type": "stream",
          "text": [
            "Best trial: 32. Best value: 0.767903:  92%|█████████▏| 46/50 [00:19<00:01,  2.47it/s]"
          ]
        },
        {
          "name": "stdout",
          "output_type": "stream",
          "text": [
            "[I 2025-10-07 23:02:49,357] Trial 45 finished with value: 0.7639888611552795 and parameters: {'use_pca': True, 'pca_n_components': 143, 'n_neighbors': 6, 'weights': 'uniform', 'p': 1}. Best is trial 32 with value: 0.767903022513214.\n"
          ]
        },
        {
          "name": "stderr",
          "output_type": "stream",
          "text": [
            "Best trial: 32. Best value: 0.767903:  94%|█████████▍| 47/50 [00:20<00:01,  2.38it/s]"
          ]
        },
        {
          "name": "stdout",
          "output_type": "stream",
          "text": [
            "[I 2025-10-07 23:02:49,817] Trial 46 finished with value: 0.7341353370437479 and parameters: {'use_pca': True, 'pca_n_components': 206, 'n_neighbors': 10, 'weights': 'uniform', 'p': 1}. Best is trial 32 with value: 0.767903022513214.\n"
          ]
        },
        {
          "name": "stderr",
          "output_type": "stream",
          "text": [
            "Best trial: 32. Best value: 0.767903:  96%|█████████▌| 48/50 [00:20<00:00,  2.31it/s]"
          ]
        },
        {
          "name": "stdout",
          "output_type": "stream",
          "text": [
            "[I 2025-10-07 23:02:50,281] Trial 47 finished with value: 0.7591178040306743 and parameters: {'use_pca': True, 'pca_n_components': 149, 'n_neighbors': 7, 'weights': 'uniform', 'p': 1}. Best is trial 32 with value: 0.767903022513214.\n"
          ]
        },
        {
          "name": "stderr",
          "output_type": "stream",
          "text": [
            "Best trial: 32. Best value: 0.767903:  98%|█████████▊| 49/50 [00:21<00:00,  2.17it/s]"
          ]
        },
        {
          "name": "stdout",
          "output_type": "stream",
          "text": [
            "[I 2025-10-07 23:02:50,802] Trial 48 finished with value: 0.7284530423860461 and parameters: {'use_pca': False, 'n_neighbors': 11, 'weights': 'distance', 'p': 1}. Best is trial 32 with value: 0.767903022513214.\n"
          ]
        },
        {
          "name": "stderr",
          "output_type": "stream",
          "text": [
            "Best trial: 32. Best value: 0.767903: 100%|██████████| 50/50 [00:21<00:00,  2.31it/s]"
          ]
        },
        {
          "name": "stdout",
          "output_type": "stream",
          "text": [
            "[I 2025-10-07 23:02:51,334] Trial 49 finished with value: 0.6613473431411337 and parameters: {'use_pca': True, 'pca_n_components': 143, 'n_neighbors': 24, 'weights': 'uniform', 'p': 1}. Best is trial 32 with value: 0.767903022513214.\n",
            "KNN best R2: 0.767903022513214\n",
            "KNN best params: {'use_pca': True, 'pca_n_components': 145, 'n_neighbors': 6, 'weights': 'uniform', 'p': 1}\n"
          ]
        },
        {
          "name": "stderr",
          "output_type": "stream",
          "text": [
            "\n"
          ]
        }
      ],
      "source": [
        "knn_study, knn_pipe = run_optuna_knn(n_trials=50)"
      ]
    },
    {
      "cell_type": "code",
      "execution_count": 23,
      "metadata": {
        "colab": {
          "base_uri": "https://localhost:8080/",
          "height": 989,
          "referenced_widgets": [
            "94da176f7c164fa590d75ad819d7b3cc",
            "42abdf6d90494c4f8403aaab0fc2fea1",
            "9f22a8798ee94ce88a1c43e4359dff7a",
            "97c54cae69f848abb4f10283d30f32d4",
            "2fa59252e333413e82059fd5a0df5c1e",
            "77da9d6346934b178cdb574d6a5cd332",
            "0be80bb388a6493d817a3b0b70a438fb",
            "5549d422239940568b8797f5a94b808c",
            "3586a57a528c4de693da5d5fc840f0a7",
            "0c1ad5579a254c85bf09346a85ca97b7",
            "b3652fcb7a9d44c687282ca304cf93de"
          ]
        },
        "collapsed": true,
        "id": "m7MdF6qUaHu9",
        "outputId": "b43ab70a-0eaf-499c-88bd-089e9df8694a"
      },
      "outputs": [
        {
          "name": "stderr",
          "output_type": "stream",
          "text": [
            "[I 2025-10-07 23:02:51,492] A new study created in memory with name: no-name-2b6f612e-d25b-4792-8020-d146262764f9\n",
            "Best trial: 0. Best value: 0.76546:   2%|▏         | 1/50 [00:04<03:59,  4.89s/it]"
          ]
        },
        {
          "name": "stdout",
          "output_type": "stream",
          "text": [
            "[I 2025-10-07 23:02:56,380] Trial 0 finished with value: 0.765460251629412 and parameters: {'n_estimators': 261, 'max_depth': 11, 'min_samples_split': 6, 'min_samples_leaf': 4, 'max_features': 0.5}. Best is trial 0 with value: 0.765460251629412.\n"
          ]
        },
        {
          "name": "stderr",
          "output_type": "stream",
          "text": [
            "Best trial: 0. Best value: 0.76546:   4%|▍         | 2/50 [00:07<02:59,  3.74s/it]"
          ]
        },
        {
          "name": "stdout",
          "output_type": "stream",
          "text": [
            "[I 2025-10-07 23:02:59,310] Trial 1 finished with value: 0.7561891101741871 and parameters: {'n_estimators': 268, 'max_depth': 15, 'min_samples_split': 6, 'min_samples_leaf': 7, 'max_features': 0.3}. Best is trial 0 with value: 0.765460251629412.\n"
          ]
        },
        {
          "name": "stderr",
          "output_type": "stream",
          "text": [
            "Best trial: 0. Best value: 0.76546:   6%|▌         | 3/50 [00:09<02:12,  2.83s/it]"
          ]
        },
        {
          "name": "stdout",
          "output_type": "stream",
          "text": [
            "[I 2025-10-07 23:03:01,056] Trial 2 finished with value: 0.7328408724575306 and parameters: {'n_estimators': 235, 'max_depth': 15, 'min_samples_split': 9, 'min_samples_leaf': 12, 'max_features': 0.3}. Best is trial 0 with value: 0.765460251629412.\n"
          ]
        },
        {
          "name": "stderr",
          "output_type": "stream",
          "text": [
            "Best trial: 0. Best value: 0.76546:   8%|▊         | 4/50 [00:13<02:22,  3.10s/it]"
          ]
        },
        {
          "name": "stdout",
          "output_type": "stream",
          "text": [
            "[I 2025-10-07 23:03:04,573] Trial 3 finished with value: 0.7311302891942713 and parameters: {'n_estimators': 365, 'max_depth': 15, 'min_samples_split': 11, 'min_samples_leaf': 12, 'max_features': 0.5}. Best is trial 0 with value: 0.765460251629412.\n"
          ]
        },
        {
          "name": "stderr",
          "output_type": "stream",
          "text": [
            "Best trial: 0. Best value: 0.76546:  10%|█         | 5/50 [00:13<01:40,  2.24s/it]"
          ]
        },
        {
          "name": "stdout",
          "output_type": "stream",
          "text": [
            "[I 2025-10-07 23:03:05,277] Trial 4 finished with value: 0.6446340485745835 and parameters: {'n_estimators': 153, 'max_depth': 11, 'min_samples_split': 2, 'min_samples_leaf': 8, 'max_features': 'log2'}. Best is trial 0 with value: 0.765460251629412.\n"
          ]
        },
        {
          "name": "stderr",
          "output_type": "stream",
          "text": [
            "Best trial: 0. Best value: 0.76546:  12%|█▏        | 6/50 [00:17<01:55,  2.62s/it]"
          ]
        },
        {
          "name": "stdout",
          "output_type": "stream",
          "text": [
            "[I 2025-10-07 23:03:08,628] Trial 5 finished with value: 0.7247231128026035 and parameters: {'n_estimators': 372, 'max_depth': 12, 'min_samples_split': 12, 'min_samples_leaf': 14, 'max_features': 0.5}. Best is trial 0 with value: 0.765460251629412.\n"
          ]
        },
        {
          "name": "stderr",
          "output_type": "stream",
          "text": [
            "Best trial: 0. Best value: 0.76546:  14%|█▍        | 7/50 [00:19<01:53,  2.64s/it]"
          ]
        },
        {
          "name": "stdout",
          "output_type": "stream",
          "text": [
            "[I 2025-10-07 23:03:11,329] Trial 6 finished with value: 0.7506984464070274 and parameters: {'n_estimators': 146, 'max_depth': 20, 'min_samples_split': 3, 'min_samples_leaf': 6, 'max_features': 0.8}. Best is trial 0 with value: 0.765460251629412.\n"
          ]
        },
        {
          "name": "stderr",
          "output_type": "stream",
          "text": [
            "Best trial: 0. Best value: 0.76546:  16%|█▌        | 8/50 [00:22<01:48,  2.59s/it]"
          ]
        },
        {
          "name": "stdout",
          "output_type": "stream",
          "text": [
            "[I 2025-10-07 23:03:13,797] Trial 7 finished with value: 0.7243699499781341 and parameters: {'n_estimators': 234, 'max_depth': 24, 'min_samples_split': 15, 'min_samples_leaf': 14, 'max_features': 0.5}. Best is trial 0 with value: 0.765460251629412.\n"
          ]
        },
        {
          "name": "stderr",
          "output_type": "stream",
          "text": [
            "Best trial: 0. Best value: 0.76546:  18%|█▊        | 9/50 [00:23<01:31,  2.23s/it]"
          ]
        },
        {
          "name": "stdout",
          "output_type": "stream",
          "text": [
            "[I 2025-10-07 23:03:15,237] Trial 8 finished with value: 0.5353717059953355 and parameters: {'n_estimators': 406, 'max_depth': 49, 'min_samples_split': 18, 'min_samples_leaf': 19, 'max_features': 'log2'}. Best is trial 0 with value: 0.765460251629412.\n"
          ]
        },
        {
          "name": "stderr",
          "output_type": "stream",
          "text": [
            "Best trial: 0. Best value: 0.76546:  20%|██        | 10/50 [00:25<01:23,  2.09s/it]"
          ]
        },
        {
          "name": "stdout",
          "output_type": "stream",
          "text": [
            "[I 2025-10-07 23:03:17,014] Trial 9 finished with value: 0.5337561691534923 and parameters: {'n_estimators': 461, 'max_depth': 33, 'min_samples_split': 18, 'min_samples_leaf': 19, 'max_features': 'log2'}. Best is trial 0 with value: 0.765460251629412.\n"
          ]
        },
        {
          "name": "stderr",
          "output_type": "stream",
          "text": [
            "Best trial: 10. Best value: 0.772017:  22%|██▏       | 11/50 [00:27<01:18,  2.01s/it]"
          ]
        },
        {
          "name": "stdout",
          "output_type": "stream",
          "text": [
            "[I 2025-10-07 23:03:18,844] Trial 10 finished with value: 0.7720170127500345 and parameters: {'n_estimators': 309, 'max_depth': 32, 'min_samples_split': 7, 'min_samples_leaf': 1, 'max_features': 'sqrt'}. Best is trial 10 with value: 0.7720170127500345.\n"
          ]
        },
        {
          "name": "stderr",
          "output_type": "stream",
          "text": [
            "Best trial: 10. Best value: 0.772017:  24%|██▍       | 12/50 [00:28<01:10,  1.86s/it]"
          ]
        },
        {
          "name": "stdout",
          "output_type": "stream",
          "text": [
            "[I 2025-10-07 23:03:20,374] Trial 11 finished with value: 0.7720140618918098 and parameters: {'n_estimators': 316, 'max_depth': 34, 'min_samples_split': 7, 'min_samples_leaf': 1, 'max_features': 'sqrt'}. Best is trial 10 with value: 0.7720170127500345.\n"
          ]
        },
        {
          "name": "stderr",
          "output_type": "stream",
          "text": [
            "Best trial: 10. Best value: 0.772017:  26%|██▌       | 13/50 [00:30<01:03,  1.72s/it]"
          ]
        },
        {
          "name": "stdout",
          "output_type": "stream",
          "text": [
            "[I 2025-10-07 23:03:21,755] Trial 12 finished with value: 0.7719177813789673 and parameters: {'n_estimators': 323, 'max_depth': 35, 'min_samples_split': 7, 'min_samples_leaf': 1, 'max_features': 'sqrt'}. Best is trial 10 with value: 0.7720170127500345.\n"
          ]
        },
        {
          "name": "stderr",
          "output_type": "stream",
          "text": [
            "Best trial: 10. Best value: 0.772017:  28%|██▊       | 14/50 [00:31<00:59,  1.65s/it]"
          ]
        },
        {
          "name": "stdout",
          "output_type": "stream",
          "text": [
            "[I 2025-10-07 23:03:23,233] Trial 13 finished with value: 0.7689920238987817 and parameters: {'n_estimators': 322, 'max_depth': 38, 'min_samples_split': 10, 'min_samples_leaf': 1, 'max_features': 'sqrt'}. Best is trial 10 with value: 0.7720170127500345.\n"
          ]
        },
        {
          "name": "stderr",
          "output_type": "stream",
          "text": [
            "Best trial: 10. Best value: 0.772017:  30%|███       | 15/50 [00:33<01:02,  1.79s/it]"
          ]
        },
        {
          "name": "stdout",
          "output_type": "stream",
          "text": [
            "[I 2025-10-07 23:03:25,365] Trial 14 finished with value: 0.7523214791853029 and parameters: {'n_estimators': 500, 'max_depth': 44, 'min_samples_split': 4, 'min_samples_leaf': 4, 'max_features': 'sqrt'}. Best is trial 10 with value: 0.7720170127500345.\n"
          ]
        },
        {
          "name": "stderr",
          "output_type": "stream",
          "text": [
            "Best trial: 10. Best value: 0.772017:  32%|███▏      | 16/50 [00:34<00:51,  1.52s/it]"
          ]
        },
        {
          "name": "stdout",
          "output_type": "stream",
          "text": [
            "[I 2025-10-07 23:03:26,256] Trial 15 finished with value: 0.7527126575578577 and parameters: {'n_estimators': 192, 'max_depth': 27, 'min_samples_split': 14, 'min_samples_leaf': 3, 'max_features': 'sqrt'}. Best is trial 10 with value: 0.7720170127500345.\n"
          ]
        },
        {
          "name": "stderr",
          "output_type": "stream",
          "text": [
            "Best trial: 10. Best value: 0.772017:  34%|███▍      | 17/50 [00:35<00:42,  1.27s/it]"
          ]
        },
        {
          "name": "stdout",
          "output_type": "stream",
          "text": [
            "[I 2025-10-07 23:03:26,956] Trial 16 finished with value: 0.7023520373701704 and parameters: {'n_estimators': 105, 'max_depth': 29, 'min_samples_split': 7, 'min_samples_leaf': 9, 'max_features': 'sqrt'}. Best is trial 10 with value: 0.7720170127500345.\n"
          ]
        },
        {
          "name": "stderr",
          "output_type": "stream",
          "text": [
            "Best trial: 10. Best value: 0.772017:  36%|███▌      | 18/50 [00:44<01:59,  3.72s/it]"
          ]
        },
        {
          "name": "stdout",
          "output_type": "stream",
          "text": [
            "[I 2025-10-07 23:03:36,370] Trial 17 finished with value: 0.7569412382095744 and parameters: {'n_estimators': 410, 'max_depth': 41, 'min_samples_split': 9, 'min_samples_leaf': 1, 'max_features': 0.8}. Best is trial 10 with value: 0.7720170127500345.\n"
          ]
        },
        {
          "name": "stderr",
          "output_type": "stream",
          "text": [
            "Best trial: 10. Best value: 0.772017:  38%|███▊      | 19/50 [00:46<01:32,  2.99s/it]"
          ]
        },
        {
          "name": "stdout",
          "output_type": "stream",
          "text": [
            "[I 2025-10-07 23:03:37,672] Trial 18 finished with value: 0.5970188083790792 and parameters: {'n_estimators': 300, 'max_depth': 4, 'min_samples_split': 14, 'min_samples_leaf': 5, 'max_features': 'sqrt'}. Best is trial 10 with value: 0.7720170127500345.\n"
          ]
        },
        {
          "name": "stderr",
          "output_type": "stream",
          "text": [
            "Best trial: 10. Best value: 0.772017:  40%|████      | 20/50 [00:47<01:19,  2.63s/it]"
          ]
        },
        {
          "name": "stdout",
          "output_type": "stream",
          "text": [
            "[I 2025-10-07 23:03:39,470] Trial 19 finished with value: 0.7615588999636886 and parameters: {'n_estimators': 354, 'max_depth': 30, 'min_samples_split': 4, 'min_samples_leaf': 3, 'max_features': 'sqrt'}. Best is trial 10 with value: 0.7720170127500345.\n"
          ]
        },
        {
          "name": "stderr",
          "output_type": "stream",
          "text": [
            "Best trial: 10. Best value: 0.772017:  42%|████▏     | 21/50 [00:49<01:06,  2.28s/it]"
          ]
        },
        {
          "name": "stdout",
          "output_type": "stream",
          "text": [
            "[I 2025-10-07 23:03:40,926] Trial 20 finished with value: 0.6927413451264615 and parameters: {'n_estimators': 290, 'max_depth': 22, 'min_samples_split': 8, 'min_samples_leaf': 10, 'max_features': 'sqrt'}. Best is trial 10 with value: 0.7720170127500345.\n"
          ]
        },
        {
          "name": "stderr",
          "output_type": "stream",
          "text": [
            "Best trial: 10. Best value: 0.772017:  44%|████▍     | 22/50 [00:51<01:03,  2.26s/it]"
          ]
        },
        {
          "name": "stdout",
          "output_type": "stream",
          "text": [
            "[I 2025-10-07 23:03:43,133] Trial 21 finished with value: 0.7700035286459708 and parameters: {'n_estimators': 331, 'max_depth': 34, 'min_samples_split': 6, 'min_samples_leaf': 1, 'max_features': 'sqrt'}. Best is trial 10 with value: 0.7720170127500345.\n"
          ]
        },
        {
          "name": "stderr",
          "output_type": "stream",
          "text": [
            "Best trial: 10. Best value: 0.772017:  46%|████▌     | 23/50 [00:54<01:03,  2.34s/it]"
          ]
        },
        {
          "name": "stdout",
          "output_type": "stream",
          "text": [
            "[I 2025-10-07 23:03:45,675] Trial 22 finished with value: 0.7688507576970369 and parameters: {'n_estimators': 404, 'max_depth': 36, 'min_samples_split': 5, 'min_samples_leaf': 2, 'max_features': 'sqrt'}. Best is trial 10 with value: 0.7720170127500345.\n"
          ]
        },
        {
          "name": "stderr",
          "output_type": "stream",
          "text": [
            "Best trial: 10. Best value: 0.772017:  48%|████▊     | 24/50 [00:55<00:54,  2.09s/it]"
          ]
        },
        {
          "name": "stdout",
          "output_type": "stream",
          "text": [
            "[I 2025-10-07 23:03:47,158] Trial 23 finished with value: 0.7317122713171339 and parameters: {'n_estimators': 325, 'max_depth': 44, 'min_samples_split': 8, 'min_samples_leaf': 6, 'max_features': 'sqrt'}. Best is trial 10 with value: 0.7720170127500345.\n"
          ]
        },
        {
          "name": "stderr",
          "output_type": "stream",
          "text": [
            "Best trial: 10. Best value: 0.772017:  50%|█████     | 25/50 [00:56<00:44,  1.80s/it]"
          ]
        },
        {
          "name": "stdout",
          "output_type": "stream",
          "text": [
            "[I 2025-10-07 23:03:48,287] Trial 24 finished with value: 0.7526046970811665 and parameters: {'n_estimators': 212, 'max_depth': 32, 'min_samples_split': 12, 'min_samples_leaf': 3, 'max_features': 'sqrt'}. Best is trial 10 with value: 0.7720170127500345.\n"
          ]
        },
        {
          "name": "stderr",
          "output_type": "stream",
          "text": [
            "Best trial: 10. Best value: 0.772017:  52%|█████▏    | 26/50 [01:04<01:27,  3.64s/it]"
          ]
        },
        {
          "name": "stdout",
          "output_type": "stream",
          "text": [
            "[I 2025-10-07 23:03:56,209] Trial 25 finished with value: 0.753090365695045 and parameters: {'n_estimators': 277, 'max_depth': 38, 'min_samples_split': 7, 'min_samples_leaf': 1, 'max_features': 0.8}. Best is trial 10 with value: 0.7720170127500345.\n"
          ]
        },
        {
          "name": "stderr",
          "output_type": "stream",
          "text": [
            "Best trial: 10. Best value: 0.772017:  54%|█████▍    | 27/50 [01:08<01:27,  3.80s/it]"
          ]
        },
        {
          "name": "stdout",
          "output_type": "stream",
          "text": [
            "[I 2025-10-07 23:04:00,399] Trial 26 finished with value: 0.7638888758196332 and parameters: {'n_estimators': 341, 'max_depth': 41, 'min_samples_split': 10, 'min_samples_leaf': 5, 'max_features': 0.3}. Best is trial 10 with value: 0.7720170127500345.\n"
          ]
        },
        {
          "name": "stderr",
          "output_type": "stream",
          "text": [
            "Best trial: 10. Best value: 0.772017:  56%|█████▌    | 28/50 [01:11<01:15,  3.44s/it]"
          ]
        },
        {
          "name": "stdout",
          "output_type": "stream",
          "text": [
            "[I 2025-10-07 23:04:02,998] Trial 27 finished with value: 0.7612553183133187 and parameters: {'n_estimators': 308, 'max_depth': 26, 'min_samples_split': 2, 'min_samples_leaf': 3, 'max_features': 'sqrt'}. Best is trial 10 with value: 0.7720170127500345.\n"
          ]
        },
        {
          "name": "stderr",
          "output_type": "stream",
          "text": [
            "Best trial: 10. Best value: 0.772017:  58%|█████▊    | 29/50 [01:13<01:03,  3.03s/it]"
          ]
        },
        {
          "name": "stdout",
          "output_type": "stream",
          "text": [
            "[I 2025-10-07 23:04:05,060] Trial 28 finished with value: 0.7499129795032451 and parameters: {'n_estimators': 375, 'max_depth': 50, 'min_samples_split': 20, 'min_samples_leaf': 2, 'max_features': 'sqrt'}. Best is trial 10 with value: 0.7720170127500345.\n"
          ]
        },
        {
          "name": "stderr",
          "output_type": "stream",
          "text": [
            "Best trial: 10. Best value: 0.772017:  60%|██████    | 30/50 [01:15<00:53,  2.68s/it]"
          ]
        },
        {
          "name": "stdout",
          "output_type": "stream",
          "text": [
            "[I 2025-10-07 23:04:06,939] Trial 29 finished with value: 0.7417244546735482 and parameters: {'n_estimators': 249, 'max_depth': 30, 'min_samples_split': 5, 'min_samples_leaf': 5, 'max_features': 'sqrt'}. Best is trial 10 with value: 0.7720170127500345.\n"
          ]
        },
        {
          "name": "stderr",
          "output_type": "stream",
          "text": [
            "Best trial: 10. Best value: 0.772017:  62%|██████▏   | 31/50 [01:18<00:51,  2.70s/it]"
          ]
        },
        {
          "name": "stdout",
          "output_type": "stream",
          "text": [
            "[I 2025-10-07 23:04:09,668] Trial 30 finished with value: 0.5613723396856201 and parameters: {'n_estimators': 450, 'max_depth': 20, 'min_samples_split': 5, 'min_samples_leaf': 16, 'max_features': 'log2'}. Best is trial 10 with value: 0.7720170127500345.\n"
          ]
        },
        {
          "name": "stderr",
          "output_type": "stream",
          "text": [
            "Best trial: 10. Best value: 0.772017:  64%|██████▍   | 32/50 [01:20<00:44,  2.46s/it]"
          ]
        },
        {
          "name": "stdout",
          "output_type": "stream",
          "text": [
            "[I 2025-10-07 23:04:11,574] Trial 31 finished with value: 0.7715900765038031 and parameters: {'n_estimators': 345, 'max_depth': 34, 'min_samples_split': 7, 'min_samples_leaf': 1, 'max_features': 'sqrt'}. Best is trial 10 with value: 0.7720170127500345.\n"
          ]
        },
        {
          "name": "stderr",
          "output_type": "stream",
          "text": [
            "Best trial: 10. Best value: 0.772017:  66%|██████▌   | 33/50 [01:21<00:36,  2.17s/it]"
          ]
        },
        {
          "name": "stdout",
          "output_type": "stream",
          "text": [
            "[I 2025-10-07 23:04:13,067] Trial 32 finished with value: 0.7676956652211541 and parameters: {'n_estimators': 271, 'max_depth': 36, 'min_samples_split': 7, 'min_samples_leaf': 2, 'max_features': 'sqrt'}. Best is trial 10 with value: 0.7720170127500345.\n"
          ]
        },
        {
          "name": "stderr",
          "output_type": "stream",
          "text": [
            "Best trial: 10. Best value: 0.772017:  68%|██████▊   | 34/50 [01:24<00:39,  2.50s/it]"
          ]
        },
        {
          "name": "stdout",
          "output_type": "stream",
          "text": [
            "[I 2025-10-07 23:04:16,330] Trial 33 finished with value: 0.7692691904551296 and parameters: {'n_estimators': 300, 'max_depth': 40, 'min_samples_split': 8, 'min_samples_leaf': 4, 'max_features': 0.3}. Best is trial 10 with value: 0.7720170127500345.\n"
          ]
        },
        {
          "name": "stderr",
          "output_type": "stream",
          "text": [
            "Best trial: 10. Best value: 0.772017:  70%|███████   | 35/50 [01:26<00:33,  2.21s/it]"
          ]
        },
        {
          "name": "stdout",
          "output_type": "stream",
          "text": [
            "[I 2025-10-07 23:04:17,856] Trial 34 finished with value: 0.7216707434269288 and parameters: {'n_estimators': 383, 'max_depth': 34, 'min_samples_split': 6, 'min_samples_leaf': 7, 'max_features': 'sqrt'}. Best is trial 10 with value: 0.7720170127500345.\n"
          ]
        },
        {
          "name": "stderr",
          "output_type": "stream",
          "text": [
            "Best trial: 10. Best value: 0.772017:  72%|███████▏  | 36/50 [01:31<00:41,  2.99s/it]"
          ]
        },
        {
          "name": "stdout",
          "output_type": "stream",
          "text": [
            "[I 2025-10-07 23:04:22,673] Trial 35 finished with value: 0.7646706051306527 and parameters: {'n_estimators': 342, 'max_depth': 44, 'min_samples_split': 9, 'min_samples_leaf': 2, 'max_features': 0.5}. Best is trial 10 with value: 0.7720170127500345.\n"
          ]
        },
        {
          "name": "stderr",
          "output_type": "stream",
          "text": [
            "Best trial: 10. Best value: 0.772017:  74%|███████▍  | 37/50 [01:33<00:36,  2.81s/it]"
          ]
        },
        {
          "name": "stdout",
          "output_type": "stream",
          "text": [
            "[I 2025-10-07 23:04:25,067] Trial 36 finished with value: 0.7674913625798896 and parameters: {'n_estimators': 249, 'max_depth': 27, 'min_samples_split': 11, 'min_samples_leaf': 4, 'max_features': 0.3}. Best is trial 10 with value: 0.7720170127500345.\n"
          ]
        },
        {
          "name": "stderr",
          "output_type": "stream",
          "text": [
            "Best trial: 10. Best value: 0.772017:  76%|███████▌  | 38/50 [01:35<00:28,  2.40s/it]"
          ]
        },
        {
          "name": "stdout",
          "output_type": "stream",
          "text": [
            "[I 2025-10-07 23:04:26,517] Trial 37 finished with value: 0.7702253676017323 and parameters: {'n_estimators': 276, 'max_depth': 32, 'min_samples_split': 4, 'min_samples_leaf': 1, 'max_features': 'sqrt'}. Best is trial 10 with value: 0.7720170127500345.\n"
          ]
        },
        {
          "name": "stderr",
          "output_type": "stream",
          "text": [
            "Best trial: 10. Best value: 0.772017:  78%|███████▊  | 39/50 [01:40<00:36,  3.29s/it]"
          ]
        },
        {
          "name": "stdout",
          "output_type": "stream",
          "text": [
            "[I 2025-10-07 23:04:31,864] Trial 38 finished with value: 0.7440406643369023 and parameters: {'n_estimators': 355, 'max_depth': 37, 'min_samples_split': 9, 'min_samples_leaf': 8, 'max_features': 0.8}. Best is trial 10 with value: 0.7720170127500345.\n"
          ]
        },
        {
          "name": "stderr",
          "output_type": "stream",
          "text": [
            "Best trial: 10. Best value: 0.772017:  80%|████████  | 40/50 [01:43<00:33,  3.37s/it]"
          ]
        },
        {
          "name": "stdout",
          "output_type": "stream",
          "text": [
            "[I 2025-10-07 23:04:35,438] Trial 39 finished with value: 0.7578626658347059 and parameters: {'n_estimators': 313, 'max_depth': 47, 'min_samples_split': 7, 'min_samples_leaf': 6, 'max_features': 0.5}. Best is trial 10 with value: 0.7720170127500345.\n"
          ]
        },
        {
          "name": "stderr",
          "output_type": "stream",
          "text": [
            "Best trial: 10. Best value: 0.772017:  82%|████████▏ | 41/50 [01:45<00:25,  2.79s/it]"
          ]
        },
        {
          "name": "stdout",
          "output_type": "stream",
          "text": [
            "[I 2025-10-07 23:04:36,883] Trial 40 finished with value: 0.6756875560665975 and parameters: {'n_estimators': 395, 'max_depth': 23, 'min_samples_split': 11, 'min_samples_leaf': 12, 'max_features': 'sqrt'}. Best is trial 10 with value: 0.7720170127500345.\n"
          ]
        },
        {
          "name": "stderr",
          "output_type": "stream",
          "text": [
            "Best trial: 10. Best value: 0.772017:  84%|████████▍ | 42/50 [01:47<00:19,  2.47s/it]"
          ]
        },
        {
          "name": "stdout",
          "output_type": "stream",
          "text": [
            "[I 2025-10-07 23:04:38,587] Trial 41 finished with value: 0.7656943638563839 and parameters: {'n_estimators': 287, 'max_depth': 32, 'min_samples_split': 3, 'min_samples_leaf': 1, 'max_features': 'sqrt'}. Best is trial 10 with value: 0.7720170127500345.\n"
          ]
        },
        {
          "name": "stderr",
          "output_type": "stream",
          "text": [
            "Best trial: 10. Best value: 0.772017:  86%|████████▌ | 43/50 [01:48<00:14,  2.05s/it]"
          ]
        },
        {
          "name": "stdout",
          "output_type": "stream",
          "text": [
            "[I 2025-10-07 23:04:39,673] Trial 42 finished with value: 0.7692782209450206 and parameters: {'n_estimators': 220, 'max_depth': 30, 'min_samples_split': 4, 'min_samples_leaf': 2, 'max_features': 'sqrt'}. Best is trial 10 with value: 0.7720170127500345.\n"
          ]
        },
        {
          "name": "stderr",
          "output_type": "stream",
          "text": [
            "Best trial: 10. Best value: 0.772017:  88%|████████▊ | 44/50 [01:49<00:10,  1.73s/it]"
          ]
        },
        {
          "name": "stdout",
          "output_type": "stream",
          "text": [
            "[I 2025-10-07 23:04:40,651] Trial 43 finished with value: 0.7602305392738008 and parameters: {'n_estimators': 268, 'max_depth': 35, 'min_samples_split': 6, 'min_samples_leaf': 1, 'max_features': 'log2'}. Best is trial 10 with value: 0.7720170127500345.\n"
          ]
        },
        {
          "name": "stderr",
          "output_type": "stream",
          "text": [
            "Best trial: 10. Best value: 0.772017:  90%|█████████ | 45/50 [01:50<00:07,  1.54s/it]"
          ]
        },
        {
          "name": "stdout",
          "output_type": "stream",
          "text": [
            "[I 2025-10-07 23:04:41,738] Trial 44 finished with value: 0.7604736923202362 and parameters: {'n_estimators': 254, 'max_depth': 40, 'min_samples_split': 3, 'min_samples_leaf': 3, 'max_features': 'sqrt'}. Best is trial 10 with value: 0.7720170127500345.\n"
          ]
        },
        {
          "name": "stderr",
          "output_type": "stream",
          "text": [
            "Best trial: 10. Best value: 0.772017:  92%|█████████▏| 46/50 [01:51<00:06,  1.55s/it]"
          ]
        },
        {
          "name": "stdout",
          "output_type": "stream",
          "text": [
            "[I 2025-10-07 23:04:43,331] Trial 45 finished with value: 0.7692912886097071 and parameters: {'n_estimators': 355, 'max_depth': 25, 'min_samples_split': 5, 'min_samples_leaf': 2, 'max_features': 'sqrt'}. Best is trial 10 with value: 0.7720170127500345.\n"
          ]
        },
        {
          "name": "stderr",
          "output_type": "stream",
          "text": [
            "Best trial: 10. Best value: 0.772017:  94%|█████████▍| 47/50 [01:53<00:04,  1.62s/it]"
          ]
        },
        {
          "name": "stdout",
          "output_type": "stream",
          "text": [
            "[I 2025-10-07 23:04:45,099] Trial 46 finished with value: 0.7526364301508195 and parameters: {'n_estimators': 425, 'max_depth': 32, 'min_samples_split': 8, 'min_samples_leaf': 4, 'max_features': 'sqrt'}. Best is trial 10 with value: 0.7720170127500345.\n"
          ]
        },
        {
          "name": "stderr",
          "output_type": "stream",
          "text": [
            "Best trial: 10. Best value: 0.772017:  96%|█████████▌| 48/50 [02:00<00:06,  3.21s/it]"
          ]
        },
        {
          "name": "stdout",
          "output_type": "stream",
          "text": [
            "[I 2025-10-07 23:04:52,017] Trial 47 finished with value: 0.7546626950680835 and parameters: {'n_estimators': 319, 'max_depth': 29, 'min_samples_split': 2, 'min_samples_leaf': 1, 'max_features': 0.5}. Best is trial 10 with value: 0.7720170127500345.\n"
          ]
        },
        {
          "name": "stderr",
          "output_type": "stream",
          "text": [
            "Best trial: 10. Best value: 0.772017:  98%|█████████▊| 49/50 [02:01<00:02,  2.62s/it]"
          ]
        },
        {
          "name": "stdout",
          "output_type": "stream",
          "text": [
            "[I 2025-10-07 23:04:53,280] Trial 48 finished with value: 0.758752024426 and parameters: {'n_estimators': 288, 'max_depth': 39, 'min_samples_split': 10, 'min_samples_leaf': 3, 'max_features': 'sqrt'}. Best is trial 10 with value: 0.7720170127500345.\n"
          ]
        },
        {
          "name": "stderr",
          "output_type": "stream",
          "text": [
            "Best trial: 10. Best value: 0.772017: 100%|██████████| 50/50 [02:03<00:00,  2.48s/it]\n"
          ]
        },
        {
          "name": "stdout",
          "output_type": "stream",
          "text": [
            "[I 2025-10-07 23:04:55,471] Trial 49 finished with value: 0.6951140722826321 and parameters: {'n_estimators': 186, 'max_depth': 33, 'min_samples_split': 4, 'min_samples_leaf': 20, 'max_features': 0.8}. Best is trial 10 with value: 0.7720170127500345.\n",
            "RF best R2: 0.7720170127500345\n",
            "RF best params: {'n_estimators': 309, 'max_depth': 32, 'min_samples_split': 7, 'min_samples_leaf': 1, 'max_features': 'sqrt'}\n"
          ]
        }
      ],
      "source": [
        "rf_study, rf_pipe = run_optuna_rf(n_trials=50)"
      ]
    },
    {
      "cell_type": "markdown",
      "metadata": {
        "id": "ZH80DrYsjjWW"
      },
      "source": [
        "# 7. Try a meta model or ensembler of the best models"
      ]
    },
    {
      "cell_type": "code",
      "execution_count": 24,
      "metadata": {
        "colab": {
          "base_uri": "https://localhost:8080/"
        },
        "id": "L4rrZYLKjqYM",
        "outputId": "5facfecd-169a-44d0-8e78-8f7750772743"
      },
      "outputs": [
        {
          "name": "stdout",
          "output_type": "stream",
          "text": [
            "Generating OOF preds (this may take time)...\n",
            "Simple average ensemble -> R2: 0.7882, RMSE: 0.8263\n"
          ]
        }
      ],
      "source": [
        "from sklearn.linear_model import Ridge\n",
        "from sklearn.model_selection import cross_val_predict\n",
        "\n",
        "# reproducible folds\n",
        "kf = KFold(n_splits=5, shuffle=True, random_state=42)\n",
        "\n",
        "# 1) Get OOF predictions for each base model (these preds are made by models\n",
        "#    that were trained without the corresponding sample — no leakage)\n",
        "print(\"Generating OOF preds (this may take time)...\")\n",
        "oof_knn = cross_val_predict(knn_pipe, X, y, cv=kf, n_jobs=-1, method='predict')\n",
        "oof_svm = cross_val_predict(svm_pipe, X, y, cv=kf, n_jobs=-1, method='predict')\n",
        "oof_rf  = cross_val_predict(rf_pipe,  X, y, cv=kf, n_jobs=-1, method='predict')\n",
        "\n",
        "# Stack OOF predictions (n_samples x n_models)\n",
        "stack_oof = np.vstack([oof_knn, oof_svm, oof_rf]).T\n",
        "\n",
        "# 2) Simple average ensemble\n",
        "ens_mean = stack_oof.mean(axis=1)\n",
        "r2_mean = r2_score(y, ens_mean)\n",
        "rmse_mean = np.sqrt(mean_squared_error(y, ens_mean))\n",
        "print(f\"Simple average ensemble -> R2: {r2_mean:.4f}, RMSE: {rmse_mean:.4f}\")"
      ]
    },
    {
      "cell_type": "code",
      "execution_count": 25,
      "metadata": {
        "colab": {
          "base_uri": "https://localhost:8080/"
        },
        "id": "BLEEfa8GjuiS",
        "outputId": "6b264f70-1247-448b-eb95-ad04eee32e4c"
      },
      "outputs": [
        {
          "name": "stdout",
          "output_type": "stream",
          "text": [
            "Stacking (Ridge) ensemble -> R2: 0.7926, RMSE: 0.8177\n",
            "Meta-learner coefficients (weights): [ 0.38985534  0.66950896 -0.03331666]\n",
            "Meta-learner intercept: -0.2121222716352733\n"
          ]
        }
      ],
      "source": [
        "# 3) Stacking: train a Ridge meta-learner on the OOF stack\n",
        "meta = Ridge(alpha=1.0)\n",
        "meta.fit(stack_oof, y)                 # training on OOF preds is OK (no leakage)\n",
        "ens_stack = meta.predict(stack_oof)    # predictions on the same OOF matrix\n",
        "r2_stack = r2_score(y, ens_stack)\n",
        "rmse_stack = np.sqrt(mean_squared_error(y, ens_stack))\n",
        "print(f\"Stacking (Ridge) ensemble -> R2: {r2_stack:.4f}, RMSE: {rmse_stack:.4f}\")\n",
        "\n",
        "# Show meta-learner weights\n",
        "print(\"Meta-learner coefficients (weights):\", meta.coef_)\n",
        "print(\"Meta-learner intercept:\", meta.intercept_)"
      ]
    },
    {
      "cell_type": "code",
      "execution_count": 26,
      "metadata": {
        "colab": {
          "base_uri": "https://localhost:8080/"
        },
        "id": "apQHRwrTjx1I",
        "outputId": "cbdd15bb-6a43-4c4f-8617-12f808ebe3de"
      },
      "outputs": [
        {
          "name": "stdout",
          "output_type": "stream",
          "text": [
            "Saved final base pipelines and meta-learner.\n"
          ]
        }
      ],
      "source": [
        "joblib.dump(meta, \"../models/pi_meta.joblib\")\n",
        "print(\"Saved final base pipelines and meta-learner.\")"
      ]
    },
    {
      "cell_type": "code",
      "execution_count": null,
      "metadata": {
        "id": "34JZisq9nUmF"
      },
      "outputs": [],
      "source": []
    }
  ],
  "metadata": {
    "colab": {
      "provenance": []
    },
    "kernelspec": {
      "display_name": "myenv",
      "language": "python",
      "name": "python3"
    },
    "language_info": {
      "codemirror_mode": {
        "name": "ipython",
        "version": 3
      },
      "file_extension": ".py",
      "mimetype": "text/x-python",
      "name": "python",
      "nbconvert_exporter": "python",
      "pygments_lexer": "ipython3",
      "version": "3.11.13"
    },
    "widgets": {
      "application/vnd.jupyter.widget-state+json": {
        "038f43cd57254006a1460e5396b5187b": {
          "model_module": "@jupyter-widgets/controls",
          "model_module_version": "1.5.0",
          "model_name": "HBoxModel",
          "state": {
            "_dom_classes": [],
            "_model_module": "@jupyter-widgets/controls",
            "_model_module_version": "1.5.0",
            "_model_name": "HBoxModel",
            "_view_count": null,
            "_view_module": "@jupyter-widgets/controls",
            "_view_module_version": "1.5.0",
            "_view_name": "HBoxView",
            "box_style": "",
            "children": [
              "IPY_MODEL_f1b81772f4e44b19a3cd1dcde01d5489",
              "IPY_MODEL_dd7aa77859b941a395dc98629d20586d",
              "IPY_MODEL_a89c5f9f6b824c6baea58d318863e103"
            ],
            "layout": "IPY_MODEL_9adf70d611f44c27af92abd7cfade123"
          }
        },
        "0be80bb388a6493d817a3b0b70a438fb": {
          "model_module": "@jupyter-widgets/controls",
          "model_module_version": "1.5.0",
          "model_name": "DescriptionStyleModel",
          "state": {
            "_model_module": "@jupyter-widgets/controls",
            "_model_module_version": "1.5.0",
            "_model_name": "DescriptionStyleModel",
            "_view_count": null,
            "_view_module": "@jupyter-widgets/base",
            "_view_module_version": "1.2.0",
            "_view_name": "StyleView",
            "description_width": ""
          }
        },
        "0c1ad5579a254c85bf09346a85ca97b7": {
          "model_module": "@jupyter-widgets/base",
          "model_module_version": "1.2.0",
          "model_name": "LayoutModel",
          "state": {
            "_model_module": "@jupyter-widgets/base",
            "_model_module_version": "1.2.0",
            "_model_name": "LayoutModel",
            "_view_count": null,
            "_view_module": "@jupyter-widgets/base",
            "_view_module_version": "1.2.0",
            "_view_name": "LayoutView",
            "align_content": null,
            "align_items": null,
            "align_self": null,
            "border": null,
            "bottom": null,
            "display": null,
            "flex": null,
            "flex_flow": null,
            "grid_area": null,
            "grid_auto_columns": null,
            "grid_auto_flow": null,
            "grid_auto_rows": null,
            "grid_column": null,
            "grid_gap": null,
            "grid_row": null,
            "grid_template_areas": null,
            "grid_template_columns": null,
            "grid_template_rows": null,
            "height": null,
            "justify_content": null,
            "justify_items": null,
            "left": null,
            "margin": null,
            "max_height": null,
            "max_width": null,
            "min_height": null,
            "min_width": null,
            "object_fit": null,
            "object_position": null,
            "order": null,
            "overflow": null,
            "overflow_x": null,
            "overflow_y": null,
            "padding": null,
            "right": null,
            "top": null,
            "visibility": null,
            "width": null
          }
        },
        "118d4b4cb5d34b04837ae38a4f845b05": {
          "model_module": "@jupyter-widgets/base",
          "model_module_version": "1.2.0",
          "model_name": "LayoutModel",
          "state": {
            "_model_module": "@jupyter-widgets/base",
            "_model_module_version": "1.2.0",
            "_model_name": "LayoutModel",
            "_view_count": null,
            "_view_module": "@jupyter-widgets/base",
            "_view_module_version": "1.2.0",
            "_view_name": "LayoutView",
            "align_content": null,
            "align_items": null,
            "align_self": null,
            "border": null,
            "bottom": null,
            "display": null,
            "flex": null,
            "flex_flow": null,
            "grid_area": null,
            "grid_auto_columns": null,
            "grid_auto_flow": null,
            "grid_auto_rows": null,
            "grid_column": null,
            "grid_gap": null,
            "grid_row": null,
            "grid_template_areas": null,
            "grid_template_columns": null,
            "grid_template_rows": null,
            "height": null,
            "justify_content": null,
            "justify_items": null,
            "left": null,
            "margin": null,
            "max_height": null,
            "max_width": null,
            "min_height": null,
            "min_width": null,
            "object_fit": null,
            "object_position": null,
            "order": null,
            "overflow": null,
            "overflow_x": null,
            "overflow_y": null,
            "padding": null,
            "right": null,
            "top": null,
            "visibility": null,
            "width": null
          }
        },
        "139ac59a0adf46ab8b293410475636c8": {
          "model_module": "@jupyter-widgets/controls",
          "model_module_version": "1.5.0",
          "model_name": "DescriptionStyleModel",
          "state": {
            "_model_module": "@jupyter-widgets/controls",
            "_model_module_version": "1.5.0",
            "_model_name": "DescriptionStyleModel",
            "_view_count": null,
            "_view_module": "@jupyter-widgets/base",
            "_view_module_version": "1.2.0",
            "_view_name": "StyleView",
            "description_width": ""
          }
        },
        "1562ab6ffc884a9182dab9e2b0ab7240": {
          "model_module": "@jupyter-widgets/base",
          "model_module_version": "1.2.0",
          "model_name": "LayoutModel",
          "state": {
            "_model_module": "@jupyter-widgets/base",
            "_model_module_version": "1.2.0",
            "_model_name": "LayoutModel",
            "_view_count": null,
            "_view_module": "@jupyter-widgets/base",
            "_view_module_version": "1.2.0",
            "_view_name": "LayoutView",
            "align_content": null,
            "align_items": null,
            "align_self": null,
            "border": null,
            "bottom": null,
            "display": null,
            "flex": null,
            "flex_flow": null,
            "grid_area": null,
            "grid_auto_columns": null,
            "grid_auto_flow": null,
            "grid_auto_rows": null,
            "grid_column": null,
            "grid_gap": null,
            "grid_row": null,
            "grid_template_areas": null,
            "grid_template_columns": null,
            "grid_template_rows": null,
            "height": null,
            "justify_content": null,
            "justify_items": null,
            "left": null,
            "margin": null,
            "max_height": null,
            "max_width": null,
            "min_height": null,
            "min_width": null,
            "object_fit": null,
            "object_position": null,
            "order": null,
            "overflow": null,
            "overflow_x": null,
            "overflow_y": null,
            "padding": null,
            "right": null,
            "top": null,
            "visibility": null,
            "width": null
          }
        },
        "1a15bd8050714d4a93cd0e8e4f88eadf": {
          "model_module": "@jupyter-widgets/base",
          "model_module_version": "1.2.0",
          "model_name": "LayoutModel",
          "state": {
            "_model_module": "@jupyter-widgets/base",
            "_model_module_version": "1.2.0",
            "_model_name": "LayoutModel",
            "_view_count": null,
            "_view_module": "@jupyter-widgets/base",
            "_view_module_version": "1.2.0",
            "_view_name": "LayoutView",
            "align_content": null,
            "align_items": null,
            "align_self": null,
            "border": null,
            "bottom": null,
            "display": null,
            "flex": null,
            "flex_flow": null,
            "grid_area": null,
            "grid_auto_columns": null,
            "grid_auto_flow": null,
            "grid_auto_rows": null,
            "grid_column": null,
            "grid_gap": null,
            "grid_row": null,
            "grid_template_areas": null,
            "grid_template_columns": null,
            "grid_template_rows": null,
            "height": null,
            "justify_content": null,
            "justify_items": null,
            "left": null,
            "margin": null,
            "max_height": null,
            "max_width": null,
            "min_height": null,
            "min_width": null,
            "object_fit": null,
            "object_position": null,
            "order": null,
            "overflow": null,
            "overflow_x": null,
            "overflow_y": null,
            "padding": null,
            "right": null,
            "top": null,
            "visibility": null,
            "width": null
          }
        },
        "1c7f7d3d17e045388292f5d00f7ad008": {
          "model_module": "@jupyter-widgets/base",
          "model_module_version": "1.2.0",
          "model_name": "LayoutModel",
          "state": {
            "_model_module": "@jupyter-widgets/base",
            "_model_module_version": "1.2.0",
            "_model_name": "LayoutModel",
            "_view_count": null,
            "_view_module": "@jupyter-widgets/base",
            "_view_module_version": "1.2.0",
            "_view_name": "LayoutView",
            "align_content": null,
            "align_items": null,
            "align_self": null,
            "border": null,
            "bottom": null,
            "display": null,
            "flex": null,
            "flex_flow": null,
            "grid_area": null,
            "grid_auto_columns": null,
            "grid_auto_flow": null,
            "grid_auto_rows": null,
            "grid_column": null,
            "grid_gap": null,
            "grid_row": null,
            "grid_template_areas": null,
            "grid_template_columns": null,
            "grid_template_rows": null,
            "height": null,
            "justify_content": null,
            "justify_items": null,
            "left": null,
            "margin": null,
            "max_height": null,
            "max_width": null,
            "min_height": null,
            "min_width": null,
            "object_fit": null,
            "object_position": null,
            "order": null,
            "overflow": null,
            "overflow_x": null,
            "overflow_y": null,
            "padding": null,
            "right": null,
            "top": null,
            "visibility": null,
            "width": null
          }
        },
        "1df673eafd554383a65dedfd3a8f1ec7": {
          "model_module": "@jupyter-widgets/base",
          "model_module_version": "1.2.0",
          "model_name": "LayoutModel",
          "state": {
            "_model_module": "@jupyter-widgets/base",
            "_model_module_version": "1.2.0",
            "_model_name": "LayoutModel",
            "_view_count": null,
            "_view_module": "@jupyter-widgets/base",
            "_view_module_version": "1.2.0",
            "_view_name": "LayoutView",
            "align_content": null,
            "align_items": null,
            "align_self": null,
            "border": null,
            "bottom": null,
            "display": null,
            "flex": null,
            "flex_flow": null,
            "grid_area": null,
            "grid_auto_columns": null,
            "grid_auto_flow": null,
            "grid_auto_rows": null,
            "grid_column": null,
            "grid_gap": null,
            "grid_row": null,
            "grid_template_areas": null,
            "grid_template_columns": null,
            "grid_template_rows": null,
            "height": null,
            "justify_content": null,
            "justify_items": null,
            "left": null,
            "margin": null,
            "max_height": null,
            "max_width": null,
            "min_height": null,
            "min_width": null,
            "object_fit": null,
            "object_position": null,
            "order": null,
            "overflow": null,
            "overflow_x": null,
            "overflow_y": null,
            "padding": null,
            "right": null,
            "top": null,
            "visibility": null,
            "width": null
          }
        },
        "2576e047a9ad444495fd5f6bf0d9f0cd": {
          "model_module": "@jupyter-widgets/base",
          "model_module_version": "1.2.0",
          "model_name": "LayoutModel",
          "state": {
            "_model_module": "@jupyter-widgets/base",
            "_model_module_version": "1.2.0",
            "_model_name": "LayoutModel",
            "_view_count": null,
            "_view_module": "@jupyter-widgets/base",
            "_view_module_version": "1.2.0",
            "_view_name": "LayoutView",
            "align_content": null,
            "align_items": null,
            "align_self": null,
            "border": null,
            "bottom": null,
            "display": null,
            "flex": null,
            "flex_flow": null,
            "grid_area": null,
            "grid_auto_columns": null,
            "grid_auto_flow": null,
            "grid_auto_rows": null,
            "grid_column": null,
            "grid_gap": null,
            "grid_row": null,
            "grid_template_areas": null,
            "grid_template_columns": null,
            "grid_template_rows": null,
            "height": null,
            "justify_content": null,
            "justify_items": null,
            "left": null,
            "margin": null,
            "max_height": null,
            "max_width": null,
            "min_height": null,
            "min_width": null,
            "object_fit": null,
            "object_position": null,
            "order": null,
            "overflow": null,
            "overflow_x": null,
            "overflow_y": null,
            "padding": null,
            "right": null,
            "top": null,
            "visibility": null,
            "width": null
          }
        },
        "2fa59252e333413e82059fd5a0df5c1e": {
          "model_module": "@jupyter-widgets/base",
          "model_module_version": "1.2.0",
          "model_name": "LayoutModel",
          "state": {
            "_model_module": "@jupyter-widgets/base",
            "_model_module_version": "1.2.0",
            "_model_name": "LayoutModel",
            "_view_count": null,
            "_view_module": "@jupyter-widgets/base",
            "_view_module_version": "1.2.0",
            "_view_name": "LayoutView",
            "align_content": null,
            "align_items": null,
            "align_self": null,
            "border": null,
            "bottom": null,
            "display": null,
            "flex": null,
            "flex_flow": null,
            "grid_area": null,
            "grid_auto_columns": null,
            "grid_auto_flow": null,
            "grid_auto_rows": null,
            "grid_column": null,
            "grid_gap": null,
            "grid_row": null,
            "grid_template_areas": null,
            "grid_template_columns": null,
            "grid_template_rows": null,
            "height": null,
            "justify_content": null,
            "justify_items": null,
            "left": null,
            "margin": null,
            "max_height": null,
            "max_width": null,
            "min_height": null,
            "min_width": null,
            "object_fit": null,
            "object_position": null,
            "order": null,
            "overflow": null,
            "overflow_x": null,
            "overflow_y": null,
            "padding": null,
            "right": null,
            "top": null,
            "visibility": null,
            "width": null
          }
        },
        "3102563b50cd4f63b35948a4c1c0370b": {
          "model_module": "@jupyter-widgets/controls",
          "model_module_version": "1.5.0",
          "model_name": "DescriptionStyleModel",
          "state": {
            "_model_module": "@jupyter-widgets/controls",
            "_model_module_version": "1.5.0",
            "_model_name": "DescriptionStyleModel",
            "_view_count": null,
            "_view_module": "@jupyter-widgets/base",
            "_view_module_version": "1.2.0",
            "_view_name": "StyleView",
            "description_width": ""
          }
        },
        "3586a57a528c4de693da5d5fc840f0a7": {
          "model_module": "@jupyter-widgets/controls",
          "model_module_version": "1.5.0",
          "model_name": "ProgressStyleModel",
          "state": {
            "_model_module": "@jupyter-widgets/controls",
            "_model_module_version": "1.5.0",
            "_model_name": "ProgressStyleModel",
            "_view_count": null,
            "_view_module": "@jupyter-widgets/base",
            "_view_module_version": "1.2.0",
            "_view_name": "StyleView",
            "bar_color": null,
            "description_width": ""
          }
        },
        "39122afe93d3484692e1c02a7311a0f4": {
          "model_module": "@jupyter-widgets/controls",
          "model_module_version": "1.5.0",
          "model_name": "HTMLModel",
          "state": {
            "_dom_classes": [],
            "_model_module": "@jupyter-widgets/controls",
            "_model_module_version": "1.5.0",
            "_model_name": "HTMLModel",
            "_view_count": null,
            "_view_module": "@jupyter-widgets/controls",
            "_view_module_version": "1.5.0",
            "_view_name": "HTMLView",
            "description": "",
            "description_tooltip": null,
            "layout": "IPY_MODEL_db70e720813a4aca9cf2012afdc4c076",
            "placeholder": "​",
            "style": "IPY_MODEL_4257ff794b7d4a398ca61f687e755a64",
            "value": "Computing fingerprints: 100%"
          }
        },
        "3e376fd27c3a4fdf9a835cc0e74abddc": {
          "model_module": "@jupyter-widgets/base",
          "model_module_version": "1.2.0",
          "model_name": "LayoutModel",
          "state": {
            "_model_module": "@jupyter-widgets/base",
            "_model_module_version": "1.2.0",
            "_model_name": "LayoutModel",
            "_view_count": null,
            "_view_module": "@jupyter-widgets/base",
            "_view_module_version": "1.2.0",
            "_view_name": "LayoutView",
            "align_content": null,
            "align_items": null,
            "align_self": null,
            "border": null,
            "bottom": null,
            "display": null,
            "flex": null,
            "flex_flow": null,
            "grid_area": null,
            "grid_auto_columns": null,
            "grid_auto_flow": null,
            "grid_auto_rows": null,
            "grid_column": null,
            "grid_gap": null,
            "grid_row": null,
            "grid_template_areas": null,
            "grid_template_columns": null,
            "grid_template_rows": null,
            "height": null,
            "justify_content": null,
            "justify_items": null,
            "left": null,
            "margin": null,
            "max_height": null,
            "max_width": null,
            "min_height": null,
            "min_width": null,
            "object_fit": null,
            "object_position": null,
            "order": null,
            "overflow": null,
            "overflow_x": null,
            "overflow_y": null,
            "padding": null,
            "right": null,
            "top": null,
            "visibility": null,
            "width": null
          }
        },
        "4257ff794b7d4a398ca61f687e755a64": {
          "model_module": "@jupyter-widgets/controls",
          "model_module_version": "1.5.0",
          "model_name": "DescriptionStyleModel",
          "state": {
            "_model_module": "@jupyter-widgets/controls",
            "_model_module_version": "1.5.0",
            "_model_name": "DescriptionStyleModel",
            "_view_count": null,
            "_view_module": "@jupyter-widgets/base",
            "_view_module_version": "1.2.0",
            "_view_name": "StyleView",
            "description_width": ""
          }
        },
        "42abdf6d90494c4f8403aaab0fc2fea1": {
          "model_module": "@jupyter-widgets/controls",
          "model_module_version": "1.5.0",
          "model_name": "HTMLModel",
          "state": {
            "_dom_classes": [],
            "_model_module": "@jupyter-widgets/controls",
            "_model_module_version": "1.5.0",
            "_model_name": "HTMLModel",
            "_view_count": null,
            "_view_module": "@jupyter-widgets/controls",
            "_view_module_version": "1.5.0",
            "_view_name": "HTMLView",
            "description": "",
            "description_tooltip": null,
            "layout": "IPY_MODEL_77da9d6346934b178cdb574d6a5cd332",
            "placeholder": "​",
            "style": "IPY_MODEL_0be80bb388a6493d817a3b0b70a438fb",
            "value": "Best trial: 38. Best value: 0.772864: 100%"
          }
        },
        "48a0484570444a9485800f4f9de49331": {
          "model_module": "@jupyter-widgets/base",
          "model_module_version": "1.2.0",
          "model_name": "LayoutModel",
          "state": {
            "_model_module": "@jupyter-widgets/base",
            "_model_module_version": "1.2.0",
            "_model_name": "LayoutModel",
            "_view_count": null,
            "_view_module": "@jupyter-widgets/base",
            "_view_module_version": "1.2.0",
            "_view_name": "LayoutView",
            "align_content": null,
            "align_items": null,
            "align_self": null,
            "border": null,
            "bottom": null,
            "display": null,
            "flex": null,
            "flex_flow": null,
            "grid_area": null,
            "grid_auto_columns": null,
            "grid_auto_flow": null,
            "grid_auto_rows": null,
            "grid_column": null,
            "grid_gap": null,
            "grid_row": null,
            "grid_template_areas": null,
            "grid_template_columns": null,
            "grid_template_rows": null,
            "height": null,
            "justify_content": null,
            "justify_items": null,
            "left": null,
            "margin": null,
            "max_height": null,
            "max_width": null,
            "min_height": null,
            "min_width": null,
            "object_fit": null,
            "object_position": null,
            "order": null,
            "overflow": null,
            "overflow_x": null,
            "overflow_y": null,
            "padding": null,
            "right": null,
            "top": null,
            "visibility": null,
            "width": null
          }
        },
        "515c9dab561b4f5d8fce0a1c0f47dc57": {
          "model_module": "@jupyter-widgets/controls",
          "model_module_version": "1.5.0",
          "model_name": "HTMLModel",
          "state": {
            "_dom_classes": [],
            "_model_module": "@jupyter-widgets/controls",
            "_model_module_version": "1.5.0",
            "_model_name": "HTMLModel",
            "_view_count": null,
            "_view_module": "@jupyter-widgets/controls",
            "_view_module_version": "1.5.0",
            "_view_name": "HTMLView",
            "description": "",
            "description_tooltip": null,
            "layout": "IPY_MODEL_c3dd0539f5c54cb595707ebff0bcf619",
            "placeholder": "​",
            "style": "IPY_MODEL_e6df89ce439845e393d9622f7e123475",
            "value": "Computing descriptors: 100%"
          }
        },
        "5549d422239940568b8797f5a94b808c": {
          "model_module": "@jupyter-widgets/base",
          "model_module_version": "1.2.0",
          "model_name": "LayoutModel",
          "state": {
            "_model_module": "@jupyter-widgets/base",
            "_model_module_version": "1.2.0",
            "_model_name": "LayoutModel",
            "_view_count": null,
            "_view_module": "@jupyter-widgets/base",
            "_view_module_version": "1.2.0",
            "_view_name": "LayoutView",
            "align_content": null,
            "align_items": null,
            "align_self": null,
            "border": null,
            "bottom": null,
            "display": null,
            "flex": null,
            "flex_flow": null,
            "grid_area": null,
            "grid_auto_columns": null,
            "grid_auto_flow": null,
            "grid_auto_rows": null,
            "grid_column": null,
            "grid_gap": null,
            "grid_row": null,
            "grid_template_areas": null,
            "grid_template_columns": null,
            "grid_template_rows": null,
            "height": null,
            "justify_content": null,
            "justify_items": null,
            "left": null,
            "margin": null,
            "max_height": null,
            "max_width": null,
            "min_height": null,
            "min_width": null,
            "object_fit": null,
            "object_position": null,
            "order": null,
            "overflow": null,
            "overflow_x": null,
            "overflow_y": null,
            "padding": null,
            "right": null,
            "top": null,
            "visibility": null,
            "width": null
          }
        },
        "57eb265864c84e668b2df16a5b587ac3": {
          "model_module": "@jupyter-widgets/controls",
          "model_module_version": "1.5.0",
          "model_name": "DescriptionStyleModel",
          "state": {
            "_model_module": "@jupyter-widgets/controls",
            "_model_module_version": "1.5.0",
            "_model_name": "DescriptionStyleModel",
            "_view_count": null,
            "_view_module": "@jupyter-widgets/base",
            "_view_module_version": "1.2.0",
            "_view_name": "StyleView",
            "description_width": ""
          }
        },
        "597a2fa0abf748f9837bd98fc24bbc85": {
          "model_module": "@jupyter-widgets/controls",
          "model_module_version": "1.5.0",
          "model_name": "HBoxModel",
          "state": {
            "_dom_classes": [],
            "_model_module": "@jupyter-widgets/controls",
            "_model_module_version": "1.5.0",
            "_model_name": "HBoxModel",
            "_view_count": null,
            "_view_module": "@jupyter-widgets/controls",
            "_view_module_version": "1.5.0",
            "_view_name": "HBoxView",
            "box_style": "",
            "children": [
              "IPY_MODEL_39122afe93d3484692e1c02a7311a0f4",
              "IPY_MODEL_71769c72c0bb430b98d8bf2e855ef626",
              "IPY_MODEL_71d883f6efbe47b593466ceb15aec5ed"
            ],
            "layout": "IPY_MODEL_65289986a5d04732a22a4ba4c5cb7821"
          }
        },
        "5d14894f756e48c1b1712e9474706f2c": {
          "model_module": "@jupyter-widgets/controls",
          "model_module_version": "1.5.0",
          "model_name": "ProgressStyleModel",
          "state": {
            "_model_module": "@jupyter-widgets/controls",
            "_model_module_version": "1.5.0",
            "_model_name": "ProgressStyleModel",
            "_view_count": null,
            "_view_module": "@jupyter-widgets/base",
            "_view_module_version": "1.2.0",
            "_view_name": "StyleView",
            "bar_color": null,
            "description_width": ""
          }
        },
        "65289986a5d04732a22a4ba4c5cb7821": {
          "model_module": "@jupyter-widgets/base",
          "model_module_version": "1.2.0",
          "model_name": "LayoutModel",
          "state": {
            "_model_module": "@jupyter-widgets/base",
            "_model_module_version": "1.2.0",
            "_model_name": "LayoutModel",
            "_view_count": null,
            "_view_module": "@jupyter-widgets/base",
            "_view_module_version": "1.2.0",
            "_view_name": "LayoutView",
            "align_content": null,
            "align_items": null,
            "align_self": null,
            "border": null,
            "bottom": null,
            "display": null,
            "flex": null,
            "flex_flow": null,
            "grid_area": null,
            "grid_auto_columns": null,
            "grid_auto_flow": null,
            "grid_auto_rows": null,
            "grid_column": null,
            "grid_gap": null,
            "grid_row": null,
            "grid_template_areas": null,
            "grid_template_columns": null,
            "grid_template_rows": null,
            "height": null,
            "justify_content": null,
            "justify_items": null,
            "left": null,
            "margin": null,
            "max_height": null,
            "max_width": null,
            "min_height": null,
            "min_width": null,
            "object_fit": null,
            "object_position": null,
            "order": null,
            "overflow": null,
            "overflow_x": null,
            "overflow_y": null,
            "padding": null,
            "right": null,
            "top": null,
            "visibility": null,
            "width": null
          }
        },
        "6a9872b87791416bb7f79b23a6df2629": {
          "model_module": "@jupyter-widgets/controls",
          "model_module_version": "1.5.0",
          "model_name": "FloatProgressModel",
          "state": {
            "_dom_classes": [],
            "_model_module": "@jupyter-widgets/controls",
            "_model_module_version": "1.5.0",
            "_model_name": "FloatProgressModel",
            "_view_count": null,
            "_view_module": "@jupyter-widgets/controls",
            "_view_module_version": "1.5.0",
            "_view_name": "ProgressView",
            "bar_style": "success",
            "description": "",
            "description_tooltip": null,
            "layout": "IPY_MODEL_d2bf8089d9bd45f4b134f9d0486dae29",
            "max": 50,
            "min": 0,
            "orientation": "horizontal",
            "style": "IPY_MODEL_7bcc4a0263fe4c09bceb6d083421147d",
            "value": 50
          }
        },
        "6df75a2765b34028b3311078c52d5c41": {
          "model_module": "@jupyter-widgets/base",
          "model_module_version": "1.2.0",
          "model_name": "LayoutModel",
          "state": {
            "_model_module": "@jupyter-widgets/base",
            "_model_module_version": "1.2.0",
            "_model_name": "LayoutModel",
            "_view_count": null,
            "_view_module": "@jupyter-widgets/base",
            "_view_module_version": "1.2.0",
            "_view_name": "LayoutView",
            "align_content": null,
            "align_items": null,
            "align_self": null,
            "border": null,
            "bottom": null,
            "display": null,
            "flex": null,
            "flex_flow": null,
            "grid_area": null,
            "grid_auto_columns": null,
            "grid_auto_flow": null,
            "grid_auto_rows": null,
            "grid_column": null,
            "grid_gap": null,
            "grid_row": null,
            "grid_template_areas": null,
            "grid_template_columns": null,
            "grid_template_rows": null,
            "height": null,
            "justify_content": null,
            "justify_items": null,
            "left": null,
            "margin": null,
            "max_height": null,
            "max_width": null,
            "min_height": null,
            "min_width": null,
            "object_fit": null,
            "object_position": null,
            "order": null,
            "overflow": null,
            "overflow_x": null,
            "overflow_y": null,
            "padding": null,
            "right": null,
            "top": null,
            "visibility": null,
            "width": null
          }
        },
        "71769c72c0bb430b98d8bf2e855ef626": {
          "model_module": "@jupyter-widgets/controls",
          "model_module_version": "1.5.0",
          "model_name": "FloatProgressModel",
          "state": {
            "_dom_classes": [],
            "_model_module": "@jupyter-widgets/controls",
            "_model_module_version": "1.5.0",
            "_model_name": "FloatProgressModel",
            "_view_count": null,
            "_view_module": "@jupyter-widgets/controls",
            "_view_module_version": "1.5.0",
            "_view_name": "ProgressView",
            "bar_style": "success",
            "description": "",
            "description_tooltip": null,
            "layout": "IPY_MODEL_c753d8d0908a45a1bf9cc80989c15e74",
            "max": 834,
            "min": 0,
            "orientation": "horizontal",
            "style": "IPY_MODEL_8647ad3e88df458186cdbb3714abdf26",
            "value": 834
          }
        },
        "71d883f6efbe47b593466ceb15aec5ed": {
          "model_module": "@jupyter-widgets/controls",
          "model_module_version": "1.5.0",
          "model_name": "HTMLModel",
          "state": {
            "_dom_classes": [],
            "_model_module": "@jupyter-widgets/controls",
            "_model_module_version": "1.5.0",
            "_model_name": "HTMLModel",
            "_view_count": null,
            "_view_module": "@jupyter-widgets/controls",
            "_view_module_version": "1.5.0",
            "_view_name": "HTMLView",
            "description": "",
            "description_tooltip": null,
            "layout": "IPY_MODEL_e659934435cf4eb6bc3fbd80b0efc5c2",
            "placeholder": "​",
            "style": "IPY_MODEL_94ad5f8e1a014e02af9144543e045e9a",
            "value": " 834/834 [00:00&lt;00:00, 2320.97it/s]"
          }
        },
        "72c54a8991f94895ba3b5d8302e050b2": {
          "model_module": "@jupyter-widgets/controls",
          "model_module_version": "1.5.0",
          "model_name": "HBoxModel",
          "state": {
            "_dom_classes": [],
            "_model_module": "@jupyter-widgets/controls",
            "_model_module_version": "1.5.0",
            "_model_name": "HBoxModel",
            "_view_count": null,
            "_view_module": "@jupyter-widgets/controls",
            "_view_module_version": "1.5.0",
            "_view_name": "HBoxView",
            "box_style": "",
            "children": [
              "IPY_MODEL_e63109e3dea74f40befc384a3338df84",
              "IPY_MODEL_8aea1258db5f4e7b94d80ab0e4d8f97d",
              "IPY_MODEL_c59c156c95354fce8df22d819480a53c"
            ],
            "layout": "IPY_MODEL_1df673eafd554383a65dedfd3a8f1ec7"
          }
        },
        "77da9d6346934b178cdb574d6a5cd332": {
          "model_module": "@jupyter-widgets/base",
          "model_module_version": "1.2.0",
          "model_name": "LayoutModel",
          "state": {
            "_model_module": "@jupyter-widgets/base",
            "_model_module_version": "1.2.0",
            "_model_name": "LayoutModel",
            "_view_count": null,
            "_view_module": "@jupyter-widgets/base",
            "_view_module_version": "1.2.0",
            "_view_name": "LayoutView",
            "align_content": null,
            "align_items": null,
            "align_self": null,
            "border": null,
            "bottom": null,
            "display": null,
            "flex": null,
            "flex_flow": null,
            "grid_area": null,
            "grid_auto_columns": null,
            "grid_auto_flow": null,
            "grid_auto_rows": null,
            "grid_column": null,
            "grid_gap": null,
            "grid_row": null,
            "grid_template_areas": null,
            "grid_template_columns": null,
            "grid_template_rows": null,
            "height": null,
            "justify_content": null,
            "justify_items": null,
            "left": null,
            "margin": null,
            "max_height": null,
            "max_width": null,
            "min_height": null,
            "min_width": null,
            "object_fit": null,
            "object_position": null,
            "order": null,
            "overflow": null,
            "overflow_x": null,
            "overflow_y": null,
            "padding": null,
            "right": null,
            "top": null,
            "visibility": null,
            "width": null
          }
        },
        "7bcc4a0263fe4c09bceb6d083421147d": {
          "model_module": "@jupyter-widgets/controls",
          "model_module_version": "1.5.0",
          "model_name": "ProgressStyleModel",
          "state": {
            "_model_module": "@jupyter-widgets/controls",
            "_model_module_version": "1.5.0",
            "_model_name": "ProgressStyleModel",
            "_view_count": null,
            "_view_module": "@jupyter-widgets/base",
            "_view_module_version": "1.2.0",
            "_view_name": "StyleView",
            "bar_color": null,
            "description_width": ""
          }
        },
        "81d6cae47ae641918ef2fa2b5abf8e55": {
          "model_module": "@jupyter-widgets/base",
          "model_module_version": "1.2.0",
          "model_name": "LayoutModel",
          "state": {
            "_model_module": "@jupyter-widgets/base",
            "_model_module_version": "1.2.0",
            "_model_name": "LayoutModel",
            "_view_count": null,
            "_view_module": "@jupyter-widgets/base",
            "_view_module_version": "1.2.0",
            "_view_name": "LayoutView",
            "align_content": null,
            "align_items": null,
            "align_self": null,
            "border": null,
            "bottom": null,
            "display": null,
            "flex": null,
            "flex_flow": null,
            "grid_area": null,
            "grid_auto_columns": null,
            "grid_auto_flow": null,
            "grid_auto_rows": null,
            "grid_column": null,
            "grid_gap": null,
            "grid_row": null,
            "grid_template_areas": null,
            "grid_template_columns": null,
            "grid_template_rows": null,
            "height": null,
            "justify_content": null,
            "justify_items": null,
            "left": null,
            "margin": null,
            "max_height": null,
            "max_width": null,
            "min_height": null,
            "min_width": null,
            "object_fit": null,
            "object_position": null,
            "order": null,
            "overflow": null,
            "overflow_x": null,
            "overflow_y": null,
            "padding": null,
            "right": null,
            "top": null,
            "visibility": null,
            "width": null
          }
        },
        "8647ad3e88df458186cdbb3714abdf26": {
          "model_module": "@jupyter-widgets/controls",
          "model_module_version": "1.5.0",
          "model_name": "ProgressStyleModel",
          "state": {
            "_model_module": "@jupyter-widgets/controls",
            "_model_module_version": "1.5.0",
            "_model_name": "ProgressStyleModel",
            "_view_count": null,
            "_view_module": "@jupyter-widgets/base",
            "_view_module_version": "1.2.0",
            "_view_name": "StyleView",
            "bar_color": null,
            "description_width": ""
          }
        },
        "8ab7bea5eb29479e9f7fea63e2c62101": {
          "model_module": "@jupyter-widgets/controls",
          "model_module_version": "1.5.0",
          "model_name": "FloatProgressModel",
          "state": {
            "_dom_classes": [],
            "_model_module": "@jupyter-widgets/controls",
            "_model_module_version": "1.5.0",
            "_model_name": "FloatProgressModel",
            "_view_count": null,
            "_view_module": "@jupyter-widgets/controls",
            "_view_module_version": "1.5.0",
            "_view_name": "ProgressView",
            "bar_style": "success",
            "description": "",
            "description_tooltip": null,
            "layout": "IPY_MODEL_ea81156e382f4628bdcd5b5f9d56049a",
            "max": 834,
            "min": 0,
            "orientation": "horizontal",
            "style": "IPY_MODEL_5d14894f756e48c1b1712e9474706f2c",
            "value": 834
          }
        },
        "8aea1258db5f4e7b94d80ab0e4d8f97d": {
          "model_module": "@jupyter-widgets/controls",
          "model_module_version": "1.5.0",
          "model_name": "FloatProgressModel",
          "state": {
            "_dom_classes": [],
            "_model_module": "@jupyter-widgets/controls",
            "_model_module_version": "1.5.0",
            "_model_name": "FloatProgressModel",
            "_view_count": null,
            "_view_module": "@jupyter-widgets/controls",
            "_view_module_version": "1.5.0",
            "_view_name": "ProgressView",
            "bar_style": "success",
            "description": "",
            "description_tooltip": null,
            "layout": "IPY_MODEL_118d4b4cb5d34b04837ae38a4f845b05",
            "max": 834,
            "min": 0,
            "orientation": "horizontal",
            "style": "IPY_MODEL_caa33a969238475185633ec7477d68a2",
            "value": 834
          }
        },
        "8b9600f135094ec982b920386a2e5ca0": {
          "model_module": "@jupyter-widgets/base",
          "model_module_version": "1.2.0",
          "model_name": "LayoutModel",
          "state": {
            "_model_module": "@jupyter-widgets/base",
            "_model_module_version": "1.2.0",
            "_model_name": "LayoutModel",
            "_view_count": null,
            "_view_module": "@jupyter-widgets/base",
            "_view_module_version": "1.2.0",
            "_view_name": "LayoutView",
            "align_content": null,
            "align_items": null,
            "align_self": null,
            "border": null,
            "bottom": null,
            "display": null,
            "flex": null,
            "flex_flow": null,
            "grid_area": null,
            "grid_auto_columns": null,
            "grid_auto_flow": null,
            "grid_auto_rows": null,
            "grid_column": null,
            "grid_gap": null,
            "grid_row": null,
            "grid_template_areas": null,
            "grid_template_columns": null,
            "grid_template_rows": null,
            "height": null,
            "justify_content": null,
            "justify_items": null,
            "left": null,
            "margin": null,
            "max_height": null,
            "max_width": null,
            "min_height": null,
            "min_width": null,
            "object_fit": null,
            "object_position": null,
            "order": null,
            "overflow": null,
            "overflow_x": null,
            "overflow_y": null,
            "padding": null,
            "right": null,
            "top": null,
            "visibility": null,
            "width": null
          }
        },
        "922d520c6f1b4f8ea038ee86655ea454": {
          "model_module": "@jupyter-widgets/controls",
          "model_module_version": "1.5.0",
          "model_name": "HTMLModel",
          "state": {
            "_dom_classes": [],
            "_model_module": "@jupyter-widgets/controls",
            "_model_module_version": "1.5.0",
            "_model_name": "HTMLModel",
            "_view_count": null,
            "_view_module": "@jupyter-widgets/controls",
            "_view_module_version": "1.5.0",
            "_view_name": "HTMLView",
            "description": "",
            "description_tooltip": null,
            "layout": "IPY_MODEL_81d6cae47ae641918ef2fa2b5abf8e55",
            "placeholder": "​",
            "style": "IPY_MODEL_139ac59a0adf46ab8b293410475636c8",
            "value": " 834/834 [00:01&lt;00:00, 493.13it/s]"
          }
        },
        "94ad5f8e1a014e02af9144543e045e9a": {
          "model_module": "@jupyter-widgets/controls",
          "model_module_version": "1.5.0",
          "model_name": "DescriptionStyleModel",
          "state": {
            "_model_module": "@jupyter-widgets/controls",
            "_model_module_version": "1.5.0",
            "_model_name": "DescriptionStyleModel",
            "_view_count": null,
            "_view_module": "@jupyter-widgets/base",
            "_view_module_version": "1.2.0",
            "_view_name": "StyleView",
            "description_width": ""
          }
        },
        "94da176f7c164fa590d75ad819d7b3cc": {
          "model_module": "@jupyter-widgets/controls",
          "model_module_version": "1.5.0",
          "model_name": "HBoxModel",
          "state": {
            "_dom_classes": [],
            "_model_module": "@jupyter-widgets/controls",
            "_model_module_version": "1.5.0",
            "_model_name": "HBoxModel",
            "_view_count": null,
            "_view_module": "@jupyter-widgets/controls",
            "_view_module_version": "1.5.0",
            "_view_name": "HBoxView",
            "box_style": "",
            "children": [
              "IPY_MODEL_42abdf6d90494c4f8403aaab0fc2fea1",
              "IPY_MODEL_9f22a8798ee94ce88a1c43e4359dff7a",
              "IPY_MODEL_97c54cae69f848abb4f10283d30f32d4"
            ],
            "layout": "IPY_MODEL_2fa59252e333413e82059fd5a0df5c1e"
          }
        },
        "96b27ef50d2c4d4798f949835742b8b4": {
          "model_module": "@jupyter-widgets/controls",
          "model_module_version": "1.5.0",
          "model_name": "DescriptionStyleModel",
          "state": {
            "_model_module": "@jupyter-widgets/controls",
            "_model_module_version": "1.5.0",
            "_model_name": "DescriptionStyleModel",
            "_view_count": null,
            "_view_module": "@jupyter-widgets/base",
            "_view_module_version": "1.2.0",
            "_view_name": "StyleView",
            "description_width": ""
          }
        },
        "97c54cae69f848abb4f10283d30f32d4": {
          "model_module": "@jupyter-widgets/controls",
          "model_module_version": "1.5.0",
          "model_name": "HTMLModel",
          "state": {
            "_dom_classes": [],
            "_model_module": "@jupyter-widgets/controls",
            "_model_module_version": "1.5.0",
            "_model_name": "HTMLModel",
            "_view_count": null,
            "_view_module": "@jupyter-widgets/controls",
            "_view_module_version": "1.5.0",
            "_view_name": "HTMLView",
            "description": "",
            "description_tooltip": null,
            "layout": "IPY_MODEL_0c1ad5579a254c85bf09346a85ca97b7",
            "placeholder": "​",
            "style": "IPY_MODEL_b3652fcb7a9d44c687282ca304cf93de",
            "value": " 50/50 [10:43&lt;00:00,  9.32s/it]"
          }
        },
        "9adf70d611f44c27af92abd7cfade123": {
          "model_module": "@jupyter-widgets/base",
          "model_module_version": "1.2.0",
          "model_name": "LayoutModel",
          "state": {
            "_model_module": "@jupyter-widgets/base",
            "_model_module_version": "1.2.0",
            "_model_name": "LayoutModel",
            "_view_count": null,
            "_view_module": "@jupyter-widgets/base",
            "_view_module_version": "1.2.0",
            "_view_name": "LayoutView",
            "align_content": null,
            "align_items": null,
            "align_self": null,
            "border": null,
            "bottom": null,
            "display": null,
            "flex": null,
            "flex_flow": null,
            "grid_area": null,
            "grid_auto_columns": null,
            "grid_auto_flow": null,
            "grid_auto_rows": null,
            "grid_column": null,
            "grid_gap": null,
            "grid_row": null,
            "grid_template_areas": null,
            "grid_template_columns": null,
            "grid_template_rows": null,
            "height": null,
            "justify_content": null,
            "justify_items": null,
            "left": null,
            "margin": null,
            "max_height": null,
            "max_width": null,
            "min_height": null,
            "min_width": null,
            "object_fit": null,
            "object_position": null,
            "order": null,
            "overflow": null,
            "overflow_x": null,
            "overflow_y": null,
            "padding": null,
            "right": null,
            "top": null,
            "visibility": null,
            "width": null
          }
        },
        "9eb5c1a9188f49059e3dfdc109f3afa6": {
          "model_module": "@jupyter-widgets/base",
          "model_module_version": "1.2.0",
          "model_name": "LayoutModel",
          "state": {
            "_model_module": "@jupyter-widgets/base",
            "_model_module_version": "1.2.0",
            "_model_name": "LayoutModel",
            "_view_count": null,
            "_view_module": "@jupyter-widgets/base",
            "_view_module_version": "1.2.0",
            "_view_name": "LayoutView",
            "align_content": null,
            "align_items": null,
            "align_self": null,
            "border": null,
            "bottom": null,
            "display": null,
            "flex": null,
            "flex_flow": null,
            "grid_area": null,
            "grid_auto_columns": null,
            "grid_auto_flow": null,
            "grid_auto_rows": null,
            "grid_column": null,
            "grid_gap": null,
            "grid_row": null,
            "grid_template_areas": null,
            "grid_template_columns": null,
            "grid_template_rows": null,
            "height": null,
            "justify_content": null,
            "justify_items": null,
            "left": null,
            "margin": null,
            "max_height": null,
            "max_width": null,
            "min_height": null,
            "min_width": null,
            "object_fit": null,
            "object_position": null,
            "order": null,
            "overflow": null,
            "overflow_x": null,
            "overflow_y": null,
            "padding": null,
            "right": null,
            "top": null,
            "visibility": null,
            "width": null
          }
        },
        "9f22a8798ee94ce88a1c43e4359dff7a": {
          "model_module": "@jupyter-widgets/controls",
          "model_module_version": "1.5.0",
          "model_name": "FloatProgressModel",
          "state": {
            "_dom_classes": [],
            "_model_module": "@jupyter-widgets/controls",
            "_model_module_version": "1.5.0",
            "_model_name": "FloatProgressModel",
            "_view_count": null,
            "_view_module": "@jupyter-widgets/controls",
            "_view_module_version": "1.5.0",
            "_view_name": "ProgressView",
            "bar_style": "success",
            "description": "",
            "description_tooltip": null,
            "layout": "IPY_MODEL_5549d422239940568b8797f5a94b808c",
            "max": 50,
            "min": 0,
            "orientation": "horizontal",
            "style": "IPY_MODEL_3586a57a528c4de693da5d5fc840f0a7",
            "value": 50
          }
        },
        "a26d6dd55cd44207a9153f73a8a8bcbd": {
          "model_module": "@jupyter-widgets/controls",
          "model_module_version": "1.5.0",
          "model_name": "HTMLModel",
          "state": {
            "_dom_classes": [],
            "_model_module": "@jupyter-widgets/controls",
            "_model_module_version": "1.5.0",
            "_model_name": "HTMLModel",
            "_view_count": null,
            "_view_module": "@jupyter-widgets/controls",
            "_view_module_version": "1.5.0",
            "_view_name": "HTMLView",
            "description": "",
            "description_tooltip": null,
            "layout": "IPY_MODEL_1c7f7d3d17e045388292f5d00f7ad008",
            "placeholder": "​",
            "style": "IPY_MODEL_d230fb27b517445d8aa5b263330fc6b0",
            "value": " 50/50 [01:05&lt;00:00,  1.28it/s]"
          }
        },
        "a89c5f9f6b824c6baea58d318863e103": {
          "model_module": "@jupyter-widgets/controls",
          "model_module_version": "1.5.0",
          "model_name": "HTMLModel",
          "state": {
            "_dom_classes": [],
            "_model_module": "@jupyter-widgets/controls",
            "_model_module_version": "1.5.0",
            "_model_name": "HTMLModel",
            "_view_count": null,
            "_view_module": "@jupyter-widgets/controls",
            "_view_module_version": "1.5.0",
            "_view_name": "HTMLView",
            "description": "",
            "description_tooltip": null,
            "layout": "IPY_MODEL_8b9600f135094ec982b920386a2e5ca0",
            "placeholder": "​",
            "style": "IPY_MODEL_ec39eca0ea484699b3c92cad8e52775a",
            "value": " 50/50 [00:24&lt;00:00,  1.54it/s]"
          }
        },
        "b3652fcb7a9d44c687282ca304cf93de": {
          "model_module": "@jupyter-widgets/controls",
          "model_module_version": "1.5.0",
          "model_name": "DescriptionStyleModel",
          "state": {
            "_model_module": "@jupyter-widgets/controls",
            "_model_module_version": "1.5.0",
            "_model_name": "DescriptionStyleModel",
            "_view_count": null,
            "_view_module": "@jupyter-widgets/base",
            "_view_module_version": "1.2.0",
            "_view_name": "StyleView",
            "description_width": ""
          }
        },
        "b559305afc01431d9232c537aa7d571d": {
          "model_module": "@jupyter-widgets/controls",
          "model_module_version": "1.5.0",
          "model_name": "DescriptionStyleModel",
          "state": {
            "_model_module": "@jupyter-widgets/controls",
            "_model_module_version": "1.5.0",
            "_model_name": "DescriptionStyleModel",
            "_view_count": null,
            "_view_module": "@jupyter-widgets/base",
            "_view_module_version": "1.2.0",
            "_view_name": "StyleView",
            "description_width": ""
          }
        },
        "bbfbdd1418ea41c2b219dec137e502f8": {
          "model_module": "@jupyter-widgets/controls",
          "model_module_version": "1.5.0",
          "model_name": "HBoxModel",
          "state": {
            "_dom_classes": [],
            "_model_module": "@jupyter-widgets/controls",
            "_model_module_version": "1.5.0",
            "_model_name": "HBoxModel",
            "_view_count": null,
            "_view_module": "@jupyter-widgets/controls",
            "_view_module_version": "1.5.0",
            "_view_name": "HBoxView",
            "box_style": "",
            "children": [
              "IPY_MODEL_ecf5f9f4b40f4660a7a7c81d04bec48d",
              "IPY_MODEL_6a9872b87791416bb7f79b23a6df2629",
              "IPY_MODEL_a26d6dd55cd44207a9153f73a8a8bcbd"
            ],
            "layout": "IPY_MODEL_9eb5c1a9188f49059e3dfdc109f3afa6"
          }
        },
        "c3dd0539f5c54cb595707ebff0bcf619": {
          "model_module": "@jupyter-widgets/base",
          "model_module_version": "1.2.0",
          "model_name": "LayoutModel",
          "state": {
            "_model_module": "@jupyter-widgets/base",
            "_model_module_version": "1.2.0",
            "_model_name": "LayoutModel",
            "_view_count": null,
            "_view_module": "@jupyter-widgets/base",
            "_view_module_version": "1.2.0",
            "_view_name": "LayoutView",
            "align_content": null,
            "align_items": null,
            "align_self": null,
            "border": null,
            "bottom": null,
            "display": null,
            "flex": null,
            "flex_flow": null,
            "grid_area": null,
            "grid_auto_columns": null,
            "grid_auto_flow": null,
            "grid_auto_rows": null,
            "grid_column": null,
            "grid_gap": null,
            "grid_row": null,
            "grid_template_areas": null,
            "grid_template_columns": null,
            "grid_template_rows": null,
            "height": null,
            "justify_content": null,
            "justify_items": null,
            "left": null,
            "margin": null,
            "max_height": null,
            "max_width": null,
            "min_height": null,
            "min_width": null,
            "object_fit": null,
            "object_position": null,
            "order": null,
            "overflow": null,
            "overflow_x": null,
            "overflow_y": null,
            "padding": null,
            "right": null,
            "top": null,
            "visibility": null,
            "width": null
          }
        },
        "c59c156c95354fce8df22d819480a53c": {
          "model_module": "@jupyter-widgets/controls",
          "model_module_version": "1.5.0",
          "model_name": "HTMLModel",
          "state": {
            "_dom_classes": [],
            "_model_module": "@jupyter-widgets/controls",
            "_model_module_version": "1.5.0",
            "_model_name": "HTMLModel",
            "_view_count": null,
            "_view_module": "@jupyter-widgets/controls",
            "_view_module_version": "1.5.0",
            "_view_name": "HTMLView",
            "description": "",
            "description_tooltip": null,
            "layout": "IPY_MODEL_6df75a2765b34028b3311078c52d5c41",
            "placeholder": "​",
            "style": "IPY_MODEL_b559305afc01431d9232c537aa7d571d",
            "value": " 834/834 [00:00&lt;00:00, 1348.08it/s]"
          }
        },
        "c753d8d0908a45a1bf9cc80989c15e74": {
          "model_module": "@jupyter-widgets/base",
          "model_module_version": "1.2.0",
          "model_name": "LayoutModel",
          "state": {
            "_model_module": "@jupyter-widgets/base",
            "_model_module_version": "1.2.0",
            "_model_name": "LayoutModel",
            "_view_count": null,
            "_view_module": "@jupyter-widgets/base",
            "_view_module_version": "1.2.0",
            "_view_name": "LayoutView",
            "align_content": null,
            "align_items": null,
            "align_self": null,
            "border": null,
            "bottom": null,
            "display": null,
            "flex": null,
            "flex_flow": null,
            "grid_area": null,
            "grid_auto_columns": null,
            "grid_auto_flow": null,
            "grid_auto_rows": null,
            "grid_column": null,
            "grid_gap": null,
            "grid_row": null,
            "grid_template_areas": null,
            "grid_template_columns": null,
            "grid_template_rows": null,
            "height": null,
            "justify_content": null,
            "justify_items": null,
            "left": null,
            "margin": null,
            "max_height": null,
            "max_width": null,
            "min_height": null,
            "min_width": null,
            "object_fit": null,
            "object_position": null,
            "order": null,
            "overflow": null,
            "overflow_x": null,
            "overflow_y": null,
            "padding": null,
            "right": null,
            "top": null,
            "visibility": null,
            "width": null
          }
        },
        "caa33a969238475185633ec7477d68a2": {
          "model_module": "@jupyter-widgets/controls",
          "model_module_version": "1.5.0",
          "model_name": "ProgressStyleModel",
          "state": {
            "_model_module": "@jupyter-widgets/controls",
            "_model_module_version": "1.5.0",
            "_model_name": "ProgressStyleModel",
            "_view_count": null,
            "_view_module": "@jupyter-widgets/base",
            "_view_module_version": "1.2.0",
            "_view_name": "StyleView",
            "bar_color": null,
            "description_width": ""
          }
        },
        "d230fb27b517445d8aa5b263330fc6b0": {
          "model_module": "@jupyter-widgets/controls",
          "model_module_version": "1.5.0",
          "model_name": "DescriptionStyleModel",
          "state": {
            "_model_module": "@jupyter-widgets/controls",
            "_model_module_version": "1.5.0",
            "_model_name": "DescriptionStyleModel",
            "_view_count": null,
            "_view_module": "@jupyter-widgets/base",
            "_view_module_version": "1.2.0",
            "_view_name": "StyleView",
            "description_width": ""
          }
        },
        "d2bf8089d9bd45f4b134f9d0486dae29": {
          "model_module": "@jupyter-widgets/base",
          "model_module_version": "1.2.0",
          "model_name": "LayoutModel",
          "state": {
            "_model_module": "@jupyter-widgets/base",
            "_model_module_version": "1.2.0",
            "_model_name": "LayoutModel",
            "_view_count": null,
            "_view_module": "@jupyter-widgets/base",
            "_view_module_version": "1.2.0",
            "_view_name": "LayoutView",
            "align_content": null,
            "align_items": null,
            "align_self": null,
            "border": null,
            "bottom": null,
            "display": null,
            "flex": null,
            "flex_flow": null,
            "grid_area": null,
            "grid_auto_columns": null,
            "grid_auto_flow": null,
            "grid_auto_rows": null,
            "grid_column": null,
            "grid_gap": null,
            "grid_row": null,
            "grid_template_areas": null,
            "grid_template_columns": null,
            "grid_template_rows": null,
            "height": null,
            "justify_content": null,
            "justify_items": null,
            "left": null,
            "margin": null,
            "max_height": null,
            "max_width": null,
            "min_height": null,
            "min_width": null,
            "object_fit": null,
            "object_position": null,
            "order": null,
            "overflow": null,
            "overflow_x": null,
            "overflow_y": null,
            "padding": null,
            "right": null,
            "top": null,
            "visibility": null,
            "width": null
          }
        },
        "dab257b024364deb834dee8c6cc07dc9": {
          "model_module": "@jupyter-widgets/controls",
          "model_module_version": "1.5.0",
          "model_name": "HBoxModel",
          "state": {
            "_dom_classes": [],
            "_model_module": "@jupyter-widgets/controls",
            "_model_module_version": "1.5.0",
            "_model_name": "HBoxModel",
            "_view_count": null,
            "_view_module": "@jupyter-widgets/controls",
            "_view_module_version": "1.5.0",
            "_view_name": "HBoxView",
            "box_style": "",
            "children": [
              "IPY_MODEL_515c9dab561b4f5d8fce0a1c0f47dc57",
              "IPY_MODEL_8ab7bea5eb29479e9f7fea63e2c62101",
              "IPY_MODEL_922d520c6f1b4f8ea038ee86655ea454"
            ],
            "layout": "IPY_MODEL_1562ab6ffc884a9182dab9e2b0ab7240"
          }
        },
        "db70e720813a4aca9cf2012afdc4c076": {
          "model_module": "@jupyter-widgets/base",
          "model_module_version": "1.2.0",
          "model_name": "LayoutModel",
          "state": {
            "_model_module": "@jupyter-widgets/base",
            "_model_module_version": "1.2.0",
            "_model_name": "LayoutModel",
            "_view_count": null,
            "_view_module": "@jupyter-widgets/base",
            "_view_module_version": "1.2.0",
            "_view_name": "LayoutView",
            "align_content": null,
            "align_items": null,
            "align_self": null,
            "border": null,
            "bottom": null,
            "display": null,
            "flex": null,
            "flex_flow": null,
            "grid_area": null,
            "grid_auto_columns": null,
            "grid_auto_flow": null,
            "grid_auto_rows": null,
            "grid_column": null,
            "grid_gap": null,
            "grid_row": null,
            "grid_template_areas": null,
            "grid_template_columns": null,
            "grid_template_rows": null,
            "height": null,
            "justify_content": null,
            "justify_items": null,
            "left": null,
            "margin": null,
            "max_height": null,
            "max_width": null,
            "min_height": null,
            "min_width": null,
            "object_fit": null,
            "object_position": null,
            "order": null,
            "overflow": null,
            "overflow_x": null,
            "overflow_y": null,
            "padding": null,
            "right": null,
            "top": null,
            "visibility": null,
            "width": null
          }
        },
        "dd7aa77859b941a395dc98629d20586d": {
          "model_module": "@jupyter-widgets/controls",
          "model_module_version": "1.5.0",
          "model_name": "FloatProgressModel",
          "state": {
            "_dom_classes": [],
            "_model_module": "@jupyter-widgets/controls",
            "_model_module_version": "1.5.0",
            "_model_name": "FloatProgressModel",
            "_view_count": null,
            "_view_module": "@jupyter-widgets/controls",
            "_view_module_version": "1.5.0",
            "_view_name": "ProgressView",
            "bar_style": "success",
            "description": "",
            "description_tooltip": null,
            "layout": "IPY_MODEL_1a15bd8050714d4a93cd0e8e4f88eadf",
            "max": 50,
            "min": 0,
            "orientation": "horizontal",
            "style": "IPY_MODEL_edae49688d72407a9ff74e0b5e2c17c7",
            "value": 50
          }
        },
        "e63109e3dea74f40befc384a3338df84": {
          "model_module": "@jupyter-widgets/controls",
          "model_module_version": "1.5.0",
          "model_name": "HTMLModel",
          "state": {
            "_dom_classes": [],
            "_model_module": "@jupyter-widgets/controls",
            "_model_module_version": "1.5.0",
            "_model_name": "HTMLModel",
            "_view_count": null,
            "_view_module": "@jupyter-widgets/controls",
            "_view_module_version": "1.5.0",
            "_view_name": "HTMLView",
            "description": "",
            "description_tooltip": null,
            "layout": "IPY_MODEL_48a0484570444a9485800f4f9de49331",
            "placeholder": "​",
            "style": "IPY_MODEL_57eb265864c84e668b2df16a5b587ac3",
            "value": "Parsing SMILES: 100%"
          }
        },
        "e659934435cf4eb6bc3fbd80b0efc5c2": {
          "model_module": "@jupyter-widgets/base",
          "model_module_version": "1.2.0",
          "model_name": "LayoutModel",
          "state": {
            "_model_module": "@jupyter-widgets/base",
            "_model_module_version": "1.2.0",
            "_model_name": "LayoutModel",
            "_view_count": null,
            "_view_module": "@jupyter-widgets/base",
            "_view_module_version": "1.2.0",
            "_view_name": "LayoutView",
            "align_content": null,
            "align_items": null,
            "align_self": null,
            "border": null,
            "bottom": null,
            "display": null,
            "flex": null,
            "flex_flow": null,
            "grid_area": null,
            "grid_auto_columns": null,
            "grid_auto_flow": null,
            "grid_auto_rows": null,
            "grid_column": null,
            "grid_gap": null,
            "grid_row": null,
            "grid_template_areas": null,
            "grid_template_columns": null,
            "grid_template_rows": null,
            "height": null,
            "justify_content": null,
            "justify_items": null,
            "left": null,
            "margin": null,
            "max_height": null,
            "max_width": null,
            "min_height": null,
            "min_width": null,
            "object_fit": null,
            "object_position": null,
            "order": null,
            "overflow": null,
            "overflow_x": null,
            "overflow_y": null,
            "padding": null,
            "right": null,
            "top": null,
            "visibility": null,
            "width": null
          }
        },
        "e6df89ce439845e393d9622f7e123475": {
          "model_module": "@jupyter-widgets/controls",
          "model_module_version": "1.5.0",
          "model_name": "DescriptionStyleModel",
          "state": {
            "_model_module": "@jupyter-widgets/controls",
            "_model_module_version": "1.5.0",
            "_model_name": "DescriptionStyleModel",
            "_view_count": null,
            "_view_module": "@jupyter-widgets/base",
            "_view_module_version": "1.2.0",
            "_view_name": "StyleView",
            "description_width": ""
          }
        },
        "ea81156e382f4628bdcd5b5f9d56049a": {
          "model_module": "@jupyter-widgets/base",
          "model_module_version": "1.2.0",
          "model_name": "LayoutModel",
          "state": {
            "_model_module": "@jupyter-widgets/base",
            "_model_module_version": "1.2.0",
            "_model_name": "LayoutModel",
            "_view_count": null,
            "_view_module": "@jupyter-widgets/base",
            "_view_module_version": "1.2.0",
            "_view_name": "LayoutView",
            "align_content": null,
            "align_items": null,
            "align_self": null,
            "border": null,
            "bottom": null,
            "display": null,
            "flex": null,
            "flex_flow": null,
            "grid_area": null,
            "grid_auto_columns": null,
            "grid_auto_flow": null,
            "grid_auto_rows": null,
            "grid_column": null,
            "grid_gap": null,
            "grid_row": null,
            "grid_template_areas": null,
            "grid_template_columns": null,
            "grid_template_rows": null,
            "height": null,
            "justify_content": null,
            "justify_items": null,
            "left": null,
            "margin": null,
            "max_height": null,
            "max_width": null,
            "min_height": null,
            "min_width": null,
            "object_fit": null,
            "object_position": null,
            "order": null,
            "overflow": null,
            "overflow_x": null,
            "overflow_y": null,
            "padding": null,
            "right": null,
            "top": null,
            "visibility": null,
            "width": null
          }
        },
        "ec39eca0ea484699b3c92cad8e52775a": {
          "model_module": "@jupyter-widgets/controls",
          "model_module_version": "1.5.0",
          "model_name": "DescriptionStyleModel",
          "state": {
            "_model_module": "@jupyter-widgets/controls",
            "_model_module_version": "1.5.0",
            "_model_name": "DescriptionStyleModel",
            "_view_count": null,
            "_view_module": "@jupyter-widgets/base",
            "_view_module_version": "1.2.0",
            "_view_name": "StyleView",
            "description_width": ""
          }
        },
        "ecf5f9f4b40f4660a7a7c81d04bec48d": {
          "model_module": "@jupyter-widgets/controls",
          "model_module_version": "1.5.0",
          "model_name": "HTMLModel",
          "state": {
            "_dom_classes": [],
            "_model_module": "@jupyter-widgets/controls",
            "_model_module_version": "1.5.0",
            "_model_name": "HTMLModel",
            "_view_count": null,
            "_view_module": "@jupyter-widgets/controls",
            "_view_module_version": "1.5.0",
            "_view_name": "HTMLView",
            "description": "",
            "description_tooltip": null,
            "layout": "IPY_MODEL_3e376fd27c3a4fdf9a835cc0e74abddc",
            "placeholder": "​",
            "style": "IPY_MODEL_96b27ef50d2c4d4798f949835742b8b4",
            "value": "Best trial: 24. Best value: 0.781462: 100%"
          }
        },
        "edae49688d72407a9ff74e0b5e2c17c7": {
          "model_module": "@jupyter-widgets/controls",
          "model_module_version": "1.5.0",
          "model_name": "ProgressStyleModel",
          "state": {
            "_model_module": "@jupyter-widgets/controls",
            "_model_module_version": "1.5.0",
            "_model_name": "ProgressStyleModel",
            "_view_count": null,
            "_view_module": "@jupyter-widgets/base",
            "_view_module_version": "1.2.0",
            "_view_name": "StyleView",
            "bar_color": null,
            "description_width": ""
          }
        },
        "f1b81772f4e44b19a3cd1dcde01d5489": {
          "model_module": "@jupyter-widgets/controls",
          "model_module_version": "1.5.0",
          "model_name": "HTMLModel",
          "state": {
            "_dom_classes": [],
            "_model_module": "@jupyter-widgets/controls",
            "_model_module_version": "1.5.0",
            "_model_name": "HTMLModel",
            "_view_count": null,
            "_view_module": "@jupyter-widgets/controls",
            "_view_module_version": "1.5.0",
            "_view_name": "HTMLView",
            "description": "",
            "description_tooltip": null,
            "layout": "IPY_MODEL_2576e047a9ad444495fd5f6bf0d9f0cd",
            "placeholder": "​",
            "style": "IPY_MODEL_3102563b50cd4f63b35948a4c1c0370b",
            "value": "Best trial: 18. Best value: 0.765753: 100%"
          }
        }
      }
    }
  },
  "nbformat": 4,
  "nbformat_minor": 0
}
